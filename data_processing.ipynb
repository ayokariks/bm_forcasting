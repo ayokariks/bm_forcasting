{
 "cells": [
  {
   "cell_type": "code",
   "execution_count": 1,
   "metadata": {},
   "outputs": [],
   "source": [
    "#https://www.kaggle.com/code/rtatman/six-steps-to-more-professional-data-science-code/notebook\n",
    "#https://towardsdatascience.com/8-guidelines-to-create-professional-data-science-notebooks-97572894b2e5\n",
    "\n",
    "#API to use Elexon Apis better\n",
    "#https://github.com/OSUKED/ElexonDataPortal\n",
    "#https://osuked.github.io/ElexonDataPortal/08-quick-start/\n",
    "\n",
    "#https://machinelearningmastery.com/pytorch-tutorial-develop-deep-learning-models/\n",
    "\n",
    "#regresinon forccasting\n",
    "\n",
    "#https://blog.paperspace.com/time-series-forecasting-regression-and-lstm/\n",
    "\n",
    "#https://www.kaggle.com/code/ryanholbrook/linear-regression-with-time-series/tutorial\n",
    "\n",
    "#https://moodle.ucl.ac.uk/pluginfile.php/4336726/mod_resource/content/0/lecture5.pdf\n",
    "\n"
   ]
  },
  {
   "cell_type": "code",
   "execution_count": 1,
   "metadata": {},
   "outputs": [],
   "source": [
    "from ElexonDataPortal import api\n",
    "import requests\n",
    "import pandas as pd\n",
    "import io\n",
    "from ElexonDataPortal import dev\n",
    "import seaborn as sns\n",
    "import matplotlib.pyplot as plt\n",
    "%matplotlib inline\n"
   ]
  },
  {
   "cell_type": "code",
   "execution_count": 2,
   "metadata": {},
   "outputs": [
    {
     "data": {
      "text/plain": [
       "<ElexonDataPortal.api.Client at 0x1b9ec0877f0>"
      ]
     },
     "execution_count": 2,
     "metadata": {},
     "output_type": "execute_result"
    }
   ],
   "source": [
    "client = api.Client('52g2ac5kwwh5chc')\n",
    "client"
   ]
  },
  {
   "cell_type": "markdown",
   "metadata": {},
   "source": [
    "Utilising the Elexon Data Portal API rapper to retreive data from the Elexon API."
   ]
  },
  {
   "cell_type": "code",
   "execution_count": 23,
   "metadata": {},
   "outputs": [
    {
     "data": {
      "text/plain": [
       "get_B0610                  Actual Total Load per Bidding Zone\n",
       "get_B0620      Day-Ahead Total Load Forecast per Bidding Zone\n",
       "get_B0630     Week-Ahead Total Load Forecast per Bidding Zone\n",
       "get_B0640    Month-Ahead Total Load Forecast Per Bidding Zone\n",
       "get_B0650     Year Ahead Total Load Forecast per Bidding Zone\n",
       "dtype: object"
      ]
     },
     "execution_count": 23,
     "metadata": {},
     "output_type": "execute_result"
    }
   ],
   "source": [
    "pd.Series(client.methods).head()"
   ]
  },
  {
   "cell_type": "code",
   "execution_count": 3,
   "metadata": {},
   "outputs": [
    {
     "name": "stdout",
     "output_type": "stream",
     "text": [
      "\n",
      "        Aggregated Imbalance Volumes\n",
      "        \n",
      "        Parameters:\n",
      "            start_date (str)\n",
      "            end_date (str)\n",
      "        \n",
      "\n",
      "        Imbalance Prices\n",
      "        \n",
      "        Parameters:\n",
      "            start_date (str)\n",
      "            end_date (str)\n",
      "        \n",
      "\n",
      "        Cross-Border Balancing Volumes of Exchanged Bids and Offers\n",
      "        \n",
      "        Parameters:\n",
      "            start_date (str)\n",
      "            end_date (str)\n",
      "        \n"
     ]
    }
   ],
   "source": [
    "#parameters required per api call\n",
    "print(client.get_B1780.__doc__)\n",
    "print(client.get_B1770.__doc__)\n",
    "print(client.get_B1810.__doc__)\n",
    "#time period\n",
    "start_date = '2020-01-01'\n",
    "end_date = '2020-01-01 23:30'"
   ]
  },
  {
   "cell_type": "code",
   "execution_count": 4,
   "metadata": {},
   "outputs": [
    {
     "name": "stderr",
     "output_type": "stream",
     "text": [
      "B1780:   0%|          | 0/47 [00:00<?, ?it/s]\n"
     ]
    },
    {
     "ename": "ValueError",
     "evalue": "The returned `data_content` must be one of: `list` or `OrderedDict`",
     "output_type": "error",
     "traceback": [
      "\u001b[1;31m---------------------------------------------------------------------------\u001b[0m",
      "\u001b[1;31mValueError\u001b[0m                                Traceback (most recent call last)",
      "\u001b[1;32mc:\\Users\\Admin\\OneDrive\\Desktop\\esda_work\\dissertation\\bm_forcasting\\data_processing.ipynb Cell 7'\u001b[0m in \u001b[0;36m<module>\u001b[1;34m\u001b[0m\n\u001b[0;32m      <a href='vscode-notebook-cell:/c%3A/Users/Admin/OneDrive/Desktop/esda_work/dissertation/bm_forcasting/data_processing.ipynb#ch0000006?line=0'>1</a>\u001b[0m \u001b[39m#Aggregated Imbalance Volumes\u001b[39;00m\n\u001b[1;32m----> <a href='vscode-notebook-cell:/c%3A/Users/Admin/OneDrive/Desktop/esda_work/dissertation/bm_forcasting/data_processing.ipynb#ch0000006?line=1'>2</a>\u001b[0m df_B1780 \u001b[39m=\u001b[39m client\u001b[39m.\u001b[39;49mget_B1780(start_date, end_date)\n\u001b[0;32m      <a href='vscode-notebook-cell:/c%3A/Users/Admin/OneDrive/Desktop/esda_work/dissertation/bm_forcasting/data_processing.ipynb#ch0000006?line=2'>3</a>\u001b[0m df_B1780\u001b[39m.\u001b[39mhead(\u001b[39m3\u001b[39m)\n",
      "File \u001b[1;32m~\\AppData\\Roaming\\Python\\Python38\\site-packages\\ElexonDataPortal\\api.py:880\u001b[0m, in \u001b[0;36mClient.get_B1780\u001b[1;34m(self, start_date, end_date)\u001b[0m\n\u001b[0;32m    <a href='file:///c%3A/Users/Admin/AppData/Roaming/Python/Python38/site-packages/ElexonDataPortal/api.py?line=866'>867</a>\u001b[0m \u001b[39mdef\u001b[39;00m \u001b[39mget_B1780\u001b[39m(\n\u001b[0;32m    <a href='file:///c%3A/Users/Admin/AppData/Roaming/Python/Python38/site-packages/ElexonDataPortal/api.py?line=867'>868</a>\u001b[0m     \u001b[39mself\u001b[39m,\n\u001b[0;32m    <a href='file:///c%3A/Users/Admin/AppData/Roaming/Python/Python38/site-packages/ElexonDataPortal/api.py?line=868'>869</a>\u001b[0m     start_date: \u001b[39mstr\u001b[39m\u001b[39m=\u001b[39m\u001b[39m'\u001b[39m\u001b[39m2020-01-01\u001b[39m\u001b[39m'\u001b[39m, \n\u001b[0;32m    <a href='file:///c%3A/Users/Admin/AppData/Roaming/Python/Python38/site-packages/ElexonDataPortal/api.py?line=869'>870</a>\u001b[0m     end_date: \u001b[39mstr\u001b[39m\u001b[39m=\u001b[39m\u001b[39m'\u001b[39m\u001b[39m2020-01-01 1:30\u001b[39m\u001b[39m'\u001b[39m,\n\u001b[0;32m    <a href='file:///c%3A/Users/Admin/AppData/Roaming/Python/Python38/site-packages/ElexonDataPortal/api.py?line=870'>871</a>\u001b[0m ):\n\u001b[0;32m    <a href='file:///c%3A/Users/Admin/AppData/Roaming/Python/Python38/site-packages/ElexonDataPortal/api.py?line=871'>872</a>\u001b[0m     \u001b[39m\"\"\"\u001b[39;00m\n\u001b[0;32m    <a href='file:///c%3A/Users/Admin/AppData/Roaming/Python/Python38/site-packages/ElexonDataPortal/api.py?line=872'>873</a>\u001b[0m \u001b[39m    Aggregated Imbalance Volumes\u001b[39;00m\n\u001b[0;32m    <a href='file:///c%3A/Users/Admin/AppData/Roaming/Python/Python38/site-packages/ElexonDataPortal/api.py?line=873'>874</a>\u001b[0m \u001b[39m    \u001b[39;00m\n\u001b[1;32m   (...)\u001b[0m\n\u001b[0;32m    <a href='file:///c%3A/Users/Admin/AppData/Roaming/Python/Python38/site-packages/ElexonDataPortal/api.py?line=876'>877</a>\u001b[0m \u001b[39m        end_date (str)\u001b[39;00m\n\u001b[0;32m    <a href='file:///c%3A/Users/Admin/AppData/Roaming/Python/Python38/site-packages/ElexonDataPortal/api.py?line=877'>878</a>\u001b[0m \u001b[39m    \"\"\"\u001b[39;00m\n\u001b[1;32m--> <a href='file:///c%3A/Users/Admin/AppData/Roaming/Python/Python38/site-packages/ElexonDataPortal/api.py?line=879'>880</a>\u001b[0m     df \u001b[39m=\u001b[39m orchestrator\u001b[39m.\u001b[39;49mquery_orchestrator(\n\u001b[0;32m    <a href='file:///c%3A/Users/Admin/AppData/Roaming/Python/Python38/site-packages/ElexonDataPortal/api.py?line=880'>881</a>\u001b[0m         method\u001b[39m=\u001b[39;49m\u001b[39m'\u001b[39;49m\u001b[39mget_B1780\u001b[39;49m\u001b[39m'\u001b[39;49m,\n\u001b[0;32m    <a href='file:///c%3A/Users/Admin/AppData/Roaming/Python/Python38/site-packages/ElexonDataPortal/api.py?line=881'>882</a>\u001b[0m         api_key\u001b[39m=\u001b[39;49m\u001b[39mself\u001b[39;49m\u001b[39m.\u001b[39;49mapi_key,\n\u001b[0;32m    <a href='file:///c%3A/Users/Admin/AppData/Roaming/Python/Python38/site-packages/ElexonDataPortal/api.py?line=882'>883</a>\u001b[0m         n_attempts\u001b[39m=\u001b[39;49m\u001b[39mself\u001b[39;49m\u001b[39m.\u001b[39;49mn_retry_attempts,\n\u001b[0;32m    <a href='file:///c%3A/Users/Admin/AppData/Roaming/Python/Python38/site-packages/ElexonDataPortal/api.py?line=883'>884</a>\u001b[0m         request_type\u001b[39m=\u001b[39;49m\u001b[39m'\u001b[39;49m\u001b[39mSP_and_date\u001b[39;49m\u001b[39m'\u001b[39;49m,\n\u001b[0;32m    <a href='file:///c%3A/Users/Admin/AppData/Roaming/Python/Python38/site-packages/ElexonDataPortal/api.py?line=884'>885</a>\u001b[0m         kwargs_map\u001b[39m=\u001b[39;49m{\u001b[39m'\u001b[39;49m\u001b[39mdate\u001b[39;49m\u001b[39m'\u001b[39;49m: \u001b[39m'\u001b[39;49m\u001b[39mSettlementDate\u001b[39;49m\u001b[39m'\u001b[39;49m, \u001b[39m'\u001b[39;49m\u001b[39mSP\u001b[39;49m\u001b[39m'\u001b[39;49m: \u001b[39m'\u001b[39;49m\u001b[39mPeriod\u001b[39;49m\u001b[39m'\u001b[39;49m},\n\u001b[0;32m    <a href='file:///c%3A/Users/Admin/AppData/Roaming/Python/Python38/site-packages/ElexonDataPortal/api.py?line=885'>886</a>\u001b[0m         func_params\u001b[39m=\u001b[39;49m[\u001b[39m'\u001b[39;49m\u001b[39mAPIKey\u001b[39;49m\u001b[39m'\u001b[39;49m, \u001b[39m'\u001b[39;49m\u001b[39mdate\u001b[39;49m\u001b[39m'\u001b[39;49m, \u001b[39m'\u001b[39;49m\u001b[39mSP\u001b[39;49m\u001b[39m'\u001b[39;49m, \u001b[39m'\u001b[39;49m\u001b[39mServiceType\u001b[39;49m\u001b[39m'\u001b[39;49m],\n\u001b[0;32m    <a href='file:///c%3A/Users/Admin/AppData/Roaming/Python/Python38/site-packages/ElexonDataPortal/api.py?line=886'>887</a>\u001b[0m         start_date\u001b[39m=\u001b[39;49mstart_date,\n\u001b[0;32m    <a href='file:///c%3A/Users/Admin/AppData/Roaming/Python/Python38/site-packages/ElexonDataPortal/api.py?line=887'>888</a>\u001b[0m         end_date\u001b[39m=\u001b[39;49mend_date,\n\u001b[0;32m    <a href='file:///c%3A/Users/Admin/AppData/Roaming/Python/Python38/site-packages/ElexonDataPortal/api.py?line=888'>889</a>\u001b[0m     )\n\u001b[0;32m    <a href='file:///c%3A/Users/Admin/AppData/Roaming/Python/Python38/site-packages/ElexonDataPortal/api.py?line=890'>891</a>\u001b[0m     \u001b[39mreturn\u001b[39;00m df\n",
      "File \u001b[1;32m~\\AppData\\Roaming\\Python\\Python38\\site-packages\\ElexonDataPortal\\dev\\orchestrator.py:411\u001b[0m, in \u001b[0;36mquery_orchestrator\u001b[1;34m(method, api_key, request_type, kwargs_map, func_params, start_date, end_date, n_attempts, **kwargs)\u001b[0m\n\u001b[0;32m    <a href='file:///c%3A/Users/Admin/AppData/Roaming/Python/Python38/site-packages/ElexonDataPortal/dev/orchestrator.py?line=407'>408</a>\u001b[0m \u001b[39massert\u001b[39;00m request_type \u001b[39min\u001b[39;00m request_type_to_func\u001b[39m.\u001b[39mkeys(), \u001b[39mf\u001b[39m\u001b[39m\"\u001b[39m\u001b[39m{\u001b[39;00mrequest_type\u001b[39m}\u001b[39;00m\u001b[39m must be one of: \u001b[39m\u001b[39m{\u001b[39;00m\u001b[39m'\u001b[39m\u001b[39m, \u001b[39m\u001b[39m'\u001b[39m\u001b[39m.\u001b[39mjoin(request_type_to_func\u001b[39m.\u001b[39mkeys())\u001b[39m}\u001b[39;00m\u001b[39m\"\u001b[39m\n\u001b[0;32m    <a href='file:///c%3A/Users/Admin/AppData/Roaming/Python/Python38/site-packages/ElexonDataPortal/dev/orchestrator.py?line=408'>409</a>\u001b[0m request_func \u001b[39m=\u001b[39m request_type_to_func[request_type]\n\u001b[1;32m--> <a href='file:///c%3A/Users/Admin/AppData/Roaming/Python/Python38/site-packages/ElexonDataPortal/dev/orchestrator.py?line=410'>411</a>\u001b[0m df \u001b[39m=\u001b[39m request_func(\n\u001b[0;32m    <a href='file:///c%3A/Users/Admin/AppData/Roaming/Python/Python38/site-packages/ElexonDataPortal/dev/orchestrator.py?line=411'>412</a>\u001b[0m     method\u001b[39m=\u001b[39;49mmethod,\n\u001b[0;32m    <a href='file:///c%3A/Users/Admin/AppData/Roaming/Python/Python38/site-packages/ElexonDataPortal/dev/orchestrator.py?line=412'>413</a>\u001b[0m     api_key\u001b[39m=\u001b[39;49mapi_key,\n\u001b[0;32m    <a href='file:///c%3A/Users/Admin/AppData/Roaming/Python/Python38/site-packages/ElexonDataPortal/dev/orchestrator.py?line=413'>414</a>\u001b[0m     n_attempts\u001b[39m=\u001b[39;49mn_attempts,\n\u001b[0;32m    <a href='file:///c%3A/Users/Admin/AppData/Roaming/Python/Python38/site-packages/ElexonDataPortal/dev/orchestrator.py?line=414'>415</a>\u001b[0m     \u001b[39m*\u001b[39;49m\u001b[39m*\u001b[39;49mkwargs\n\u001b[0;32m    <a href='file:///c%3A/Users/Admin/AppData/Roaming/Python/Python38/site-packages/ElexonDataPortal/dev/orchestrator.py?line=415'>416</a>\u001b[0m )\n\u001b[0;32m    <a href='file:///c%3A/Users/Admin/AppData/Roaming/Python/Python38/site-packages/ElexonDataPortal/dev/orchestrator.py?line=417'>418</a>\u001b[0m df \u001b[39m=\u001b[39m df\u001b[39m.\u001b[39mreset_index(drop\u001b[39m=\u001b[39m\u001b[39mTrue\u001b[39;00m)\n\u001b[0;32m    <a href='file:///c%3A/Users/Admin/AppData/Roaming/Python/Python38/site-packages/ElexonDataPortal/dev/orchestrator.py?line=419'>420</a>\u001b[0m \u001b[39mreturn\u001b[39;00m df\n",
      "File \u001b[1;32m~\\AppData\\Roaming\\Python\\Python38\\site-packages\\ElexonDataPortal\\dev\\orchestrator.py:79\u001b[0m, in \u001b[0;36mSP_and_date_request\u001b[1;34m(method, kwargs_map, func_params, api_key, start_date, end_date, n_attempts, **kwargs)\u001b[0m\n\u001b[0;32m     <a href='file:///c%3A/Users/Admin/AppData/Roaming/Python/Python38/site-packages/ElexonDataPortal/dev/orchestrator.py?line=74'>75</a>\u001b[0m     \u001b[39massert\u001b[39;00m \u001b[39mlen\u001b[39m(missing_kwargs) \u001b[39m==\u001b[39m \u001b[39m0\u001b[39m, \u001b[39mf\u001b[39m\u001b[39m\"\u001b[39m\u001b[39mThe following kwargs are missing: \u001b[39m\u001b[39m{\u001b[39;00m\u001b[39m'\u001b[39m\u001b[39m, \u001b[39m\u001b[39m'\u001b[39m\u001b[39m.\u001b[39mjoin(missing_kwargs)\u001b[39m}\u001b[39;00m\u001b[39m\"\u001b[39m\n\u001b[0;32m     <a href='file:///c%3A/Users/Admin/AppData/Roaming/Python/Python38/site-packages/ElexonDataPortal/dev/orchestrator.py?line=76'>77</a>\u001b[0m     r \u001b[39m=\u001b[39m retry_request(raw, method, kwargs, n_attempts\u001b[39m=\u001b[39mn_attempts)\n\u001b[1;32m---> <a href='file:///c%3A/Users/Admin/AppData/Roaming/Python/Python38/site-packages/ElexonDataPortal/dev/orchestrator.py?line=78'>79</a>\u001b[0m     df_SP \u001b[39m=\u001b[39m utils\u001b[39m.\u001b[39;49mparse_xml_response(r)\n\u001b[0;32m     <a href='file:///c%3A/Users/Admin/AppData/Roaming/Python/Python38/site-packages/ElexonDataPortal/dev/orchestrator.py?line=79'>80</a>\u001b[0m     df \u001b[39m=\u001b[39m df\u001b[39m.\u001b[39mappend(df_SP)\n\u001b[0;32m     <a href='file:///c%3A/Users/Admin/AppData/Roaming/Python/Python38/site-packages/ElexonDataPortal/dev/orchestrator.py?line=81'>82</a>\u001b[0m df \u001b[39m=\u001b[39m utils\u001b[39m.\u001b[39mexpand_cols(df)\n",
      "File \u001b[1;32m~\\AppData\\Roaming\\Python\\Python38\\site-packages\\ElexonDataPortal\\dev\\utils.py:85\u001b[0m, in \u001b[0;36mparse_xml_response\u001b[1;34m(r)\u001b[0m\n\u001b[0;32m     <a href='file:///c%3A/Users/Admin/AppData/Roaming/Python/Python38/site-packages/ElexonDataPortal/dev/utils.py?line=82'>83</a>\u001b[0m     df \u001b[39m=\u001b[39m pd\u001b[39m.\u001b[39mDataFrame(pd\u001b[39m.\u001b[39mSeries(data_content))\u001b[39m.\u001b[39mT\n\u001b[0;32m     <a href='file:///c%3A/Users/Admin/AppData/Roaming/Python/Python38/site-packages/ElexonDataPortal/dev/utils.py?line=83'>84</a>\u001b[0m \u001b[39melse\u001b[39;00m:\n\u001b[1;32m---> <a href='file:///c%3A/Users/Admin/AppData/Roaming/Python/Python38/site-packages/ElexonDataPortal/dev/utils.py?line=84'>85</a>\u001b[0m     \u001b[39mraise\u001b[39;00m \u001b[39mValueError\u001b[39;00m(\u001b[39m'\u001b[39m\u001b[39mThe returned `data_content` must be one of: `list` or `OrderedDict`\u001b[39m\u001b[39m'\u001b[39m)\n\u001b[0;32m     <a href='file:///c%3A/Users/Admin/AppData/Roaming/Python/Python38/site-packages/ElexonDataPortal/dev/utils.py?line=86'>87</a>\u001b[0m \u001b[39mreturn\u001b[39;00m df\n",
      "\u001b[1;31mValueError\u001b[0m: The returned `data_content` must be one of: `list` or `OrderedDict`"
     ]
    }
   ],
   "source": [
    "#Aggregated Imbalance Volumes\n",
    "df_B1780 = client.get_B1780(start_date, end_date)\n",
    "df_B1780.head(3)"
   ]
  },
  {
   "cell_type": "code",
   "execution_count": 5,
   "metadata": {},
   "outputs": [
    {
     "name": "stderr",
     "output_type": "stream",
     "text": [
      "B1770:   0%|          | 0/47 [00:00<?, ?it/s]C:\\Users\\Admin\\AppData\\Roaming\\Python\\Python38\\site-packages\\ElexonDataPortal\\dev\\orchestrator.py:80: FutureWarning: The frame.append method is deprecated and will be removed from pandas in a future version. Use pandas.concat instead.\n",
      "  df = df.append(df_SP)\n",
      "B1770:   2%|▏         | 1/47 [00:00<00:31,  1.47it/s]C:\\Users\\Admin\\AppData\\Roaming\\Python\\Python38\\site-packages\\ElexonDataPortal\\dev\\orchestrator.py:80: FutureWarning: The frame.append method is deprecated and will be removed from pandas in a future version. Use pandas.concat instead.\n",
      "  df = df.append(df_SP)\n",
      "B1770:   4%|▍         | 2/47 [00:00<00:17,  2.51it/s]C:\\Users\\Admin\\AppData\\Roaming\\Python\\Python38\\site-packages\\ElexonDataPortal\\dev\\orchestrator.py:80: FutureWarning: The frame.append method is deprecated and will be removed from pandas in a future version. Use pandas.concat instead.\n",
      "  df = df.append(df_SP)\n",
      "B1770:   6%|▋         | 3/47 [00:01<00:14,  3.00it/s]C:\\Users\\Admin\\AppData\\Roaming\\Python\\Python38\\site-packages\\ElexonDataPortal\\dev\\orchestrator.py:80: FutureWarning: The frame.append method is deprecated and will be removed from pandas in a future version. Use pandas.concat instead.\n",
      "  df = df.append(df_SP)\n",
      "B1770:   9%|▊         | 4/47 [00:01<00:11,  3.59it/s]C:\\Users\\Admin\\AppData\\Roaming\\Python\\Python38\\site-packages\\ElexonDataPortal\\dev\\orchestrator.py:80: FutureWarning: The frame.append method is deprecated and will be removed from pandas in a future version. Use pandas.concat instead.\n",
      "  df = df.append(df_SP)\n",
      "B1770:  11%|█         | 5/47 [00:01<00:10,  4.11it/s]C:\\Users\\Admin\\AppData\\Roaming\\Python\\Python38\\site-packages\\ElexonDataPortal\\dev\\orchestrator.py:80: FutureWarning: The frame.append method is deprecated and will be removed from pandas in a future version. Use pandas.concat instead.\n",
      "  df = df.append(df_SP)\n",
      "B1770:  13%|█▎        | 6/47 [00:01<00:09,  4.43it/s]C:\\Users\\Admin\\AppData\\Roaming\\Python\\Python38\\site-packages\\ElexonDataPortal\\dev\\orchestrator.py:80: FutureWarning: The frame.append method is deprecated and will be removed from pandas in a future version. Use pandas.concat instead.\n",
      "  df = df.append(df_SP)\n",
      "B1770:  15%|█▍        | 7/47 [00:01<00:08,  4.72it/s]C:\\Users\\Admin\\AppData\\Roaming\\Python\\Python38\\site-packages\\ElexonDataPortal\\dev\\orchestrator.py:80: FutureWarning: The frame.append method is deprecated and will be removed from pandas in a future version. Use pandas.concat instead.\n",
      "  df = df.append(df_SP)\n",
      "B1770:  17%|█▋        | 8/47 [00:02<00:07,  5.19it/s]C:\\Users\\Admin\\AppData\\Roaming\\Python\\Python38\\site-packages\\ElexonDataPortal\\dev\\orchestrator.py:80: FutureWarning: The frame.append method is deprecated and will be removed from pandas in a future version. Use pandas.concat instead.\n",
      "  df = df.append(df_SP)\n",
      "B1770:  19%|█▉        | 9/47 [00:02<00:07,  4.95it/s]C:\\Users\\Admin\\AppData\\Roaming\\Python\\Python38\\site-packages\\ElexonDataPortal\\dev\\orchestrator.py:80: FutureWarning: The frame.append method is deprecated and will be removed from pandas in a future version. Use pandas.concat instead.\n",
      "  df = df.append(df_SP)\n",
      "B1770:  21%|██▏       | 10/47 [00:02<00:07,  5.15it/s]C:\\Users\\Admin\\AppData\\Roaming\\Python\\Python38\\site-packages\\ElexonDataPortal\\dev\\orchestrator.py:80: FutureWarning: The frame.append method is deprecated and will be removed from pandas in a future version. Use pandas.concat instead.\n",
      "  df = df.append(df_SP)\n",
      "B1770:  23%|██▎       | 11/47 [00:02<00:06,  5.43it/s]C:\\Users\\Admin\\AppData\\Roaming\\Python\\Python38\\site-packages\\ElexonDataPortal\\dev\\orchestrator.py:80: FutureWarning: The frame.append method is deprecated and will be removed from pandas in a future version. Use pandas.concat instead.\n",
      "  df = df.append(df_SP)\n",
      "B1770:  26%|██▌       | 12/47 [00:02<00:06,  5.42it/s]C:\\Users\\Admin\\AppData\\Roaming\\Python\\Python38\\site-packages\\ElexonDataPortal\\dev\\orchestrator.py:80: FutureWarning: The frame.append method is deprecated and will be removed from pandas in a future version. Use pandas.concat instead.\n",
      "  df = df.append(df_SP)\n",
      "B1770:  28%|██▊       | 13/47 [00:02<00:06,  5.60it/s]C:\\Users\\Admin\\AppData\\Roaming\\Python\\Python38\\site-packages\\ElexonDataPortal\\dev\\orchestrator.py:80: FutureWarning: The frame.append method is deprecated and will be removed from pandas in a future version. Use pandas.concat instead.\n",
      "  df = df.append(df_SP)\n",
      "B1770:  30%|██▉       | 14/47 [00:03<00:05,  5.97it/s]C:\\Users\\Admin\\AppData\\Roaming\\Python\\Python38\\site-packages\\ElexonDataPortal\\dev\\orchestrator.py:80: FutureWarning: The frame.append method is deprecated and will be removed from pandas in a future version. Use pandas.concat instead.\n",
      "  df = df.append(df_SP)\n",
      "B1770:  32%|███▏      | 15/47 [00:03<00:04,  6.48it/s]C:\\Users\\Admin\\AppData\\Roaming\\Python\\Python38\\site-packages\\ElexonDataPortal\\dev\\orchestrator.py:80: FutureWarning: The frame.append method is deprecated and will be removed from pandas in a future version. Use pandas.concat instead.\n",
      "  df = df.append(df_SP)\n",
      "B1770:  34%|███▍      | 16/47 [00:03<00:04,  6.97it/s]C:\\Users\\Admin\\AppData\\Roaming\\Python\\Python38\\site-packages\\ElexonDataPortal\\dev\\orchestrator.py:80: FutureWarning: The frame.append method is deprecated and will be removed from pandas in a future version. Use pandas.concat instead.\n",
      "  df = df.append(df_SP)\n",
      "B1770:  36%|███▌      | 17/47 [00:03<00:04,  6.91it/s]C:\\Users\\Admin\\AppData\\Roaming\\Python\\Python38\\site-packages\\ElexonDataPortal\\dev\\orchestrator.py:80: FutureWarning: The frame.append method is deprecated and will be removed from pandas in a future version. Use pandas.concat instead.\n",
      "  df = df.append(df_SP)\n",
      "B1770:  38%|███▊      | 18/47 [00:03<00:03,  7.27it/s]C:\\Users\\Admin\\AppData\\Roaming\\Python\\Python38\\site-packages\\ElexonDataPortal\\dev\\orchestrator.py:80: FutureWarning: The frame.append method is deprecated and will be removed from pandas in a future version. Use pandas.concat instead.\n",
      "  df = df.append(df_SP)\n",
      "B1770:  40%|████      | 19/47 [00:03<00:03,  7.36it/s]C:\\Users\\Admin\\AppData\\Roaming\\Python\\Python38\\site-packages\\ElexonDataPortal\\dev\\orchestrator.py:80: FutureWarning: The frame.append method is deprecated and will be removed from pandas in a future version. Use pandas.concat instead.\n",
      "  df = df.append(df_SP)\n",
      "B1770:  43%|████▎     | 20/47 [00:03<00:03,  6.87it/s]C:\\Users\\Admin\\AppData\\Roaming\\Python\\Python38\\site-packages\\ElexonDataPortal\\dev\\orchestrator.py:80: FutureWarning: The frame.append method is deprecated and will be removed from pandas in a future version. Use pandas.concat instead.\n",
      "  df = df.append(df_SP)\n",
      "B1770:  45%|████▍     | 21/47 [00:04<00:03,  7.29it/s]C:\\Users\\Admin\\AppData\\Roaming\\Python\\Python38\\site-packages\\ElexonDataPortal\\dev\\orchestrator.py:80: FutureWarning: The frame.append method is deprecated and will be removed from pandas in a future version. Use pandas.concat instead.\n",
      "  df = df.append(df_SP)\n",
      "B1770:  47%|████▋     | 22/47 [00:04<00:03,  7.34it/s]C:\\Users\\Admin\\AppData\\Roaming\\Python\\Python38\\site-packages\\ElexonDataPortal\\dev\\orchestrator.py:80: FutureWarning: The frame.append method is deprecated and will be removed from pandas in a future version. Use pandas.concat instead.\n",
      "  df = df.append(df_SP)\n",
      "B1770:  49%|████▉     | 23/47 [00:04<00:03,  6.94it/s]C:\\Users\\Admin\\AppData\\Roaming\\Python\\Python38\\site-packages\\ElexonDataPortal\\dev\\orchestrator.py:80: FutureWarning: The frame.append method is deprecated and will be removed from pandas in a future version. Use pandas.concat instead.\n",
      "  df = df.append(df_SP)\n",
      "B1770:  51%|█████     | 24/47 [00:04<00:03,  7.56it/s]C:\\Users\\Admin\\AppData\\Roaming\\Python\\Python38\\site-packages\\ElexonDataPortal\\dev\\orchestrator.py:80: FutureWarning: The frame.append method is deprecated and will be removed from pandas in a future version. Use pandas.concat instead.\n",
      "  df = df.append(df_SP)\n",
      "B1770:  53%|█████▎    | 25/47 [00:04<00:02,  7.59it/s]C:\\Users\\Admin\\AppData\\Roaming\\Python\\Python38\\site-packages\\ElexonDataPortal\\dev\\orchestrator.py:80: FutureWarning: The frame.append method is deprecated and will be removed from pandas in a future version. Use pandas.concat instead.\n",
      "  df = df.append(df_SP)\n",
      "B1770:  55%|█████▌    | 26/47 [00:04<00:03,  6.72it/s]C:\\Users\\Admin\\AppData\\Roaming\\Python\\Python38\\site-packages\\ElexonDataPortal\\dev\\orchestrator.py:80: FutureWarning: The frame.append method is deprecated and will be removed from pandas in a future version. Use pandas.concat instead.\n",
      "  df = df.append(df_SP)\n",
      "B1770:  57%|█████▋    | 27/47 [00:04<00:02,  6.79it/s]C:\\Users\\Admin\\AppData\\Roaming\\Python\\Python38\\site-packages\\ElexonDataPortal\\dev\\orchestrator.py:80: FutureWarning: The frame.append method is deprecated and will be removed from pandas in a future version. Use pandas.concat instead.\n",
      "  df = df.append(df_SP)\n",
      "B1770:  60%|█████▉    | 28/47 [00:05<00:03,  6.26it/s]C:\\Users\\Admin\\AppData\\Roaming\\Python\\Python38\\site-packages\\ElexonDataPortal\\dev\\orchestrator.py:80: FutureWarning: The frame.append method is deprecated and will be removed from pandas in a future version. Use pandas.concat instead.\n",
      "  df = df.append(df_SP)\n",
      "B1770:  62%|██████▏   | 29/47 [00:05<00:02,  6.61it/s]C:\\Users\\Admin\\AppData\\Roaming\\Python\\Python38\\site-packages\\ElexonDataPortal\\dev\\orchestrator.py:80: FutureWarning: The frame.append method is deprecated and will be removed from pandas in a future version. Use pandas.concat instead.\n",
      "  df = df.append(df_SP)\n",
      "B1770:  64%|██████▍   | 30/47 [00:05<00:02,  6.61it/s]C:\\Users\\Admin\\AppData\\Roaming\\Python\\Python38\\site-packages\\ElexonDataPortal\\dev\\orchestrator.py:80: FutureWarning: The frame.append method is deprecated and will be removed from pandas in a future version. Use pandas.concat instead.\n",
      "  df = df.append(df_SP)\n",
      "B1770:  66%|██████▌   | 31/47 [00:05<00:02,  6.44it/s]C:\\Users\\Admin\\AppData\\Roaming\\Python\\Python38\\site-packages\\ElexonDataPortal\\dev\\orchestrator.py:80: FutureWarning: The frame.append method is deprecated and will be removed from pandas in a future version. Use pandas.concat instead.\n",
      "  df = df.append(df_SP)\n",
      "B1770:  68%|██████▊   | 32/47 [00:05<00:02,  5.72it/s]C:\\Users\\Admin\\AppData\\Roaming\\Python\\Python38\\site-packages\\ElexonDataPortal\\dev\\orchestrator.py:80: FutureWarning: The frame.append method is deprecated and will be removed from pandas in a future version. Use pandas.concat instead.\n",
      "  df = df.append(df_SP)\n",
      "B1770:  70%|███████   | 33/47 [00:05<00:02,  5.08it/s]C:\\Users\\Admin\\AppData\\Roaming\\Python\\Python38\\site-packages\\ElexonDataPortal\\dev\\orchestrator.py:80: FutureWarning: The frame.append method is deprecated and will be removed from pandas in a future version. Use pandas.concat instead.\n",
      "  df = df.append(df_SP)\n",
      "B1770:  72%|███████▏  | 34/47 [00:06<00:02,  4.89it/s]C:\\Users\\Admin\\AppData\\Roaming\\Python\\Python38\\site-packages\\ElexonDataPortal\\dev\\orchestrator.py:80: FutureWarning: The frame.append method is deprecated and will be removed from pandas in a future version. Use pandas.concat instead.\n",
      "  df = df.append(df_SP)\n",
      "B1770:  74%|███████▍  | 35/47 [00:06<00:02,  4.54it/s]C:\\Users\\Admin\\AppData\\Roaming\\Python\\Python38\\site-packages\\ElexonDataPortal\\dev\\orchestrator.py:80: FutureWarning: The frame.append method is deprecated and will be removed from pandas in a future version. Use pandas.concat instead.\n",
      "  df = df.append(df_SP)\n",
      "B1770:  77%|███████▋  | 36/47 [00:06<00:02,  4.46it/s]C:\\Users\\Admin\\AppData\\Roaming\\Python\\Python38\\site-packages\\ElexonDataPortal\\dev\\orchestrator.py:80: FutureWarning: The frame.append method is deprecated and will be removed from pandas in a future version. Use pandas.concat instead.\n",
      "  df = df.append(df_SP)\n",
      "B1770:  79%|███████▊  | 37/47 [00:06<00:02,  4.45it/s]C:\\Users\\Admin\\AppData\\Roaming\\Python\\Python38\\site-packages\\ElexonDataPortal\\dev\\orchestrator.py:80: FutureWarning: The frame.append method is deprecated and will be removed from pandas in a future version. Use pandas.concat instead.\n",
      "  df = df.append(df_SP)\n",
      "B1770:  81%|████████  | 38/47 [00:07<00:02,  4.15it/s]C:\\Users\\Admin\\AppData\\Roaming\\Python\\Python38\\site-packages\\ElexonDataPortal\\dev\\orchestrator.py:80: FutureWarning: The frame.append method is deprecated and will be removed from pandas in a future version. Use pandas.concat instead.\n",
      "  df = df.append(df_SP)\n",
      "B1770:  83%|████████▎ | 39/47 [00:07<00:01,  4.15it/s]C:\\Users\\Admin\\AppData\\Roaming\\Python\\Python38\\site-packages\\ElexonDataPortal\\dev\\orchestrator.py:80: FutureWarning: The frame.append method is deprecated and will be removed from pandas in a future version. Use pandas.concat instead.\n",
      "  df = df.append(df_SP)\n",
      "B1770:  85%|████████▌ | 40/47 [00:07<00:01,  4.40it/s]C:\\Users\\Admin\\AppData\\Roaming\\Python\\Python38\\site-packages\\ElexonDataPortal\\dev\\orchestrator.py:80: FutureWarning: The frame.append method is deprecated and will be removed from pandas in a future version. Use pandas.concat instead.\n",
      "  df = df.append(df_SP)\n",
      "B1770:  87%|████████▋ | 41/47 [00:07<00:01,  4.62it/s]C:\\Users\\Admin\\AppData\\Roaming\\Python\\Python38\\site-packages\\ElexonDataPortal\\dev\\orchestrator.py:80: FutureWarning: The frame.append method is deprecated and will be removed from pandas in a future version. Use pandas.concat instead.\n",
      "  df = df.append(df_SP)\n",
      "B1770:  89%|████████▉ | 42/47 [00:08<00:01,  4.95it/s]C:\\Users\\Admin\\AppData\\Roaming\\Python\\Python38\\site-packages\\ElexonDataPortal\\dev\\orchestrator.py:80: FutureWarning: The frame.append method is deprecated and will be removed from pandas in a future version. Use pandas.concat instead.\n",
      "  df = df.append(df_SP)\n",
      "B1770:  91%|█████████▏| 43/47 [00:08<00:00,  5.02it/s]C:\\Users\\Admin\\AppData\\Roaming\\Python\\Python38\\site-packages\\ElexonDataPortal\\dev\\orchestrator.py:80: FutureWarning: The frame.append method is deprecated and will be removed from pandas in a future version. Use pandas.concat instead.\n",
      "  df = df.append(df_SP)\n",
      "B1770:  94%|█████████▎| 44/47 [00:08<00:00,  5.04it/s]C:\\Users\\Admin\\AppData\\Roaming\\Python\\Python38\\site-packages\\ElexonDataPortal\\dev\\orchestrator.py:80: FutureWarning: The frame.append method is deprecated and will be removed from pandas in a future version. Use pandas.concat instead.\n",
      "  df = df.append(df_SP)\n",
      "B1770:  96%|█████████▌| 45/47 [00:08<00:00,  5.24it/s]C:\\Users\\Admin\\AppData\\Roaming\\Python\\Python38\\site-packages\\ElexonDataPortal\\dev\\orchestrator.py:80: FutureWarning: The frame.append method is deprecated and will be removed from pandas in a future version. Use pandas.concat instead.\n",
      "  df = df.append(df_SP)\n",
      "B1770:  98%|█████████▊| 46/47 [00:08<00:00,  5.59it/s]C:\\Users\\Admin\\AppData\\Roaming\\Python\\Python38\\site-packages\\ElexonDataPortal\\dev\\orchestrator.py:80: FutureWarning: The frame.append method is deprecated and will be removed from pandas in a future version. Use pandas.concat instead.\n",
      "  df = df.append(df_SP)\n",
      "B1770: 100%|██████████| 47/47 [00:08<00:00,  5.32it/s]\n"
     ]
    }
   ],
   "source": [
    "# Imbalance Prices\n",
    "df_B1770 = client.get_B1770(start_date, end_date)\n"
   ]
  },
  {
   "cell_type": "code",
   "execution_count": 6,
   "metadata": {},
   "outputs": [
    {
     "name": "stdout",
     "output_type": "stream",
     "text": [
      "<class 'pandas.core.frame.DataFrame'>\n",
      "RangeIndex: 94 entries, 0 to 93\n",
      "Data columns (total 16 columns):\n",
      " #   Column                   Non-Null Count  Dtype                        \n",
      "---  ------                   --------------  -----                        \n",
      " 0   local_datetime           94 non-null     datetime64[ns, Europe/London]\n",
      " 1   timeSeriesID             94 non-null     object                       \n",
      " 2   businessType             94 non-null     object                       \n",
      " 3   controlArea              94 non-null     object                       \n",
      " 4   settlementDate           94 non-null     object                       \n",
      " 5   settlementPeriod         94 non-null     int32                        \n",
      " 6   imbalancePriceAmountGBP  94 non-null     float64                      \n",
      " 7   priceCategory            94 non-null     object                       \n",
      " 8   curveType                94 non-null     object                       \n",
      " 9   resolution               94 non-null     object                       \n",
      " 10  documentType             94 non-null     object                       \n",
      " 11  processType              94 non-null     object                       \n",
      " 12  activeFlag               94 non-null     object                       \n",
      " 13  docStatus                94 non-null     object                       \n",
      " 14  documentID               94 non-null     object                       \n",
      " 15  documentRevNum           94 non-null     int32                        \n",
      "dtypes: datetime64[ns, Europe/London](1), float64(1), int32(2), object(12)\n",
      "memory usage: 11.1+ KB\n"
     ]
    }
   ],
   "source": [
    "#check for nas no nas in the whole table \n",
    "#df_B1770.isna().sum()\n",
    "#numerical varaibles \n",
    "df_B1770['imbalancePriceAmountGBP'] = df_B1770['imbalancePriceAmountGBP'].astype('float')\n",
    "df_B1770['settlementPeriod'] = df_B1770['settlementPeriod'].astype('int')\n",
    "df_B1770['documentRevNum'] = df_B1770['documentRevNum'].astype('int')\n",
    "\n",
    "df_B1770.info()"
   ]
  },
  {
   "cell_type": "code",
   "execution_count": 7,
   "metadata": {},
   "outputs": [],
   "source": [
    "#categorical #note for the data currently got this might have just one level\n",
    "#df_B1770['priceCategory'].unique()\n",
    "df_B1770['businessType'] = df_B1770['businessType'].astype('category')\n",
    "df_B1770['activeFlag'] = df_B1770['activeFlag'].astype('category')\n",
    "df_B1770['documentType'] = df_B1770['documentType'].astype('category')\n",
    "df_B1770['processType'] = df_B1770['processType'].astype('category')\n",
    "df_B1770['docStatus'] = df_B1770['docStatus'].astype('category')\n",
    "df_B1770['curveType'] = df_B1770['curveType'].astype('category')\n",
    "df_B1770['priceCategory'] = df_B1770['priceCategory'].astype('category')\n",
    "\n",
    "\n"
   ]
  },
  {
   "cell_type": "code",
   "execution_count": 8,
   "metadata": {},
   "outputs": [],
   "source": [
    "#datetime, extract the settlement times which are every 30 mins \n",
    "#df_B1770.info()\n",
    "import datetime as dt\n",
    "df_B1770['local_time'] = pd.to_datetime(df_B1770['local_datetime'], format='%H%M').dt.time"
   ]
  },
  {
   "cell_type": "code",
   "execution_count": 89,
   "metadata": {},
   "outputs": [],
   "source": [
    "#drop local_datetime column \n",
    "df_B1770.drop(columns = ['local_datetime'], axis=1, inplace = True)"
   ]
  },
  {
   "cell_type": "code",
   "execution_count": 17,
   "metadata": {},
   "outputs": [
    {
     "data": {
      "text/html": [
       "<div>\n",
       "<style scoped>\n",
       "    .dataframe tbody tr th:only-of-type {\n",
       "        vertical-align: middle;\n",
       "    }\n",
       "\n",
       "    .dataframe tbody tr th {\n",
       "        vertical-align: top;\n",
       "    }\n",
       "\n",
       "    .dataframe thead th {\n",
       "        text-align: right;\n",
       "    }\n",
       "</style>\n",
       "<table border=\"1\" class=\"dataframe\">\n",
       "  <thead>\n",
       "    <tr style=\"text-align: right;\">\n",
       "      <th></th>\n",
       "      <th>local_datetime</th>\n",
       "      <th>timeSeriesID</th>\n",
       "      <th>businessType</th>\n",
       "      <th>controlArea</th>\n",
       "      <th>settlementDate</th>\n",
       "      <th>settlementPeriod</th>\n",
       "      <th>imbalancePriceAmountGBP</th>\n",
       "      <th>priceCategory</th>\n",
       "      <th>curveType</th>\n",
       "      <th>resolution</th>\n",
       "      <th>documentType</th>\n",
       "      <th>processType</th>\n",
       "      <th>activeFlag</th>\n",
       "      <th>docStatus</th>\n",
       "      <th>documentID</th>\n",
       "      <th>documentRevNum</th>\n",
       "      <th>local_time</th>\n",
       "    </tr>\n",
       "  </thead>\n",
       "  <tbody>\n",
       "    <tr>\n",
       "      <th>93</th>\n",
       "      <td>2020-01-01 23:00:00+00:00</td>\n",
       "      <td>ELX-EMFIP-IMBP-TS-2</td>\n",
       "      <td>Balance energy deviation</td>\n",
       "      <td>10YGB----------A</td>\n",
       "      <td>2020-01-01</td>\n",
       "      <td>47</td>\n",
       "      <td>50.05</td>\n",
       "      <td>Excess balance</td>\n",
       "      <td>Sequential fixed size block</td>\n",
       "      <td>PT30M</td>\n",
       "      <td>Imbalance prices</td>\n",
       "      <td>Realised</td>\n",
       "      <td>Y</td>\n",
       "      <td>Final</td>\n",
       "      <td>ELX-EMFIP-IMBP-22444205</td>\n",
       "      <td>1</td>\n",
       "      <td>23:00:00</td>\n",
       "    </tr>\n",
       "  </tbody>\n",
       "</table>\n",
       "</div>"
      ],
      "text/plain": [
       "              local_datetime         timeSeriesID              businessType  \\\n",
       "93 2020-01-01 23:00:00+00:00  ELX-EMFIP-IMBP-TS-2  Balance energy deviation   \n",
       "\n",
       "         controlArea settlementDate  settlementPeriod  \\\n",
       "93  10YGB----------A     2020-01-01                47   \n",
       "\n",
       "    imbalancePriceAmountGBP   priceCategory                    curveType  \\\n",
       "93                    50.05  Excess balance  Sequential fixed size block   \n",
       "\n",
       "   resolution      documentType processType activeFlag docStatus  \\\n",
       "93      PT30M  Imbalance prices    Realised          Y     Final   \n",
       "\n",
       "                 documentID  documentRevNum local_time  \n",
       "93  ELX-EMFIP-IMBP-22444205               1   23:00:00  "
      ]
     },
     "execution_count": 17,
     "metadata": {},
     "output_type": "execute_result"
    }
   ],
   "source": [
    "df_B1770.tail(1)"
   ]
  },
  {
   "cell_type": "code",
   "execution_count": 9,
   "metadata": {},
   "outputs": [
    {
     "data": {
      "application/vnd.plotly.v1+json": {
       "config": {
        "plotlyServerURL": "https://plot.ly"
       },
       "data": [
        {
         "hovertemplate": "local_time=%{x}<br>imbalancePriceAmountGBP=%{y}<extra></extra>",
         "legendgroup": "",
         "line": {
          "color": "#636efa",
          "dash": "solid"
         },
         "marker": {
          "symbol": "circle"
         },
         "mode": "lines",
         "name": "",
         "orientation": "v",
         "showlegend": false,
         "type": "scatter",
         "x": [
          "00:00:00",
          "00:00:00",
          "00:30:00",
          "00:30:00",
          "01:00:00",
          "01:00:00",
          "01:30:00",
          "01:30:00",
          "02:00:00",
          "02:00:00",
          "02:30:00",
          "02:30:00",
          "03:00:00",
          "03:00:00",
          "03:30:00",
          "03:30:00",
          "04:00:00",
          "04:00:00",
          "04:30:00",
          "04:30:00",
          "05:00:00",
          "05:00:00",
          "05:30:00",
          "05:30:00",
          "06:00:00",
          "06:00:00",
          "06:30:00",
          "06:30:00",
          "07:00:00",
          "07:00:00",
          "07:30:00",
          "07:30:00",
          "08:00:00",
          "08:00:00",
          "08:30:00",
          "08:30:00",
          "09:00:00",
          "09:00:00",
          "09:30:00",
          "09:30:00",
          "10:00:00",
          "10:00:00",
          "10:30:00",
          "10:30:00",
          "11:00:00",
          "11:00:00",
          "11:30:00",
          "11:30:00",
          "12:00:00",
          "12:00:00",
          "12:30:00",
          "12:30:00",
          "13:00:00",
          "13:00:00",
          "13:30:00",
          "13:30:00",
          "14:00:00",
          "14:00:00",
          "14:30:00",
          "14:30:00",
          "15:00:00",
          "15:00:00",
          "15:30:00",
          "15:30:00",
          "16:00:00",
          "16:00:00",
          "16:30:00",
          "16:30:00",
          "17:00:00",
          "17:00:00",
          "17:30:00",
          "17:30:00",
          "18:00:00",
          "18:00:00",
          "18:30:00",
          "18:30:00",
          "19:00:00",
          "19:00:00",
          "19:30:00",
          "19:30:00",
          "20:00:00",
          "20:00:00",
          "20:30:00",
          "20:30:00",
          "21:00:00",
          "21:00:00",
          "21:30:00",
          "21:30:00",
          "22:00:00",
          "22:00:00",
          "22:30:00",
          "22:30:00",
          "23:00:00",
          "23:00:00"
         ],
         "xaxis": "x",
         "y": [
          50.9,
          50.9,
          51,
          51,
          29.37006,
          29.37006,
          28.52,
          28.52,
          25.78,
          25.78,
          24.77018,
          24.77018,
          50.5,
          50.5,
          50,
          50,
          23.93006,
          23.93006,
          23.93006,
          23.93006,
          6,
          6,
          6,
          6,
          23.82,
          23.82,
          31.69,
          31.69,
          23.98,
          23.98,
          52,
          52,
          52,
          52,
          52,
          52,
          52,
          52,
          51,
          51,
          51.9,
          51.9,
          51,
          51,
          25.59,
          25.59,
          7.5,
          7.5,
          51.9,
          51.9,
          51.9,
          51.9,
          51,
          51,
          51,
          51,
          50.75,
          50.75,
          7.5,
          7.5,
          7.5,
          7.5,
          50.8,
          50.8,
          52,
          52,
          50.8,
          50.8,
          52,
          52,
          52,
          52,
          51.9,
          51.9,
          51.5,
          51.5,
          49.95,
          49.95,
          49.75,
          49.75,
          49.75,
          49.75,
          51.5,
          51.5,
          49.45,
          49.45,
          51.5,
          51.5,
          51.5,
          51.5,
          49.45,
          49.45,
          50.05,
          50.05
         ],
         "yaxis": "y"
        }
       ],
       "layout": {
        "legend": {
         "tracegroupgap": 0
        },
        "margin": {
         "t": 60
        },
        "template": {
         "data": {
          "bar": [
           {
            "error_x": {
             "color": "#2a3f5f"
            },
            "error_y": {
             "color": "#2a3f5f"
            },
            "marker": {
             "line": {
              "color": "#E5ECF6",
              "width": 0.5
             },
             "pattern": {
              "fillmode": "overlay",
              "size": 10,
              "solidity": 0.2
             }
            },
            "type": "bar"
           }
          ],
          "barpolar": [
           {
            "marker": {
             "line": {
              "color": "#E5ECF6",
              "width": 0.5
             },
             "pattern": {
              "fillmode": "overlay",
              "size": 10,
              "solidity": 0.2
             }
            },
            "type": "barpolar"
           }
          ],
          "carpet": [
           {
            "aaxis": {
             "endlinecolor": "#2a3f5f",
             "gridcolor": "white",
             "linecolor": "white",
             "minorgridcolor": "white",
             "startlinecolor": "#2a3f5f"
            },
            "baxis": {
             "endlinecolor": "#2a3f5f",
             "gridcolor": "white",
             "linecolor": "white",
             "minorgridcolor": "white",
             "startlinecolor": "#2a3f5f"
            },
            "type": "carpet"
           }
          ],
          "choropleth": [
           {
            "colorbar": {
             "outlinewidth": 0,
             "ticks": ""
            },
            "type": "choropleth"
           }
          ],
          "contour": [
           {
            "colorbar": {
             "outlinewidth": 0,
             "ticks": ""
            },
            "colorscale": [
             [
              0,
              "#0d0887"
             ],
             [
              0.1111111111111111,
              "#46039f"
             ],
             [
              0.2222222222222222,
              "#7201a8"
             ],
             [
              0.3333333333333333,
              "#9c179e"
             ],
             [
              0.4444444444444444,
              "#bd3786"
             ],
             [
              0.5555555555555556,
              "#d8576b"
             ],
             [
              0.6666666666666666,
              "#ed7953"
             ],
             [
              0.7777777777777778,
              "#fb9f3a"
             ],
             [
              0.8888888888888888,
              "#fdca26"
             ],
             [
              1,
              "#f0f921"
             ]
            ],
            "type": "contour"
           }
          ],
          "contourcarpet": [
           {
            "colorbar": {
             "outlinewidth": 0,
             "ticks": ""
            },
            "type": "contourcarpet"
           }
          ],
          "heatmap": [
           {
            "colorbar": {
             "outlinewidth": 0,
             "ticks": ""
            },
            "colorscale": [
             [
              0,
              "#0d0887"
             ],
             [
              0.1111111111111111,
              "#46039f"
             ],
             [
              0.2222222222222222,
              "#7201a8"
             ],
             [
              0.3333333333333333,
              "#9c179e"
             ],
             [
              0.4444444444444444,
              "#bd3786"
             ],
             [
              0.5555555555555556,
              "#d8576b"
             ],
             [
              0.6666666666666666,
              "#ed7953"
             ],
             [
              0.7777777777777778,
              "#fb9f3a"
             ],
             [
              0.8888888888888888,
              "#fdca26"
             ],
             [
              1,
              "#f0f921"
             ]
            ],
            "type": "heatmap"
           }
          ],
          "heatmapgl": [
           {
            "colorbar": {
             "outlinewidth": 0,
             "ticks": ""
            },
            "colorscale": [
             [
              0,
              "#0d0887"
             ],
             [
              0.1111111111111111,
              "#46039f"
             ],
             [
              0.2222222222222222,
              "#7201a8"
             ],
             [
              0.3333333333333333,
              "#9c179e"
             ],
             [
              0.4444444444444444,
              "#bd3786"
             ],
             [
              0.5555555555555556,
              "#d8576b"
             ],
             [
              0.6666666666666666,
              "#ed7953"
             ],
             [
              0.7777777777777778,
              "#fb9f3a"
             ],
             [
              0.8888888888888888,
              "#fdca26"
             ],
             [
              1,
              "#f0f921"
             ]
            ],
            "type": "heatmapgl"
           }
          ],
          "histogram": [
           {
            "marker": {
             "pattern": {
              "fillmode": "overlay",
              "size": 10,
              "solidity": 0.2
             }
            },
            "type": "histogram"
           }
          ],
          "histogram2d": [
           {
            "colorbar": {
             "outlinewidth": 0,
             "ticks": ""
            },
            "colorscale": [
             [
              0,
              "#0d0887"
             ],
             [
              0.1111111111111111,
              "#46039f"
             ],
             [
              0.2222222222222222,
              "#7201a8"
             ],
             [
              0.3333333333333333,
              "#9c179e"
             ],
             [
              0.4444444444444444,
              "#bd3786"
             ],
             [
              0.5555555555555556,
              "#d8576b"
             ],
             [
              0.6666666666666666,
              "#ed7953"
             ],
             [
              0.7777777777777778,
              "#fb9f3a"
             ],
             [
              0.8888888888888888,
              "#fdca26"
             ],
             [
              1,
              "#f0f921"
             ]
            ],
            "type": "histogram2d"
           }
          ],
          "histogram2dcontour": [
           {
            "colorbar": {
             "outlinewidth": 0,
             "ticks": ""
            },
            "colorscale": [
             [
              0,
              "#0d0887"
             ],
             [
              0.1111111111111111,
              "#46039f"
             ],
             [
              0.2222222222222222,
              "#7201a8"
             ],
             [
              0.3333333333333333,
              "#9c179e"
             ],
             [
              0.4444444444444444,
              "#bd3786"
             ],
             [
              0.5555555555555556,
              "#d8576b"
             ],
             [
              0.6666666666666666,
              "#ed7953"
             ],
             [
              0.7777777777777778,
              "#fb9f3a"
             ],
             [
              0.8888888888888888,
              "#fdca26"
             ],
             [
              1,
              "#f0f921"
             ]
            ],
            "type": "histogram2dcontour"
           }
          ],
          "mesh3d": [
           {
            "colorbar": {
             "outlinewidth": 0,
             "ticks": ""
            },
            "type": "mesh3d"
           }
          ],
          "parcoords": [
           {
            "line": {
             "colorbar": {
              "outlinewidth": 0,
              "ticks": ""
             }
            },
            "type": "parcoords"
           }
          ],
          "pie": [
           {
            "automargin": true,
            "type": "pie"
           }
          ],
          "scatter": [
           {
            "fillpattern": {
             "fillmode": "overlay",
             "size": 10,
             "solidity": 0.2
            },
            "type": "scatter"
           }
          ],
          "scatter3d": [
           {
            "line": {
             "colorbar": {
              "outlinewidth": 0,
              "ticks": ""
             }
            },
            "marker": {
             "colorbar": {
              "outlinewidth": 0,
              "ticks": ""
             }
            },
            "type": "scatter3d"
           }
          ],
          "scattercarpet": [
           {
            "marker": {
             "colorbar": {
              "outlinewidth": 0,
              "ticks": ""
             }
            },
            "type": "scattercarpet"
           }
          ],
          "scattergeo": [
           {
            "marker": {
             "colorbar": {
              "outlinewidth": 0,
              "ticks": ""
             }
            },
            "type": "scattergeo"
           }
          ],
          "scattergl": [
           {
            "marker": {
             "colorbar": {
              "outlinewidth": 0,
              "ticks": ""
             }
            },
            "type": "scattergl"
           }
          ],
          "scattermapbox": [
           {
            "marker": {
             "colorbar": {
              "outlinewidth": 0,
              "ticks": ""
             }
            },
            "type": "scattermapbox"
           }
          ],
          "scatterpolar": [
           {
            "marker": {
             "colorbar": {
              "outlinewidth": 0,
              "ticks": ""
             }
            },
            "type": "scatterpolar"
           }
          ],
          "scatterpolargl": [
           {
            "marker": {
             "colorbar": {
              "outlinewidth": 0,
              "ticks": ""
             }
            },
            "type": "scatterpolargl"
           }
          ],
          "scatterternary": [
           {
            "marker": {
             "colorbar": {
              "outlinewidth": 0,
              "ticks": ""
             }
            },
            "type": "scatterternary"
           }
          ],
          "surface": [
           {
            "colorbar": {
             "outlinewidth": 0,
             "ticks": ""
            },
            "colorscale": [
             [
              0,
              "#0d0887"
             ],
             [
              0.1111111111111111,
              "#46039f"
             ],
             [
              0.2222222222222222,
              "#7201a8"
             ],
             [
              0.3333333333333333,
              "#9c179e"
             ],
             [
              0.4444444444444444,
              "#bd3786"
             ],
             [
              0.5555555555555556,
              "#d8576b"
             ],
             [
              0.6666666666666666,
              "#ed7953"
             ],
             [
              0.7777777777777778,
              "#fb9f3a"
             ],
             [
              0.8888888888888888,
              "#fdca26"
             ],
             [
              1,
              "#f0f921"
             ]
            ],
            "type": "surface"
           }
          ],
          "table": [
           {
            "cells": {
             "fill": {
              "color": "#EBF0F8"
             },
             "line": {
              "color": "white"
             }
            },
            "header": {
             "fill": {
              "color": "#C8D4E3"
             },
             "line": {
              "color": "white"
             }
            },
            "type": "table"
           }
          ]
         },
         "layout": {
          "annotationdefaults": {
           "arrowcolor": "#2a3f5f",
           "arrowhead": 0,
           "arrowwidth": 1
          },
          "autotypenumbers": "strict",
          "coloraxis": {
           "colorbar": {
            "outlinewidth": 0,
            "ticks": ""
           }
          },
          "colorscale": {
           "diverging": [
            [
             0,
             "#8e0152"
            ],
            [
             0.1,
             "#c51b7d"
            ],
            [
             0.2,
             "#de77ae"
            ],
            [
             0.3,
             "#f1b6da"
            ],
            [
             0.4,
             "#fde0ef"
            ],
            [
             0.5,
             "#f7f7f7"
            ],
            [
             0.6,
             "#e6f5d0"
            ],
            [
             0.7,
             "#b8e186"
            ],
            [
             0.8,
             "#7fbc41"
            ],
            [
             0.9,
             "#4d9221"
            ],
            [
             1,
             "#276419"
            ]
           ],
           "sequential": [
            [
             0,
             "#0d0887"
            ],
            [
             0.1111111111111111,
             "#46039f"
            ],
            [
             0.2222222222222222,
             "#7201a8"
            ],
            [
             0.3333333333333333,
             "#9c179e"
            ],
            [
             0.4444444444444444,
             "#bd3786"
            ],
            [
             0.5555555555555556,
             "#d8576b"
            ],
            [
             0.6666666666666666,
             "#ed7953"
            ],
            [
             0.7777777777777778,
             "#fb9f3a"
            ],
            [
             0.8888888888888888,
             "#fdca26"
            ],
            [
             1,
             "#f0f921"
            ]
           ],
           "sequentialminus": [
            [
             0,
             "#0d0887"
            ],
            [
             0.1111111111111111,
             "#46039f"
            ],
            [
             0.2222222222222222,
             "#7201a8"
            ],
            [
             0.3333333333333333,
             "#9c179e"
            ],
            [
             0.4444444444444444,
             "#bd3786"
            ],
            [
             0.5555555555555556,
             "#d8576b"
            ],
            [
             0.6666666666666666,
             "#ed7953"
            ],
            [
             0.7777777777777778,
             "#fb9f3a"
            ],
            [
             0.8888888888888888,
             "#fdca26"
            ],
            [
             1,
             "#f0f921"
            ]
           ]
          },
          "colorway": [
           "#636efa",
           "#EF553B",
           "#00cc96",
           "#ab63fa",
           "#FFA15A",
           "#19d3f3",
           "#FF6692",
           "#B6E880",
           "#FF97FF",
           "#FECB52"
          ],
          "font": {
           "color": "#2a3f5f"
          },
          "geo": {
           "bgcolor": "white",
           "lakecolor": "white",
           "landcolor": "#E5ECF6",
           "showlakes": true,
           "showland": true,
           "subunitcolor": "white"
          },
          "hoverlabel": {
           "align": "left"
          },
          "hovermode": "closest",
          "mapbox": {
           "style": "light"
          },
          "paper_bgcolor": "white",
          "plot_bgcolor": "#E5ECF6",
          "polar": {
           "angularaxis": {
            "gridcolor": "white",
            "linecolor": "white",
            "ticks": ""
           },
           "bgcolor": "#E5ECF6",
           "radialaxis": {
            "gridcolor": "white",
            "linecolor": "white",
            "ticks": ""
           }
          },
          "scene": {
           "xaxis": {
            "backgroundcolor": "#E5ECF6",
            "gridcolor": "white",
            "gridwidth": 2,
            "linecolor": "white",
            "showbackground": true,
            "ticks": "",
            "zerolinecolor": "white"
           },
           "yaxis": {
            "backgroundcolor": "#E5ECF6",
            "gridcolor": "white",
            "gridwidth": 2,
            "linecolor": "white",
            "showbackground": true,
            "ticks": "",
            "zerolinecolor": "white"
           },
           "zaxis": {
            "backgroundcolor": "#E5ECF6",
            "gridcolor": "white",
            "gridwidth": 2,
            "linecolor": "white",
            "showbackground": true,
            "ticks": "",
            "zerolinecolor": "white"
           }
          },
          "shapedefaults": {
           "line": {
            "color": "#2a3f5f"
           }
          },
          "ternary": {
           "aaxis": {
            "gridcolor": "white",
            "linecolor": "white",
            "ticks": ""
           },
           "baxis": {
            "gridcolor": "white",
            "linecolor": "white",
            "ticks": ""
           },
           "bgcolor": "#E5ECF6",
           "caxis": {
            "gridcolor": "white",
            "linecolor": "white",
            "ticks": ""
           }
          },
          "title": {
           "x": 0.05
          },
          "xaxis": {
           "automargin": true,
           "gridcolor": "white",
           "linecolor": "white",
           "ticks": "",
           "title": {
            "standoff": 15
           },
           "zerolinecolor": "white",
           "zerolinewidth": 2
          },
          "yaxis": {
           "automargin": true,
           "gridcolor": "white",
           "linecolor": "white",
           "ticks": "",
           "title": {
            "standoff": 15
           },
           "zerolinecolor": "white",
           "zerolinewidth": 2
          }
         }
        },
        "xaxis": {
         "anchor": "y",
         "domain": [
          0,
          1
         ],
         "title": {
          "text": "local_time"
         }
        },
        "yaxis": {
         "anchor": "x",
         "domain": [
          0,
          1
         ],
         "title": {
          "text": "imbalancePriceAmountGBP"
         }
        }
       }
      }
     },
     "metadata": {},
     "output_type": "display_data"
    }
   ],
   "source": [
    "#https://plotly.com/python/time-series/\n",
    "import plotly.express as px\n",
    "\n",
    "df = px.data.stocks()\n",
    "\n",
    "fig = px.line(df_B1770, x='local_time', y='imbalancePriceAmountGBP')\n",
    "fig2 = px.line(df_B1770, x='local_datetime', y='imbalancePriceAmountGBP')\n",
    "fig.show()"
   ]
  },
  {
   "cell_type": "code",
   "execution_count": 10,
   "metadata": {},
   "outputs": [
    {
     "data": {
      "application/vnd.plotly.v1+json": {
       "config": {
        "plotlyServerURL": "https://plot.ly"
       },
       "data": [
        {
         "hovertemplate": "settlementPeriod=%{x}<br>imbalancePriceAmountGBP=%{y}<extra></extra>",
         "legendgroup": "",
         "marker": {
          "color": "#636efa",
          "symbol": "circle"
         },
         "mode": "markers",
         "name": "",
         "orientation": "v",
         "showlegend": false,
         "type": "scatter",
         "x": [
          1,
          1,
          2,
          2,
          3,
          3,
          4,
          4,
          5,
          5,
          6,
          6,
          7,
          7,
          8,
          8,
          9,
          9,
          10,
          10,
          11,
          11,
          12,
          12,
          13,
          13,
          14,
          14,
          15,
          15,
          16,
          16,
          17,
          17,
          18,
          18,
          19,
          19,
          20,
          20,
          21,
          21,
          22,
          22,
          23,
          23,
          24,
          24,
          25,
          25,
          26,
          26,
          27,
          27,
          28,
          28,
          29,
          29,
          30,
          30,
          31,
          31,
          32,
          32,
          33,
          33,
          34,
          34,
          35,
          35,
          36,
          36,
          37,
          37,
          38,
          38,
          39,
          39,
          40,
          40,
          41,
          41,
          42,
          42,
          43,
          43,
          44,
          44,
          45,
          45,
          46,
          46,
          47,
          47
         ],
         "xaxis": "x",
         "y": [
          50.9,
          50.9,
          51,
          51,
          29.37006,
          29.37006,
          28.52,
          28.52,
          25.78,
          25.78,
          24.77018,
          24.77018,
          50.5,
          50.5,
          50,
          50,
          23.93006,
          23.93006,
          23.93006,
          23.93006,
          6,
          6,
          6,
          6,
          23.82,
          23.82,
          31.69,
          31.69,
          23.98,
          23.98,
          52,
          52,
          52,
          52,
          52,
          52,
          52,
          52,
          51,
          51,
          51.9,
          51.9,
          51,
          51,
          25.59,
          25.59,
          7.5,
          7.5,
          51.9,
          51.9,
          51.9,
          51.9,
          51,
          51,
          51,
          51,
          50.75,
          50.75,
          7.5,
          7.5,
          7.5,
          7.5,
          50.8,
          50.8,
          52,
          52,
          50.8,
          50.8,
          52,
          52,
          52,
          52,
          51.9,
          51.9,
          51.5,
          51.5,
          49.95,
          49.95,
          49.75,
          49.75,
          49.75,
          49.75,
          51.5,
          51.5,
          49.45,
          49.45,
          51.5,
          51.5,
          51.5,
          51.5,
          49.45,
          49.45,
          50.05,
          50.05
         ],
         "yaxis": "y"
        }
       ],
       "layout": {
        "legend": {
         "tracegroupgap": 0
        },
        "margin": {
         "t": 60
        },
        "template": {
         "data": {
          "bar": [
           {
            "error_x": {
             "color": "#2a3f5f"
            },
            "error_y": {
             "color": "#2a3f5f"
            },
            "marker": {
             "line": {
              "color": "#E5ECF6",
              "width": 0.5
             },
             "pattern": {
              "fillmode": "overlay",
              "size": 10,
              "solidity": 0.2
             }
            },
            "type": "bar"
           }
          ],
          "barpolar": [
           {
            "marker": {
             "line": {
              "color": "#E5ECF6",
              "width": 0.5
             },
             "pattern": {
              "fillmode": "overlay",
              "size": 10,
              "solidity": 0.2
             }
            },
            "type": "barpolar"
           }
          ],
          "carpet": [
           {
            "aaxis": {
             "endlinecolor": "#2a3f5f",
             "gridcolor": "white",
             "linecolor": "white",
             "minorgridcolor": "white",
             "startlinecolor": "#2a3f5f"
            },
            "baxis": {
             "endlinecolor": "#2a3f5f",
             "gridcolor": "white",
             "linecolor": "white",
             "minorgridcolor": "white",
             "startlinecolor": "#2a3f5f"
            },
            "type": "carpet"
           }
          ],
          "choropleth": [
           {
            "colorbar": {
             "outlinewidth": 0,
             "ticks": ""
            },
            "type": "choropleth"
           }
          ],
          "contour": [
           {
            "colorbar": {
             "outlinewidth": 0,
             "ticks": ""
            },
            "colorscale": [
             [
              0,
              "#0d0887"
             ],
             [
              0.1111111111111111,
              "#46039f"
             ],
             [
              0.2222222222222222,
              "#7201a8"
             ],
             [
              0.3333333333333333,
              "#9c179e"
             ],
             [
              0.4444444444444444,
              "#bd3786"
             ],
             [
              0.5555555555555556,
              "#d8576b"
             ],
             [
              0.6666666666666666,
              "#ed7953"
             ],
             [
              0.7777777777777778,
              "#fb9f3a"
             ],
             [
              0.8888888888888888,
              "#fdca26"
             ],
             [
              1,
              "#f0f921"
             ]
            ],
            "type": "contour"
           }
          ],
          "contourcarpet": [
           {
            "colorbar": {
             "outlinewidth": 0,
             "ticks": ""
            },
            "type": "contourcarpet"
           }
          ],
          "heatmap": [
           {
            "colorbar": {
             "outlinewidth": 0,
             "ticks": ""
            },
            "colorscale": [
             [
              0,
              "#0d0887"
             ],
             [
              0.1111111111111111,
              "#46039f"
             ],
             [
              0.2222222222222222,
              "#7201a8"
             ],
             [
              0.3333333333333333,
              "#9c179e"
             ],
             [
              0.4444444444444444,
              "#bd3786"
             ],
             [
              0.5555555555555556,
              "#d8576b"
             ],
             [
              0.6666666666666666,
              "#ed7953"
             ],
             [
              0.7777777777777778,
              "#fb9f3a"
             ],
             [
              0.8888888888888888,
              "#fdca26"
             ],
             [
              1,
              "#f0f921"
             ]
            ],
            "type": "heatmap"
           }
          ],
          "heatmapgl": [
           {
            "colorbar": {
             "outlinewidth": 0,
             "ticks": ""
            },
            "colorscale": [
             [
              0,
              "#0d0887"
             ],
             [
              0.1111111111111111,
              "#46039f"
             ],
             [
              0.2222222222222222,
              "#7201a8"
             ],
             [
              0.3333333333333333,
              "#9c179e"
             ],
             [
              0.4444444444444444,
              "#bd3786"
             ],
             [
              0.5555555555555556,
              "#d8576b"
             ],
             [
              0.6666666666666666,
              "#ed7953"
             ],
             [
              0.7777777777777778,
              "#fb9f3a"
             ],
             [
              0.8888888888888888,
              "#fdca26"
             ],
             [
              1,
              "#f0f921"
             ]
            ],
            "type": "heatmapgl"
           }
          ],
          "histogram": [
           {
            "marker": {
             "pattern": {
              "fillmode": "overlay",
              "size": 10,
              "solidity": 0.2
             }
            },
            "type": "histogram"
           }
          ],
          "histogram2d": [
           {
            "colorbar": {
             "outlinewidth": 0,
             "ticks": ""
            },
            "colorscale": [
             [
              0,
              "#0d0887"
             ],
             [
              0.1111111111111111,
              "#46039f"
             ],
             [
              0.2222222222222222,
              "#7201a8"
             ],
             [
              0.3333333333333333,
              "#9c179e"
             ],
             [
              0.4444444444444444,
              "#bd3786"
             ],
             [
              0.5555555555555556,
              "#d8576b"
             ],
             [
              0.6666666666666666,
              "#ed7953"
             ],
             [
              0.7777777777777778,
              "#fb9f3a"
             ],
             [
              0.8888888888888888,
              "#fdca26"
             ],
             [
              1,
              "#f0f921"
             ]
            ],
            "type": "histogram2d"
           }
          ],
          "histogram2dcontour": [
           {
            "colorbar": {
             "outlinewidth": 0,
             "ticks": ""
            },
            "colorscale": [
             [
              0,
              "#0d0887"
             ],
             [
              0.1111111111111111,
              "#46039f"
             ],
             [
              0.2222222222222222,
              "#7201a8"
             ],
             [
              0.3333333333333333,
              "#9c179e"
             ],
             [
              0.4444444444444444,
              "#bd3786"
             ],
             [
              0.5555555555555556,
              "#d8576b"
             ],
             [
              0.6666666666666666,
              "#ed7953"
             ],
             [
              0.7777777777777778,
              "#fb9f3a"
             ],
             [
              0.8888888888888888,
              "#fdca26"
             ],
             [
              1,
              "#f0f921"
             ]
            ],
            "type": "histogram2dcontour"
           }
          ],
          "mesh3d": [
           {
            "colorbar": {
             "outlinewidth": 0,
             "ticks": ""
            },
            "type": "mesh3d"
           }
          ],
          "parcoords": [
           {
            "line": {
             "colorbar": {
              "outlinewidth": 0,
              "ticks": ""
             }
            },
            "type": "parcoords"
           }
          ],
          "pie": [
           {
            "automargin": true,
            "type": "pie"
           }
          ],
          "scatter": [
           {
            "fillpattern": {
             "fillmode": "overlay",
             "size": 10,
             "solidity": 0.2
            },
            "type": "scatter"
           }
          ],
          "scatter3d": [
           {
            "line": {
             "colorbar": {
              "outlinewidth": 0,
              "ticks": ""
             }
            },
            "marker": {
             "colorbar": {
              "outlinewidth": 0,
              "ticks": ""
             }
            },
            "type": "scatter3d"
           }
          ],
          "scattercarpet": [
           {
            "marker": {
             "colorbar": {
              "outlinewidth": 0,
              "ticks": ""
             }
            },
            "type": "scattercarpet"
           }
          ],
          "scattergeo": [
           {
            "marker": {
             "colorbar": {
              "outlinewidth": 0,
              "ticks": ""
             }
            },
            "type": "scattergeo"
           }
          ],
          "scattergl": [
           {
            "marker": {
             "colorbar": {
              "outlinewidth": 0,
              "ticks": ""
             }
            },
            "type": "scattergl"
           }
          ],
          "scattermapbox": [
           {
            "marker": {
             "colorbar": {
              "outlinewidth": 0,
              "ticks": ""
             }
            },
            "type": "scattermapbox"
           }
          ],
          "scatterpolar": [
           {
            "marker": {
             "colorbar": {
              "outlinewidth": 0,
              "ticks": ""
             }
            },
            "type": "scatterpolar"
           }
          ],
          "scatterpolargl": [
           {
            "marker": {
             "colorbar": {
              "outlinewidth": 0,
              "ticks": ""
             }
            },
            "type": "scatterpolargl"
           }
          ],
          "scatterternary": [
           {
            "marker": {
             "colorbar": {
              "outlinewidth": 0,
              "ticks": ""
             }
            },
            "type": "scatterternary"
           }
          ],
          "surface": [
           {
            "colorbar": {
             "outlinewidth": 0,
             "ticks": ""
            },
            "colorscale": [
             [
              0,
              "#0d0887"
             ],
             [
              0.1111111111111111,
              "#46039f"
             ],
             [
              0.2222222222222222,
              "#7201a8"
             ],
             [
              0.3333333333333333,
              "#9c179e"
             ],
             [
              0.4444444444444444,
              "#bd3786"
             ],
             [
              0.5555555555555556,
              "#d8576b"
             ],
             [
              0.6666666666666666,
              "#ed7953"
             ],
             [
              0.7777777777777778,
              "#fb9f3a"
             ],
             [
              0.8888888888888888,
              "#fdca26"
             ],
             [
              1,
              "#f0f921"
             ]
            ],
            "type": "surface"
           }
          ],
          "table": [
           {
            "cells": {
             "fill": {
              "color": "#EBF0F8"
             },
             "line": {
              "color": "white"
             }
            },
            "header": {
             "fill": {
              "color": "#C8D4E3"
             },
             "line": {
              "color": "white"
             }
            },
            "type": "table"
           }
          ]
         },
         "layout": {
          "annotationdefaults": {
           "arrowcolor": "#2a3f5f",
           "arrowhead": 0,
           "arrowwidth": 1
          },
          "autotypenumbers": "strict",
          "coloraxis": {
           "colorbar": {
            "outlinewidth": 0,
            "ticks": ""
           }
          },
          "colorscale": {
           "diverging": [
            [
             0,
             "#8e0152"
            ],
            [
             0.1,
             "#c51b7d"
            ],
            [
             0.2,
             "#de77ae"
            ],
            [
             0.3,
             "#f1b6da"
            ],
            [
             0.4,
             "#fde0ef"
            ],
            [
             0.5,
             "#f7f7f7"
            ],
            [
             0.6,
             "#e6f5d0"
            ],
            [
             0.7,
             "#b8e186"
            ],
            [
             0.8,
             "#7fbc41"
            ],
            [
             0.9,
             "#4d9221"
            ],
            [
             1,
             "#276419"
            ]
           ],
           "sequential": [
            [
             0,
             "#0d0887"
            ],
            [
             0.1111111111111111,
             "#46039f"
            ],
            [
             0.2222222222222222,
             "#7201a8"
            ],
            [
             0.3333333333333333,
             "#9c179e"
            ],
            [
             0.4444444444444444,
             "#bd3786"
            ],
            [
             0.5555555555555556,
             "#d8576b"
            ],
            [
             0.6666666666666666,
             "#ed7953"
            ],
            [
             0.7777777777777778,
             "#fb9f3a"
            ],
            [
             0.8888888888888888,
             "#fdca26"
            ],
            [
             1,
             "#f0f921"
            ]
           ],
           "sequentialminus": [
            [
             0,
             "#0d0887"
            ],
            [
             0.1111111111111111,
             "#46039f"
            ],
            [
             0.2222222222222222,
             "#7201a8"
            ],
            [
             0.3333333333333333,
             "#9c179e"
            ],
            [
             0.4444444444444444,
             "#bd3786"
            ],
            [
             0.5555555555555556,
             "#d8576b"
            ],
            [
             0.6666666666666666,
             "#ed7953"
            ],
            [
             0.7777777777777778,
             "#fb9f3a"
            ],
            [
             0.8888888888888888,
             "#fdca26"
            ],
            [
             1,
             "#f0f921"
            ]
           ]
          },
          "colorway": [
           "#636efa",
           "#EF553B",
           "#00cc96",
           "#ab63fa",
           "#FFA15A",
           "#19d3f3",
           "#FF6692",
           "#B6E880",
           "#FF97FF",
           "#FECB52"
          ],
          "font": {
           "color": "#2a3f5f"
          },
          "geo": {
           "bgcolor": "white",
           "lakecolor": "white",
           "landcolor": "#E5ECF6",
           "showlakes": true,
           "showland": true,
           "subunitcolor": "white"
          },
          "hoverlabel": {
           "align": "left"
          },
          "hovermode": "closest",
          "mapbox": {
           "style": "light"
          },
          "paper_bgcolor": "white",
          "plot_bgcolor": "#E5ECF6",
          "polar": {
           "angularaxis": {
            "gridcolor": "white",
            "linecolor": "white",
            "ticks": ""
           },
           "bgcolor": "#E5ECF6",
           "radialaxis": {
            "gridcolor": "white",
            "linecolor": "white",
            "ticks": ""
           }
          },
          "scene": {
           "xaxis": {
            "backgroundcolor": "#E5ECF6",
            "gridcolor": "white",
            "gridwidth": 2,
            "linecolor": "white",
            "showbackground": true,
            "ticks": "",
            "zerolinecolor": "white"
           },
           "yaxis": {
            "backgroundcolor": "#E5ECF6",
            "gridcolor": "white",
            "gridwidth": 2,
            "linecolor": "white",
            "showbackground": true,
            "ticks": "",
            "zerolinecolor": "white"
           },
           "zaxis": {
            "backgroundcolor": "#E5ECF6",
            "gridcolor": "white",
            "gridwidth": 2,
            "linecolor": "white",
            "showbackground": true,
            "ticks": "",
            "zerolinecolor": "white"
           }
          },
          "shapedefaults": {
           "line": {
            "color": "#2a3f5f"
           }
          },
          "ternary": {
           "aaxis": {
            "gridcolor": "white",
            "linecolor": "white",
            "ticks": ""
           },
           "baxis": {
            "gridcolor": "white",
            "linecolor": "white",
            "ticks": ""
           },
           "bgcolor": "#E5ECF6",
           "caxis": {
            "gridcolor": "white",
            "linecolor": "white",
            "ticks": ""
           }
          },
          "title": {
           "x": 0.05
          },
          "xaxis": {
           "automargin": true,
           "gridcolor": "white",
           "linecolor": "white",
           "ticks": "",
           "title": {
            "standoff": 15
           },
           "zerolinecolor": "white",
           "zerolinewidth": 2
          },
          "yaxis": {
           "automargin": true,
           "gridcolor": "white",
           "linecolor": "white",
           "ticks": "",
           "title": {
            "standoff": 15
           },
           "zerolinecolor": "white",
           "zerolinewidth": 2
          }
         }
        },
        "xaxis": {
         "anchor": "y",
         "domain": [
          0,
          1
         ],
         "title": {
          "text": "settlementPeriod"
         }
        },
        "yaxis": {
         "anchor": "x",
         "domain": [
          0,
          1
         ],
         "title": {
          "text": "imbalancePriceAmountGBP"
         }
        }
       }
      }
     },
     "metadata": {},
     "output_type": "display_data"
    }
   ],
   "source": [
    "#Exploratory data analysis\n",
    "#dist of imbalance prices\n",
    "fig3 = px.histogram(df_B1770, x=\"imbalancePriceAmountGBP\", nbins=20)\n",
    "#fig3.show()\n",
    "\n",
    "#price category variable \n",
    "#equally distrbuted, inufficeint and excess balance\n",
    "fig4 = px.histogram(df_B1770, x=\"priceCategory\")\n",
    "#fig4.show()\n",
    "\n",
    "#price category vs imbalance price\n",
    "\n",
    "fig5 = px.scatter(df_B1770, x=\"settlementPeriod\", y=\"imbalancePriceAmountGBP\")\n",
    "fig5.show()\n",
    "\n",
    "#rom eda might need more variables, when access to imbalance data try and join on data to see the relationship between\n",
    "#balance and prices\n",
    "#add weather data aswell"
   ]
  },
  {
   "cell_type": "code",
   "execution_count": 11,
   "metadata": {},
   "outputs": [
    {
     "data": {
      "image/png": "[encoded data removed]",
      "text/plain": [
       "<Figure size 432x288 with 2 Axes>"
      ]
     },
     "metadata": {
      "needs_background": "light"
     },
     "output_type": "display_data"
    }
   ],
   "source": [
    "#settlement period vs imbalance price\n",
    "correlation = df_B1770.corr(method='pearson')\n",
    "\n",
    "ax = sns.heatmap(\n",
    "    correlation, \n",
    "    annot=True,\n",
    "    vmin=-1, vmax=1, center=0,\n",
    "    cmap=sns.diverging_palette(20, 220, n=200),\n",
    "    square=True\n",
    ")"
   ]
  },
  {
   "cell_type": "code",
   "execution_count": 33,
   "metadata": {},
   "outputs": [
    {
     "data": {
      "text/plain": [
       "['Insufficient balance', 'Excess balance']\n",
       "Categories (2, object): ['Excess balance', 'Insufficient balance']"
      ]
     },
     "execution_count": 33,
     "metadata": {},
     "output_type": "execute_result"
    }
   ],
   "source": [
    "from sklearn.model_selection import train_test_split\n",
    "import statsmode\n",
    "\n",
    "sklearn.model_selection import train_test_split\n",
    "import statsmodels.api as sm\n",
    "#prep data for basic linear regression forcasting test on all data no train test split\n",
    "#make catvariables dummmy vaiables \n",
    "#statsmodels pacakage in pandas.\n",
    "\n",
    "#might need to change all the categories to just an object or numberical value depending on type of column\n",
    "\n",
    "#df_join = pd.get_dummies(df_join, columns=[\"Data_collection_period\", \"Area\",\"Area_type\",\"Day_of_the_week\",\"Type_of_day\",\"AM_PM\",\"Survey_time_period\" ], drop_first=True)\n",
    "\n",
    "# df_B1770['businessType'] = df_B1770['businessType'].astype('category')\n",
    "# df_B1770['activeFlag'] = df_B1770['activeFlag'].astype('category')\n",
    "# df_B1770['documentType'] = df_B1770['documentType'].astype('category')\n",
    "# df_B1770['processType'] = df_B1770['processType'].astype('category')\n",
    "# df_B1770['docStatus'] = df_B1770['docStatus'].astype('category')\n",
    "# df_B1770['curveType'] = df_B1770['curveType'].astype('category')\n",
    "# df_B1770['priceCategory'] = df_B1770['priceCategory'].astype('category')\n",
    "\n",
    "df_B1770['priceCategory'].unique()\n",
    "\n",
    "# X_train, X_test, y_train, y_test = train_test_split(df_join.drop(['Date','Start_time','Surveyor','SurveyID','av_total_time_seconds', 'Speed_kmh_calculated_field'],axis=1), \n",
    "#                                               df_join['av_total_time_seconds'], test_size=0.20, \n",
    "#                                                  random_state=42)\n"
   ]
  },
  {
   "cell_type": "code",
   "execution_count": 15,
   "metadata": {},
   "outputs": [
    {
     "data": {
      "text/html": [
       "<div>\n",
       "<style scoped>\n",
       "    .dataframe tbody tr th:only-of-type {\n",
       "        vertical-align: middle;\n",
       "    }\n",
       "\n",
       "    .dataframe tbody tr th {\n",
       "        vertical-align: top;\n",
       "    }\n",
       "\n",
       "    .dataframe thead th {\n",
       "        text-align: right;\n",
       "    }\n",
       "</style>\n",
       "<table border=\"1\" class=\"dataframe\">\n",
       "  <thead>\n",
       "    <tr style=\"text-align: right;\">\n",
       "      <th></th>\n",
       "      <th>local_datetime</th>\n",
       "      <th>timeSeriesID</th>\n",
       "      <th>businessType</th>\n",
       "      <th>controlArea</th>\n",
       "      <th>settlementDate</th>\n",
       "      <th>settlementPeriod</th>\n",
       "      <th>imbalancePriceAmountGBP</th>\n",
       "      <th>priceCategory</th>\n",
       "      <th>curveType</th>\n",
       "      <th>resolution</th>\n",
       "      <th>documentType</th>\n",
       "      <th>processType</th>\n",
       "      <th>activeFlag</th>\n",
       "      <th>docStatus</th>\n",
       "      <th>documentID</th>\n",
       "      <th>documentRevNum</th>\n",
       "    </tr>\n",
       "  </thead>\n",
       "  <tbody>\n",
       "    <tr>\n",
       "      <th>0</th>\n",
       "      <td>2020-01-01 00:00:00+00:00</td>\n",
       "      <td>ELX-EMFIP-IMBP-TS-1</td>\n",
       "      <td>Balance energy deviation</td>\n",
       "      <td>10YGB----------A</td>\n",
       "      <td>2020-01-01</td>\n",
       "      <td>1</td>\n",
       "      <td>50.9</td>\n",
       "      <td>Insufficient balance</td>\n",
       "      <td>Sequential fixed size block</td>\n",
       "      <td>PT30M</td>\n",
       "      <td>Imbalance prices</td>\n",
       "      <td>Realised</td>\n",
       "      <td>Y</td>\n",
       "      <td>Final</td>\n",
       "      <td>ELX-EMFIP-IMBP-22437930</td>\n",
       "      <td>1</td>\n",
       "    </tr>\n",
       "    <tr>\n",
       "      <th>1</th>\n",
       "      <td>2020-01-01 00:00:00+00:00</td>\n",
       "      <td>ELX-EMFIP-IMBP-TS-2</td>\n",
       "      <td>Balance energy deviation</td>\n",
       "      <td>10YGB----------A</td>\n",
       "      <td>2020-01-01</td>\n",
       "      <td>1</td>\n",
       "      <td>50.9</td>\n",
       "      <td>Excess balance</td>\n",
       "      <td>Sequential fixed size block</td>\n",
       "      <td>PT30M</td>\n",
       "      <td>Imbalance prices</td>\n",
       "      <td>Realised</td>\n",
       "      <td>Y</td>\n",
       "      <td>Final</td>\n",
       "      <td>ELX-EMFIP-IMBP-22437930</td>\n",
       "      <td>1</td>\n",
       "    </tr>\n",
       "    <tr>\n",
       "      <th>2</th>\n",
       "      <td>2020-01-01 00:30:00+00:00</td>\n",
       "      <td>ELX-EMFIP-IMBP-TS-1</td>\n",
       "      <td>Balance energy deviation</td>\n",
       "      <td>10YGB----------A</td>\n",
       "      <td>2020-01-01</td>\n",
       "      <td>2</td>\n",
       "      <td>51</td>\n",
       "      <td>Insufficient balance</td>\n",
       "      <td>Sequential fixed size block</td>\n",
       "      <td>PT30M</td>\n",
       "      <td>Imbalance prices</td>\n",
       "      <td>Realised</td>\n",
       "      <td>Y</td>\n",
       "      <td>Final</td>\n",
       "      <td>ELX-EMFIP-IMBP-22438072</td>\n",
       "      <td>1</td>\n",
       "    </tr>\n",
       "  </tbody>\n",
       "</table>\n",
       "</div>"
      ],
      "text/plain": [
       "             local_datetime         timeSeriesID              businessType  \\\n",
       "0 2020-01-01 00:00:00+00:00  ELX-EMFIP-IMBP-TS-1  Balance energy deviation   \n",
       "1 2020-01-01 00:00:00+00:00  ELX-EMFIP-IMBP-TS-2  Balance energy deviation   \n",
       "2 2020-01-01 00:30:00+00:00  ELX-EMFIP-IMBP-TS-1  Balance energy deviation   \n",
       "\n",
       "        controlArea settlementDate settlementPeriod imbalancePriceAmountGBP  \\\n",
       "0  10YGB----------A     2020-01-01                1                    50.9   \n",
       "1  10YGB----------A     2020-01-01                1                    50.9   \n",
       "2  10YGB----------A     2020-01-01                2                      51   \n",
       "\n",
       "          priceCategory                    curveType resolution  \\\n",
       "0  Insufficient balance  Sequential fixed size block      PT30M   \n",
       "1        Excess balance  Sequential fixed size block      PT30M   \n",
       "2  Insufficient balance  Sequential fixed size block      PT30M   \n",
       "\n",
       "       documentType processType activeFlag docStatus               documentID  \\\n",
       "0  Imbalance prices    Realised          Y     Final  ELX-EMFIP-IMBP-22437930   \n",
       "1  Imbalance prices    Realised          Y     Final  ELX-EMFIP-IMBP-22437930   \n",
       "2  Imbalance prices    Realised          Y     Final  ELX-EMFIP-IMBP-22438072   \n",
       "\n",
       "  documentRevNum  \n",
       "0              1  \n",
       "1              1  \n",
       "2              1  "
      ]
     },
     "execution_count": 15,
     "metadata": {},
     "output_type": "execute_result"
    }
   ],
   "source": [
    "#df_B1770.head(3)\n",
    "#datacleaning and processing of price data\n",
    "\n",
    "#target variable(imbalancePriceAmountGBP)\n",
    "\n",
    "#numerical varaibles \n",
    "#stettlementPeriod\n",
    "#imbalancePriceAmountGBP\n",
    "#documentRevNum\n",
    "\n",
    "#categorical\n",
    "#priceCategory\n",
    "#curveType\n",
    "#processType\n",
    "#activeFlag\n",
    "#documentType\n",
    "#processType\n",
    "#activeFlag\n",
    "#docStatus\n",
    "\n",
    "#datetime\n",
    "#local_datetime\n",
    "#maketodatetimmeworking\n",
    "#break into day, year, hour, time\n",
    "#settlementDate, day, hr, year\n",
    "\n",
    "#string\n",
    "#resolution\n",
    "#timeSeriesID\n",
    "#controlArea\n",
    "#resolution\n",
    "#documentID\t\n",
    "\n",
    "#feature engineering #add a pct_change column\n",
    "\n",
    "#brief ESDA, check histogram of imabalanceprice, \n",
    "\n",
    "#make dummy variables, train to test set 80-20%\n",
    "\n",
    "#Linear regression and Forecasting baseline model\n",
    "\n"
   ]
  },
  {
   "cell_type": "code",
   "execution_count": 20,
   "metadata": {},
   "outputs": [
    {
     "name": "stderr",
     "output_type": "stream",
     "text": [
      "B1810:   0%|          | 0/3 [00:00<?, ?it/s]C:\\Users\\Admin\\AppData\\Roaming\\Python\\Python38\\site-packages\\ElexonDataPortal\\dev\\utils.py:29: UserWarning: Data request was succesful but no content was returned\n",
      "  warn(f'Data request was succesful but no content was returned')\n",
      "C:\\Users\\Admin\\AppData\\Roaming\\Python\\Python38\\site-packages\\ElexonDataPortal\\dev\\orchestrator.py:80: FutureWarning: The frame.append method is deprecated and will be removed from pandas in a future version. Use pandas.concat instead.\n",
      "  df = df.append(df_SP)\n",
      "B1810:  33%|███▎      | 1/3 [00:00<00:01,  1.58it/s]C:\\Users\\Admin\\AppData\\Roaming\\Python\\Python38\\site-packages\\ElexonDataPortal\\dev\\utils.py:29: UserWarning: Data request was succesful but no content was returned\n",
      "  warn(f'Data request was succesful but no content was returned')\n",
      "C:\\Users\\Admin\\AppData\\Roaming\\Python\\Python38\\site-packages\\ElexonDataPortal\\dev\\orchestrator.py:80: FutureWarning: The frame.append method is deprecated and will be removed from pandas in a future version. Use pandas.concat instead.\n",
      "  df = df.append(df_SP)\n",
      "B1810:  67%|██████▋   | 2/3 [00:01<00:00,  1.90it/s]C:\\Users\\Admin\\AppData\\Roaming\\Python\\Python38\\site-packages\\ElexonDataPortal\\dev\\utils.py:29: UserWarning: Data request was succesful but no content was returned\n",
      "  warn(f'Data request was succesful but no content was returned')\n",
      "C:\\Users\\Admin\\AppData\\Roaming\\Python\\Python38\\site-packages\\ElexonDataPortal\\dev\\orchestrator.py:80: FutureWarning: The frame.append method is deprecated and will be removed from pandas in a future version. Use pandas.concat instead.\n",
      "  df = df.append(df_SP)\n",
      "B1810: 100%|██████████| 3/3 [00:01<00:00,  1.68it/s]\n"
     ]
    },
    {
     "data": {
      "text/html": [
       "<div>\n",
       "<style scoped>\n",
       "    .dataframe tbody tr th:only-of-type {\n",
       "        vertical-align: middle;\n",
       "    }\n",
       "\n",
       "    .dataframe tbody tr th {\n",
       "        vertical-align: top;\n",
       "    }\n",
       "\n",
       "    .dataframe thead th {\n",
       "        text-align: right;\n",
       "    }\n",
       "</style>\n",
       "<table border=\"1\" class=\"dataframe\">\n",
       "  <thead>\n",
       "    <tr style=\"text-align: right;\">\n",
       "      <th></th>\n",
       "    </tr>\n",
       "  </thead>\n",
       "  <tbody>\n",
       "  </tbody>\n",
       "</table>\n",
       "</div>"
      ],
      "text/plain": [
       "Empty DataFrame\n",
       "Columns: []\n",
       "Index: []"
      ]
     },
     "execution_count": 20,
     "metadata": {},
     "output_type": "execute_result"
    }
   ],
   "source": [
    "#CrossBorder Balancing Volumes of Exchanged Bids and Offers\n",
    "df_B1810 = client.get_B1810(start_date, end_date)\n",
    "df_B1810.head(3)"
   ]
  },
  {
   "cell_type": "code",
   "execution_count": 19,
   "metadata": {},
   "outputs": [
    {
     "ename": "NameError",
     "evalue": "name 'df_B1810' is not defined",
     "output_type": "error",
     "traceback": [
      "\u001b[1;31m---------------------------------------------------------------------------\u001b[0m",
      "\u001b[1;31mNameError\u001b[0m                                 Traceback (most recent call last)",
      "\u001b[1;32mc:\\Users\\Admin\\OneDrive\\Desktop\\esda_work\\dissertation\\bm_forcasting\\data_processing.ipynb Cell 12'\u001b[0m in \u001b[0;36m<module>\u001b[1;34m\u001b[0m\n\u001b[0;32m      <a href='vscode-notebook-cell:/c%3A/Users/Admin/OneDrive/Desktop/esda_work/dissertation/bm_forcasting/data_processing.ipynb#ch0000018?line=0'>1</a>\u001b[0m \u001b[39m#numerical varaibles \u001b[39;00m\n\u001b[0;32m      <a href='vscode-notebook-cell:/c%3A/Users/Admin/OneDrive/Desktop/esda_work/dissertation/bm_forcasting/data_processing.ipynb#ch0000018?line=1'>2</a>\u001b[0m \u001b[39m#stettlementPeriod\u001b[39;00m\n\u001b[0;32m      <a href='vscode-notebook-cell:/c%3A/Users/Admin/OneDrive/Desktop/esda_work/dissertation/bm_forcasting/data_processing.ipynb#ch0000018?line=2'>3</a>\u001b[0m \u001b[39m#imbalancePriceAmountGBP\u001b[39;00m\n\u001b[1;32m   (...)\u001b[0m\n\u001b[0;32m     <a href='vscode-notebook-cell:/c%3A/Users/Admin/OneDrive/Desktop/esda_work/dissertation/bm_forcasting/data_processing.ipynb#ch0000018?line=11'>12</a>\u001b[0m \u001b[39m#processType\u001b[39;00m\n\u001b[0;32m     <a href='vscode-notebook-cell:/c%3A/Users/Admin/OneDrive/Desktop/esda_work/dissertation/bm_forcasting/data_processing.ipynb#ch0000018?line=12'>13</a>\u001b[0m \u001b[39m#activeFlag\u001b[39;00m\n\u001b[1;32m---> <a href='vscode-notebook-cell:/c%3A/Users/Admin/OneDrive/Desktop/esda_work/dissertation/bm_forcasting/data_processing.ipynb#ch0000018?line=14'>15</a>\u001b[0m df_B1810\u001b[39m.\u001b[39mhead(\u001b[39m3\u001b[39m)\n",
      "\u001b[1;31mNameError\u001b[0m: name 'df_B1810' is not defined"
     ]
    }
   ],
   "source": [
    "#numerical varaibles \n",
    "#stettlementPeriod\n",
    "#imbalancePriceAmountGBP\n",
    "#documentRevNum\n",
    "\n",
    "#categorical\n",
    "#priceCategory\n",
    "#curveType\n",
    "#processType\n",
    "#activeFlag\n",
    "#documentType\n",
    "#processType\n",
    "#activeFlag\n",
    "\n",
    "df_B1810.head(3)"
   ]
  },
  {
   "cell_type": "code",
   "execution_count": 31,
   "metadata": {},
   "outputs": [
    {
     "name": "stderr",
     "output_type": "stream",
     "text": [
      "B1430:   0%|          | 0/3 [00:00<?, ?it/s]\n"
     ]
    },
    {
     "ename": "ValueError",
     "evalue": "The returned `data_content` must be one of: `list` or `OrderedDict`",
     "output_type": "error",
     "traceback": [
      "\u001b[1;31m---------------------------------------------------------------------------\u001b[0m",
      "\u001b[1;31mValueError\u001b[0m                                Traceback (most recent call last)",
      "\u001b[1;32mc:\\Users\\Admin\\OneDrive\\Desktop\\esda_work\\dissertation\\bm_forcasting\\data_processing.ipynb Cell 11'\u001b[0m in \u001b[0;36m<module>\u001b[1;34m\u001b[0m\n\u001b[0;32m      <a href='vscode-notebook-cell:/c%3A/Users/Admin/OneDrive/Desktop/esda_work/dissertation/bm_forcasting/data_processing.ipynb#ch0000015?line=0'>1</a>\u001b[0m \u001b[39m#Day-ahead Aggregated Generation\u001b[39;00m\n\u001b[1;32m----> <a href='vscode-notebook-cell:/c%3A/Users/Admin/OneDrive/Desktop/esda_work/dissertation/bm_forcasting/data_processing.ipynb#ch0000015?line=1'>2</a>\u001b[0m df_B1430 \u001b[39m=\u001b[39m client\u001b[39m.\u001b[39;49mget_B1430(start_date, end_date)\n\u001b[0;32m      <a href='vscode-notebook-cell:/c%3A/Users/Admin/OneDrive/Desktop/esda_work/dissertation/bm_forcasting/data_processing.ipynb#ch0000015?line=2'>3</a>\u001b[0m df_B1430\u001b[39m.\u001b[39mhead(\u001b[39m3\u001b[39m)\n",
      "File \u001b[1;32m~\\AppData\\Roaming\\Python\\Python38\\site-packages\\ElexonDataPortal\\api.py:469\u001b[0m, in \u001b[0;36mClient.get_B1430\u001b[1;34m(self, start_date, end_date)\u001b[0m\n\u001b[0;32m    <a href='file:///c%3A/Users/Admin/AppData/Roaming/Python/Python38/site-packages/ElexonDataPortal/api.py?line=455'>456</a>\u001b[0m \u001b[39mdef\u001b[39;00m \u001b[39mget_B1430\u001b[39m(\n\u001b[0;32m    <a href='file:///c%3A/Users/Admin/AppData/Roaming/Python/Python38/site-packages/ElexonDataPortal/api.py?line=456'>457</a>\u001b[0m     \u001b[39mself\u001b[39m,\n\u001b[0;32m    <a href='file:///c%3A/Users/Admin/AppData/Roaming/Python/Python38/site-packages/ElexonDataPortal/api.py?line=457'>458</a>\u001b[0m     start_date: \u001b[39mstr\u001b[39m\u001b[39m=\u001b[39m\u001b[39m'\u001b[39m\u001b[39m2020-01-01\u001b[39m\u001b[39m'\u001b[39m, \n\u001b[0;32m    <a href='file:///c%3A/Users/Admin/AppData/Roaming/Python/Python38/site-packages/ElexonDataPortal/api.py?line=458'>459</a>\u001b[0m     end_date: \u001b[39mstr\u001b[39m\u001b[39m=\u001b[39m\u001b[39m'\u001b[39m\u001b[39m2020-01-01 1:30\u001b[39m\u001b[39m'\u001b[39m,\n\u001b[0;32m    <a href='file:///c%3A/Users/Admin/AppData/Roaming/Python/Python38/site-packages/ElexonDataPortal/api.py?line=459'>460</a>\u001b[0m ):\n\u001b[0;32m    <a href='file:///c%3A/Users/Admin/AppData/Roaming/Python/Python38/site-packages/ElexonDataPortal/api.py?line=460'>461</a>\u001b[0m     \u001b[39m\"\"\"\u001b[39;00m\n\u001b[0;32m    <a href='file:///c%3A/Users/Admin/AppData/Roaming/Python/Python38/site-packages/ElexonDataPortal/api.py?line=461'>462</a>\u001b[0m \u001b[39m    Day-Ahead Aggregated Generation\u001b[39;00m\n\u001b[0;32m    <a href='file:///c%3A/Users/Admin/AppData/Roaming/Python/Python38/site-packages/ElexonDataPortal/api.py?line=462'>463</a>\u001b[0m \u001b[39m    \u001b[39;00m\n\u001b[1;32m   (...)\u001b[0m\n\u001b[0;32m    <a href='file:///c%3A/Users/Admin/AppData/Roaming/Python/Python38/site-packages/ElexonDataPortal/api.py?line=465'>466</a>\u001b[0m \u001b[39m        end_date (str)\u001b[39;00m\n\u001b[0;32m    <a href='file:///c%3A/Users/Admin/AppData/Roaming/Python/Python38/site-packages/ElexonDataPortal/api.py?line=466'>467</a>\u001b[0m \u001b[39m    \"\"\"\u001b[39;00m\n\u001b[1;32m--> <a href='file:///c%3A/Users/Admin/AppData/Roaming/Python/Python38/site-packages/ElexonDataPortal/api.py?line=468'>469</a>\u001b[0m     df \u001b[39m=\u001b[39m orchestrator\u001b[39m.\u001b[39;49mquery_orchestrator(\n\u001b[0;32m    <a href='file:///c%3A/Users/Admin/AppData/Roaming/Python/Python38/site-packages/ElexonDataPortal/api.py?line=469'>470</a>\u001b[0m         method\u001b[39m=\u001b[39;49m\u001b[39m'\u001b[39;49m\u001b[39mget_B1430\u001b[39;49m\u001b[39m'\u001b[39;49m,\n\u001b[0;32m    <a href='file:///c%3A/Users/Admin/AppData/Roaming/Python/Python38/site-packages/ElexonDataPortal/api.py?line=470'>471</a>\u001b[0m         api_key\u001b[39m=\u001b[39;49m\u001b[39mself\u001b[39;49m\u001b[39m.\u001b[39;49mapi_key,\n\u001b[0;32m    <a href='file:///c%3A/Users/Admin/AppData/Roaming/Python/Python38/site-packages/ElexonDataPortal/api.py?line=471'>472</a>\u001b[0m         n_attempts\u001b[39m=\u001b[39;49m\u001b[39mself\u001b[39;49m\u001b[39m.\u001b[39;49mn_retry_attempts,\n\u001b[0;32m    <a href='file:///c%3A/Users/Admin/AppData/Roaming/Python/Python38/site-packages/ElexonDataPortal/api.py?line=472'>473</a>\u001b[0m         request_type\u001b[39m=\u001b[39;49m\u001b[39m'\u001b[39;49m\u001b[39mSP_and_date\u001b[39;49m\u001b[39m'\u001b[39;49m,\n\u001b[0;32m    <a href='file:///c%3A/Users/Admin/AppData/Roaming/Python/Python38/site-packages/ElexonDataPortal/api.py?line=473'>474</a>\u001b[0m         kwargs_map\u001b[39m=\u001b[39;49m{\u001b[39m'\u001b[39;49m\u001b[39mdate\u001b[39;49m\u001b[39m'\u001b[39;49m: \u001b[39m'\u001b[39;49m\u001b[39mSettlementDate\u001b[39;49m\u001b[39m'\u001b[39;49m, \u001b[39m'\u001b[39;49m\u001b[39mSP\u001b[39;49m\u001b[39m'\u001b[39;49m: \u001b[39m'\u001b[39;49m\u001b[39mPeriod\u001b[39;49m\u001b[39m'\u001b[39;49m},\n\u001b[0;32m    <a href='file:///c%3A/Users/Admin/AppData/Roaming/Python/Python38/site-packages/ElexonDataPortal/api.py?line=474'>475</a>\u001b[0m         func_params\u001b[39m=\u001b[39;49m[\u001b[39m'\u001b[39;49m\u001b[39mAPIKey\u001b[39;49m\u001b[39m'\u001b[39;49m, \u001b[39m'\u001b[39;49m\u001b[39mdate\u001b[39;49m\u001b[39m'\u001b[39;49m, \u001b[39m'\u001b[39;49m\u001b[39mSP\u001b[39;49m\u001b[39m'\u001b[39;49m, \u001b[39m'\u001b[39;49m\u001b[39mServiceType\u001b[39;49m\u001b[39m'\u001b[39;49m],\n\u001b[0;32m    <a href='file:///c%3A/Users/Admin/AppData/Roaming/Python/Python38/site-packages/ElexonDataPortal/api.py?line=475'>476</a>\u001b[0m         start_date\u001b[39m=\u001b[39;49mstart_date,\n\u001b[0;32m    <a href='file:///c%3A/Users/Admin/AppData/Roaming/Python/Python38/site-packages/ElexonDataPortal/api.py?line=476'>477</a>\u001b[0m         end_date\u001b[39m=\u001b[39;49mend_date,\n\u001b[0;32m    <a href='file:///c%3A/Users/Admin/AppData/Roaming/Python/Python38/site-packages/ElexonDataPortal/api.py?line=477'>478</a>\u001b[0m     )\n\u001b[0;32m    <a href='file:///c%3A/Users/Admin/AppData/Roaming/Python/Python38/site-packages/ElexonDataPortal/api.py?line=479'>480</a>\u001b[0m     \u001b[39mreturn\u001b[39;00m df\n",
      "File \u001b[1;32m~\\AppData\\Roaming\\Python\\Python38\\site-packages\\ElexonDataPortal\\dev\\orchestrator.py:411\u001b[0m, in \u001b[0;36mquery_orchestrator\u001b[1;34m(method, api_key, request_type, kwargs_map, func_params, start_date, end_date, n_attempts, **kwargs)\u001b[0m\n\u001b[0;32m    <a href='file:///c%3A/Users/Admin/AppData/Roaming/Python/Python38/site-packages/ElexonDataPortal/dev/orchestrator.py?line=407'>408</a>\u001b[0m \u001b[39massert\u001b[39;00m request_type \u001b[39min\u001b[39;00m request_type_to_func\u001b[39m.\u001b[39mkeys(), \u001b[39mf\u001b[39m\u001b[39m\"\u001b[39m\u001b[39m{\u001b[39;00mrequest_type\u001b[39m}\u001b[39;00m\u001b[39m must be one of: \u001b[39m\u001b[39m{\u001b[39;00m\u001b[39m'\u001b[39m\u001b[39m, \u001b[39m\u001b[39m'\u001b[39m\u001b[39m.\u001b[39mjoin(request_type_to_func\u001b[39m.\u001b[39mkeys())\u001b[39m}\u001b[39;00m\u001b[39m\"\u001b[39m\n\u001b[0;32m    <a href='file:///c%3A/Users/Admin/AppData/Roaming/Python/Python38/site-packages/ElexonDataPortal/dev/orchestrator.py?line=408'>409</a>\u001b[0m request_func \u001b[39m=\u001b[39m request_type_to_func[request_type]\n\u001b[1;32m--> <a href='file:///c%3A/Users/Admin/AppData/Roaming/Python/Python38/site-packages/ElexonDataPortal/dev/orchestrator.py?line=410'>411</a>\u001b[0m df \u001b[39m=\u001b[39m request_func(\n\u001b[0;32m    <a href='file:///c%3A/Users/Admin/AppData/Roaming/Python/Python38/site-packages/ElexonDataPortal/dev/orchestrator.py?line=411'>412</a>\u001b[0m     method\u001b[39m=\u001b[39;49mmethod,\n\u001b[0;32m    <a href='file:///c%3A/Users/Admin/AppData/Roaming/Python/Python38/site-packages/ElexonDataPortal/dev/orchestrator.py?line=412'>413</a>\u001b[0m     api_key\u001b[39m=\u001b[39;49mapi_key,\n\u001b[0;32m    <a href='file:///c%3A/Users/Admin/AppData/Roaming/Python/Python38/site-packages/ElexonDataPortal/dev/orchestrator.py?line=413'>414</a>\u001b[0m     n_attempts\u001b[39m=\u001b[39;49mn_attempts,\n\u001b[0;32m    <a href='file:///c%3A/Users/Admin/AppData/Roaming/Python/Python38/site-packages/ElexonDataPortal/dev/orchestrator.py?line=414'>415</a>\u001b[0m     \u001b[39m*\u001b[39;49m\u001b[39m*\u001b[39;49mkwargs\n\u001b[0;32m    <a href='file:///c%3A/Users/Admin/AppData/Roaming/Python/Python38/site-packages/ElexonDataPortal/dev/orchestrator.py?line=415'>416</a>\u001b[0m )\n\u001b[0;32m    <a href='file:///c%3A/Users/Admin/AppData/Roaming/Python/Python38/site-packages/ElexonDataPortal/dev/orchestrator.py?line=417'>418</a>\u001b[0m df \u001b[39m=\u001b[39m df\u001b[39m.\u001b[39mreset_index(drop\u001b[39m=\u001b[39m\u001b[39mTrue\u001b[39;00m)\n\u001b[0;32m    <a href='file:///c%3A/Users/Admin/AppData/Roaming/Python/Python38/site-packages/ElexonDataPortal/dev/orchestrator.py?line=419'>420</a>\u001b[0m \u001b[39mreturn\u001b[39;00m df\n",
      "File \u001b[1;32m~\\AppData\\Roaming\\Python\\Python38\\site-packages\\ElexonDataPortal\\dev\\orchestrator.py:79\u001b[0m, in \u001b[0;36mSP_and_date_request\u001b[1;34m(method, kwargs_map, func_params, api_key, start_date, end_date, n_attempts, **kwargs)\u001b[0m\n\u001b[0;32m     <a href='file:///c%3A/Users/Admin/AppData/Roaming/Python/Python38/site-packages/ElexonDataPortal/dev/orchestrator.py?line=74'>75</a>\u001b[0m     \u001b[39massert\u001b[39;00m \u001b[39mlen\u001b[39m(missing_kwargs) \u001b[39m==\u001b[39m \u001b[39m0\u001b[39m, \u001b[39mf\u001b[39m\u001b[39m\"\u001b[39m\u001b[39mThe following kwargs are missing: \u001b[39m\u001b[39m{\u001b[39;00m\u001b[39m'\u001b[39m\u001b[39m, \u001b[39m\u001b[39m'\u001b[39m\u001b[39m.\u001b[39mjoin(missing_kwargs)\u001b[39m}\u001b[39;00m\u001b[39m\"\u001b[39m\n\u001b[0;32m     <a href='file:///c%3A/Users/Admin/AppData/Roaming/Python/Python38/site-packages/ElexonDataPortal/dev/orchestrator.py?line=76'>77</a>\u001b[0m     r \u001b[39m=\u001b[39m retry_request(raw, method, kwargs, n_attempts\u001b[39m=\u001b[39mn_attempts)\n\u001b[1;32m---> <a href='file:///c%3A/Users/Admin/AppData/Roaming/Python/Python38/site-packages/ElexonDataPortal/dev/orchestrator.py?line=78'>79</a>\u001b[0m     df_SP \u001b[39m=\u001b[39m utils\u001b[39m.\u001b[39;49mparse_xml_response(r)\n\u001b[0;32m     <a href='file:///c%3A/Users/Admin/AppData/Roaming/Python/Python38/site-packages/ElexonDataPortal/dev/orchestrator.py?line=79'>80</a>\u001b[0m     df \u001b[39m=\u001b[39m df\u001b[39m.\u001b[39mappend(df_SP)\n\u001b[0;32m     <a href='file:///c%3A/Users/Admin/AppData/Roaming/Python/Python38/site-packages/ElexonDataPortal/dev/orchestrator.py?line=81'>82</a>\u001b[0m df \u001b[39m=\u001b[39m utils\u001b[39m.\u001b[39mexpand_cols(df)\n",
      "File \u001b[1;32m~\\AppData\\Roaming\\Python\\Python38\\site-packages\\ElexonDataPortal\\dev\\utils.py:85\u001b[0m, in \u001b[0;36mparse_xml_response\u001b[1;34m(r)\u001b[0m\n\u001b[0;32m     <a href='file:///c%3A/Users/Admin/AppData/Roaming/Python/Python38/site-packages/ElexonDataPortal/dev/utils.py?line=82'>83</a>\u001b[0m     df \u001b[39m=\u001b[39m pd\u001b[39m.\u001b[39mDataFrame(pd\u001b[39m.\u001b[39mSeries(data_content))\u001b[39m.\u001b[39mT\n\u001b[0;32m     <a href='file:///c%3A/Users/Admin/AppData/Roaming/Python/Python38/site-packages/ElexonDataPortal/dev/utils.py?line=83'>84</a>\u001b[0m \u001b[39melse\u001b[39;00m:\n\u001b[1;32m---> <a href='file:///c%3A/Users/Admin/AppData/Roaming/Python/Python38/site-packages/ElexonDataPortal/dev/utils.py?line=84'>85</a>\u001b[0m     \u001b[39mraise\u001b[39;00m \u001b[39mValueError\u001b[39;00m(\u001b[39m'\u001b[39m\u001b[39mThe returned `data_content` must be one of: `list` or `OrderedDict`\u001b[39m\u001b[39m'\u001b[39m)\n\u001b[0;32m     <a href='file:///c%3A/Users/Admin/AppData/Roaming/Python/Python38/site-packages/ElexonDataPortal/dev/utils.py?line=86'>87</a>\u001b[0m \u001b[39mreturn\u001b[39;00m df\n",
      "\u001b[1;31mValueError\u001b[0m: The returned `data_content` must be one of: `list` or `OrderedDict`"
     ]
    }
   ],
   "source": [
    "#Day-ahead Aggregated Generation\n",
    "df_B1430 = client.get_B1430(start_date, end_date)\n",
    "df_B1430.head(3)"
   ]
  },
  {
   "cell_type": "code",
   "execution_count": 20,
   "metadata": {},
   "outputs": [
    {
     "name": "stdout",
     "output_type": "stream",
     "text": [
      "<Response [200]>\n"
     ]
    }
   ],
   "source": [
    "# Imbalance Prices\n",
    "response_imbalance_prices = requests.get(\"\"\"https://api.bmreports.com/BMRS/B1770/v1?APIKey=52g2ac5kwwh5chc&SettlementDate=<SettlementDate>&\n",
    "Period=<Period>&ServiceType=<xml/csv>\"\"\")\n",
    "\n",
    "print(response_imbalance_prices)"
   ]
  },
  {
   "cell_type": "code",
   "execution_count": 14,
   "metadata": {},
   "outputs": [
    {
     "name": "stdout",
     "output_type": "stream",
     "text": [
      "<Response [200]>\n"
     ]
    }
   ],
   "source": [
    "#CrossBorder Balancing Volumes of Exchanged Bids and Offers\n",
    "response_crossborder_balancing_volumes = requests.get(\"\"\"https://api.bmreports.com/BMRS/B1810/<VersionNo>?APIKey=52g2ac5kwwh5chc&SettlementDate=<2014-12-31\n",
    ">&Period=<1>&ServiceType=<xml/csv>\"\"\")\n",
    "\n",
    "\n",
    "print(response_crossborder_balancing_volumes)\n",
    "\n"
   ]
  },
  {
   "cell_type": "code",
   "execution_count": null,
   "metadata": {},
   "outputs": [],
   "source": [
    "#plot the graph as it is\n",
    "#run simple linear regression with price and day (before develing into the data)\n",
    "#check for correltion and autocorrelation\n",
    "#checkforpercentage change."
   ]
  }
 ],
 "metadata": {
  "interpreter": {
   "hash": "570feb405e2e27c949193ac68f46852414290d515b0ba6e5d90d076ed2284471"
  },
  "kernelspec": {
   "display_name": "Python 3.8.2 64-bit",
   "language": "python",
   "name": "python3"
  },
  "language_info": {
   "codemirror_mode": {
    "name": "ipython",
    "version": 3
   },
   "file_extension": ".py",
   "mimetype": "text/x-python",
   "name": "python",
   "nbconvert_exporter": "python",
   "pygments_lexer": "ipython3",
   "version": "3.8.2"
  },
  "orig_nbformat": 4
 },
 "nbformat": 4,
 "nbformat_minor": 2
}
