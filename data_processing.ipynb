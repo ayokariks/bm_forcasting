{
 "cells": [
  {
   "cell_type": "code",
   "execution_count": 1,
   "metadata": {},
   "outputs": [],
   "source": [
    "#https://www.kaggle.com/code/rtatman/six-steps-to-more-professional-data-science-code/notebook\n",
    "#https://towardsdatascience.com/8-guidelines-to-create-professional-data-science-notebooks-97572894b2e5\n",
    "\n",
    "#API to use Elexon Apis better\n",
    "#https://github.com/OSUKED/ElexonDataPortal\n",
    "#https://osuked.github.io/ElexonDataPortal/08-quick-start/\n",
    "\n",
    "#https://machinelearningmastery.com/pytorch-tutorial-develop-deep-learning-models/\n"
   ]
  },
  {
   "cell_type": "code",
   "execution_count": 83,
   "metadata": {},
   "outputs": [],
   "source": [
    "from ElexonDataPortal import api\n",
    "import requests\n",
    "import pandas as pd\n",
    "import io\n",
    "from ElexonDataPortal import dev\n",
    "import seaborn as sns\n",
    "import matplotlib.pyplot as plt\n",
    "%matplotlib inline\n"
   ]
  },
  {
   "cell_type": "code",
   "execution_count": 22,
   "metadata": {},
   "outputs": [
    {
     "data": {
      "text/plain": [
       "<ElexonDataPortal.api.Client at 0x23b8a627fa0>"
      ]
     },
     "execution_count": 22,
     "metadata": {},
     "output_type": "execute_result"
    }
   ],
   "source": [
    "client = api.Client('52g2ac5kwwh5chc')\n",
    "client"
   ]
  },
  {
   "cell_type": "code",
   "execution_count": 23,
   "metadata": {},
   "outputs": [
    {
     "data": {
      "text/plain": [
       "get_B0610                  Actual Total Load per Bidding Zone\n",
       "get_B0620      Day-Ahead Total Load Forecast per Bidding Zone\n",
       "get_B0630     Week-Ahead Total Load Forecast per Bidding Zone\n",
       "get_B0640    Month-Ahead Total Load Forecast Per Bidding Zone\n",
       "get_B0650     Year Ahead Total Load Forecast per Bidding Zone\n",
       "dtype: object"
      ]
     },
     "execution_count": 23,
     "metadata": {},
     "output_type": "execute_result"
    }
   ],
   "source": [
    "pd.Series(client.methods).head()"
   ]
  },
  {
   "cell_type": "code",
   "execution_count": 68,
   "metadata": {},
   "outputs": [
    {
     "name": "stdout",
     "output_type": "stream",
     "text": [
      "\n",
      "        Aggregated Imbalance Volumes\n",
      "        \n",
      "        Parameters:\n",
      "            start_date (str)\n",
      "            end_date (str)\n",
      "        \n",
      "\n",
      "        Imbalance Prices\n",
      "        \n",
      "        Parameters:\n",
      "            start_date (str)\n",
      "            end_date (str)\n",
      "        \n",
      "\n",
      "        Cross-Border Balancing Volumes of Exchanged Bids and Offers\n",
      "        \n",
      "        Parameters:\n",
      "            start_date (str)\n",
      "            end_date (str)\n",
      "        \n"
     ]
    }
   ],
   "source": [
    "#parameters required per api call\n",
    "print(client.get_B1780.__doc__)\n",
    "print(client.get_B1770.__doc__)\n",
    "print(client.get_B1810.__doc__)\n",
    "#time period\n",
    "start_date = '2020-01-01'\n",
    "end_date = '2020-01-01 1:30'"
   ]
  },
  {
   "cell_type": "code",
   "execution_count": 29,
   "metadata": {},
   "outputs": [
    {
     "name": "stderr",
     "output_type": "stream",
     "text": [
      "B1780:   0%|          | 0/3 [00:00<?, ?it/s]\n"
     ]
    },
    {
     "ename": "ValueError",
     "evalue": "The returned `data_content` must be one of: `list` or `OrderedDict`",
     "output_type": "error",
     "traceback": [
      "\u001b[1;31m---------------------------------------------------------------------------\u001b[0m",
      "\u001b[1;31mValueError\u001b[0m                                Traceback (most recent call last)",
      "\u001b[1;32mc:\\Users\\Admin\\OneDrive\\Desktop\\esda_work\\dissertation\\bm_forcasting\\data_processing.ipynb Cell 6'\u001b[0m in \u001b[0;36m<module>\u001b[1;34m\u001b[0m\n\u001b[0;32m      <a href='vscode-notebook-cell:/c%3A/Users/Admin/OneDrive/Desktop/esda_work/dissertation/bm_forcasting/data_processing.ipynb#ch0000010?line=0'>1</a>\u001b[0m \u001b[39m#Aggregated Imbalance Volumes\u001b[39;00m\n\u001b[0;32m      <a href='vscode-notebook-cell:/c%3A/Users/Admin/OneDrive/Desktop/esda_work/dissertation/bm_forcasting/data_processing.ipynb#ch0000010?line=1'>2</a>\u001b[0m \u001b[39m# response_aggreated_imbalance_volumes = requests.get(\"\"\"https://api.bmreports.com/BMRS/B1780/<v1>?APIKey=52g2ac5kwwh5chc&SettlementDate=<2014-12-31\u001b[39;00m\n\u001b[0;32m      <a href='vscode-notebook-cell:/c%3A/Users/Admin/OneDrive/Desktop/esda_work/dissertation/bm_forcasting/data_processing.ipynb#ch0000010?line=2'>3</a>\u001b[0m \u001b[39m# >&Period=<1>&ServiceType=<xml/csv>\"\"\")\u001b[39;00m\n\u001b[1;32m----> <a href='vscode-notebook-cell:/c%3A/Users/Admin/OneDrive/Desktop/esda_work/dissertation/bm_forcasting/data_processing.ipynb#ch0000010?line=3'>4</a>\u001b[0m df_B1780 \u001b[39m=\u001b[39m client\u001b[39m.\u001b[39;49mget_B1780(start_date, end_date)\n\u001b[0;32m      <a href='vscode-notebook-cell:/c%3A/Users/Admin/OneDrive/Desktop/esda_work/dissertation/bm_forcasting/data_processing.ipynb#ch0000010?line=4'>5</a>\u001b[0m \u001b[39m#df_B1780 = list(df_B1780)\u001b[39;00m\n\u001b[0;32m      <a href='vscode-notebook-cell:/c%3A/Users/Admin/OneDrive/Desktop/esda_work/dissertation/bm_forcasting/data_processing.ipynb#ch0000010?line=5'>6</a>\u001b[0m df_B1780\u001b[39m.\u001b[39mhead(\u001b[39m3\u001b[39m)\n",
      "File \u001b[1;32m~\\AppData\\Roaming\\Python\\Python38\\site-packages\\ElexonDataPortal\\api.py:880\u001b[0m, in \u001b[0;36mClient.get_B1780\u001b[1;34m(self, start_date, end_date)\u001b[0m\n\u001b[0;32m    <a href='file:///c%3A/Users/Admin/AppData/Roaming/Python/Python38/site-packages/ElexonDataPortal/api.py?line=866'>867</a>\u001b[0m \u001b[39mdef\u001b[39;00m \u001b[39mget_B1780\u001b[39m(\n\u001b[0;32m    <a href='file:///c%3A/Users/Admin/AppData/Roaming/Python/Python38/site-packages/ElexonDataPortal/api.py?line=867'>868</a>\u001b[0m     \u001b[39mself\u001b[39m,\n\u001b[0;32m    <a href='file:///c%3A/Users/Admin/AppData/Roaming/Python/Python38/site-packages/ElexonDataPortal/api.py?line=868'>869</a>\u001b[0m     start_date: \u001b[39mstr\u001b[39m\u001b[39m=\u001b[39m\u001b[39m'\u001b[39m\u001b[39m2020-01-01\u001b[39m\u001b[39m'\u001b[39m, \n\u001b[0;32m    <a href='file:///c%3A/Users/Admin/AppData/Roaming/Python/Python38/site-packages/ElexonDataPortal/api.py?line=869'>870</a>\u001b[0m     end_date: \u001b[39mstr\u001b[39m\u001b[39m=\u001b[39m\u001b[39m'\u001b[39m\u001b[39m2020-01-01 1:30\u001b[39m\u001b[39m'\u001b[39m,\n\u001b[0;32m    <a href='file:///c%3A/Users/Admin/AppData/Roaming/Python/Python38/site-packages/ElexonDataPortal/api.py?line=870'>871</a>\u001b[0m ):\n\u001b[0;32m    <a href='file:///c%3A/Users/Admin/AppData/Roaming/Python/Python38/site-packages/ElexonDataPortal/api.py?line=871'>872</a>\u001b[0m     \u001b[39m\"\"\"\u001b[39;00m\n\u001b[0;32m    <a href='file:///c%3A/Users/Admin/AppData/Roaming/Python/Python38/site-packages/ElexonDataPortal/api.py?line=872'>873</a>\u001b[0m \u001b[39m    Aggregated Imbalance Volumes\u001b[39;00m\n\u001b[0;32m    <a href='file:///c%3A/Users/Admin/AppData/Roaming/Python/Python38/site-packages/ElexonDataPortal/api.py?line=873'>874</a>\u001b[0m \u001b[39m    \u001b[39;00m\n\u001b[1;32m   (...)\u001b[0m\n\u001b[0;32m    <a href='file:///c%3A/Users/Admin/AppData/Roaming/Python/Python38/site-packages/ElexonDataPortal/api.py?line=876'>877</a>\u001b[0m \u001b[39m        end_date (str)\u001b[39;00m\n\u001b[0;32m    <a href='file:///c%3A/Users/Admin/AppData/Roaming/Python/Python38/site-packages/ElexonDataPortal/api.py?line=877'>878</a>\u001b[0m \u001b[39m    \"\"\"\u001b[39;00m\n\u001b[1;32m--> <a href='file:///c%3A/Users/Admin/AppData/Roaming/Python/Python38/site-packages/ElexonDataPortal/api.py?line=879'>880</a>\u001b[0m     df \u001b[39m=\u001b[39m orchestrator\u001b[39m.\u001b[39;49mquery_orchestrator(\n\u001b[0;32m    <a href='file:///c%3A/Users/Admin/AppData/Roaming/Python/Python38/site-packages/ElexonDataPortal/api.py?line=880'>881</a>\u001b[0m         method\u001b[39m=\u001b[39;49m\u001b[39m'\u001b[39;49m\u001b[39mget_B1780\u001b[39;49m\u001b[39m'\u001b[39;49m,\n\u001b[0;32m    <a href='file:///c%3A/Users/Admin/AppData/Roaming/Python/Python38/site-packages/ElexonDataPortal/api.py?line=881'>882</a>\u001b[0m         api_key\u001b[39m=\u001b[39;49m\u001b[39mself\u001b[39;49m\u001b[39m.\u001b[39;49mapi_key,\n\u001b[0;32m    <a href='file:///c%3A/Users/Admin/AppData/Roaming/Python/Python38/site-packages/ElexonDataPortal/api.py?line=882'>883</a>\u001b[0m         n_attempts\u001b[39m=\u001b[39;49m\u001b[39mself\u001b[39;49m\u001b[39m.\u001b[39;49mn_retry_attempts,\n\u001b[0;32m    <a href='file:///c%3A/Users/Admin/AppData/Roaming/Python/Python38/site-packages/ElexonDataPortal/api.py?line=883'>884</a>\u001b[0m         request_type\u001b[39m=\u001b[39;49m\u001b[39m'\u001b[39;49m\u001b[39mSP_and_date\u001b[39;49m\u001b[39m'\u001b[39;49m,\n\u001b[0;32m    <a href='file:///c%3A/Users/Admin/AppData/Roaming/Python/Python38/site-packages/ElexonDataPortal/api.py?line=884'>885</a>\u001b[0m         kwargs_map\u001b[39m=\u001b[39;49m{\u001b[39m'\u001b[39;49m\u001b[39mdate\u001b[39;49m\u001b[39m'\u001b[39;49m: \u001b[39m'\u001b[39;49m\u001b[39mSettlementDate\u001b[39;49m\u001b[39m'\u001b[39;49m, \u001b[39m'\u001b[39;49m\u001b[39mSP\u001b[39;49m\u001b[39m'\u001b[39;49m: \u001b[39m'\u001b[39;49m\u001b[39mPeriod\u001b[39;49m\u001b[39m'\u001b[39;49m},\n\u001b[0;32m    <a href='file:///c%3A/Users/Admin/AppData/Roaming/Python/Python38/site-packages/ElexonDataPortal/api.py?line=885'>886</a>\u001b[0m         func_params\u001b[39m=\u001b[39;49m[\u001b[39m'\u001b[39;49m\u001b[39mAPIKey\u001b[39;49m\u001b[39m'\u001b[39;49m, \u001b[39m'\u001b[39;49m\u001b[39mdate\u001b[39;49m\u001b[39m'\u001b[39;49m, \u001b[39m'\u001b[39;49m\u001b[39mSP\u001b[39;49m\u001b[39m'\u001b[39;49m, \u001b[39m'\u001b[39;49m\u001b[39mServiceType\u001b[39;49m\u001b[39m'\u001b[39;49m],\n\u001b[0;32m    <a href='file:///c%3A/Users/Admin/AppData/Roaming/Python/Python38/site-packages/ElexonDataPortal/api.py?line=886'>887</a>\u001b[0m         start_date\u001b[39m=\u001b[39;49mstart_date,\n\u001b[0;32m    <a href='file:///c%3A/Users/Admin/AppData/Roaming/Python/Python38/site-packages/ElexonDataPortal/api.py?line=887'>888</a>\u001b[0m         end_date\u001b[39m=\u001b[39;49mend_date,\n\u001b[0;32m    <a href='file:///c%3A/Users/Admin/AppData/Roaming/Python/Python38/site-packages/ElexonDataPortal/api.py?line=888'>889</a>\u001b[0m     )\n\u001b[0;32m    <a href='file:///c%3A/Users/Admin/AppData/Roaming/Python/Python38/site-packages/ElexonDataPortal/api.py?line=890'>891</a>\u001b[0m     \u001b[39mreturn\u001b[39;00m df\n",
      "File \u001b[1;32m~\\AppData\\Roaming\\Python\\Python38\\site-packages\\ElexonDataPortal\\dev\\orchestrator.py:411\u001b[0m, in \u001b[0;36mquery_orchestrator\u001b[1;34m(method, api_key, request_type, kwargs_map, func_params, start_date, end_date, n_attempts, **kwargs)\u001b[0m\n\u001b[0;32m    <a href='file:///c%3A/Users/Admin/AppData/Roaming/Python/Python38/site-packages/ElexonDataPortal/dev/orchestrator.py?line=407'>408</a>\u001b[0m \u001b[39massert\u001b[39;00m request_type \u001b[39min\u001b[39;00m request_type_to_func\u001b[39m.\u001b[39mkeys(), \u001b[39mf\u001b[39m\u001b[39m\"\u001b[39m\u001b[39m{\u001b[39;00mrequest_type\u001b[39m}\u001b[39;00m\u001b[39m must be one of: \u001b[39m\u001b[39m{\u001b[39;00m\u001b[39m'\u001b[39m\u001b[39m, \u001b[39m\u001b[39m'\u001b[39m\u001b[39m.\u001b[39mjoin(request_type_to_func\u001b[39m.\u001b[39mkeys())\u001b[39m}\u001b[39;00m\u001b[39m\"\u001b[39m\n\u001b[0;32m    <a href='file:///c%3A/Users/Admin/AppData/Roaming/Python/Python38/site-packages/ElexonDataPortal/dev/orchestrator.py?line=408'>409</a>\u001b[0m request_func \u001b[39m=\u001b[39m request_type_to_func[request_type]\n\u001b[1;32m--> <a href='file:///c%3A/Users/Admin/AppData/Roaming/Python/Python38/site-packages/ElexonDataPortal/dev/orchestrator.py?line=410'>411</a>\u001b[0m df \u001b[39m=\u001b[39m request_func(\n\u001b[0;32m    <a href='file:///c%3A/Users/Admin/AppData/Roaming/Python/Python38/site-packages/ElexonDataPortal/dev/orchestrator.py?line=411'>412</a>\u001b[0m     method\u001b[39m=\u001b[39;49mmethod,\n\u001b[0;32m    <a href='file:///c%3A/Users/Admin/AppData/Roaming/Python/Python38/site-packages/ElexonDataPortal/dev/orchestrator.py?line=412'>413</a>\u001b[0m     api_key\u001b[39m=\u001b[39;49mapi_key,\n\u001b[0;32m    <a href='file:///c%3A/Users/Admin/AppData/Roaming/Python/Python38/site-packages/ElexonDataPortal/dev/orchestrator.py?line=413'>414</a>\u001b[0m     n_attempts\u001b[39m=\u001b[39;49mn_attempts,\n\u001b[0;32m    <a href='file:///c%3A/Users/Admin/AppData/Roaming/Python/Python38/site-packages/ElexonDataPortal/dev/orchestrator.py?line=414'>415</a>\u001b[0m     \u001b[39m*\u001b[39;49m\u001b[39m*\u001b[39;49mkwargs\n\u001b[0;32m    <a href='file:///c%3A/Users/Admin/AppData/Roaming/Python/Python38/site-packages/ElexonDataPortal/dev/orchestrator.py?line=415'>416</a>\u001b[0m )\n\u001b[0;32m    <a href='file:///c%3A/Users/Admin/AppData/Roaming/Python/Python38/site-packages/ElexonDataPortal/dev/orchestrator.py?line=417'>418</a>\u001b[0m df \u001b[39m=\u001b[39m df\u001b[39m.\u001b[39mreset_index(drop\u001b[39m=\u001b[39m\u001b[39mTrue\u001b[39;00m)\n\u001b[0;32m    <a href='file:///c%3A/Users/Admin/AppData/Roaming/Python/Python38/site-packages/ElexonDataPortal/dev/orchestrator.py?line=419'>420</a>\u001b[0m \u001b[39mreturn\u001b[39;00m df\n",
      "File \u001b[1;32m~\\AppData\\Roaming\\Python\\Python38\\site-packages\\ElexonDataPortal\\dev\\orchestrator.py:79\u001b[0m, in \u001b[0;36mSP_and_date_request\u001b[1;34m(method, kwargs_map, func_params, api_key, start_date, end_date, n_attempts, **kwargs)\u001b[0m\n\u001b[0;32m     <a href='file:///c%3A/Users/Admin/AppData/Roaming/Python/Python38/site-packages/ElexonDataPortal/dev/orchestrator.py?line=74'>75</a>\u001b[0m     \u001b[39massert\u001b[39;00m \u001b[39mlen\u001b[39m(missing_kwargs) \u001b[39m==\u001b[39m \u001b[39m0\u001b[39m, \u001b[39mf\u001b[39m\u001b[39m\"\u001b[39m\u001b[39mThe following kwargs are missing: \u001b[39m\u001b[39m{\u001b[39;00m\u001b[39m'\u001b[39m\u001b[39m, \u001b[39m\u001b[39m'\u001b[39m\u001b[39m.\u001b[39mjoin(missing_kwargs)\u001b[39m}\u001b[39;00m\u001b[39m\"\u001b[39m\n\u001b[0;32m     <a href='file:///c%3A/Users/Admin/AppData/Roaming/Python/Python38/site-packages/ElexonDataPortal/dev/orchestrator.py?line=76'>77</a>\u001b[0m     r \u001b[39m=\u001b[39m retry_request(raw, method, kwargs, n_attempts\u001b[39m=\u001b[39mn_attempts)\n\u001b[1;32m---> <a href='file:///c%3A/Users/Admin/AppData/Roaming/Python/Python38/site-packages/ElexonDataPortal/dev/orchestrator.py?line=78'>79</a>\u001b[0m     df_SP \u001b[39m=\u001b[39m utils\u001b[39m.\u001b[39;49mparse_xml_response(r)\n\u001b[0;32m     <a href='file:///c%3A/Users/Admin/AppData/Roaming/Python/Python38/site-packages/ElexonDataPortal/dev/orchestrator.py?line=79'>80</a>\u001b[0m     df \u001b[39m=\u001b[39m df\u001b[39m.\u001b[39mappend(df_SP)\n\u001b[0;32m     <a href='file:///c%3A/Users/Admin/AppData/Roaming/Python/Python38/site-packages/ElexonDataPortal/dev/orchestrator.py?line=81'>82</a>\u001b[0m df \u001b[39m=\u001b[39m utils\u001b[39m.\u001b[39mexpand_cols(df)\n",
      "File \u001b[1;32m~\\AppData\\Roaming\\Python\\Python38\\site-packages\\ElexonDataPortal\\dev\\utils.py:85\u001b[0m, in \u001b[0;36mparse_xml_response\u001b[1;34m(r)\u001b[0m\n\u001b[0;32m     <a href='file:///c%3A/Users/Admin/AppData/Roaming/Python/Python38/site-packages/ElexonDataPortal/dev/utils.py?line=82'>83</a>\u001b[0m     df \u001b[39m=\u001b[39m pd\u001b[39m.\u001b[39mDataFrame(pd\u001b[39m.\u001b[39mSeries(data_content))\u001b[39m.\u001b[39mT\n\u001b[0;32m     <a href='file:///c%3A/Users/Admin/AppData/Roaming/Python/Python38/site-packages/ElexonDataPortal/dev/utils.py?line=83'>84</a>\u001b[0m \u001b[39melse\u001b[39;00m:\n\u001b[1;32m---> <a href='file:///c%3A/Users/Admin/AppData/Roaming/Python/Python38/site-packages/ElexonDataPortal/dev/utils.py?line=84'>85</a>\u001b[0m     \u001b[39mraise\u001b[39;00m \u001b[39mValueError\u001b[39;00m(\u001b[39m'\u001b[39m\u001b[39mThe returned `data_content` must be one of: `list` or `OrderedDict`\u001b[39m\u001b[39m'\u001b[39m)\n\u001b[0;32m     <a href='file:///c%3A/Users/Admin/AppData/Roaming/Python/Python38/site-packages/ElexonDataPortal/dev/utils.py?line=86'>87</a>\u001b[0m \u001b[39mreturn\u001b[39;00m df\n",
      "\u001b[1;31mValueError\u001b[0m: The returned `data_content` must be one of: `list` or `OrderedDict`"
     ]
    }
   ],
   "source": [
    "#Aggregated Imbalance Volumes\n",
    "# response_aggreated_imbalance_volumes = requests.get(\"\"\"https://api.bmreports.com/BMRS/B1780/<v1>?APIKey=52g2ac5kwwh5chc&SettlementDate=<2014-12-31\n",
    "# >&Period=<1>&ServiceType=<xml/csv>\"\"\")\n",
    "df_B1780 = client.get_B1780(start_date, end_date)\n",
    "#df_B1780 = list(df_B1780)\n",
    "df_B1780.head(3)"
   ]
  },
  {
   "cell_type": "code",
   "execution_count": 90,
   "metadata": {},
   "outputs": [
    {
     "name": "stderr",
     "output_type": "stream",
     "text": [
      "B1770:   0%|          | 0/3 [00:00<?, ?it/s]C:\\Users\\Admin\\AppData\\Roaming\\Python\\Python38\\site-packages\\ElexonDataPortal\\dev\\orchestrator.py:80: FutureWarning: The frame.append method is deprecated and will be removed from pandas in a future version. Use pandas.concat instead.\n",
      "  df = df.append(df_SP)\n",
      "B1770:  33%|███▎      | 1/3 [00:00<00:00,  8.15it/s]C:\\Users\\Admin\\AppData\\Roaming\\Python\\Python38\\site-packages\\ElexonDataPortal\\dev\\orchestrator.py:80: FutureWarning: The frame.append method is deprecated and will be removed from pandas in a future version. Use pandas.concat instead.\n",
      "  df = df.append(df_SP)\n",
      "B1770:  67%|██████▋   | 2/3 [00:00<00:00,  5.29it/s]C:\\Users\\Admin\\AppData\\Roaming\\Python\\Python38\\site-packages\\ElexonDataPortal\\dev\\orchestrator.py:80: FutureWarning: The frame.append method is deprecated and will be removed from pandas in a future version. Use pandas.concat instead.\n",
      "  df = df.append(df_SP)\n",
      "B1770: 100%|██████████| 3/3 [00:00<00:00,  5.03it/s]\n"
     ]
    }
   ],
   "source": [
    "# Imbalance Prices\n",
    "df_B1770 = client.get_B1770(start_date, end_date)\n"
   ]
  },
  {
   "cell_type": "code",
   "execution_count": 91,
   "metadata": {},
   "outputs": [
    {
     "name": "stdout",
     "output_type": "stream",
     "text": [
      "<class 'pandas.core.frame.DataFrame'>\n",
      "RangeIndex: 6 entries, 0 to 5\n",
      "Data columns (total 16 columns):\n",
      " #   Column                   Non-Null Count  Dtype                        \n",
      "---  ------                   --------------  -----                        \n",
      " 0   local_datetime           6 non-null      datetime64[ns, Europe/London]\n",
      " 1   timeSeriesID             6 non-null      object                       \n",
      " 2   businessType             6 non-null      object                       \n",
      " 3   controlArea              6 non-null      object                       \n",
      " 4   settlementDate           6 non-null      object                       \n",
      " 5   settlementPeriod         6 non-null      int32                        \n",
      " 6   imbalancePriceAmountGBP  6 non-null      float64                      \n",
      " 7   priceCategory            6 non-null      object                       \n",
      " 8   curveType                6 non-null      object                       \n",
      " 9   resolution               6 non-null      object                       \n",
      " 10  documentType             6 non-null      object                       \n",
      " 11  processType              6 non-null      object                       \n",
      " 12  activeFlag               6 non-null      object                       \n",
      " 13  docStatus                6 non-null      object                       \n",
      " 14  documentID               6 non-null      object                       \n",
      " 15  documentRevNum           6 non-null      int32                        \n",
      "dtypes: datetime64[ns, Europe/London](1), float64(1), int32(2), object(12)\n",
      "memory usage: 848.0+ bytes\n"
     ]
    }
   ],
   "source": [
    "#check for nas no nas in the whole table \n",
    "#df_B1770.isna().sum()\n",
    "#numerical varaibles \n",
    "df_B1770['imbalancePriceAmountGBP'] = df_B1770['imbalancePriceAmountGBP'].astype('float')\n",
    "df_B1770['settlementPeriod'] = df_B1770['settlementPeriod'].astype('int')\n",
    "df_B1770['documentRevNum'] = df_B1770['documentRevNum'].astype('int')\n",
    "\n",
    "df_B1770.info()"
   ]
  },
  {
   "cell_type": "code",
   "execution_count": 92,
   "metadata": {},
   "outputs": [],
   "source": [
    "#categorical #note for the data currently got this might have just one level\n",
    "#df_B1770['priceCategory'].unique()\n",
    "df_B1770['businessType'] = df_B1770['businessType'].astype('category')\n",
    "df_B1770['activeFlag'] = df_B1770['activeFlag'].astype('category')\n",
    "df_B1770['documentType'] = df_B1770['documentType'].astype('category')\n",
    "df_B1770['processType'] = df_B1770['processType'].astype('category')\n",
    "df_B1770['docStatus'] = df_B1770['docStatus'].astype('category')\n",
    "df_B1770['curveType'] = df_B1770['curveType'].astype('category')\n",
    "df_B1770['priceCategory'] = df_B1770['priceCategory'].astype('category')\n",
    "\n",
    "\n"
   ]
  },
  {
   "cell_type": "code",
   "execution_count": 93,
   "metadata": {},
   "outputs": [],
   "source": [
    "#datetime, extract the settlement times which are every 30 mins \n",
    "#df_B1770.info()\n",
    "import datetime as dt\n",
    "df_B1770['local_time'] = pd.to_datetime(df_B1770['local_datetime'], format='%H%M').dt.time"
   ]
  },
  {
   "cell_type": "code",
   "execution_count": 89,
   "metadata": {},
   "outputs": [],
   "source": [
    "#drop local_datetime column \n",
    "df_B1770.drop(columns = ['local_datetime'], axis=1, inplace = True)"
   ]
  },
  {
   "cell_type": "code",
   "execution_count": 98,
   "metadata": {},
   "outputs": [
    {
     "data": {
      "image/png": "[encoded data removed]",
      "text/plain": [
       "<Figure size 432x288 with 1 Axes>"
      ]
     },
     "metadata": {
      "needs_background": "light"
     },
     "output_type": "display_data"
    }
   ],
   "source": [
    "#df_B1770.head()\n",
    "plt.plot( df_B1770[\"local_datetime\"], df_B1770[\"imbalancePriceAmountGBP\"] )\n",
    "plt.show()\n",
    "#plot the price as a #timeseriesgraph\n",
    "#group by settlement period and localtime\n",
    "#plot localtime against the prices"
   ]
  },
  {
   "cell_type": "code",
   "execution_count": null,
   "metadata": {},
   "outputs": [],
   "source": [
    "#EDA, brief,\n",
    "#correlation matrix\n",
    "#aroundthedependenvariable"
   ]
  },
  {
   "cell_type": "code",
   "execution_count": null,
   "metadata": {},
   "outputs": [],
   "source": [
    "#prep data for basic linear regression forcasting test on all data no train test split\n",
    "#make catvariables dummmy vaiables \n",
    "#statsmodels pacakage in pandas."
   ]
  },
  {
   "cell_type": "code",
   "execution_count": 15,
   "metadata": {},
   "outputs": [
    {
     "data": {
      "text/html": [
       "<div>\n",
       "<style scoped>\n",
       "    .dataframe tbody tr th:only-of-type {\n",
       "        vertical-align: middle;\n",
       "    }\n",
       "\n",
       "    .dataframe tbody tr th {\n",
       "        vertical-align: top;\n",
       "    }\n",
       "\n",
       "    .dataframe thead th {\n",
       "        text-align: right;\n",
       "    }\n",
       "</style>\n",
       "<table border=\"1\" class=\"dataframe\">\n",
       "  <thead>\n",
       "    <tr style=\"text-align: right;\">\n",
       "      <th></th>\n",
       "      <th>local_datetime</th>\n",
       "      <th>timeSeriesID</th>\n",
       "      <th>businessType</th>\n",
       "      <th>controlArea</th>\n",
       "      <th>settlementDate</th>\n",
       "      <th>settlementPeriod</th>\n",
       "      <th>imbalancePriceAmountGBP</th>\n",
       "      <th>priceCategory</th>\n",
       "      <th>curveType</th>\n",
       "      <th>resolution</th>\n",
       "      <th>documentType</th>\n",
       "      <th>processType</th>\n",
       "      <th>activeFlag</th>\n",
       "      <th>docStatus</th>\n",
       "      <th>documentID</th>\n",
       "      <th>documentRevNum</th>\n",
       "    </tr>\n",
       "  </thead>\n",
       "  <tbody>\n",
       "    <tr>\n",
       "      <th>0</th>\n",
       "      <td>2020-01-01 00:00:00+00:00</td>\n",
       "      <td>ELX-EMFIP-IMBP-TS-1</td>\n",
       "      <td>Balance energy deviation</td>\n",
       "      <td>10YGB----------A</td>\n",
       "      <td>2020-01-01</td>\n",
       "      <td>1</td>\n",
       "      <td>50.9</td>\n",
       "      <td>Insufficient balance</td>\n",
       "      <td>Sequential fixed size block</td>\n",
       "      <td>PT30M</td>\n",
       "      <td>Imbalance prices</td>\n",
       "      <td>Realised</td>\n",
       "      <td>Y</td>\n",
       "      <td>Final</td>\n",
       "      <td>ELX-EMFIP-IMBP-22437930</td>\n",
       "      <td>1</td>\n",
       "    </tr>\n",
       "    <tr>\n",
       "      <th>1</th>\n",
       "      <td>2020-01-01 00:00:00+00:00</td>\n",
       "      <td>ELX-EMFIP-IMBP-TS-2</td>\n",
       "      <td>Balance energy deviation</td>\n",
       "      <td>10YGB----------A</td>\n",
       "      <td>2020-01-01</td>\n",
       "      <td>1</td>\n",
       "      <td>50.9</td>\n",
       "      <td>Excess balance</td>\n",
       "      <td>Sequential fixed size block</td>\n",
       "      <td>PT30M</td>\n",
       "      <td>Imbalance prices</td>\n",
       "      <td>Realised</td>\n",
       "      <td>Y</td>\n",
       "      <td>Final</td>\n",
       "      <td>ELX-EMFIP-IMBP-22437930</td>\n",
       "      <td>1</td>\n",
       "    </tr>\n",
       "    <tr>\n",
       "      <th>2</th>\n",
       "      <td>2020-01-01 00:30:00+00:00</td>\n",
       "      <td>ELX-EMFIP-IMBP-TS-1</td>\n",
       "      <td>Balance energy deviation</td>\n",
       "      <td>10YGB----------A</td>\n",
       "      <td>2020-01-01</td>\n",
       "      <td>2</td>\n",
       "      <td>51</td>\n",
       "      <td>Insufficient balance</td>\n",
       "      <td>Sequential fixed size block</td>\n",
       "      <td>PT30M</td>\n",
       "      <td>Imbalance prices</td>\n",
       "      <td>Realised</td>\n",
       "      <td>Y</td>\n",
       "      <td>Final</td>\n",
       "      <td>ELX-EMFIP-IMBP-22438072</td>\n",
       "      <td>1</td>\n",
       "    </tr>\n",
       "  </tbody>\n",
       "</table>\n",
       "</div>"
      ],
      "text/plain": [
       "             local_datetime         timeSeriesID              businessType  \\\n",
       "0 2020-01-01 00:00:00+00:00  ELX-EMFIP-IMBP-TS-1  Balance energy deviation   \n",
       "1 2020-01-01 00:00:00+00:00  ELX-EMFIP-IMBP-TS-2  Balance energy deviation   \n",
       "2 2020-01-01 00:30:00+00:00  ELX-EMFIP-IMBP-TS-1  Balance energy deviation   \n",
       "\n",
       "        controlArea settlementDate settlementPeriod imbalancePriceAmountGBP  \\\n",
       "0  10YGB----------A     2020-01-01                1                    50.9   \n",
       "1  10YGB----------A     2020-01-01                1                    50.9   \n",
       "2  10YGB----------A     2020-01-01                2                      51   \n",
       "\n",
       "          priceCategory                    curveType resolution  \\\n",
       "0  Insufficient balance  Sequential fixed size block      PT30M   \n",
       "1        Excess balance  Sequential fixed size block      PT30M   \n",
       "2  Insufficient balance  Sequential fixed size block      PT30M   \n",
       "\n",
       "       documentType processType activeFlag docStatus               documentID  \\\n",
       "0  Imbalance prices    Realised          Y     Final  ELX-EMFIP-IMBP-22437930   \n",
       "1  Imbalance prices    Realised          Y     Final  ELX-EMFIP-IMBP-22437930   \n",
       "2  Imbalance prices    Realised          Y     Final  ELX-EMFIP-IMBP-22438072   \n",
       "\n",
       "  documentRevNum  \n",
       "0              1  \n",
       "1              1  \n",
       "2              1  "
      ]
     },
     "execution_count": 15,
     "metadata": {},
     "output_type": "execute_result"
    }
   ],
   "source": [
    "#df_B1770.head(3)\n",
    "#datacleaning and processing of price data\n",
    "\n",
    "#target variable(imbalancePriceAmountGBP)\n",
    "\n",
    "#numerical varaibles \n",
    "#stettlementPeriod\n",
    "#imbalancePriceAmountGBP\n",
    "#documentRevNum\n",
    "\n",
    "#categorical\n",
    "#priceCategory\n",
    "#curveType\n",
    "#processType\n",
    "#activeFlag\n",
    "#documentType\n",
    "#processType\n",
    "#activeFlag\n",
    "#docStatus\n",
    "\n",
    "#datetime\n",
    "#local_datetime\n",
    "#maketodatetimmeworking\n",
    "#break into day, year, hour, time\n",
    "#settlementDate, day, hr, year\n",
    "\n",
    "#string\n",
    "#resolution\n",
    "#timeSeriesID\n",
    "#controlArea\n",
    "#resolution\n",
    "#documentID\t\n",
    "\n",
    "#feature engineering #add a pct_change column\n",
    "\n",
    "#brief ESDA, check histogram of imabalanceprice, \n",
    "\n",
    "#make dummy variables, train to test set 80-20%\n",
    "\n",
    "#Linear regression and Forecasting baseline model\n",
    "\n",
    "#https://blog.paperspace.com/time-series-forecasting-regression-and-lstm/\n",
    "\n",
    "#https://www.kaggle.com/code/ryanholbrook/linear-regression-with-time-series/tutorial\n",
    "\n",
    "#https://moodle.ucl.ac.uk/pluginfile.php/4336726/mod_resource/content/0/lecture5.pdf\n"
   ]
  },
  {
   "cell_type": "code",
   "execution_count": 20,
   "metadata": {},
   "outputs": [
    {
     "name": "stderr",
     "output_type": "stream",
     "text": [
      "B1810:   0%|          | 0/3 [00:00<?, ?it/s]C:\\Users\\Admin\\AppData\\Roaming\\Python\\Python38\\site-packages\\ElexonDataPortal\\dev\\utils.py:29: UserWarning: Data request was succesful but no content was returned\n",
      "  warn(f'Data request was succesful but no content was returned')\n",
      "C:\\Users\\Admin\\AppData\\Roaming\\Python\\Python38\\site-packages\\ElexonDataPortal\\dev\\orchestrator.py:80: FutureWarning: The frame.append method is deprecated and will be removed from pandas in a future version. Use pandas.concat instead.\n",
      "  df = df.append(df_SP)\n",
      "B1810:  33%|███▎      | 1/3 [00:00<00:01,  1.58it/s]C:\\Users\\Admin\\AppData\\Roaming\\Python\\Python38\\site-packages\\ElexonDataPortal\\dev\\utils.py:29: UserWarning: Data request was succesful but no content was returned\n",
      "  warn(f'Data request was succesful but no content was returned')\n",
      "C:\\Users\\Admin\\AppData\\Roaming\\Python\\Python38\\site-packages\\ElexonDataPortal\\dev\\orchestrator.py:80: FutureWarning: The frame.append method is deprecated and will be removed from pandas in a future version. Use pandas.concat instead.\n",
      "  df = df.append(df_SP)\n",
      "B1810:  67%|██████▋   | 2/3 [00:01<00:00,  1.90it/s]C:\\Users\\Admin\\AppData\\Roaming\\Python\\Python38\\site-packages\\ElexonDataPortal\\dev\\utils.py:29: UserWarning: Data request was succesful but no content was returned\n",
      "  warn(f'Data request was succesful but no content was returned')\n",
      "C:\\Users\\Admin\\AppData\\Roaming\\Python\\Python38\\site-packages\\ElexonDataPortal\\dev\\orchestrator.py:80: FutureWarning: The frame.append method is deprecated and will be removed from pandas in a future version. Use pandas.concat instead.\n",
      "  df = df.append(df_SP)\n",
      "B1810: 100%|██████████| 3/3 [00:01<00:00,  1.68it/s]\n"
     ]
    },
    {
     "data": {
      "text/html": [
       "<div>\n",
       "<style scoped>\n",
       "    .dataframe tbody tr th:only-of-type {\n",
       "        vertical-align: middle;\n",
       "    }\n",
       "\n",
       "    .dataframe tbody tr th {\n",
       "        vertical-align: top;\n",
       "    }\n",
       "\n",
       "    .dataframe thead th {\n",
       "        text-align: right;\n",
       "    }\n",
       "</style>\n",
       "<table border=\"1\" class=\"dataframe\">\n",
       "  <thead>\n",
       "    <tr style=\"text-align: right;\">\n",
       "      <th></th>\n",
       "    </tr>\n",
       "  </thead>\n",
       "  <tbody>\n",
       "  </tbody>\n",
       "</table>\n",
       "</div>"
      ],
      "text/plain": [
       "Empty DataFrame\n",
       "Columns: []\n",
       "Index: []"
      ]
     },
     "execution_count": 20,
     "metadata": {},
     "output_type": "execute_result"
    }
   ],
   "source": [
    "#CrossBorder Balancing Volumes of Exchanged Bids and Offers\n",
    "df_B1810 = client.get_B1810(start_date, end_date)\n",
    "df_B1810.head(3)"
   ]
  },
  {
   "cell_type": "code",
   "execution_count": 19,
   "metadata": {},
   "outputs": [
    {
     "ename": "NameError",
     "evalue": "name 'df_B1810' is not defined",
     "output_type": "error",
     "traceback": [
      "\u001b[1;31m---------------------------------------------------------------------------\u001b[0m",
      "\u001b[1;31mNameError\u001b[0m                                 Traceback (most recent call last)",
      "\u001b[1;32mc:\\Users\\Admin\\OneDrive\\Desktop\\esda_work\\dissertation\\bm_forcasting\\data_processing.ipynb Cell 12'\u001b[0m in \u001b[0;36m<module>\u001b[1;34m\u001b[0m\n\u001b[0;32m      <a href='vscode-notebook-cell:/c%3A/Users/Admin/OneDrive/Desktop/esda_work/dissertation/bm_forcasting/data_processing.ipynb#ch0000018?line=0'>1</a>\u001b[0m \u001b[39m#numerical varaibles \u001b[39;00m\n\u001b[0;32m      <a href='vscode-notebook-cell:/c%3A/Users/Admin/OneDrive/Desktop/esda_work/dissertation/bm_forcasting/data_processing.ipynb#ch0000018?line=1'>2</a>\u001b[0m \u001b[39m#stettlementPeriod\u001b[39;00m\n\u001b[0;32m      <a href='vscode-notebook-cell:/c%3A/Users/Admin/OneDrive/Desktop/esda_work/dissertation/bm_forcasting/data_processing.ipynb#ch0000018?line=2'>3</a>\u001b[0m \u001b[39m#imbalancePriceAmountGBP\u001b[39;00m\n\u001b[1;32m   (...)\u001b[0m\n\u001b[0;32m     <a href='vscode-notebook-cell:/c%3A/Users/Admin/OneDrive/Desktop/esda_work/dissertation/bm_forcasting/data_processing.ipynb#ch0000018?line=11'>12</a>\u001b[0m \u001b[39m#processType\u001b[39;00m\n\u001b[0;32m     <a href='vscode-notebook-cell:/c%3A/Users/Admin/OneDrive/Desktop/esda_work/dissertation/bm_forcasting/data_processing.ipynb#ch0000018?line=12'>13</a>\u001b[0m \u001b[39m#activeFlag\u001b[39;00m\n\u001b[1;32m---> <a href='vscode-notebook-cell:/c%3A/Users/Admin/OneDrive/Desktop/esda_work/dissertation/bm_forcasting/data_processing.ipynb#ch0000018?line=14'>15</a>\u001b[0m df_B1810\u001b[39m.\u001b[39mhead(\u001b[39m3\u001b[39m)\n",
      "\u001b[1;31mNameError\u001b[0m: name 'df_B1810' is not defined"
     ]
    }
   ],
   "source": [
    "#numerical varaibles \n",
    "#stettlementPeriod\n",
    "#imbalancePriceAmountGBP\n",
    "#documentRevNum\n",
    "\n",
    "#categorical\n",
    "#priceCategory\n",
    "#curveType\n",
    "#processType\n",
    "#activeFlag\n",
    "#documentType\n",
    "#processType\n",
    "#activeFlag\n",
    "\n",
    "df_B1810.head(3)"
   ]
  },
  {
   "cell_type": "code",
   "execution_count": 31,
   "metadata": {},
   "outputs": [
    {
     "name": "stderr",
     "output_type": "stream",
     "text": [
      "B1430:   0%|          | 0/3 [00:00<?, ?it/s]\n"
     ]
    },
    {
     "ename": "ValueError",
     "evalue": "The returned `data_content` must be one of: `list` or `OrderedDict`",
     "output_type": "error",
     "traceback": [
      "\u001b[1;31m---------------------------------------------------------------------------\u001b[0m",
      "\u001b[1;31mValueError\u001b[0m                                Traceback (most recent call last)",
      "\u001b[1;32mc:\\Users\\Admin\\OneDrive\\Desktop\\esda_work\\dissertation\\bm_forcasting\\data_processing.ipynb Cell 11'\u001b[0m in \u001b[0;36m<module>\u001b[1;34m\u001b[0m\n\u001b[0;32m      <a href='vscode-notebook-cell:/c%3A/Users/Admin/OneDrive/Desktop/esda_work/dissertation/bm_forcasting/data_processing.ipynb#ch0000015?line=0'>1</a>\u001b[0m \u001b[39m#Day-ahead Aggregated Generation\u001b[39;00m\n\u001b[1;32m----> <a href='vscode-notebook-cell:/c%3A/Users/Admin/OneDrive/Desktop/esda_work/dissertation/bm_forcasting/data_processing.ipynb#ch0000015?line=1'>2</a>\u001b[0m df_B1430 \u001b[39m=\u001b[39m client\u001b[39m.\u001b[39;49mget_B1430(start_date, end_date)\n\u001b[0;32m      <a href='vscode-notebook-cell:/c%3A/Users/Admin/OneDrive/Desktop/esda_work/dissertation/bm_forcasting/data_processing.ipynb#ch0000015?line=2'>3</a>\u001b[0m df_B1430\u001b[39m.\u001b[39mhead(\u001b[39m3\u001b[39m)\n",
      "File \u001b[1;32m~\\AppData\\Roaming\\Python\\Python38\\site-packages\\ElexonDataPortal\\api.py:469\u001b[0m, in \u001b[0;36mClient.get_B1430\u001b[1;34m(self, start_date, end_date)\u001b[0m\n\u001b[0;32m    <a href='file:///c%3A/Users/Admin/AppData/Roaming/Python/Python38/site-packages/ElexonDataPortal/api.py?line=455'>456</a>\u001b[0m \u001b[39mdef\u001b[39;00m \u001b[39mget_B1430\u001b[39m(\n\u001b[0;32m    <a href='file:///c%3A/Users/Admin/AppData/Roaming/Python/Python38/site-packages/ElexonDataPortal/api.py?line=456'>457</a>\u001b[0m     \u001b[39mself\u001b[39m,\n\u001b[0;32m    <a href='file:///c%3A/Users/Admin/AppData/Roaming/Python/Python38/site-packages/ElexonDataPortal/api.py?line=457'>458</a>\u001b[0m     start_date: \u001b[39mstr\u001b[39m\u001b[39m=\u001b[39m\u001b[39m'\u001b[39m\u001b[39m2020-01-01\u001b[39m\u001b[39m'\u001b[39m, \n\u001b[0;32m    <a href='file:///c%3A/Users/Admin/AppData/Roaming/Python/Python38/site-packages/ElexonDataPortal/api.py?line=458'>459</a>\u001b[0m     end_date: \u001b[39mstr\u001b[39m\u001b[39m=\u001b[39m\u001b[39m'\u001b[39m\u001b[39m2020-01-01 1:30\u001b[39m\u001b[39m'\u001b[39m,\n\u001b[0;32m    <a href='file:///c%3A/Users/Admin/AppData/Roaming/Python/Python38/site-packages/ElexonDataPortal/api.py?line=459'>460</a>\u001b[0m ):\n\u001b[0;32m    <a href='file:///c%3A/Users/Admin/AppData/Roaming/Python/Python38/site-packages/ElexonDataPortal/api.py?line=460'>461</a>\u001b[0m     \u001b[39m\"\"\"\u001b[39;00m\n\u001b[0;32m    <a href='file:///c%3A/Users/Admin/AppData/Roaming/Python/Python38/site-packages/ElexonDataPortal/api.py?line=461'>462</a>\u001b[0m \u001b[39m    Day-Ahead Aggregated Generation\u001b[39;00m\n\u001b[0;32m    <a href='file:///c%3A/Users/Admin/AppData/Roaming/Python/Python38/site-packages/ElexonDataPortal/api.py?line=462'>463</a>\u001b[0m \u001b[39m    \u001b[39;00m\n\u001b[1;32m   (...)\u001b[0m\n\u001b[0;32m    <a href='file:///c%3A/Users/Admin/AppData/Roaming/Python/Python38/site-packages/ElexonDataPortal/api.py?line=465'>466</a>\u001b[0m \u001b[39m        end_date (str)\u001b[39;00m\n\u001b[0;32m    <a href='file:///c%3A/Users/Admin/AppData/Roaming/Python/Python38/site-packages/ElexonDataPortal/api.py?line=466'>467</a>\u001b[0m \u001b[39m    \"\"\"\u001b[39;00m\n\u001b[1;32m--> <a href='file:///c%3A/Users/Admin/AppData/Roaming/Python/Python38/site-packages/ElexonDataPortal/api.py?line=468'>469</a>\u001b[0m     df \u001b[39m=\u001b[39m orchestrator\u001b[39m.\u001b[39;49mquery_orchestrator(\n\u001b[0;32m    <a href='file:///c%3A/Users/Admin/AppData/Roaming/Python/Python38/site-packages/ElexonDataPortal/api.py?line=469'>470</a>\u001b[0m         method\u001b[39m=\u001b[39;49m\u001b[39m'\u001b[39;49m\u001b[39mget_B1430\u001b[39;49m\u001b[39m'\u001b[39;49m,\n\u001b[0;32m    <a href='file:///c%3A/Users/Admin/AppData/Roaming/Python/Python38/site-packages/ElexonDataPortal/api.py?line=470'>471</a>\u001b[0m         api_key\u001b[39m=\u001b[39;49m\u001b[39mself\u001b[39;49m\u001b[39m.\u001b[39;49mapi_key,\n\u001b[0;32m    <a href='file:///c%3A/Users/Admin/AppData/Roaming/Python/Python38/site-packages/ElexonDataPortal/api.py?line=471'>472</a>\u001b[0m         n_attempts\u001b[39m=\u001b[39;49m\u001b[39mself\u001b[39;49m\u001b[39m.\u001b[39;49mn_retry_attempts,\n\u001b[0;32m    <a href='file:///c%3A/Users/Admin/AppData/Roaming/Python/Python38/site-packages/ElexonDataPortal/api.py?line=472'>473</a>\u001b[0m         request_type\u001b[39m=\u001b[39;49m\u001b[39m'\u001b[39;49m\u001b[39mSP_and_date\u001b[39;49m\u001b[39m'\u001b[39;49m,\n\u001b[0;32m    <a href='file:///c%3A/Users/Admin/AppData/Roaming/Python/Python38/site-packages/ElexonDataPortal/api.py?line=473'>474</a>\u001b[0m         kwargs_map\u001b[39m=\u001b[39;49m{\u001b[39m'\u001b[39;49m\u001b[39mdate\u001b[39;49m\u001b[39m'\u001b[39;49m: \u001b[39m'\u001b[39;49m\u001b[39mSettlementDate\u001b[39;49m\u001b[39m'\u001b[39;49m, \u001b[39m'\u001b[39;49m\u001b[39mSP\u001b[39;49m\u001b[39m'\u001b[39;49m: \u001b[39m'\u001b[39;49m\u001b[39mPeriod\u001b[39;49m\u001b[39m'\u001b[39;49m},\n\u001b[0;32m    <a href='file:///c%3A/Users/Admin/AppData/Roaming/Python/Python38/site-packages/ElexonDataPortal/api.py?line=474'>475</a>\u001b[0m         func_params\u001b[39m=\u001b[39;49m[\u001b[39m'\u001b[39;49m\u001b[39mAPIKey\u001b[39;49m\u001b[39m'\u001b[39;49m, \u001b[39m'\u001b[39;49m\u001b[39mdate\u001b[39;49m\u001b[39m'\u001b[39;49m, \u001b[39m'\u001b[39;49m\u001b[39mSP\u001b[39;49m\u001b[39m'\u001b[39;49m, \u001b[39m'\u001b[39;49m\u001b[39mServiceType\u001b[39;49m\u001b[39m'\u001b[39;49m],\n\u001b[0;32m    <a href='file:///c%3A/Users/Admin/AppData/Roaming/Python/Python38/site-packages/ElexonDataPortal/api.py?line=475'>476</a>\u001b[0m         start_date\u001b[39m=\u001b[39;49mstart_date,\n\u001b[0;32m    <a href='file:///c%3A/Users/Admin/AppData/Roaming/Python/Python38/site-packages/ElexonDataPortal/api.py?line=476'>477</a>\u001b[0m         end_date\u001b[39m=\u001b[39;49mend_date,\n\u001b[0;32m    <a href='file:///c%3A/Users/Admin/AppData/Roaming/Python/Python38/site-packages/ElexonDataPortal/api.py?line=477'>478</a>\u001b[0m     )\n\u001b[0;32m    <a href='file:///c%3A/Users/Admin/AppData/Roaming/Python/Python38/site-packages/ElexonDataPortal/api.py?line=479'>480</a>\u001b[0m     \u001b[39mreturn\u001b[39;00m df\n",
      "File \u001b[1;32m~\\AppData\\Roaming\\Python\\Python38\\site-packages\\ElexonDataPortal\\dev\\orchestrator.py:411\u001b[0m, in \u001b[0;36mquery_orchestrator\u001b[1;34m(method, api_key, request_type, kwargs_map, func_params, start_date, end_date, n_attempts, **kwargs)\u001b[0m\n\u001b[0;32m    <a href='file:///c%3A/Users/Admin/AppData/Roaming/Python/Python38/site-packages/ElexonDataPortal/dev/orchestrator.py?line=407'>408</a>\u001b[0m \u001b[39massert\u001b[39;00m request_type \u001b[39min\u001b[39;00m request_type_to_func\u001b[39m.\u001b[39mkeys(), \u001b[39mf\u001b[39m\u001b[39m\"\u001b[39m\u001b[39m{\u001b[39;00mrequest_type\u001b[39m}\u001b[39;00m\u001b[39m must be one of: \u001b[39m\u001b[39m{\u001b[39;00m\u001b[39m'\u001b[39m\u001b[39m, \u001b[39m\u001b[39m'\u001b[39m\u001b[39m.\u001b[39mjoin(request_type_to_func\u001b[39m.\u001b[39mkeys())\u001b[39m}\u001b[39;00m\u001b[39m\"\u001b[39m\n\u001b[0;32m    <a href='file:///c%3A/Users/Admin/AppData/Roaming/Python/Python38/site-packages/ElexonDataPortal/dev/orchestrator.py?line=408'>409</a>\u001b[0m request_func \u001b[39m=\u001b[39m request_type_to_func[request_type]\n\u001b[1;32m--> <a href='file:///c%3A/Users/Admin/AppData/Roaming/Python/Python38/site-packages/ElexonDataPortal/dev/orchestrator.py?line=410'>411</a>\u001b[0m df \u001b[39m=\u001b[39m request_func(\n\u001b[0;32m    <a href='file:///c%3A/Users/Admin/AppData/Roaming/Python/Python38/site-packages/ElexonDataPortal/dev/orchestrator.py?line=411'>412</a>\u001b[0m     method\u001b[39m=\u001b[39;49mmethod,\n\u001b[0;32m    <a href='file:///c%3A/Users/Admin/AppData/Roaming/Python/Python38/site-packages/ElexonDataPortal/dev/orchestrator.py?line=412'>413</a>\u001b[0m     api_key\u001b[39m=\u001b[39;49mapi_key,\n\u001b[0;32m    <a href='file:///c%3A/Users/Admin/AppData/Roaming/Python/Python38/site-packages/ElexonDataPortal/dev/orchestrator.py?line=413'>414</a>\u001b[0m     n_attempts\u001b[39m=\u001b[39;49mn_attempts,\n\u001b[0;32m    <a href='file:///c%3A/Users/Admin/AppData/Roaming/Python/Python38/site-packages/ElexonDataPortal/dev/orchestrator.py?line=414'>415</a>\u001b[0m     \u001b[39m*\u001b[39;49m\u001b[39m*\u001b[39;49mkwargs\n\u001b[0;32m    <a href='file:///c%3A/Users/Admin/AppData/Roaming/Python/Python38/site-packages/ElexonDataPortal/dev/orchestrator.py?line=415'>416</a>\u001b[0m )\n\u001b[0;32m    <a href='file:///c%3A/Users/Admin/AppData/Roaming/Python/Python38/site-packages/ElexonDataPortal/dev/orchestrator.py?line=417'>418</a>\u001b[0m df \u001b[39m=\u001b[39m df\u001b[39m.\u001b[39mreset_index(drop\u001b[39m=\u001b[39m\u001b[39mTrue\u001b[39;00m)\n\u001b[0;32m    <a href='file:///c%3A/Users/Admin/AppData/Roaming/Python/Python38/site-packages/ElexonDataPortal/dev/orchestrator.py?line=419'>420</a>\u001b[0m \u001b[39mreturn\u001b[39;00m df\n",
      "File \u001b[1;32m~\\AppData\\Roaming\\Python\\Python38\\site-packages\\ElexonDataPortal\\dev\\orchestrator.py:79\u001b[0m, in \u001b[0;36mSP_and_date_request\u001b[1;34m(method, kwargs_map, func_params, api_key, start_date, end_date, n_attempts, **kwargs)\u001b[0m\n\u001b[0;32m     <a href='file:///c%3A/Users/Admin/AppData/Roaming/Python/Python38/site-packages/ElexonDataPortal/dev/orchestrator.py?line=74'>75</a>\u001b[0m     \u001b[39massert\u001b[39;00m \u001b[39mlen\u001b[39m(missing_kwargs) \u001b[39m==\u001b[39m \u001b[39m0\u001b[39m, \u001b[39mf\u001b[39m\u001b[39m\"\u001b[39m\u001b[39mThe following kwargs are missing: \u001b[39m\u001b[39m{\u001b[39;00m\u001b[39m'\u001b[39m\u001b[39m, \u001b[39m\u001b[39m'\u001b[39m\u001b[39m.\u001b[39mjoin(missing_kwargs)\u001b[39m}\u001b[39;00m\u001b[39m\"\u001b[39m\n\u001b[0;32m     <a href='file:///c%3A/Users/Admin/AppData/Roaming/Python/Python38/site-packages/ElexonDataPortal/dev/orchestrator.py?line=76'>77</a>\u001b[0m     r \u001b[39m=\u001b[39m retry_request(raw, method, kwargs, n_attempts\u001b[39m=\u001b[39mn_attempts)\n\u001b[1;32m---> <a href='file:///c%3A/Users/Admin/AppData/Roaming/Python/Python38/site-packages/ElexonDataPortal/dev/orchestrator.py?line=78'>79</a>\u001b[0m     df_SP \u001b[39m=\u001b[39m utils\u001b[39m.\u001b[39;49mparse_xml_response(r)\n\u001b[0;32m     <a href='file:///c%3A/Users/Admin/AppData/Roaming/Python/Python38/site-packages/ElexonDataPortal/dev/orchestrator.py?line=79'>80</a>\u001b[0m     df \u001b[39m=\u001b[39m df\u001b[39m.\u001b[39mappend(df_SP)\n\u001b[0;32m     <a href='file:///c%3A/Users/Admin/AppData/Roaming/Python/Python38/site-packages/ElexonDataPortal/dev/orchestrator.py?line=81'>82</a>\u001b[0m df \u001b[39m=\u001b[39m utils\u001b[39m.\u001b[39mexpand_cols(df)\n",
      "File \u001b[1;32m~\\AppData\\Roaming\\Python\\Python38\\site-packages\\ElexonDataPortal\\dev\\utils.py:85\u001b[0m, in \u001b[0;36mparse_xml_response\u001b[1;34m(r)\u001b[0m\n\u001b[0;32m     <a href='file:///c%3A/Users/Admin/AppData/Roaming/Python/Python38/site-packages/ElexonDataPortal/dev/utils.py?line=82'>83</a>\u001b[0m     df \u001b[39m=\u001b[39m pd\u001b[39m.\u001b[39mDataFrame(pd\u001b[39m.\u001b[39mSeries(data_content))\u001b[39m.\u001b[39mT\n\u001b[0;32m     <a href='file:///c%3A/Users/Admin/AppData/Roaming/Python/Python38/site-packages/ElexonDataPortal/dev/utils.py?line=83'>84</a>\u001b[0m \u001b[39melse\u001b[39;00m:\n\u001b[1;32m---> <a href='file:///c%3A/Users/Admin/AppData/Roaming/Python/Python38/site-packages/ElexonDataPortal/dev/utils.py?line=84'>85</a>\u001b[0m     \u001b[39mraise\u001b[39;00m \u001b[39mValueError\u001b[39;00m(\u001b[39m'\u001b[39m\u001b[39mThe returned `data_content` must be one of: `list` or `OrderedDict`\u001b[39m\u001b[39m'\u001b[39m)\n\u001b[0;32m     <a href='file:///c%3A/Users/Admin/AppData/Roaming/Python/Python38/site-packages/ElexonDataPortal/dev/utils.py?line=86'>87</a>\u001b[0m \u001b[39mreturn\u001b[39;00m df\n",
      "\u001b[1;31mValueError\u001b[0m: The returned `data_content` must be one of: `list` or `OrderedDict`"
     ]
    }
   ],
   "source": [
    "#Day-ahead Aggregated Generation\n",
    "df_B1430 = client.get_B1430(start_date, end_date)\n",
    "df_B1430.head(3)"
   ]
  },
  {
   "cell_type": "code",
   "execution_count": 20,
   "metadata": {},
   "outputs": [
    {
     "name": "stdout",
     "output_type": "stream",
     "text": [
      "<Response [200]>\n"
     ]
    }
   ],
   "source": [
    "# Imbalance Prices\n",
    "response_imbalance_prices = requests.get(\"\"\"https://api.bmreports.com/BMRS/B1770/v1?APIKey=52g2ac5kwwh5chc&SettlementDate=<SettlementDate>&\n",
    "Period=<Period>&ServiceType=<xml/csv>\"\"\")\n",
    "\n",
    "print(response_imbalance_prices)"
   ]
  },
  {
   "cell_type": "code",
   "execution_count": 14,
   "metadata": {},
   "outputs": [
    {
     "name": "stdout",
     "output_type": "stream",
     "text": [
      "<Response [200]>\n"
     ]
    }
   ],
   "source": [
    "#CrossBorder Balancing Volumes of Exchanged Bids and Offers\n",
    "response_crossborder_balancing_volumes = requests.get(\"\"\"https://api.bmreports.com/BMRS/B1810/<VersionNo>?APIKey=52g2ac5kwwh5chc&SettlementDate=<2014-12-31\n",
    ">&Period=<1>&ServiceType=<xml/csv>\"\"\")\n",
    "\n",
    "\n",
    "print(response_crossborder_balancing_volumes)\n",
    "\n"
   ]
  },
  {
   "cell_type": "code",
   "execution_count": null,
   "metadata": {},
   "outputs": [],
   "source": [
    "#plot the graph as it is\n",
    "#run simple linear regression with price and day (before develing into the data)\n",
    "#check for correltion and autocorrelation\n",
    "#checkforpercentage change."
   ]
  }
 ],
 "metadata": {
  "interpreter": {
   "hash": "570feb405e2e27c949193ac68f46852414290d515b0ba6e5d90d076ed2284471"
  },
  "kernelspec": {
   "display_name": "Python 3.8.2 64-bit",
   "language": "python",
   "name": "python3"
  },
  "language_info": {
   "codemirror_mode": {
    "name": "ipython",
    "version": 3
   },
   "file_extension": ".py",
   "mimetype": "text/x-python",
   "name": "python",
   "nbconvert_exporter": "python",
   "pygments_lexer": "ipython3",
   "version": "3.8.2"
  },
  "orig_nbformat": 4
 },
 "nbformat": 4,
 "nbformat_minor": 2
}
