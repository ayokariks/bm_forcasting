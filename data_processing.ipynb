{
 "cells": [
  {
   "cell_type": "code",
   "execution_count": 1,
   "metadata": {},
   "outputs": [],
   "source": [
    "#https://www.kaggle.com/code/rtatman/six-steps-to-more-professional-data-science-code/notebook\n",
    "#https://towardsdatascience.com/8-guidelines-to-create-professional-data-science-notebooks-97572894b2e5\n",
    "\n",
    "#API to use Elexon Apis better\n",
    "#https://github.com/OSUKED/ElexonDataPortal\n",
    "#https://osuked.github.io/ElexonDataPortal/08-quick-start/\n",
    "\n",
    "#https://machinelearningmastery.com/pytorch-tutorial-develop-deep-learning-models/\n",
    "\n",
    "#regresinon forccasting\n",
    "\n",
    "#https://blog.paperspace.com/time-series-forecasting-regression-and-lstm/\n",
    "\n",
    "#https://www.kaggle.com/code/ryanholbrook/linear-regression-with-time-series/tutorial\n",
    "\n",
    "#https://moodle.ucl.ac.uk/pluginfile.php/4336726/mod_resource/content/0/lecture5.pdf\n",
    "\n"
   ]
  },
  {
   "cell_type": "code",
   "execution_count": 2,
   "metadata": {},
   "outputs": [],
   "source": [
    "from ElexonDataPortal import api\n",
    "import pandas as pd\n",
    "import seaborn as sns\n",
    "import matplotlib.pyplot as plt\n",
    "%matplotlib inline\n"
   ]
  },
  {
   "cell_type": "markdown",
   "metadata": {},
   "source": [
    "Utilising the Elexon Data Portal API rapper to retreive data from the Elexon API."
   ]
  },
  {
   "cell_type": "code",
   "execution_count": 3,
   "metadata": {},
   "outputs": [],
   "source": [
    "client = api.Client('52g2ac5kwwh5chc')"
   ]
  },
  {
   "cell_type": "code",
   "execution_count": null,
   "metadata": {},
   "outputs": [],
   "source": [
    "#API services needed.\n",
    "\n",
    "#example of potentially \n",
    "# LOLP with five ahead-of-time values, five corresponding De-rated Margins (DRM), Settlement Periods (SP), Production, Wind and Solar Generation, NIV or Net Imbalance Volume (NetImbVol), Weekdays, Months, Day-ahead Price (Price DA) and the Initial Transmission System Demand (Itsd), or simply system load.\n",
    "\n",
    "#testing use a weeks worth of data.\n",
    "\n",
    "#prices of procured balancing reserves: B1730\n",
    "#imbalance prices: B1770\n",
    "#Aggregated Imbalance Volumes: B1780\n",
    "#potentially: Day ahead lOAD FORCAST: B0620\n",
    "#day-ahead generation: B1430\n",
    "#gneration forcast wind and solar: B1440\n",
    "#actual egenration per type: B1620\n",
    "#Actual or estimated wind and solar power generation: B1630"
   ]
  },
  {
   "cell_type": "code",
   "execution_count": 4,
   "metadata": {},
   "outputs": [
    {
     "name": "stdout",
     "output_type": "stream",
     "text": [
      "\n",
      "        Aggregated Imbalance Volumes\n",
      "        \n",
      "        Parameters:\n",
      "            start_date (str)\n",
      "            end_date (str)\n",
      "        \n",
      "\n",
      "        Imbalance Prices\n",
      "        \n",
      "        Parameters:\n",
      "            start_date (str)\n",
      "            end_date (str)\n",
      "        \n",
      "\n",
      "        Day-Ahead Total Load Forecast per Bidding Zone\n",
      "        \n",
      "        Parameters:\n",
      "            start_date (str)\n",
      "            end_date (str)\n",
      "        \n",
      "\n",
      "        Day-Ahead Aggregated Generation\n",
      "        \n",
      "        Parameters:\n",
      "            start_date (str)\n",
      "            end_date (str)\n",
      "        \n",
      "\n",
      "        Generation forecasts for Wind and Solar\n",
      "        \n",
      "        Parameters:\n",
      "            start_date (str)\n",
      "            end_date (str)\n",
      "            ProcessType (str)\n",
      "        \n",
      "\n",
      "        Actual Aggregated Generation per Type\n",
      "        \n",
      "        Parameters:\n",
      "            start_date (str)\n",
      "            end_date (str)\n",
      "        \n",
      "\n",
      "        Actual Or Estimated Wind and Solar Power Generation\n",
      "        \n",
      "        Parameters:\n",
      "            start_date (str)\n",
      "            end_date (str)\n",
      "        \n"
     ]
    }
   ],
   "source": [
    "#parameters required per api call\n",
    "print(client.get_B1780.__doc__)\n",
    "print(client.get_B1770.__doc__)\n",
    "print(client.get_B0620.__doc__)\n",
    "print(client.get_B1430.__doc__)\n",
    "print(client.get_B1440.__doc__)\n",
    "print(client.get_B1620.__doc__)\n",
    "print(client.get_B1630.__doc__)\n",
    "#time period\n",
    "start_date = '2020-01-01'\n",
    "end_date = '2020-01-01 23:30'"
   ]
  },
  {
   "cell_type": "code",
   "execution_count": null,
   "metadata": {},
   "outputs": [],
   "source": [
    "from elexon import ElexonRawClient\n",
    "\n",
    "api_test = ElexonRawClient('52g2ac5kwwh5chc') # available for free from the Elexon Portal\n",
    "\n",
    "# Actual Aggregated Generation per Type\n",
    "# Alternatively, use the general request() function by passing the endpoint in with the arguments:\n",
    "generation = api_test.request('B1780', SettlementDate = '2020-01-01', Period = '5')"
   ]
  },
  {
   "cell_type": "code",
   "execution_count": 5,
   "metadata": {},
   "outputs": [
    {
     "name": "stderr",
     "output_type": "stream",
     "text": [
      "B1780:   0%|          | 0/47 [00:00<?, ?it/s]\n"
     ]
    },
    {
     "ename": "ValueError",
     "evalue": "The returned `data_content` must be one of: `list` or `OrderedDict`",
     "output_type": "error",
     "traceback": [
      "\u001b[1;31m---------------------------------------------------------------------------\u001b[0m",
      "\u001b[1;31mValueError\u001b[0m                                Traceback (most recent call last)",
      "\u001b[1;32mc:\\Users\\Admin\\OneDrive\\Desktop\\esda_work\\dissertation\\bm_forcasting\\data_processing.ipynb Cell 7'\u001b[0m in \u001b[0;36m<module>\u001b[1;34m\u001b[0m\n\u001b[0;32m      <a href='vscode-notebook-cell:/c%3A/Users/Admin/OneDrive/Desktop/esda_work/dissertation/bm_forcasting/data_processing.ipynb#ch0000005?line=0'>1</a>\u001b[0m \u001b[39m#Aggregated Imbalance Volumes\u001b[39;00m\n\u001b[1;32m----> <a href='vscode-notebook-cell:/c%3A/Users/Admin/OneDrive/Desktop/esda_work/dissertation/bm_forcasting/data_processing.ipynb#ch0000005?line=1'>2</a>\u001b[0m df_B1780 \u001b[39m=\u001b[39m client\u001b[39m.\u001b[39;49mget_B1780(start_date, end_date)\n\u001b[0;32m      <a href='vscode-notebook-cell:/c%3A/Users/Admin/OneDrive/Desktop/esda_work/dissertation/bm_forcasting/data_processing.ipynb#ch0000005?line=2'>3</a>\u001b[0m df_B1780\n",
      "File \u001b[1;32m~\\AppData\\Roaming\\Python\\Python38\\site-packages\\ElexonDataPortal\\api.py:880\u001b[0m, in \u001b[0;36mClient.get_B1780\u001b[1;34m(self, start_date, end_date)\u001b[0m\n\u001b[0;32m    <a href='file:///c%3A/Users/Admin/AppData/Roaming/Python/Python38/site-packages/ElexonDataPortal/api.py?line=866'>867</a>\u001b[0m \u001b[39mdef\u001b[39;00m \u001b[39mget_B1780\u001b[39m(\n\u001b[0;32m    <a href='file:///c%3A/Users/Admin/AppData/Roaming/Python/Python38/site-packages/ElexonDataPortal/api.py?line=867'>868</a>\u001b[0m     \u001b[39mself\u001b[39m,\n\u001b[0;32m    <a href='file:///c%3A/Users/Admin/AppData/Roaming/Python/Python38/site-packages/ElexonDataPortal/api.py?line=868'>869</a>\u001b[0m     start_date: \u001b[39mstr\u001b[39m\u001b[39m=\u001b[39m\u001b[39m'\u001b[39m\u001b[39m2020-01-01\u001b[39m\u001b[39m'\u001b[39m, \n\u001b[0;32m    <a href='file:///c%3A/Users/Admin/AppData/Roaming/Python/Python38/site-packages/ElexonDataPortal/api.py?line=869'>870</a>\u001b[0m     end_date: \u001b[39mstr\u001b[39m\u001b[39m=\u001b[39m\u001b[39m'\u001b[39m\u001b[39m2020-01-01 1:30\u001b[39m\u001b[39m'\u001b[39m,\n\u001b[0;32m    <a href='file:///c%3A/Users/Admin/AppData/Roaming/Python/Python38/site-packages/ElexonDataPortal/api.py?line=870'>871</a>\u001b[0m ):\n\u001b[0;32m    <a href='file:///c%3A/Users/Admin/AppData/Roaming/Python/Python38/site-packages/ElexonDataPortal/api.py?line=871'>872</a>\u001b[0m     \u001b[39m\"\"\"\u001b[39;00m\n\u001b[0;32m    <a href='file:///c%3A/Users/Admin/AppData/Roaming/Python/Python38/site-packages/ElexonDataPortal/api.py?line=872'>873</a>\u001b[0m \u001b[39m    Aggregated Imbalance Volumes\u001b[39;00m\n\u001b[0;32m    <a href='file:///c%3A/Users/Admin/AppData/Roaming/Python/Python38/site-packages/ElexonDataPortal/api.py?line=873'>874</a>\u001b[0m \u001b[39m    \u001b[39;00m\n\u001b[1;32m   (...)\u001b[0m\n\u001b[0;32m    <a href='file:///c%3A/Users/Admin/AppData/Roaming/Python/Python38/site-packages/ElexonDataPortal/api.py?line=876'>877</a>\u001b[0m \u001b[39m        end_date (str)\u001b[39;00m\n\u001b[0;32m    <a href='file:///c%3A/Users/Admin/AppData/Roaming/Python/Python38/site-packages/ElexonDataPortal/api.py?line=877'>878</a>\u001b[0m \u001b[39m    \"\"\"\u001b[39;00m\n\u001b[1;32m--> <a href='file:///c%3A/Users/Admin/AppData/Roaming/Python/Python38/site-packages/ElexonDataPortal/api.py?line=879'>880</a>\u001b[0m     df \u001b[39m=\u001b[39m orchestrator\u001b[39m.\u001b[39;49mquery_orchestrator(\n\u001b[0;32m    <a href='file:///c%3A/Users/Admin/AppData/Roaming/Python/Python38/site-packages/ElexonDataPortal/api.py?line=880'>881</a>\u001b[0m         method\u001b[39m=\u001b[39;49m\u001b[39m'\u001b[39;49m\u001b[39mget_B1780\u001b[39;49m\u001b[39m'\u001b[39;49m,\n\u001b[0;32m    <a href='file:///c%3A/Users/Admin/AppData/Roaming/Python/Python38/site-packages/ElexonDataPortal/api.py?line=881'>882</a>\u001b[0m         api_key\u001b[39m=\u001b[39;49m\u001b[39mself\u001b[39;49m\u001b[39m.\u001b[39;49mapi_key,\n\u001b[0;32m    <a href='file:///c%3A/Users/Admin/AppData/Roaming/Python/Python38/site-packages/ElexonDataPortal/api.py?line=882'>883</a>\u001b[0m         n_attempts\u001b[39m=\u001b[39;49m\u001b[39mself\u001b[39;49m\u001b[39m.\u001b[39;49mn_retry_attempts,\n\u001b[0;32m    <a href='file:///c%3A/Users/Admin/AppData/Roaming/Python/Python38/site-packages/ElexonDataPortal/api.py?line=883'>884</a>\u001b[0m         request_type\u001b[39m=\u001b[39;49m\u001b[39m'\u001b[39;49m\u001b[39mSP_and_date\u001b[39;49m\u001b[39m'\u001b[39;49m,\n\u001b[0;32m    <a href='file:///c%3A/Users/Admin/AppData/Roaming/Python/Python38/site-packages/ElexonDataPortal/api.py?line=884'>885</a>\u001b[0m         kwargs_map\u001b[39m=\u001b[39;49m{\u001b[39m'\u001b[39;49m\u001b[39mdate\u001b[39;49m\u001b[39m'\u001b[39;49m: \u001b[39m'\u001b[39;49m\u001b[39mSettlementDate\u001b[39;49m\u001b[39m'\u001b[39;49m, \u001b[39m'\u001b[39;49m\u001b[39mSP\u001b[39;49m\u001b[39m'\u001b[39;49m: \u001b[39m'\u001b[39;49m\u001b[39mPeriod\u001b[39;49m\u001b[39m'\u001b[39;49m},\n\u001b[0;32m    <a href='file:///c%3A/Users/Admin/AppData/Roaming/Python/Python38/site-packages/ElexonDataPortal/api.py?line=885'>886</a>\u001b[0m         func_params\u001b[39m=\u001b[39;49m[\u001b[39m'\u001b[39;49m\u001b[39mAPIKey\u001b[39;49m\u001b[39m'\u001b[39;49m, \u001b[39m'\u001b[39;49m\u001b[39mdate\u001b[39;49m\u001b[39m'\u001b[39;49m, \u001b[39m'\u001b[39;49m\u001b[39mSP\u001b[39;49m\u001b[39m'\u001b[39;49m, \u001b[39m'\u001b[39;49m\u001b[39mServiceType\u001b[39;49m\u001b[39m'\u001b[39;49m],\n\u001b[0;32m    <a href='file:///c%3A/Users/Admin/AppData/Roaming/Python/Python38/site-packages/ElexonDataPortal/api.py?line=886'>887</a>\u001b[0m         start_date\u001b[39m=\u001b[39;49mstart_date,\n\u001b[0;32m    <a href='file:///c%3A/Users/Admin/AppData/Roaming/Python/Python38/site-packages/ElexonDataPortal/api.py?line=887'>888</a>\u001b[0m         end_date\u001b[39m=\u001b[39;49mend_date,\n\u001b[0;32m    <a href='file:///c%3A/Users/Admin/AppData/Roaming/Python/Python38/site-packages/ElexonDataPortal/api.py?line=888'>889</a>\u001b[0m     )\n\u001b[0;32m    <a href='file:///c%3A/Users/Admin/AppData/Roaming/Python/Python38/site-packages/ElexonDataPortal/api.py?line=890'>891</a>\u001b[0m     \u001b[39mreturn\u001b[39;00m df\n",
      "File \u001b[1;32m~\\AppData\\Roaming\\Python\\Python38\\site-packages\\ElexonDataPortal\\dev\\orchestrator.py:411\u001b[0m, in \u001b[0;36mquery_orchestrator\u001b[1;34m(method, api_key, request_type, kwargs_map, func_params, start_date, end_date, n_attempts, **kwargs)\u001b[0m\n\u001b[0;32m    <a href='file:///c%3A/Users/Admin/AppData/Roaming/Python/Python38/site-packages/ElexonDataPortal/dev/orchestrator.py?line=407'>408</a>\u001b[0m \u001b[39massert\u001b[39;00m request_type \u001b[39min\u001b[39;00m request_type_to_func\u001b[39m.\u001b[39mkeys(), \u001b[39mf\u001b[39m\u001b[39m\"\u001b[39m\u001b[39m{\u001b[39;00mrequest_type\u001b[39m}\u001b[39;00m\u001b[39m must be one of: \u001b[39m\u001b[39m{\u001b[39;00m\u001b[39m'\u001b[39m\u001b[39m, \u001b[39m\u001b[39m'\u001b[39m\u001b[39m.\u001b[39mjoin(request_type_to_func\u001b[39m.\u001b[39mkeys())\u001b[39m}\u001b[39;00m\u001b[39m\"\u001b[39m\n\u001b[0;32m    <a href='file:///c%3A/Users/Admin/AppData/Roaming/Python/Python38/site-packages/ElexonDataPortal/dev/orchestrator.py?line=408'>409</a>\u001b[0m request_func \u001b[39m=\u001b[39m request_type_to_func[request_type]\n\u001b[1;32m--> <a href='file:///c%3A/Users/Admin/AppData/Roaming/Python/Python38/site-packages/ElexonDataPortal/dev/orchestrator.py?line=410'>411</a>\u001b[0m df \u001b[39m=\u001b[39m request_func(\n\u001b[0;32m    <a href='file:///c%3A/Users/Admin/AppData/Roaming/Python/Python38/site-packages/ElexonDataPortal/dev/orchestrator.py?line=411'>412</a>\u001b[0m     method\u001b[39m=\u001b[39;49mmethod,\n\u001b[0;32m    <a href='file:///c%3A/Users/Admin/AppData/Roaming/Python/Python38/site-packages/ElexonDataPortal/dev/orchestrator.py?line=412'>413</a>\u001b[0m     api_key\u001b[39m=\u001b[39;49mapi_key,\n\u001b[0;32m    <a href='file:///c%3A/Users/Admin/AppData/Roaming/Python/Python38/site-packages/ElexonDataPortal/dev/orchestrator.py?line=413'>414</a>\u001b[0m     n_attempts\u001b[39m=\u001b[39;49mn_attempts,\n\u001b[0;32m    <a href='file:///c%3A/Users/Admin/AppData/Roaming/Python/Python38/site-packages/ElexonDataPortal/dev/orchestrator.py?line=414'>415</a>\u001b[0m     \u001b[39m*\u001b[39;49m\u001b[39m*\u001b[39;49mkwargs\n\u001b[0;32m    <a href='file:///c%3A/Users/Admin/AppData/Roaming/Python/Python38/site-packages/ElexonDataPortal/dev/orchestrator.py?line=415'>416</a>\u001b[0m )\n\u001b[0;32m    <a href='file:///c%3A/Users/Admin/AppData/Roaming/Python/Python38/site-packages/ElexonDataPortal/dev/orchestrator.py?line=417'>418</a>\u001b[0m df \u001b[39m=\u001b[39m df\u001b[39m.\u001b[39mreset_index(drop\u001b[39m=\u001b[39m\u001b[39mTrue\u001b[39;00m)\n\u001b[0;32m    <a href='file:///c%3A/Users/Admin/AppData/Roaming/Python/Python38/site-packages/ElexonDataPortal/dev/orchestrator.py?line=419'>420</a>\u001b[0m \u001b[39mreturn\u001b[39;00m df\n",
      "File \u001b[1;32m~\\AppData\\Roaming\\Python\\Python38\\site-packages\\ElexonDataPortal\\dev\\orchestrator.py:79\u001b[0m, in \u001b[0;36mSP_and_date_request\u001b[1;34m(method, kwargs_map, func_params, api_key, start_date, end_date, n_attempts, **kwargs)\u001b[0m\n\u001b[0;32m     <a href='file:///c%3A/Users/Admin/AppData/Roaming/Python/Python38/site-packages/ElexonDataPortal/dev/orchestrator.py?line=74'>75</a>\u001b[0m     \u001b[39massert\u001b[39;00m \u001b[39mlen\u001b[39m(missing_kwargs) \u001b[39m==\u001b[39m \u001b[39m0\u001b[39m, \u001b[39mf\u001b[39m\u001b[39m\"\u001b[39m\u001b[39mThe following kwargs are missing: \u001b[39m\u001b[39m{\u001b[39;00m\u001b[39m'\u001b[39m\u001b[39m, \u001b[39m\u001b[39m'\u001b[39m\u001b[39m.\u001b[39mjoin(missing_kwargs)\u001b[39m}\u001b[39;00m\u001b[39m\"\u001b[39m\n\u001b[0;32m     <a href='file:///c%3A/Users/Admin/AppData/Roaming/Python/Python38/site-packages/ElexonDataPortal/dev/orchestrator.py?line=76'>77</a>\u001b[0m     r \u001b[39m=\u001b[39m retry_request(raw, method, kwargs, n_attempts\u001b[39m=\u001b[39mn_attempts)\n\u001b[1;32m---> <a href='file:///c%3A/Users/Admin/AppData/Roaming/Python/Python38/site-packages/ElexonDataPortal/dev/orchestrator.py?line=78'>79</a>\u001b[0m     df_SP \u001b[39m=\u001b[39m utils\u001b[39m.\u001b[39;49mparse_xml_response(r)\n\u001b[0;32m     <a href='file:///c%3A/Users/Admin/AppData/Roaming/Python/Python38/site-packages/ElexonDataPortal/dev/orchestrator.py?line=79'>80</a>\u001b[0m     df \u001b[39m=\u001b[39m df\u001b[39m.\u001b[39mappend(df_SP)\n\u001b[0;32m     <a href='file:///c%3A/Users/Admin/AppData/Roaming/Python/Python38/site-packages/ElexonDataPortal/dev/orchestrator.py?line=81'>82</a>\u001b[0m df \u001b[39m=\u001b[39m utils\u001b[39m.\u001b[39mexpand_cols(df)\n",
      "File \u001b[1;32m~\\AppData\\Roaming\\Python\\Python38\\site-packages\\ElexonDataPortal\\dev\\utils.py:85\u001b[0m, in \u001b[0;36mparse_xml_response\u001b[1;34m(r)\u001b[0m\n\u001b[0;32m     <a href='file:///c%3A/Users/Admin/AppData/Roaming/Python/Python38/site-packages/ElexonDataPortal/dev/utils.py?line=82'>83</a>\u001b[0m     df \u001b[39m=\u001b[39m pd\u001b[39m.\u001b[39mDataFrame(pd\u001b[39m.\u001b[39mSeries(data_content))\u001b[39m.\u001b[39mT\n\u001b[0;32m     <a href='file:///c%3A/Users/Admin/AppData/Roaming/Python/Python38/site-packages/ElexonDataPortal/dev/utils.py?line=83'>84</a>\u001b[0m \u001b[39melse\u001b[39;00m:\n\u001b[1;32m---> <a href='file:///c%3A/Users/Admin/AppData/Roaming/Python/Python38/site-packages/ElexonDataPortal/dev/utils.py?line=84'>85</a>\u001b[0m     \u001b[39mraise\u001b[39;00m \u001b[39mValueError\u001b[39;00m(\u001b[39m'\u001b[39m\u001b[39mThe returned `data_content` must be one of: `list` or `OrderedDict`\u001b[39m\u001b[39m'\u001b[39m)\n\u001b[0;32m     <a href='file:///c%3A/Users/Admin/AppData/Roaming/Python/Python38/site-packages/ElexonDataPortal/dev/utils.py?line=86'>87</a>\u001b[0m \u001b[39mreturn\u001b[39;00m df\n",
      "\u001b[1;31mValueError\u001b[0m: The returned `data_content` must be one of: `list` or `OrderedDict`"
     ]
    }
   ],
   "source": [
    "#Aggregated Imbalance Volumes\n",
    "df_B1780 = client.get_B1780(start_date, end_date)\n",
    "df_B1780"
   ]
  },
  {
   "cell_type": "code",
   "execution_count": null,
   "metadata": {},
   "outputs": [],
   "source": [
    "#generation data that will be useful:\n",
    "#actual aggregated generation perType(B1620)\n",
    "#actual or estimated wind and solar power(B1630)\n",
    "#Actual Generation Output per Generation Unit(B1610)\n"
   ]
  },
  {
   "cell_type": "code",
   "execution_count": 32,
   "metadata": {},
   "outputs": [
    {
     "name": "stderr",
     "output_type": "stream",
     "text": [
      "B1770:   0%|          | 0/47 [00:00<?, ?it/s]C:\\Users\\Admin\\AppData\\Roaming\\Python\\Python38\\site-packages\\ElexonDataPortal\\dev\\orchestrator.py:80: FutureWarning:\n",
      "\n",
      "The frame.append method is deprecated and will be removed from pandas in a future version. Use pandas.concat instead.\n",
      "\n",
      "B1770:   2%|▏         | 1/47 [00:00<00:18,  2.45it/s]C:\\Users\\Admin\\AppData\\Roaming\\Python\\Python38\\site-packages\\ElexonDataPortal\\dev\\orchestrator.py:80: FutureWarning:\n",
      "\n",
      "The frame.append method is deprecated and will be removed from pandas in a future version. Use pandas.concat instead.\n",
      "\n",
      "B1770:   4%|▍         | 2/47 [00:00<00:16,  2.75it/s]C:\\Users\\Admin\\AppData\\Roaming\\Python\\Python38\\site-packages\\ElexonDataPortal\\dev\\orchestrator.py:80: FutureWarning:\n",
      "\n",
      "The frame.append method is deprecated and will be removed from pandas in a future version. Use pandas.concat instead.\n",
      "\n",
      "B1770:   6%|▋         | 3/47 [00:01<00:16,  2.72it/s]C:\\Users\\Admin\\AppData\\Roaming\\Python\\Python38\\site-packages\\ElexonDataPortal\\dev\\orchestrator.py:80: FutureWarning:\n",
      "\n",
      "The frame.append method is deprecated and will be removed from pandas in a future version. Use pandas.concat instead.\n",
      "\n",
      "B1770:   9%|▊         | 4/47 [00:01<00:14,  2.90it/s]C:\\Users\\Admin\\AppData\\Roaming\\Python\\Python38\\site-packages\\ElexonDataPortal\\dev\\orchestrator.py:80: FutureWarning:\n",
      "\n",
      "The frame.append method is deprecated and will be removed from pandas in a future version. Use pandas.concat instead.\n",
      "\n",
      "B1770:  11%|█         | 5/47 [00:01<00:14,  2.89it/s]C:\\Users\\Admin\\AppData\\Roaming\\Python\\Python38\\site-packages\\ElexonDataPortal\\dev\\orchestrator.py:80: FutureWarning:\n",
      "\n",
      "The frame.append method is deprecated and will be removed from pandas in a future version. Use pandas.concat instead.\n",
      "\n",
      "B1770:  13%|█▎        | 6/47 [00:02<00:13,  2.93it/s]C:\\Users\\Admin\\AppData\\Roaming\\Python\\Python38\\site-packages\\ElexonDataPortal\\dev\\orchestrator.py:80: FutureWarning:\n",
      "\n",
      "The frame.append method is deprecated and will be removed from pandas in a future version. Use pandas.concat instead.\n",
      "\n",
      "B1770:  15%|█▍        | 7/47 [00:02<00:14,  2.80it/s]C:\\Users\\Admin\\AppData\\Roaming\\Python\\Python38\\site-packages\\ElexonDataPortal\\dev\\orchestrator.py:80: FutureWarning:\n",
      "\n",
      "The frame.append method is deprecated and will be removed from pandas in a future version. Use pandas.concat instead.\n",
      "\n",
      "B1770:  17%|█▋        | 8/47 [00:02<00:14,  2.69it/s]C:\\Users\\Admin\\AppData\\Roaming\\Python\\Python38\\site-packages\\ElexonDataPortal\\dev\\orchestrator.py:80: FutureWarning:\n",
      "\n",
      "The frame.append method is deprecated and will be removed from pandas in a future version. Use pandas.concat instead.\n",
      "\n",
      "B1770:  19%|█▉        | 9/47 [00:03<00:13,  2.88it/s]C:\\Users\\Admin\\AppData\\Roaming\\Python\\Python38\\site-packages\\ElexonDataPortal\\dev\\orchestrator.py:80: FutureWarning:\n",
      "\n",
      "The frame.append method is deprecated and will be removed from pandas in a future version. Use pandas.concat instead.\n",
      "\n",
      "B1770:  21%|██▏       | 10/47 [00:03<00:17,  2.13it/s]C:\\Users\\Admin\\AppData\\Roaming\\Python\\Python38\\site-packages\\ElexonDataPortal\\dev\\orchestrator.py:80: FutureWarning:\n",
      "\n",
      "The frame.append method is deprecated and will be removed from pandas in a future version. Use pandas.concat instead.\n",
      "\n",
      "B1770:  23%|██▎       | 11/47 [00:04<00:15,  2.38it/s]C:\\Users\\Admin\\AppData\\Roaming\\Python\\Python38\\site-packages\\ElexonDataPortal\\dev\\orchestrator.py:80: FutureWarning:\n",
      "\n",
      "The frame.append method is deprecated and will be removed from pandas in a future version. Use pandas.concat instead.\n",
      "\n",
      "B1770:  26%|██▌       | 12/47 [00:04<00:13,  2.61it/s]C:\\Users\\Admin\\AppData\\Roaming\\Python\\Python38\\site-packages\\ElexonDataPortal\\dev\\orchestrator.py:80: FutureWarning:\n",
      "\n",
      "The frame.append method is deprecated and will be removed from pandas in a future version. Use pandas.concat instead.\n",
      "\n",
      "B1770:  28%|██▊       | 13/47 [00:04<00:12,  2.69it/s]C:\\Users\\Admin\\AppData\\Roaming\\Python\\Python38\\site-packages\\ElexonDataPortal\\dev\\orchestrator.py:80: FutureWarning:\n",
      "\n",
      "The frame.append method is deprecated and will be removed from pandas in a future version. Use pandas.concat instead.\n",
      "\n",
      "B1770:  30%|██▉       | 14/47 [00:05<00:12,  2.73it/s]C:\\Users\\Admin\\AppData\\Roaming\\Python\\Python38\\site-packages\\ElexonDataPortal\\dev\\orchestrator.py:80: FutureWarning:\n",
      "\n",
      "The frame.append method is deprecated and will be removed from pandas in a future version. Use pandas.concat instead.\n",
      "\n",
      "B1770:  32%|███▏      | 15/47 [00:06<00:21,  1.48it/s]C:\\Users\\Admin\\AppData\\Roaming\\Python\\Python38\\site-packages\\ElexonDataPortal\\dev\\orchestrator.py:80: FutureWarning:\n",
      "\n",
      "The frame.append method is deprecated and will be removed from pandas in a future version. Use pandas.concat instead.\n",
      "\n",
      "B1770:  34%|███▍      | 16/47 [00:07<00:18,  1.66it/s]C:\\Users\\Admin\\AppData\\Roaming\\Python\\Python38\\site-packages\\ElexonDataPortal\\dev\\orchestrator.py:80: FutureWarning:\n",
      "\n",
      "The frame.append method is deprecated and will be removed from pandas in a future version. Use pandas.concat instead.\n",
      "\n",
      "B1770:  36%|███▌      | 17/47 [00:07<00:15,  1.97it/s]C:\\Users\\Admin\\AppData\\Roaming\\Python\\Python38\\site-packages\\ElexonDataPortal\\dev\\orchestrator.py:80: FutureWarning:\n",
      "\n",
      "The frame.append method is deprecated and will be removed from pandas in a future version. Use pandas.concat instead.\n",
      "\n",
      "B1770:  38%|███▊      | 18/47 [00:07<00:12,  2.26it/s]C:\\Users\\Admin\\AppData\\Roaming\\Python\\Python38\\site-packages\\ElexonDataPortal\\dev\\orchestrator.py:80: FutureWarning:\n",
      "\n",
      "The frame.append method is deprecated and will be removed from pandas in a future version. Use pandas.concat instead.\n",
      "\n",
      "B1770:  40%|████      | 19/47 [00:08<00:12,  2.25it/s]C:\\Users\\Admin\\AppData\\Roaming\\Python\\Python38\\site-packages\\ElexonDataPortal\\dev\\orchestrator.py:80: FutureWarning:\n",
      "\n",
      "The frame.append method is deprecated and will be removed from pandas in a future version. Use pandas.concat instead.\n",
      "\n",
      "B1770:  43%|████▎     | 20/47 [00:08<00:10,  2.47it/s]C:\\Users\\Admin\\AppData\\Roaming\\Python\\Python38\\site-packages\\ElexonDataPortal\\dev\\orchestrator.py:80: FutureWarning:\n",
      "\n",
      "The frame.append method is deprecated and will be removed from pandas in a future version. Use pandas.concat instead.\n",
      "\n",
      "B1770:  45%|████▍     | 21/47 [00:08<00:10,  2.46it/s]C:\\Users\\Admin\\AppData\\Roaming\\Python\\Python38\\site-packages\\ElexonDataPortal\\dev\\orchestrator.py:80: FutureWarning:\n",
      "\n",
      "The frame.append method is deprecated and will be removed from pandas in a future version. Use pandas.concat instead.\n",
      "\n",
      "B1770:  47%|████▋     | 22/47 [00:09<00:09,  2.65it/s]C:\\Users\\Admin\\AppData\\Roaming\\Python\\Python38\\site-packages\\ElexonDataPortal\\dev\\orchestrator.py:80: FutureWarning:\n",
      "\n",
      "The frame.append method is deprecated and will be removed from pandas in a future version. Use pandas.concat instead.\n",
      "\n",
      "B1770:  49%|████▉     | 23/47 [00:09<00:08,  2.82it/s]C:\\Users\\Admin\\AppData\\Roaming\\Python\\Python38\\site-packages\\ElexonDataPortal\\dev\\orchestrator.py:80: FutureWarning:\n",
      "\n",
      "The frame.append method is deprecated and will be removed from pandas in a future version. Use pandas.concat instead.\n",
      "\n",
      "B1770:  51%|█████     | 24/47 [00:11<00:22,  1.00it/s]C:\\Users\\Admin\\AppData\\Roaming\\Python\\Python38\\site-packages\\ElexonDataPortal\\dev\\orchestrator.py:80: FutureWarning:\n",
      "\n",
      "The frame.append method is deprecated and will be removed from pandas in a future version. Use pandas.concat instead.\n",
      "\n",
      "B1770:  53%|█████▎    | 25/47 [00:12<00:18,  1.21it/s]C:\\Users\\Admin\\AppData\\Roaming\\Python\\Python38\\site-packages\\ElexonDataPortal\\dev\\orchestrator.py:80: FutureWarning:\n",
      "\n",
      "The frame.append method is deprecated and will be removed from pandas in a future version. Use pandas.concat instead.\n",
      "\n",
      "B1770:  55%|█████▌    | 26/47 [00:13<00:20,  1.01it/s]C:\\Users\\Admin\\AppData\\Roaming\\Python\\Python38\\site-packages\\ElexonDataPortal\\dev\\orchestrator.py:80: FutureWarning:\n",
      "\n",
      "The frame.append method is deprecated and will be removed from pandas in a future version. Use pandas.concat instead.\n",
      "\n",
      "B1770:  57%|█████▋    | 27/47 [00:14<00:16,  1.21it/s]C:\\Users\\Admin\\AppData\\Roaming\\Python\\Python38\\site-packages\\ElexonDataPortal\\dev\\orchestrator.py:80: FutureWarning:\n",
      "\n",
      "The frame.append method is deprecated and will be removed from pandas in a future version. Use pandas.concat instead.\n",
      "\n",
      "B1770:  60%|█████▉    | 28/47 [00:14<00:12,  1.50it/s]C:\\Users\\Admin\\AppData\\Roaming\\Python\\Python38\\site-packages\\ElexonDataPortal\\dev\\orchestrator.py:80: FutureWarning:\n",
      "\n",
      "The frame.append method is deprecated and will be removed from pandas in a future version. Use pandas.concat instead.\n",
      "\n",
      "B1770:  62%|██████▏   | 29/47 [00:17<00:24,  1.39s/it]C:\\Users\\Admin\\AppData\\Roaming\\Python\\Python38\\site-packages\\ElexonDataPortal\\dev\\orchestrator.py:80: FutureWarning:\n",
      "\n",
      "The frame.append method is deprecated and will be removed from pandas in a future version. Use pandas.concat instead.\n",
      "\n",
      "B1770:  64%|██████▍   | 30/47 [00:17<00:17,  1.06s/it]C:\\Users\\Admin\\AppData\\Roaming\\Python\\Python38\\site-packages\\ElexonDataPortal\\dev\\orchestrator.py:80: FutureWarning:\n",
      "\n",
      "The frame.append method is deprecated and will be removed from pandas in a future version. Use pandas.concat instead.\n",
      "\n",
      "B1770:  66%|██████▌   | 31/47 [00:25<00:48,  3.03s/it]C:\\Users\\Admin\\AppData\\Roaming\\Python\\Python38\\site-packages\\ElexonDataPortal\\dev\\orchestrator.py:80: FutureWarning:\n",
      "\n",
      "The frame.append method is deprecated and will be removed from pandas in a future version. Use pandas.concat instead.\n",
      "\n",
      "B1770:  68%|██████▊   | 32/47 [00:25<00:33,  2.21s/it]C:\\Users\\Admin\\AppData\\Roaming\\Python\\Python38\\site-packages\\ElexonDataPortal\\dev\\orchestrator.py:80: FutureWarning:\n",
      "\n",
      "The frame.append method is deprecated and will be removed from pandas in a future version. Use pandas.concat instead.\n",
      "\n",
      "B1770:  70%|███████   | 33/47 [00:26<00:23,  1.70s/it]C:\\Users\\Admin\\AppData\\Roaming\\Python\\Python38\\site-packages\\ElexonDataPortal\\dev\\orchestrator.py:80: FutureWarning:\n",
      "\n",
      "The frame.append method is deprecated and will be removed from pandas in a future version. Use pandas.concat instead.\n",
      "\n",
      "B1770:  72%|███████▏  | 34/47 [00:26<00:16,  1.30s/it]C:\\Users\\Admin\\AppData\\Roaming\\Python\\Python38\\site-packages\\ElexonDataPortal\\dev\\orchestrator.py:80: FutureWarning:\n",
      "\n",
      "The frame.append method is deprecated and will be removed from pandas in a future version. Use pandas.concat instead.\n",
      "\n",
      "B1770:  74%|███████▍  | 35/47 [00:26<00:11,  1.00it/s]C:\\Users\\Admin\\AppData\\Roaming\\Python\\Python38\\site-packages\\ElexonDataPortal\\dev\\orchestrator.py:80: FutureWarning:\n",
      "\n",
      "The frame.append method is deprecated and will be removed from pandas in a future version. Use pandas.concat instead.\n",
      "\n",
      "B1770:  77%|███████▋  | 36/47 [00:27<00:09,  1.22it/s]C:\\Users\\Admin\\AppData\\Roaming\\Python\\Python38\\site-packages\\ElexonDataPortal\\dev\\orchestrator.py:80: FutureWarning:\n",
      "\n",
      "The frame.append method is deprecated and will be removed from pandas in a future version. Use pandas.concat instead.\n",
      "\n",
      "B1770:  79%|███████▊  | 37/47 [00:27<00:06,  1.49it/s]C:\\Users\\Admin\\AppData\\Roaming\\Python\\Python38\\site-packages\\ElexonDataPortal\\dev\\orchestrator.py:80: FutureWarning:\n",
      "\n",
      "The frame.append method is deprecated and will be removed from pandas in a future version. Use pandas.concat instead.\n",
      "\n",
      "B1770:  81%|████████  | 38/47 [00:27<00:05,  1.76it/s]C:\\Users\\Admin\\AppData\\Roaming\\Python\\Python38\\site-packages\\ElexonDataPortal\\dev\\orchestrator.py:80: FutureWarning:\n",
      "\n",
      "The frame.append method is deprecated and will be removed from pandas in a future version. Use pandas.concat instead.\n",
      "\n",
      "B1770:  83%|████████▎ | 39/47 [00:28<00:04,  1.95it/s]C:\\Users\\Admin\\AppData\\Roaming\\Python\\Python38\\site-packages\\ElexonDataPortal\\dev\\orchestrator.py:80: FutureWarning:\n",
      "\n",
      "The frame.append method is deprecated and will be removed from pandas in a future version. Use pandas.concat instead.\n",
      "\n",
      "B1770:  85%|████████▌ | 40/47 [00:28<00:03,  2.10it/s]C:\\Users\\Admin\\AppData\\Roaming\\Python\\Python38\\site-packages\\ElexonDataPortal\\dev\\orchestrator.py:80: FutureWarning:\n",
      "\n",
      "The frame.append method is deprecated and will be removed from pandas in a future version. Use pandas.concat instead.\n",
      "\n",
      "B1770:  87%|████████▋ | 41/47 [00:29<00:02,  2.37it/s]C:\\Users\\Admin\\AppData\\Roaming\\Python\\Python38\\site-packages\\ElexonDataPortal\\dev\\orchestrator.py:80: FutureWarning:\n",
      "\n",
      "The frame.append method is deprecated and will be removed from pandas in a future version. Use pandas.concat instead.\n",
      "\n",
      "B1770:  89%|████████▉ | 42/47 [00:29<00:01,  2.54it/s]C:\\Users\\Admin\\AppData\\Roaming\\Python\\Python38\\site-packages\\ElexonDataPortal\\dev\\orchestrator.py:80: FutureWarning:\n",
      "\n",
      "The frame.append method is deprecated and will be removed from pandas in a future version. Use pandas.concat instead.\n",
      "\n",
      "B1770:  91%|█████████▏| 43/47 [00:29<00:01,  2.75it/s]C:\\Users\\Admin\\AppData\\Roaming\\Python\\Python38\\site-packages\\ElexonDataPortal\\dev\\orchestrator.py:80: FutureWarning:\n",
      "\n",
      "The frame.append method is deprecated and will be removed from pandas in a future version. Use pandas.concat instead.\n",
      "\n",
      "B1770:  94%|█████████▎| 44/47 [00:30<00:01,  2.67it/s]C:\\Users\\Admin\\AppData\\Roaming\\Python\\Python38\\site-packages\\ElexonDataPortal\\dev\\orchestrator.py:80: FutureWarning:\n",
      "\n",
      "The frame.append method is deprecated and will be removed from pandas in a future version. Use pandas.concat instead.\n",
      "\n",
      "B1770:  96%|█████████▌| 45/47 [00:30<00:00,  2.79it/s]C:\\Users\\Admin\\AppData\\Roaming\\Python\\Python38\\site-packages\\ElexonDataPortal\\dev\\orchestrator.py:80: FutureWarning:\n",
      "\n",
      "The frame.append method is deprecated and will be removed from pandas in a future version. Use pandas.concat instead.\n",
      "\n",
      "B1770:  98%|█████████▊| 46/47 [00:30<00:00,  2.90it/s]C:\\Users\\Admin\\AppData\\Roaming\\Python\\Python38\\site-packages\\ElexonDataPortal\\dev\\orchestrator.py:80: FutureWarning:\n",
      "\n",
      "The frame.append method is deprecated and will be removed from pandas in a future version. Use pandas.concat instead.\n",
      "\n",
      "B1770: 100%|██████████| 47/47 [00:31<00:00,  1.51it/s]\n"
     ]
    },
    {
     "data": {
      "text/html": [
       "<div>\n",
       "<style scoped>\n",
       "    .dataframe tbody tr th:only-of-type {\n",
       "        vertical-align: middle;\n",
       "    }\n",
       "\n",
       "    .dataframe tbody tr th {\n",
       "        vertical-align: top;\n",
       "    }\n",
       "\n",
       "    .dataframe thead th {\n",
       "        text-align: right;\n",
       "    }\n",
       "</style>\n",
       "<table border=\"1\" class=\"dataframe\">\n",
       "  <thead>\n",
       "    <tr style=\"text-align: right;\">\n",
       "      <th></th>\n",
       "      <th>local_datetime</th>\n",
       "      <th>timeSeriesID</th>\n",
       "      <th>businessType</th>\n",
       "      <th>controlArea</th>\n",
       "      <th>settlementDate</th>\n",
       "      <th>settlementPeriod</th>\n",
       "      <th>imbalancePriceAmountGBP</th>\n",
       "      <th>priceCategory</th>\n",
       "      <th>curveType</th>\n",
       "      <th>resolution</th>\n",
       "      <th>documentType</th>\n",
       "      <th>processType</th>\n",
       "      <th>activeFlag</th>\n",
       "      <th>docStatus</th>\n",
       "      <th>documentID</th>\n",
       "      <th>documentRevNum</th>\n",
       "    </tr>\n",
       "  </thead>\n",
       "  <tbody>\n",
       "    <tr>\n",
       "      <th>0</th>\n",
       "      <td>2020-01-01 00:00:00+00:00</td>\n",
       "      <td>ELX-EMFIP-IMBP-TS-1</td>\n",
       "      <td>Balance energy deviation</td>\n",
       "      <td>10YGB----------A</td>\n",
       "      <td>2020-01-01</td>\n",
       "      <td>1</td>\n",
       "      <td>50.9</td>\n",
       "      <td>Insufficient balance</td>\n",
       "      <td>Sequential fixed size block</td>\n",
       "      <td>PT30M</td>\n",
       "      <td>Imbalance prices</td>\n",
       "      <td>Realised</td>\n",
       "      <td>Y</td>\n",
       "      <td>Final</td>\n",
       "      <td>ELX-EMFIP-IMBP-22437930</td>\n",
       "      <td>1</td>\n",
       "    </tr>\n",
       "    <tr>\n",
       "      <th>1</th>\n",
       "      <td>2020-01-01 00:00:00+00:00</td>\n",
       "      <td>ELX-EMFIP-IMBP-TS-2</td>\n",
       "      <td>Balance energy deviation</td>\n",
       "      <td>10YGB----------A</td>\n",
       "      <td>2020-01-01</td>\n",
       "      <td>1</td>\n",
       "      <td>50.9</td>\n",
       "      <td>Excess balance</td>\n",
       "      <td>Sequential fixed size block</td>\n",
       "      <td>PT30M</td>\n",
       "      <td>Imbalance prices</td>\n",
       "      <td>Realised</td>\n",
       "      <td>Y</td>\n",
       "      <td>Final</td>\n",
       "      <td>ELX-EMFIP-IMBP-22437930</td>\n",
       "      <td>1</td>\n",
       "    </tr>\n",
       "    <tr>\n",
       "      <th>2</th>\n",
       "      <td>2020-01-01 00:30:00+00:00</td>\n",
       "      <td>ELX-EMFIP-IMBP-TS-1</td>\n",
       "      <td>Balance energy deviation</td>\n",
       "      <td>10YGB----------A</td>\n",
       "      <td>2020-01-01</td>\n",
       "      <td>2</td>\n",
       "      <td>51</td>\n",
       "      <td>Insufficient balance</td>\n",
       "      <td>Sequential fixed size block</td>\n",
       "      <td>PT30M</td>\n",
       "      <td>Imbalance prices</td>\n",
       "      <td>Realised</td>\n",
       "      <td>Y</td>\n",
       "      <td>Final</td>\n",
       "      <td>ELX-EMFIP-IMBP-22438072</td>\n",
       "      <td>1</td>\n",
       "    </tr>\n",
       "    <tr>\n",
       "      <th>3</th>\n",
       "      <td>2020-01-01 00:30:00+00:00</td>\n",
       "      <td>ELX-EMFIP-IMBP-TS-2</td>\n",
       "      <td>Balance energy deviation</td>\n",
       "      <td>10YGB----------A</td>\n",
       "      <td>2020-01-01</td>\n",
       "      <td>2</td>\n",
       "      <td>51</td>\n",
       "      <td>Excess balance</td>\n",
       "      <td>Sequential fixed size block</td>\n",
       "      <td>PT30M</td>\n",
       "      <td>Imbalance prices</td>\n",
       "      <td>Realised</td>\n",
       "      <td>Y</td>\n",
       "      <td>Final</td>\n",
       "      <td>ELX-EMFIP-IMBP-22438072</td>\n",
       "      <td>1</td>\n",
       "    </tr>\n",
       "    <tr>\n",
       "      <th>4</th>\n",
       "      <td>2020-01-01 01:00:00+00:00</td>\n",
       "      <td>ELX-EMFIP-IMBP-TS-1</td>\n",
       "      <td>Balance energy deviation</td>\n",
       "      <td>10YGB----------A</td>\n",
       "      <td>2020-01-01</td>\n",
       "      <td>3</td>\n",
       "      <td>29.37006</td>\n",
       "      <td>Insufficient balance</td>\n",
       "      <td>Sequential fixed size block</td>\n",
       "      <td>PT30M</td>\n",
       "      <td>Imbalance prices</td>\n",
       "      <td>Realised</td>\n",
       "      <td>Y</td>\n",
       "      <td>Final</td>\n",
       "      <td>ELX-EMFIP-IMBP-22438191</td>\n",
       "      <td>1</td>\n",
       "    </tr>\n",
       "  </tbody>\n",
       "</table>\n",
       "</div>"
      ],
      "text/plain": [
       "             local_datetime         timeSeriesID              businessType  \\\n",
       "0 2020-01-01 00:00:00+00:00  ELX-EMFIP-IMBP-TS-1  Balance energy deviation   \n",
       "1 2020-01-01 00:00:00+00:00  ELX-EMFIP-IMBP-TS-2  Balance energy deviation   \n",
       "2 2020-01-01 00:30:00+00:00  ELX-EMFIP-IMBP-TS-1  Balance energy deviation   \n",
       "3 2020-01-01 00:30:00+00:00  ELX-EMFIP-IMBP-TS-2  Balance energy deviation   \n",
       "4 2020-01-01 01:00:00+00:00  ELX-EMFIP-IMBP-TS-1  Balance energy deviation   \n",
       "\n",
       "        controlArea settlementDate settlementPeriod imbalancePriceAmountGBP  \\\n",
       "0  10YGB----------A     2020-01-01                1                    50.9   \n",
       "1  10YGB----------A     2020-01-01                1                    50.9   \n",
       "2  10YGB----------A     2020-01-01                2                      51   \n",
       "3  10YGB----------A     2020-01-01                2                      51   \n",
       "4  10YGB----------A     2020-01-01                3                29.37006   \n",
       "\n",
       "          priceCategory                    curveType resolution  \\\n",
       "0  Insufficient balance  Sequential fixed size block      PT30M   \n",
       "1        Excess balance  Sequential fixed size block      PT30M   \n",
       "2  Insufficient balance  Sequential fixed size block      PT30M   \n",
       "3        Excess balance  Sequential fixed size block      PT30M   \n",
       "4  Insufficient balance  Sequential fixed size block      PT30M   \n",
       "\n",
       "       documentType processType activeFlag docStatus               documentID  \\\n",
       "0  Imbalance prices    Realised          Y     Final  ELX-EMFIP-IMBP-22437930   \n",
       "1  Imbalance prices    Realised          Y     Final  ELX-EMFIP-IMBP-22437930   \n",
       "2  Imbalance prices    Realised          Y     Final  ELX-EMFIP-IMBP-22438072   \n",
       "3  Imbalance prices    Realised          Y     Final  ELX-EMFIP-IMBP-22438072   \n",
       "4  Imbalance prices    Realised          Y     Final  ELX-EMFIP-IMBP-22438191   \n",
       "\n",
       "  documentRevNum  \n",
       "0              1  \n",
       "1              1  \n",
       "2              1  \n",
       "3              1  \n",
       "4              1  "
      ]
     },
     "execution_count": 32,
     "metadata": {},
     "output_type": "execute_result"
    }
   ],
   "source": [
    "# Imbalance Prices\n",
    "df_B1770 = client.get_B1770(start_date, end_date)\n",
    "df_B1770.head()\n"
   ]
  },
  {
   "cell_type": "code",
   "execution_count": 15,
   "metadata": {},
   "outputs": [
    {
     "name": "stdout",
     "output_type": "stream",
     "text": [
      "<class 'pandas.core.frame.DataFrame'>\n",
      "RangeIndex: 94 entries, 0 to 93\n",
      "Data columns (total 16 columns):\n",
      " #   Column                   Non-Null Count  Dtype                        \n",
      "---  ------                   --------------  -----                        \n",
      " 0   local_datetime           94 non-null     datetime64[ns, Europe/London]\n",
      " 1   timeSeriesID             94 non-null     object                       \n",
      " 2   businessType             94 non-null     object                       \n",
      " 3   controlArea              94 non-null     object                       \n",
      " 4   settlementDate           94 non-null     object                       \n",
      " 5   settlementPeriod         94 non-null     int32                        \n",
      " 6   imbalancePriceAmountGBP  94 non-null     float64                      \n",
      " 7   priceCategory            94 non-null     object                       \n",
      " 8   curveType                94 non-null     object                       \n",
      " 9   resolution               94 non-null     object                       \n",
      " 10  documentType             94 non-null     object                       \n",
      " 11  processType              94 non-null     object                       \n",
      " 12  activeFlag               94 non-null     object                       \n",
      " 13  docStatus                94 non-null     object                       \n",
      " 14  documentID               94 non-null     object                       \n",
      " 15  documentRevNum           94 non-null     int32                        \n",
      "dtypes: datetime64[ns, Europe/London](1), float64(1), int32(2), object(12)\n",
      "memory usage: 11.1+ KB\n"
     ]
    }
   ],
   "source": [
    "#check for nas no nas in the whole table \n",
    "#df_B1770.isna().sum()\n",
    "#numerical varaibles \n",
    "df_B1770['imbalancePriceAmountGBP'] = df_B1770['imbalancePriceAmountGBP'].astype('float')\n",
    "df_B1770['settlementPeriod'] = df_B1770['settlementPeriod'].astype('int')\n",
    "df_B1770['documentRevNum'] = df_B1770['documentRevNum'].astype('int')\n",
    "\n",
    "df_B1770.info()"
   ]
  },
  {
   "cell_type": "code",
   "execution_count": 16,
   "metadata": {},
   "outputs": [],
   "source": [
    "#categorical #note for the data currently got this might have just one level\n",
    "#df_B1770['priceCategory'].unique()\n",
    "df_B1770['businessType'] = df_B1770['businessType'].astype('category')\n",
    "df_B1770['activeFlag'] = df_B1770['activeFlag'].astype('category')\n",
    "df_B1770['documentType'] = df_B1770['documentType'].astype('category')\n",
    "df_B1770['processType'] = df_B1770['processType'].astype('category')\n",
    "df_B1770['docStatus'] = df_B1770['docStatus'].astype('category')\n",
    "df_B1770['curveType'] = df_B1770['curveType'].astype('category')\n",
    "df_B1770['priceCategory'] = df_B1770['priceCategory'].astype('category')\n",
    "\n",
    "\n"
   ]
  },
  {
   "cell_type": "code",
   "execution_count": 17,
   "metadata": {},
   "outputs": [],
   "source": [
    "#datetime, extract the settlement times which are every 30 mins \n",
    "#df_B1770.info()\n",
    "import datetime as dt\n",
    "df_B1770['local_time'] = pd.to_datetime(df_B1770['local_datetime'], format='%H%M').dt.time\n",
    "df_B1770 ['Year'] = df_B1770.local_datetime.dt.year\n",
    "df_B1770 ['Month'] = df_B1770.local_datetime.dt.month\n",
    "df_B1770 ['Day'] = df_B1770.local_datetime.dt.day\n",
    "df_B1770 ['Hour'] = df_B1770.local_datetime.dt.hour\n",
    "df_B1770 ['Minute'] = df_B1770.local_datetime.dt.minute\n"
   ]
  },
  {
   "cell_type": "code",
   "execution_count": 8,
   "metadata": {},
   "outputs": [
    {
     "data": {
      "text/html": [
       "<div>\n",
       "<style scoped>\n",
       "    .dataframe tbody tr th:only-of-type {\n",
       "        vertical-align: middle;\n",
       "    }\n",
       "\n",
       "    .dataframe tbody tr th {\n",
       "        vertical-align: top;\n",
       "    }\n",
       "\n",
       "    .dataframe thead th {\n",
       "        text-align: right;\n",
       "    }\n",
       "</style>\n",
       "<table border=\"1\" class=\"dataframe\">\n",
       "  <thead>\n",
       "    <tr style=\"text-align: right;\">\n",
       "      <th></th>\n",
       "      <th>local_datetime</th>\n",
       "      <th>timeSeriesID</th>\n",
       "      <th>businessType</th>\n",
       "      <th>controlArea</th>\n",
       "      <th>settlementDate</th>\n",
       "      <th>settlementPeriod</th>\n",
       "      <th>imbalancePriceAmountGBP</th>\n",
       "      <th>priceCategory</th>\n",
       "      <th>curveType</th>\n",
       "      <th>resolution</th>\n",
       "      <th>...</th>\n",
       "      <th>activeFlag</th>\n",
       "      <th>docStatus</th>\n",
       "      <th>documentID</th>\n",
       "      <th>documentRevNum</th>\n",
       "      <th>local_time</th>\n",
       "      <th>Year</th>\n",
       "      <th>Month</th>\n",
       "      <th>Day</th>\n",
       "      <th>Hour</th>\n",
       "      <th>Minute</th>\n",
       "    </tr>\n",
       "  </thead>\n",
       "  <tbody>\n",
       "    <tr>\n",
       "      <th>0</th>\n",
       "      <td>2020-01-01 00:00:00+00:00</td>\n",
       "      <td>ELX-EMFIP-IMBP-TS-1</td>\n",
       "      <td>Balance energy deviation</td>\n",
       "      <td>10YGB----------A</td>\n",
       "      <td>2020-01-01</td>\n",
       "      <td>1</td>\n",
       "      <td>50.9</td>\n",
       "      <td>Insufficient balance</td>\n",
       "      <td>Sequential fixed size block</td>\n",
       "      <td>PT30M</td>\n",
       "      <td>...</td>\n",
       "      <td>Y</td>\n",
       "      <td>Final</td>\n",
       "      <td>ELX-EMFIP-IMBP-22437930</td>\n",
       "      <td>1</td>\n",
       "      <td>00:00:00</td>\n",
       "      <td>2020</td>\n",
       "      <td>1</td>\n",
       "      <td>1</td>\n",
       "      <td>0</td>\n",
       "      <td>0</td>\n",
       "    </tr>\n",
       "    <tr>\n",
       "      <th>1</th>\n",
       "      <td>2020-01-01 00:00:00+00:00</td>\n",
       "      <td>ELX-EMFIP-IMBP-TS-2</td>\n",
       "      <td>Balance energy deviation</td>\n",
       "      <td>10YGB----------A</td>\n",
       "      <td>2020-01-01</td>\n",
       "      <td>1</td>\n",
       "      <td>50.9</td>\n",
       "      <td>Excess balance</td>\n",
       "      <td>Sequential fixed size block</td>\n",
       "      <td>PT30M</td>\n",
       "      <td>...</td>\n",
       "      <td>Y</td>\n",
       "      <td>Final</td>\n",
       "      <td>ELX-EMFIP-IMBP-22437930</td>\n",
       "      <td>1</td>\n",
       "      <td>00:00:00</td>\n",
       "      <td>2020</td>\n",
       "      <td>1</td>\n",
       "      <td>1</td>\n",
       "      <td>0</td>\n",
       "      <td>0</td>\n",
       "    </tr>\n",
       "    <tr>\n",
       "      <th>2</th>\n",
       "      <td>2020-01-01 00:30:00+00:00</td>\n",
       "      <td>ELX-EMFIP-IMBP-TS-1</td>\n",
       "      <td>Balance energy deviation</td>\n",
       "      <td>10YGB----------A</td>\n",
       "      <td>2020-01-01</td>\n",
       "      <td>2</td>\n",
       "      <td>51</td>\n",
       "      <td>Insufficient balance</td>\n",
       "      <td>Sequential fixed size block</td>\n",
       "      <td>PT30M</td>\n",
       "      <td>...</td>\n",
       "      <td>Y</td>\n",
       "      <td>Final</td>\n",
       "      <td>ELX-EMFIP-IMBP-22438072</td>\n",
       "      <td>1</td>\n",
       "      <td>00:30:00</td>\n",
       "      <td>2020</td>\n",
       "      <td>1</td>\n",
       "      <td>1</td>\n",
       "      <td>0</td>\n",
       "      <td>30</td>\n",
       "    </tr>\n",
       "    <tr>\n",
       "      <th>3</th>\n",
       "      <td>2020-01-01 00:30:00+00:00</td>\n",
       "      <td>ELX-EMFIP-IMBP-TS-2</td>\n",
       "      <td>Balance energy deviation</td>\n",
       "      <td>10YGB----------A</td>\n",
       "      <td>2020-01-01</td>\n",
       "      <td>2</td>\n",
       "      <td>51</td>\n",
       "      <td>Excess balance</td>\n",
       "      <td>Sequential fixed size block</td>\n",
       "      <td>PT30M</td>\n",
       "      <td>...</td>\n",
       "      <td>Y</td>\n",
       "      <td>Final</td>\n",
       "      <td>ELX-EMFIP-IMBP-22438072</td>\n",
       "      <td>1</td>\n",
       "      <td>00:30:00</td>\n",
       "      <td>2020</td>\n",
       "      <td>1</td>\n",
       "      <td>1</td>\n",
       "      <td>0</td>\n",
       "      <td>30</td>\n",
       "    </tr>\n",
       "    <tr>\n",
       "      <th>4</th>\n",
       "      <td>2020-01-01 01:00:00+00:00</td>\n",
       "      <td>ELX-EMFIP-IMBP-TS-1</td>\n",
       "      <td>Balance energy deviation</td>\n",
       "      <td>10YGB----------A</td>\n",
       "      <td>2020-01-01</td>\n",
       "      <td>3</td>\n",
       "      <td>29.37006</td>\n",
       "      <td>Insufficient balance</td>\n",
       "      <td>Sequential fixed size block</td>\n",
       "      <td>PT30M</td>\n",
       "      <td>...</td>\n",
       "      <td>Y</td>\n",
       "      <td>Final</td>\n",
       "      <td>ELX-EMFIP-IMBP-22438191</td>\n",
       "      <td>1</td>\n",
       "      <td>01:00:00</td>\n",
       "      <td>2020</td>\n",
       "      <td>1</td>\n",
       "      <td>1</td>\n",
       "      <td>1</td>\n",
       "      <td>0</td>\n",
       "    </tr>\n",
       "  </tbody>\n",
       "</table>\n",
       "<p>5 rows × 22 columns</p>\n",
       "</div>"
      ],
      "text/plain": [
       "             local_datetime         timeSeriesID              businessType  \\\n",
       "0 2020-01-01 00:00:00+00:00  ELX-EMFIP-IMBP-TS-1  Balance energy deviation   \n",
       "1 2020-01-01 00:00:00+00:00  ELX-EMFIP-IMBP-TS-2  Balance energy deviation   \n",
       "2 2020-01-01 00:30:00+00:00  ELX-EMFIP-IMBP-TS-1  Balance energy deviation   \n",
       "3 2020-01-01 00:30:00+00:00  ELX-EMFIP-IMBP-TS-2  Balance energy deviation   \n",
       "4 2020-01-01 01:00:00+00:00  ELX-EMFIP-IMBP-TS-1  Balance energy deviation   \n",
       "\n",
       "        controlArea settlementDate settlementPeriod imbalancePriceAmountGBP  \\\n",
       "0  10YGB----------A     2020-01-01                1                    50.9   \n",
       "1  10YGB----------A     2020-01-01                1                    50.9   \n",
       "2  10YGB----------A     2020-01-01                2                      51   \n",
       "3  10YGB----------A     2020-01-01                2                      51   \n",
       "4  10YGB----------A     2020-01-01                3                29.37006   \n",
       "\n",
       "          priceCategory                    curveType resolution  ...  \\\n",
       "0  Insufficient balance  Sequential fixed size block      PT30M  ...   \n",
       "1        Excess balance  Sequential fixed size block      PT30M  ...   \n",
       "2  Insufficient balance  Sequential fixed size block      PT30M  ...   \n",
       "3        Excess balance  Sequential fixed size block      PT30M  ...   \n",
       "4  Insufficient balance  Sequential fixed size block      PT30M  ...   \n",
       "\n",
       "  activeFlag docStatus               documentID documentRevNum local_time  \\\n",
       "0          Y     Final  ELX-EMFIP-IMBP-22437930              1   00:00:00   \n",
       "1          Y     Final  ELX-EMFIP-IMBP-22437930              1   00:00:00   \n",
       "2          Y     Final  ELX-EMFIP-IMBP-22438072              1   00:30:00   \n",
       "3          Y     Final  ELX-EMFIP-IMBP-22438072              1   00:30:00   \n",
       "4          Y     Final  ELX-EMFIP-IMBP-22438191              1   01:00:00   \n",
       "\n",
       "   Year Month  Day  Hour  Minute  \n",
       "0  2020     1    1     0       0  \n",
       "1  2020     1    1     0       0  \n",
       "2  2020     1    1     0      30  \n",
       "3  2020     1    1     0      30  \n",
       "4  2020     1    1     1       0  \n",
       "\n",
       "[5 rows x 22 columns]"
      ]
     },
     "execution_count": 8,
     "metadata": {},
     "output_type": "execute_result"
    }
   ],
   "source": [
    "df_B1770.head()"
   ]
  },
  {
   "cell_type": "code",
   "execution_count": 9,
   "metadata": {},
   "outputs": [],
   "source": [
    "#drop local_datetime column \n",
    "df_B1770.drop(columns = ['local_datetime'], axis=1, inplace = True)"
   ]
  },
  {
   "cell_type": "code",
   "execution_count": 10,
   "metadata": {},
   "outputs": [
    {
     "data": {
      "text/html": [
       "<div>\n",
       "<style scoped>\n",
       "    .dataframe tbody tr th:only-of-type {\n",
       "        vertical-align: middle;\n",
       "    }\n",
       "\n",
       "    .dataframe tbody tr th {\n",
       "        vertical-align: top;\n",
       "    }\n",
       "\n",
       "    .dataframe thead th {\n",
       "        text-align: right;\n",
       "    }\n",
       "</style>\n",
       "<table border=\"1\" class=\"dataframe\">\n",
       "  <thead>\n",
       "    <tr style=\"text-align: right;\">\n",
       "      <th></th>\n",
       "      <th>local_datetime</th>\n",
       "      <th>timeSeriesID</th>\n",
       "      <th>businessType</th>\n",
       "      <th>controlArea</th>\n",
       "      <th>settlementDate</th>\n",
       "      <th>settlementPeriod</th>\n",
       "      <th>imbalancePriceAmountGBP</th>\n",
       "      <th>priceCategory</th>\n",
       "      <th>curveType</th>\n",
       "      <th>resolution</th>\n",
       "      <th>documentType</th>\n",
       "      <th>processType</th>\n",
       "      <th>activeFlag</th>\n",
       "      <th>docStatus</th>\n",
       "      <th>documentID</th>\n",
       "      <th>documentRevNum</th>\n",
       "      <th>local_time</th>\n",
       "    </tr>\n",
       "  </thead>\n",
       "  <tbody>\n",
       "    <tr>\n",
       "      <th>93</th>\n",
       "      <td>2020-01-01 23:00:00+00:00</td>\n",
       "      <td>ELX-EMFIP-IMBP-TS-2</td>\n",
       "      <td>Balance energy deviation</td>\n",
       "      <td>10YGB----------A</td>\n",
       "      <td>2020-01-01</td>\n",
       "      <td>47</td>\n",
       "      <td>50.05</td>\n",
       "      <td>Excess balance</td>\n",
       "      <td>Sequential fixed size block</td>\n",
       "      <td>PT30M</td>\n",
       "      <td>Imbalance prices</td>\n",
       "      <td>Realised</td>\n",
       "      <td>Y</td>\n",
       "      <td>Final</td>\n",
       "      <td>ELX-EMFIP-IMBP-22444205</td>\n",
       "      <td>1</td>\n",
       "      <td>23:00:00</td>\n",
       "    </tr>\n",
       "  </tbody>\n",
       "</table>\n",
       "</div>"
      ],
      "text/plain": [
       "              local_datetime         timeSeriesID              businessType  \\\n",
       "93 2020-01-01 23:00:00+00:00  ELX-EMFIP-IMBP-TS-2  Balance energy deviation   \n",
       "\n",
       "         controlArea settlementDate  settlementPeriod  \\\n",
       "93  10YGB----------A     2020-01-01                47   \n",
       "\n",
       "    imbalancePriceAmountGBP   priceCategory                    curveType  \\\n",
       "93                    50.05  Excess balance  Sequential fixed size block   \n",
       "\n",
       "   resolution      documentType processType activeFlag docStatus  \\\n",
       "93      PT30M  Imbalance prices    Realised          Y     Final   \n",
       "\n",
       "                 documentID  documentRevNum local_time  \n",
       "93  ELX-EMFIP-IMBP-22444205               1   23:00:00  "
      ]
     },
     "execution_count": 10,
     "metadata": {},
     "output_type": "execute_result"
    }
   ],
   "source": [
    "df_B1770.tail(1)"
   ]
  },
  {
   "cell_type": "code",
   "execution_count": 18,
   "metadata": {},
   "outputs": [
    {
     "data": {
      "application/vnd.plotly.v1+json": {
       "config": {
        "plotlyServerURL": "https://plot.ly"
       },
       "data": [
        {
         "hovertemplate": "local_time=%{x}<br>imbalancePriceAmountGBP=%{y}<extra></extra>",
         "legendgroup": "",
         "line": {
          "color": "#636efa",
          "dash": "solid"
         },
         "marker": {
          "symbol": "circle"
         },
         "mode": "lines",
         "name": "",
         "orientation": "v",
         "showlegend": false,
         "type": "scatter",
         "x": [
          "00:00:00",
          "00:00:00",
          "00:30:00",
          "00:30:00",
          "01:00:00",
          "01:00:00",
          "01:30:00",
          "01:30:00",
          "02:00:00",
          "02:00:00",
          "02:30:00",
          "02:30:00",
          "03:00:00",
          "03:00:00",
          "03:30:00",
          "03:30:00",
          "04:00:00",
          "04:00:00",
          "04:30:00",
          "04:30:00",
          "05:00:00",
          "05:00:00",
          "05:30:00",
          "05:30:00",
          "06:00:00",
          "06:00:00",
          "06:30:00",
          "06:30:00",
          "07:00:00",
          "07:00:00",
          "07:30:00",
          "07:30:00",
          "08:00:00",
          "08:00:00",
          "08:30:00",
          "08:30:00",
          "09:00:00",
          "09:00:00",
          "09:30:00",
          "09:30:00",
          "10:00:00",
          "10:00:00",
          "10:30:00",
          "10:30:00",
          "11:00:00",
          "11:00:00",
          "11:30:00",
          "11:30:00",
          "12:00:00",
          "12:00:00",
          "12:30:00",
          "12:30:00",
          "13:00:00",
          "13:00:00",
          "13:30:00",
          "13:30:00",
          "14:00:00",
          "14:00:00",
          "14:30:00",
          "14:30:00",
          "15:00:00",
          "15:00:00",
          "15:30:00",
          "15:30:00",
          "16:00:00",
          "16:00:00",
          "16:30:00",
          "16:30:00",
          "17:00:00",
          "17:00:00",
          "17:30:00",
          "17:30:00",
          "18:00:00",
          "18:00:00",
          "18:30:00",
          "18:30:00",
          "19:00:00",
          "19:00:00",
          "19:30:00",
          "19:30:00",
          "20:00:00",
          "20:00:00",
          "20:30:00",
          "20:30:00",
          "21:00:00",
          "21:00:00",
          "21:30:00",
          "21:30:00",
          "22:00:00",
          "22:00:00",
          "22:30:00",
          "22:30:00",
          "23:00:00",
          "23:00:00"
         ],
         "xaxis": "x",
         "y": [
          50.9,
          50.9,
          51,
          51,
          29.37006,
          29.37006,
          28.52,
          28.52,
          25.78,
          25.78,
          24.77018,
          24.77018,
          50.5,
          50.5,
          50,
          50,
          23.93006,
          23.93006,
          23.93006,
          23.93006,
          6,
          6,
          6,
          6,
          23.82,
          23.82,
          31.69,
          31.69,
          23.98,
          23.98,
          52,
          52,
          52,
          52,
          52,
          52,
          52,
          52,
          51,
          51,
          51.9,
          51.9,
          51,
          51,
          25.59,
          25.59,
          7.5,
          7.5,
          51.9,
          51.9,
          51.9,
          51.9,
          51,
          51,
          51,
          51,
          50.75,
          50.75,
          7.5,
          7.5,
          7.5,
          7.5,
          50.8,
          50.8,
          52,
          52,
          50.8,
          50.8,
          52,
          52,
          52,
          52,
          51.9,
          51.9,
          51.5,
          51.5,
          49.95,
          49.95,
          49.75,
          49.75,
          49.75,
          49.75,
          51.5,
          51.5,
          49.45,
          49.45,
          51.5,
          51.5,
          51.5,
          51.5,
          49.45,
          49.45,
          50.05,
          50.05
         ],
         "yaxis": "y"
        }
       ],
       "layout": {
        "legend": {
         "tracegroupgap": 0
        },
        "margin": {
         "t": 60
        },
        "template": {
         "data": {
          "bar": [
           {
            "error_x": {
             "color": "#2a3f5f"
            },
            "error_y": {
             "color": "#2a3f5f"
            },
            "marker": {
             "line": {
              "color": "#E5ECF6",
              "width": 0.5
             },
             "pattern": {
              "fillmode": "overlay",
              "size": 10,
              "solidity": 0.2
             }
            },
            "type": "bar"
           }
          ],
          "barpolar": [
           {
            "marker": {
             "line": {
              "color": "#E5ECF6",
              "width": 0.5
             },
             "pattern": {
              "fillmode": "overlay",
              "size": 10,
              "solidity": 0.2
             }
            },
            "type": "barpolar"
           }
          ],
          "carpet": [
           {
            "aaxis": {
             "endlinecolor": "#2a3f5f",
             "gridcolor": "white",
             "linecolor": "white",
             "minorgridcolor": "white",
             "startlinecolor": "#2a3f5f"
            },
            "baxis": {
             "endlinecolor": "#2a3f5f",
             "gridcolor": "white",
             "linecolor": "white",
             "minorgridcolor": "white",
             "startlinecolor": "#2a3f5f"
            },
            "type": "carpet"
           }
          ],
          "choropleth": [
           {
            "colorbar": {
             "outlinewidth": 0,
             "ticks": ""
            },
            "type": "choropleth"
           }
          ],
          "contour": [
           {
            "colorbar": {
             "outlinewidth": 0,
             "ticks": ""
            },
            "colorscale": [
             [
              0,
              "#0d0887"
             ],
             [
              0.1111111111111111,
              "#46039f"
             ],
             [
              0.2222222222222222,
              "#7201a8"
             ],
             [
              0.3333333333333333,
              "#9c179e"
             ],
             [
              0.4444444444444444,
              "#bd3786"
             ],
             [
              0.5555555555555556,
              "#d8576b"
             ],
             [
              0.6666666666666666,
              "#ed7953"
             ],
             [
              0.7777777777777778,
              "#fb9f3a"
             ],
             [
              0.8888888888888888,
              "#fdca26"
             ],
             [
              1,
              "#f0f921"
             ]
            ],
            "type": "contour"
           }
          ],
          "contourcarpet": [
           {
            "colorbar": {
             "outlinewidth": 0,
             "ticks": ""
            },
            "type": "contourcarpet"
           }
          ],
          "heatmap": [
           {
            "colorbar": {
             "outlinewidth": 0,
             "ticks": ""
            },
            "colorscale": [
             [
              0,
              "#0d0887"
             ],
             [
              0.1111111111111111,
              "#46039f"
             ],
             [
              0.2222222222222222,
              "#7201a8"
             ],
             [
              0.3333333333333333,
              "#9c179e"
             ],
             [
              0.4444444444444444,
              "#bd3786"
             ],
             [
              0.5555555555555556,
              "#d8576b"
             ],
             [
              0.6666666666666666,
              "#ed7953"
             ],
             [
              0.7777777777777778,
              "#fb9f3a"
             ],
             [
              0.8888888888888888,
              "#fdca26"
             ],
             [
              1,
              "#f0f921"
             ]
            ],
            "type": "heatmap"
           }
          ],
          "heatmapgl": [
           {
            "colorbar": {
             "outlinewidth": 0,
             "ticks": ""
            },
            "colorscale": [
             [
              0,
              "#0d0887"
             ],
             [
              0.1111111111111111,
              "#46039f"
             ],
             [
              0.2222222222222222,
              "#7201a8"
             ],
             [
              0.3333333333333333,
              "#9c179e"
             ],
             [
              0.4444444444444444,
              "#bd3786"
             ],
             [
              0.5555555555555556,
              "#d8576b"
             ],
             [
              0.6666666666666666,
              "#ed7953"
             ],
             [
              0.7777777777777778,
              "#fb9f3a"
             ],
             [
              0.8888888888888888,
              "#fdca26"
             ],
             [
              1,
              "#f0f921"
             ]
            ],
            "type": "heatmapgl"
           }
          ],
          "histogram": [
           {
            "marker": {
             "pattern": {
              "fillmode": "overlay",
              "size": 10,
              "solidity": 0.2
             }
            },
            "type": "histogram"
           }
          ],
          "histogram2d": [
           {
            "colorbar": {
             "outlinewidth": 0,
             "ticks": ""
            },
            "colorscale": [
             [
              0,
              "#0d0887"
             ],
             [
              0.1111111111111111,
              "#46039f"
             ],
             [
              0.2222222222222222,
              "#7201a8"
             ],
             [
              0.3333333333333333,
              "#9c179e"
             ],
             [
              0.4444444444444444,
              "#bd3786"
             ],
             [
              0.5555555555555556,
              "#d8576b"
             ],
             [
              0.6666666666666666,
              "#ed7953"
             ],
             [
              0.7777777777777778,
              "#fb9f3a"
             ],
             [
              0.8888888888888888,
              "#fdca26"
             ],
             [
              1,
              "#f0f921"
             ]
            ],
            "type": "histogram2d"
           }
          ],
          "histogram2dcontour": [
           {
            "colorbar": {
             "outlinewidth": 0,
             "ticks": ""
            },
            "colorscale": [
             [
              0,
              "#0d0887"
             ],
             [
              0.1111111111111111,
              "#46039f"
             ],
             [
              0.2222222222222222,
              "#7201a8"
             ],
             [
              0.3333333333333333,
              "#9c179e"
             ],
             [
              0.4444444444444444,
              "#bd3786"
             ],
             [
              0.5555555555555556,
              "#d8576b"
             ],
             [
              0.6666666666666666,
              "#ed7953"
             ],
             [
              0.7777777777777778,
              "#fb9f3a"
             ],
             [
              0.8888888888888888,
              "#fdca26"
             ],
             [
              1,
              "#f0f921"
             ]
            ],
            "type": "histogram2dcontour"
           }
          ],
          "mesh3d": [
           {
            "colorbar": {
             "outlinewidth": 0,
             "ticks": ""
            },
            "type": "mesh3d"
           }
          ],
          "parcoords": [
           {
            "line": {
             "colorbar": {
              "outlinewidth": 0,
              "ticks": ""
             }
            },
            "type": "parcoords"
           }
          ],
          "pie": [
           {
            "automargin": true,
            "type": "pie"
           }
          ],
          "scatter": [
           {
            "fillpattern": {
             "fillmode": "overlay",
             "size": 10,
             "solidity": 0.2
            },
            "type": "scatter"
           }
          ],
          "scatter3d": [
           {
            "line": {
             "colorbar": {
              "outlinewidth": 0,
              "ticks": ""
             }
            },
            "marker": {
             "colorbar": {
              "outlinewidth": 0,
              "ticks": ""
             }
            },
            "type": "scatter3d"
           }
          ],
          "scattercarpet": [
           {
            "marker": {
             "colorbar": {
              "outlinewidth": 0,
              "ticks": ""
             }
            },
            "type": "scattercarpet"
           }
          ],
          "scattergeo": [
           {
            "marker": {
             "colorbar": {
              "outlinewidth": 0,
              "ticks": ""
             }
            },
            "type": "scattergeo"
           }
          ],
          "scattergl": [
           {
            "marker": {
             "colorbar": {
              "outlinewidth": 0,
              "ticks": ""
             }
            },
            "type": "scattergl"
           }
          ],
          "scattermapbox": [
           {
            "marker": {
             "colorbar": {
              "outlinewidth": 0,
              "ticks": ""
             }
            },
            "type": "scattermapbox"
           }
          ],
          "scatterpolar": [
           {
            "marker": {
             "colorbar": {
              "outlinewidth": 0,
              "ticks": ""
             }
            },
            "type": "scatterpolar"
           }
          ],
          "scatterpolargl": [
           {
            "marker": {
             "colorbar": {
              "outlinewidth": 0,
              "ticks": ""
             }
            },
            "type": "scatterpolargl"
           }
          ],
          "scatterternary": [
           {
            "marker": {
             "colorbar": {
              "outlinewidth": 0,
              "ticks": ""
             }
            },
            "type": "scatterternary"
           }
          ],
          "surface": [
           {
            "colorbar": {
             "outlinewidth": 0,
             "ticks": ""
            },
            "colorscale": [
             [
              0,
              "#0d0887"
             ],
             [
              0.1111111111111111,
              "#46039f"
             ],
             [
              0.2222222222222222,
              "#7201a8"
             ],
             [
              0.3333333333333333,
              "#9c179e"
             ],
             [
              0.4444444444444444,
              "#bd3786"
             ],
             [
              0.5555555555555556,
              "#d8576b"
             ],
             [
              0.6666666666666666,
              "#ed7953"
             ],
             [
              0.7777777777777778,
              "#fb9f3a"
             ],
             [
              0.8888888888888888,
              "#fdca26"
             ],
             [
              1,
              "#f0f921"
             ]
            ],
            "type": "surface"
           }
          ],
          "table": [
           {
            "cells": {
             "fill": {
              "color": "#EBF0F8"
             },
             "line": {
              "color": "white"
             }
            },
            "header": {
             "fill": {
              "color": "#C8D4E3"
             },
             "line": {
              "color": "white"
             }
            },
            "type": "table"
           }
          ]
         },
         "layout": {
          "annotationdefaults": {
           "arrowcolor": "#2a3f5f",
           "arrowhead": 0,
           "arrowwidth": 1
          },
          "autotypenumbers": "strict",
          "coloraxis": {
           "colorbar": {
            "outlinewidth": 0,
            "ticks": ""
           }
          },
          "colorscale": {
           "diverging": [
            [
             0,
             "#8e0152"
            ],
            [
             0.1,
             "#c51b7d"
            ],
            [
             0.2,
             "#de77ae"
            ],
            [
             0.3,
             "#f1b6da"
            ],
            [
             0.4,
             "#fde0ef"
            ],
            [
             0.5,
             "#f7f7f7"
            ],
            [
             0.6,
             "#e6f5d0"
            ],
            [
             0.7,
             "#b8e186"
            ],
            [
             0.8,
             "#7fbc41"
            ],
            [
             0.9,
             "#4d9221"
            ],
            [
             1,
             "#276419"
            ]
           ],
           "sequential": [
            [
             0,
             "#0d0887"
            ],
            [
             0.1111111111111111,
             "#46039f"
            ],
            [
             0.2222222222222222,
             "#7201a8"
            ],
            [
             0.3333333333333333,
             "#9c179e"
            ],
            [
             0.4444444444444444,
             "#bd3786"
            ],
            [
             0.5555555555555556,
             "#d8576b"
            ],
            [
             0.6666666666666666,
             "#ed7953"
            ],
            [
             0.7777777777777778,
             "#fb9f3a"
            ],
            [
             0.8888888888888888,
             "#fdca26"
            ],
            [
             1,
             "#f0f921"
            ]
           ],
           "sequentialminus": [
            [
             0,
             "#0d0887"
            ],
            [
             0.1111111111111111,
             "#46039f"
            ],
            [
             0.2222222222222222,
             "#7201a8"
            ],
            [
             0.3333333333333333,
             "#9c179e"
            ],
            [
             0.4444444444444444,
             "#bd3786"
            ],
            [
             0.5555555555555556,
             "#d8576b"
            ],
            [
             0.6666666666666666,
             "#ed7953"
            ],
            [
             0.7777777777777778,
             "#fb9f3a"
            ],
            [
             0.8888888888888888,
             "#fdca26"
            ],
            [
             1,
             "#f0f921"
            ]
           ]
          },
          "colorway": [
           "#636efa",
           "#EF553B",
           "#00cc96",
           "#ab63fa",
           "#FFA15A",
           "#19d3f3",
           "#FF6692",
           "#B6E880",
           "#FF97FF",
           "#FECB52"
          ],
          "font": {
           "color": "#2a3f5f"
          },
          "geo": {
           "bgcolor": "white",
           "lakecolor": "white",
           "landcolor": "#E5ECF6",
           "showlakes": true,
           "showland": true,
           "subunitcolor": "white"
          },
          "hoverlabel": {
           "align": "left"
          },
          "hovermode": "closest",
          "mapbox": {
           "style": "light"
          },
          "paper_bgcolor": "white",
          "plot_bgcolor": "#E5ECF6",
          "polar": {
           "angularaxis": {
            "gridcolor": "white",
            "linecolor": "white",
            "ticks": ""
           },
           "bgcolor": "#E5ECF6",
           "radialaxis": {
            "gridcolor": "white",
            "linecolor": "white",
            "ticks": ""
           }
          },
          "scene": {
           "xaxis": {
            "backgroundcolor": "#E5ECF6",
            "gridcolor": "white",
            "gridwidth": 2,
            "linecolor": "white",
            "showbackground": true,
            "ticks": "",
            "zerolinecolor": "white"
           },
           "yaxis": {
            "backgroundcolor": "#E5ECF6",
            "gridcolor": "white",
            "gridwidth": 2,
            "linecolor": "white",
            "showbackground": true,
            "ticks": "",
            "zerolinecolor": "white"
           },
           "zaxis": {
            "backgroundcolor": "#E5ECF6",
            "gridcolor": "white",
            "gridwidth": 2,
            "linecolor": "white",
            "showbackground": true,
            "ticks": "",
            "zerolinecolor": "white"
           }
          },
          "shapedefaults": {
           "line": {
            "color": "#2a3f5f"
           }
          },
          "ternary": {
           "aaxis": {
            "gridcolor": "white",
            "linecolor": "white",
            "ticks": ""
           },
           "baxis": {
            "gridcolor": "white",
            "linecolor": "white",
            "ticks": ""
           },
           "bgcolor": "#E5ECF6",
           "caxis": {
            "gridcolor": "white",
            "linecolor": "white",
            "ticks": ""
           }
          },
          "title": {
           "x": 0.05
          },
          "xaxis": {
           "automargin": true,
           "gridcolor": "white",
           "linecolor": "white",
           "ticks": "",
           "title": {
            "standoff": 15
           },
           "zerolinecolor": "white",
           "zerolinewidth": 2
          },
          "yaxis": {
           "automargin": true,
           "gridcolor": "white",
           "linecolor": "white",
           "ticks": "",
           "title": {
            "standoff": 15
           },
           "zerolinecolor": "white",
           "zerolinewidth": 2
          }
         }
        },
        "xaxis": {
         "anchor": "y",
         "domain": [
          0,
          1
         ],
         "title": {
          "text": "local_time"
         }
        },
        "yaxis": {
         "anchor": "x",
         "domain": [
          0,
          1
         ],
         "title": {
          "text": "imbalancePriceAmountGBP"
         }
        }
       }
      }
     },
     "metadata": {},
     "output_type": "display_data"
    }
   ],
   "source": [
    "#https://plotly.com/python/time-series/\n",
    "import plotly.express as px\n",
    "\n",
    "df = px.data.stocks()\n",
    "\n",
    "fig = px.line(df_B1770, x= 'local_time', y= 'imbalancePriceAmountGBP')\n",
    "fig2 = px.line(df_B1770, x= 'local_datetime',y='imbalancePriceAmountGBP')\n",
    "fig.show()"
   ]
  },
  {
   "cell_type": "code",
   "execution_count": 10,
   "metadata": {},
   "outputs": [
    {
     "data": {
      "application/vnd.plotly.v1+json": {
       "config": {
        "plotlyServerURL": "https://plot.ly"
       },
       "data": [
        {
         "hovertemplate": "settlementPeriod=%{x}<br>imbalancePriceAmountGBP=%{y}<extra></extra>",
         "legendgroup": "",
         "marker": {
          "color": "#636efa",
          "symbol": "circle"
         },
         "mode": "markers",
         "name": "",
         "orientation": "v",
         "showlegend": false,
         "type": "scatter",
         "x": [
          1,
          1,
          2,
          2,
          3,
          3,
          4,
          4,
          5,
          5,
          6,
          6,
          7,
          7,
          8,
          8,
          9,
          9,
          10,
          10,
          11,
          11,
          12,
          12,
          13,
          13,
          14,
          14,
          15,
          15,
          16,
          16,
          17,
          17,
          18,
          18,
          19,
          19,
          20,
          20,
          21,
          21,
          22,
          22,
          23,
          23,
          24,
          24,
          25,
          25,
          26,
          26,
          27,
          27,
          28,
          28,
          29,
          29,
          30,
          30,
          31,
          31,
          32,
          32,
          33,
          33,
          34,
          34,
          35,
          35,
          36,
          36,
          37,
          37,
          38,
          38,
          39,
          39,
          40,
          40,
          41,
          41,
          42,
          42,
          43,
          43,
          44,
          44,
          45,
          45,
          46,
          46,
          47,
          47
         ],
         "xaxis": "x",
         "y": [
          50.9,
          50.9,
          51,
          51,
          29.37006,
          29.37006,
          28.52,
          28.52,
          25.78,
          25.78,
          24.77018,
          24.77018,
          50.5,
          50.5,
          50,
          50,
          23.93006,
          23.93006,
          23.93006,
          23.93006,
          6,
          6,
          6,
          6,
          23.82,
          23.82,
          31.69,
          31.69,
          23.98,
          23.98,
          52,
          52,
          52,
          52,
          52,
          52,
          52,
          52,
          51,
          51,
          51.9,
          51.9,
          51,
          51,
          25.59,
          25.59,
          7.5,
          7.5,
          51.9,
          51.9,
          51.9,
          51.9,
          51,
          51,
          51,
          51,
          50.75,
          50.75,
          7.5,
          7.5,
          7.5,
          7.5,
          50.8,
          50.8,
          52,
          52,
          50.8,
          50.8,
          52,
          52,
          52,
          52,
          51.9,
          51.9,
          51.5,
          51.5,
          49.95,
          49.95,
          49.75,
          49.75,
          49.75,
          49.75,
          51.5,
          51.5,
          49.45,
          49.45,
          51.5,
          51.5,
          51.5,
          51.5,
          49.45,
          49.45,
          50.05,
          50.05
         ],
         "yaxis": "y"
        }
       ],
       "layout": {
        "legend": {
         "tracegroupgap": 0
        },
        "margin": {
         "t": 60
        },
        "template": {
         "data": {
          "bar": [
           {
            "error_x": {
             "color": "#2a3f5f"
            },
            "error_y": {
             "color": "#2a3f5f"
            },
            "marker": {
             "line": {
              "color": "#E5ECF6",
              "width": 0.5
             },
             "pattern": {
              "fillmode": "overlay",
              "size": 10,
              "solidity": 0.2
             }
            },
            "type": "bar"
           }
          ],
          "barpolar": [
           {
            "marker": {
             "line": {
              "color": "#E5ECF6",
              "width": 0.5
             },
             "pattern": {
              "fillmode": "overlay",
              "size": 10,
              "solidity": 0.2
             }
            },
            "type": "barpolar"
           }
          ],
          "carpet": [
           {
            "aaxis": {
             "endlinecolor": "#2a3f5f",
             "gridcolor": "white",
             "linecolor": "white",
             "minorgridcolor": "white",
             "startlinecolor": "#2a3f5f"
            },
            "baxis": {
             "endlinecolor": "#2a3f5f",
             "gridcolor": "white",
             "linecolor": "white",
             "minorgridcolor": "white",
             "startlinecolor": "#2a3f5f"
            },
            "type": "carpet"
           }
          ],
          "choropleth": [
           {
            "colorbar": {
             "outlinewidth": 0,
             "ticks": ""
            },
            "type": "choropleth"
           }
          ],
          "contour": [
           {
            "colorbar": {
             "outlinewidth": 0,
             "ticks": ""
            },
            "colorscale": [
             [
              0,
              "#0d0887"
             ],
             [
              0.1111111111111111,
              "#46039f"
             ],
             [
              0.2222222222222222,
              "#7201a8"
             ],
             [
              0.3333333333333333,
              "#9c179e"
             ],
             [
              0.4444444444444444,
              "#bd3786"
             ],
             [
              0.5555555555555556,
              "#d8576b"
             ],
             [
              0.6666666666666666,
              "#ed7953"
             ],
             [
              0.7777777777777778,
              "#fb9f3a"
             ],
             [
              0.8888888888888888,
              "#fdca26"
             ],
             [
              1,
              "#f0f921"
             ]
            ],
            "type": "contour"
           }
          ],
          "contourcarpet": [
           {
            "colorbar": {
             "outlinewidth": 0,
             "ticks": ""
            },
            "type": "contourcarpet"
           }
          ],
          "heatmap": [
           {
            "colorbar": {
             "outlinewidth": 0,
             "ticks": ""
            },
            "colorscale": [
             [
              0,
              "#0d0887"
             ],
             [
              0.1111111111111111,
              "#46039f"
             ],
             [
              0.2222222222222222,
              "#7201a8"
             ],
             [
              0.3333333333333333,
              "#9c179e"
             ],
             [
              0.4444444444444444,
              "#bd3786"
             ],
             [
              0.5555555555555556,
              "#d8576b"
             ],
             [
              0.6666666666666666,
              "#ed7953"
             ],
             [
              0.7777777777777778,
              "#fb9f3a"
             ],
             [
              0.8888888888888888,
              "#fdca26"
             ],
             [
              1,
              "#f0f921"
             ]
            ],
            "type": "heatmap"
           }
          ],
          "heatmapgl": [
           {
            "colorbar": {
             "outlinewidth": 0,
             "ticks": ""
            },
            "colorscale": [
             [
              0,
              "#0d0887"
             ],
             [
              0.1111111111111111,
              "#46039f"
             ],
             [
              0.2222222222222222,
              "#7201a8"
             ],
             [
              0.3333333333333333,
              "#9c179e"
             ],
             [
              0.4444444444444444,
              "#bd3786"
             ],
             [
              0.5555555555555556,
              "#d8576b"
             ],
             [
              0.6666666666666666,
              "#ed7953"
             ],
             [
              0.7777777777777778,
              "#fb9f3a"
             ],
             [
              0.8888888888888888,
              "#fdca26"
             ],
             [
              1,
              "#f0f921"
             ]
            ],
            "type": "heatmapgl"
           }
          ],
          "histogram": [
           {
            "marker": {
             "pattern": {
              "fillmode": "overlay",
              "size": 10,
              "solidity": 0.2
             }
            },
            "type": "histogram"
           }
          ],
          "histogram2d": [
           {
            "colorbar": {
             "outlinewidth": 0,
             "ticks": ""
            },
            "colorscale": [
             [
              0,
              "#0d0887"
             ],
             [
              0.1111111111111111,
              "#46039f"
             ],
             [
              0.2222222222222222,
              "#7201a8"
             ],
             [
              0.3333333333333333,
              "#9c179e"
             ],
             [
              0.4444444444444444,
              "#bd3786"
             ],
             [
              0.5555555555555556,
              "#d8576b"
             ],
             [
              0.6666666666666666,
              "#ed7953"
             ],
             [
              0.7777777777777778,
              "#fb9f3a"
             ],
             [
              0.8888888888888888,
              "#fdca26"
             ],
             [
              1,
              "#f0f921"
             ]
            ],
            "type": "histogram2d"
           }
          ],
          "histogram2dcontour": [
           {
            "colorbar": {
             "outlinewidth": 0,
             "ticks": ""
            },
            "colorscale": [
             [
              0,
              "#0d0887"
             ],
             [
              0.1111111111111111,
              "#46039f"
             ],
             [
              0.2222222222222222,
              "#7201a8"
             ],
             [
              0.3333333333333333,
              "#9c179e"
             ],
             [
              0.4444444444444444,
              "#bd3786"
             ],
             [
              0.5555555555555556,
              "#d8576b"
             ],
             [
              0.6666666666666666,
              "#ed7953"
             ],
             [
              0.7777777777777778,
              "#fb9f3a"
             ],
             [
              0.8888888888888888,
              "#fdca26"
             ],
             [
              1,
              "#f0f921"
             ]
            ],
            "type": "histogram2dcontour"
           }
          ],
          "mesh3d": [
           {
            "colorbar": {
             "outlinewidth": 0,
             "ticks": ""
            },
            "type": "mesh3d"
           }
          ],
          "parcoords": [
           {
            "line": {
             "colorbar": {
              "outlinewidth": 0,
              "ticks": ""
             }
            },
            "type": "parcoords"
           }
          ],
          "pie": [
           {
            "automargin": true,
            "type": "pie"
           }
          ],
          "scatter": [
           {
            "fillpattern": {
             "fillmode": "overlay",
             "size": 10,
             "solidity": 0.2
            },
            "type": "scatter"
           }
          ],
          "scatter3d": [
           {
            "line": {
             "colorbar": {
              "outlinewidth": 0,
              "ticks": ""
             }
            },
            "marker": {
             "colorbar": {
              "outlinewidth": 0,
              "ticks": ""
             }
            },
            "type": "scatter3d"
           }
          ],
          "scattercarpet": [
           {
            "marker": {
             "colorbar": {
              "outlinewidth": 0,
              "ticks": ""
             }
            },
            "type": "scattercarpet"
           }
          ],
          "scattergeo": [
           {
            "marker": {
             "colorbar": {
              "outlinewidth": 0,
              "ticks": ""
             }
            },
            "type": "scattergeo"
           }
          ],
          "scattergl": [
           {
            "marker": {
             "colorbar": {
              "outlinewidth": 0,
              "ticks": ""
             }
            },
            "type": "scattergl"
           }
          ],
          "scattermapbox": [
           {
            "marker": {
             "colorbar": {
              "outlinewidth": 0,
              "ticks": ""
             }
            },
            "type": "scattermapbox"
           }
          ],
          "scatterpolar": [
           {
            "marker": {
             "colorbar": {
              "outlinewidth": 0,
              "ticks": ""
             }
            },
            "type": "scatterpolar"
           }
          ],
          "scatterpolargl": [
           {
            "marker": {
             "colorbar": {
              "outlinewidth": 0,
              "ticks": ""
             }
            },
            "type": "scatterpolargl"
           }
          ],
          "scatterternary": [
           {
            "marker": {
             "colorbar": {
              "outlinewidth": 0,
              "ticks": ""
             }
            },
            "type": "scatterternary"
           }
          ],
          "surface": [
           {
            "colorbar": {
             "outlinewidth": 0,
             "ticks": ""
            },
            "colorscale": [
             [
              0,
              "#0d0887"
             ],
             [
              0.1111111111111111,
              "#46039f"
             ],
             [
              0.2222222222222222,
              "#7201a8"
             ],
             [
              0.3333333333333333,
              "#9c179e"
             ],
             [
              0.4444444444444444,
              "#bd3786"
             ],
             [
              0.5555555555555556,
              "#d8576b"
             ],
             [
              0.6666666666666666,
              "#ed7953"
             ],
             [
              0.7777777777777778,
              "#fb9f3a"
             ],
             [
              0.8888888888888888,
              "#fdca26"
             ],
             [
              1,
              "#f0f921"
             ]
            ],
            "type": "surface"
           }
          ],
          "table": [
           {
            "cells": {
             "fill": {
              "color": "#EBF0F8"
             },
             "line": {
              "color": "white"
             }
            },
            "header": {
             "fill": {
              "color": "#C8D4E3"
             },
             "line": {
              "color": "white"
             }
            },
            "type": "table"
           }
          ]
         },
         "layout": {
          "annotationdefaults": {
           "arrowcolor": "#2a3f5f",
           "arrowhead": 0,
           "arrowwidth": 1
          },
          "autotypenumbers": "strict",
          "coloraxis": {
           "colorbar": {
            "outlinewidth": 0,
            "ticks": ""
           }
          },
          "colorscale": {
           "diverging": [
            [
             0,
             "#8e0152"
            ],
            [
             0.1,
             "#c51b7d"
            ],
            [
             0.2,
             "#de77ae"
            ],
            [
             0.3,
             "#f1b6da"
            ],
            [
             0.4,
             "#fde0ef"
            ],
            [
             0.5,
             "#f7f7f7"
            ],
            [
             0.6,
             "#e6f5d0"
            ],
            [
             0.7,
             "#b8e186"
            ],
            [
             0.8,
             "#7fbc41"
            ],
            [
             0.9,
             "#4d9221"
            ],
            [
             1,
             "#276419"
            ]
           ],
           "sequential": [
            [
             0,
             "#0d0887"
            ],
            [
             0.1111111111111111,
             "#46039f"
            ],
            [
             0.2222222222222222,
             "#7201a8"
            ],
            [
             0.3333333333333333,
             "#9c179e"
            ],
            [
             0.4444444444444444,
             "#bd3786"
            ],
            [
             0.5555555555555556,
             "#d8576b"
            ],
            [
             0.6666666666666666,
             "#ed7953"
            ],
            [
             0.7777777777777778,
             "#fb9f3a"
            ],
            [
             0.8888888888888888,
             "#fdca26"
            ],
            [
             1,
             "#f0f921"
            ]
           ],
           "sequentialminus": [
            [
             0,
             "#0d0887"
            ],
            [
             0.1111111111111111,
             "#46039f"
            ],
            [
             0.2222222222222222,
             "#7201a8"
            ],
            [
             0.3333333333333333,
             "#9c179e"
            ],
            [
             0.4444444444444444,
             "#bd3786"
            ],
            [
             0.5555555555555556,
             "#d8576b"
            ],
            [
             0.6666666666666666,
             "#ed7953"
            ],
            [
             0.7777777777777778,
             "#fb9f3a"
            ],
            [
             0.8888888888888888,
             "#fdca26"
            ],
            [
             1,
             "#f0f921"
            ]
           ]
          },
          "colorway": [
           "#636efa",
           "#EF553B",
           "#00cc96",
           "#ab63fa",
           "#FFA15A",
           "#19d3f3",
           "#FF6692",
           "#B6E880",
           "#FF97FF",
           "#FECB52"
          ],
          "font": {
           "color": "#2a3f5f"
          },
          "geo": {
           "bgcolor": "white",
           "lakecolor": "white",
           "landcolor": "#E5ECF6",
           "showlakes": true,
           "showland": true,
           "subunitcolor": "white"
          },
          "hoverlabel": {
           "align": "left"
          },
          "hovermode": "closest",
          "mapbox": {
           "style": "light"
          },
          "paper_bgcolor": "white",
          "plot_bgcolor": "#E5ECF6",
          "polar": {
           "angularaxis": {
            "gridcolor": "white",
            "linecolor": "white",
            "ticks": ""
           },
           "bgcolor": "#E5ECF6",
           "radialaxis": {
            "gridcolor": "white",
            "linecolor": "white",
            "ticks": ""
           }
          },
          "scene": {
           "xaxis": {
            "backgroundcolor": "#E5ECF6",
            "gridcolor": "white",
            "gridwidth": 2,
            "linecolor": "white",
            "showbackground": true,
            "ticks": "",
            "zerolinecolor": "white"
           },
           "yaxis": {
            "backgroundcolor": "#E5ECF6",
            "gridcolor": "white",
            "gridwidth": 2,
            "linecolor": "white",
            "showbackground": true,
            "ticks": "",
            "zerolinecolor": "white"
           },
           "zaxis": {
            "backgroundcolor": "#E5ECF6",
            "gridcolor": "white",
            "gridwidth": 2,
            "linecolor": "white",
            "showbackground": true,
            "ticks": "",
            "zerolinecolor": "white"
           }
          },
          "shapedefaults": {
           "line": {
            "color": "#2a3f5f"
           }
          },
          "ternary": {
           "aaxis": {
            "gridcolor": "white",
            "linecolor": "white",
            "ticks": ""
           },
           "baxis": {
            "gridcolor": "white",
            "linecolor": "white",
            "ticks": ""
           },
           "bgcolor": "#E5ECF6",
           "caxis": {
            "gridcolor": "white",
            "linecolor": "white",
            "ticks": ""
           }
          },
          "title": {
           "x": 0.05
          },
          "xaxis": {
           "automargin": true,
           "gridcolor": "white",
           "linecolor": "white",
           "ticks": "",
           "title": {
            "standoff": 15
           },
           "zerolinecolor": "white",
           "zerolinewidth": 2
          },
          "yaxis": {
           "automargin": true,
           "gridcolor": "white",
           "linecolor": "white",
           "ticks": "",
           "title": {
            "standoff": 15
           },
           "zerolinecolor": "white",
           "zerolinewidth": 2
          }
         }
        },
        "xaxis": {
         "anchor": "y",
         "domain": [
          0,
          1
         ],
         "title": {
          "text": "settlementPeriod"
         }
        },
        "yaxis": {
         "anchor": "x",
         "domain": [
          0,
          1
         ],
         "title": {
          "text": "imbalancePriceAmountGBP"
         }
        }
       }
      }
     },
     "metadata": {},
     "output_type": "display_data"
    }
   ],
   "source": [
    "#Exploratory data analysis\n",
    "#dist of imbalance prices\n",
    "fig3 = px.histogram(df_B1770, x=\"imbalancePriceAmountGBP\", nbins=20)\n",
    "#fig3.show()\n",
    "\n",
    "#price category variable \n",
    "#equally distrbuted, inufficeint and excess balance\n",
    "fig4 = px.histogram(df_B1770, x=\"priceCategory\")\n",
    "#fig4.show()\n",
    "\n",
    "#price category vs imbalance price\n",
    "\n",
    "fig5 = px.scatter(df_B1770, x=\"settlementPeriod\", y=\"imbalancePriceAmountGBP\")\n",
    "fig5.show()\n",
    "\n",
    "#rom eda might need more variables, when access to imbalance data try and join on data to see the relationship between\n",
    "#balance and prices\n",
    "#add weather data aswell"
   ]
  },
  {
   "cell_type": "code",
   "execution_count": 11,
   "metadata": {},
   "outputs": [
    {
     "data": {
      "image/png": "[encoded data removed]",
      "text/plain": [
       "<Figure size 432x288 with 2 Axes>"
      ]
     },
     "metadata": {
      "needs_background": "light"
     },
     "output_type": "display_data"
    }
   ],
   "source": [
    "#settlement period vs imbalance price\n",
    "correlation = df_B1770.corr(method='pearson')\n",
    "\n",
    "ax = sns.heatmap(\n",
    "    correlation, \n",
    "    annot=True,\n",
    "    vmin=-1, vmax=1, center=0,\n",
    "    cmap=sns.diverging_palette(20, 220, n=200),\n",
    "    square=True\n",
    ")"
   ]
  },
  {
   "cell_type": "code",
   "execution_count": 31,
   "metadata": {},
   "outputs": [
    {
     "data": {
      "image/png": "[encoded data removed]",
      "text/plain": [
       "<Figure size 432x288 with 1 Axes>"
      ]
     },
     "metadata": {
      "needs_background": "light"
     },
     "output_type": "display_data"
    }
   ],
   "source": [
    "#prep data for forecasting\n",
    "# df_B1770['day'] = df_B1770['local_datetime'].dt.day\n",
    "# df_B1770['month'] = df_B1770['local_datetime'].dt.month\n",
    "# df_B1770['year'] = df_B1770['local_datetime'].dt.year\n",
    "# df_B1770['hour'] = df_B1770['local_datetime'].dt.hour\n",
    "# df_B1770['minute'] = df_B1770['local_datetime'].dt.minute\n",
    "# df_B1770.head(10)\n",
    "\n",
    "\n",
    "from statsmodels.graphics.tsaplots import plot_acf\n",
    "plot_acf(df_B1770['imbalancePriceAmountGBP'])\n",
    "plt.show()"
   ]
  },
  {
   "cell_type": "code",
   "execution_count": 19,
   "metadata": {},
   "outputs": [],
   "source": [
    "#training and testing data\n",
    "df_B1770_training = df_B1770[(df_B1770['local_datetime'] > '2020-01-01 00:00:00') & (df_B1770['local_datetime'] <= '2020-01-01 11:30:00')]\n",
    "df_B1770_testing = df_B1770[(df_B1770['local_datetime'] > '2020-01-01 12:00:00') & (df_B1770['local_datetime'] <= '2020-01-01 23:00:00')]"
   ]
  },
  {
   "cell_type": "code",
   "execution_count": 23,
   "metadata": {},
   "outputs": [
    {
     "data": {
      "text/html": [
       "<div>\n",
       "<style scoped>\n",
       "    .dataframe tbody tr th:only-of-type {\n",
       "        vertical-align: middle;\n",
       "    }\n",
       "\n",
       "    .dataframe tbody tr th {\n",
       "        vertical-align: top;\n",
       "    }\n",
       "\n",
       "    .dataframe thead th {\n",
       "        text-align: right;\n",
       "    }\n",
       "</style>\n",
       "<table border=\"1\" class=\"dataframe\">\n",
       "  <thead>\n",
       "    <tr style=\"text-align: right;\">\n",
       "      <th></th>\n",
       "      <th>local_datetime</th>\n",
       "      <th>timeSeriesID</th>\n",
       "      <th>businessType</th>\n",
       "      <th>controlArea</th>\n",
       "      <th>settlementDate</th>\n",
       "      <th>settlementPeriod</th>\n",
       "      <th>imbalancePriceAmountGBP</th>\n",
       "      <th>priceCategory</th>\n",
       "      <th>curveType</th>\n",
       "      <th>resolution</th>\n",
       "      <th>...</th>\n",
       "      <th>activeFlag</th>\n",
       "      <th>docStatus</th>\n",
       "      <th>documentID</th>\n",
       "      <th>documentRevNum</th>\n",
       "      <th>local_time</th>\n",
       "      <th>Year</th>\n",
       "      <th>Month</th>\n",
       "      <th>Day</th>\n",
       "      <th>Hour</th>\n",
       "      <th>Minute</th>\n",
       "    </tr>\n",
       "  </thead>\n",
       "  <tbody>\n",
       "    <tr>\n",
       "      <th>2</th>\n",
       "      <td>2020-01-01 00:30:00+00:00</td>\n",
       "      <td>ELX-EMFIP-IMBP-TS-1</td>\n",
       "      <td>Balance energy deviation</td>\n",
       "      <td>10YGB----------A</td>\n",
       "      <td>2020-01-01</td>\n",
       "      <td>2</td>\n",
       "      <td>51.00000</td>\n",
       "      <td>Insufficient balance</td>\n",
       "      <td>Sequential fixed size block</td>\n",
       "      <td>PT30M</td>\n",
       "      <td>...</td>\n",
       "      <td>Y</td>\n",
       "      <td>Final</td>\n",
       "      <td>ELX-EMFIP-IMBP-22438072</td>\n",
       "      <td>1</td>\n",
       "      <td>00:30:00</td>\n",
       "      <td>2020</td>\n",
       "      <td>1</td>\n",
       "      <td>1</td>\n",
       "      <td>0</td>\n",
       "      <td>30</td>\n",
       "    </tr>\n",
       "    <tr>\n",
       "      <th>3</th>\n",
       "      <td>2020-01-01 00:30:00+00:00</td>\n",
       "      <td>ELX-EMFIP-IMBP-TS-2</td>\n",
       "      <td>Balance energy deviation</td>\n",
       "      <td>10YGB----------A</td>\n",
       "      <td>2020-01-01</td>\n",
       "      <td>2</td>\n",
       "      <td>51.00000</td>\n",
       "      <td>Excess balance</td>\n",
       "      <td>Sequential fixed size block</td>\n",
       "      <td>PT30M</td>\n",
       "      <td>...</td>\n",
       "      <td>Y</td>\n",
       "      <td>Final</td>\n",
       "      <td>ELX-EMFIP-IMBP-22438072</td>\n",
       "      <td>1</td>\n",
       "      <td>00:30:00</td>\n",
       "      <td>2020</td>\n",
       "      <td>1</td>\n",
       "      <td>1</td>\n",
       "      <td>0</td>\n",
       "      <td>30</td>\n",
       "    </tr>\n",
       "    <tr>\n",
       "      <th>4</th>\n",
       "      <td>2020-01-01 01:00:00+00:00</td>\n",
       "      <td>ELX-EMFIP-IMBP-TS-1</td>\n",
       "      <td>Balance energy deviation</td>\n",
       "      <td>10YGB----------A</td>\n",
       "      <td>2020-01-01</td>\n",
       "      <td>3</td>\n",
       "      <td>29.37006</td>\n",
       "      <td>Insufficient balance</td>\n",
       "      <td>Sequential fixed size block</td>\n",
       "      <td>PT30M</td>\n",
       "      <td>...</td>\n",
       "      <td>Y</td>\n",
       "      <td>Final</td>\n",
       "      <td>ELX-EMFIP-IMBP-22438191</td>\n",
       "      <td>1</td>\n",
       "      <td>01:00:00</td>\n",
       "      <td>2020</td>\n",
       "      <td>1</td>\n",
       "      <td>1</td>\n",
       "      <td>1</td>\n",
       "      <td>0</td>\n",
       "    </tr>\n",
       "    <tr>\n",
       "      <th>5</th>\n",
       "      <td>2020-01-01 01:00:00+00:00</td>\n",
       "      <td>ELX-EMFIP-IMBP-TS-2</td>\n",
       "      <td>Balance energy deviation</td>\n",
       "      <td>10YGB----------A</td>\n",
       "      <td>2020-01-01</td>\n",
       "      <td>3</td>\n",
       "      <td>29.37006</td>\n",
       "      <td>Excess balance</td>\n",
       "      <td>Sequential fixed size block</td>\n",
       "      <td>PT30M</td>\n",
       "      <td>...</td>\n",
       "      <td>Y</td>\n",
       "      <td>Final</td>\n",
       "      <td>ELX-EMFIP-IMBP-22438191</td>\n",
       "      <td>1</td>\n",
       "      <td>01:00:00</td>\n",
       "      <td>2020</td>\n",
       "      <td>1</td>\n",
       "      <td>1</td>\n",
       "      <td>1</td>\n",
       "      <td>0</td>\n",
       "    </tr>\n",
       "    <tr>\n",
       "      <th>6</th>\n",
       "      <td>2020-01-01 01:30:00+00:00</td>\n",
       "      <td>ELX-EMFIP-IMBP-TS-1</td>\n",
       "      <td>Balance energy deviation</td>\n",
       "      <td>10YGB----------A</td>\n",
       "      <td>2020-01-01</td>\n",
       "      <td>4</td>\n",
       "      <td>28.52000</td>\n",
       "      <td>Insufficient balance</td>\n",
       "      <td>Sequential fixed size block</td>\n",
       "      <td>PT30M</td>\n",
       "      <td>...</td>\n",
       "      <td>Y</td>\n",
       "      <td>Final</td>\n",
       "      <td>ELX-EMFIP-IMBP-22438318</td>\n",
       "      <td>1</td>\n",
       "      <td>01:30:00</td>\n",
       "      <td>2020</td>\n",
       "      <td>1</td>\n",
       "      <td>1</td>\n",
       "      <td>1</td>\n",
       "      <td>30</td>\n",
       "    </tr>\n",
       "  </tbody>\n",
       "</table>\n",
       "<p>5 rows × 22 columns</p>\n",
       "</div>"
      ],
      "text/plain": [
       "             local_datetime         timeSeriesID              businessType  \\\n",
       "2 2020-01-01 00:30:00+00:00  ELX-EMFIP-IMBP-TS-1  Balance energy deviation   \n",
       "3 2020-01-01 00:30:00+00:00  ELX-EMFIP-IMBP-TS-2  Balance energy deviation   \n",
       "4 2020-01-01 01:00:00+00:00  ELX-EMFIP-IMBP-TS-1  Balance energy deviation   \n",
       "5 2020-01-01 01:00:00+00:00  ELX-EMFIP-IMBP-TS-2  Balance energy deviation   \n",
       "6 2020-01-01 01:30:00+00:00  ELX-EMFIP-IMBP-TS-1  Balance energy deviation   \n",
       "\n",
       "        controlArea settlementDate  settlementPeriod  imbalancePriceAmountGBP  \\\n",
       "2  10YGB----------A     2020-01-01                 2                 51.00000   \n",
       "3  10YGB----------A     2020-01-01                 2                 51.00000   \n",
       "4  10YGB----------A     2020-01-01                 3                 29.37006   \n",
       "5  10YGB----------A     2020-01-01                 3                 29.37006   \n",
       "6  10YGB----------A     2020-01-01                 4                 28.52000   \n",
       "\n",
       "          priceCategory                    curveType resolution  ...  \\\n",
       "2  Insufficient balance  Sequential fixed size block      PT30M  ...   \n",
       "3        Excess balance  Sequential fixed size block      PT30M  ...   \n",
       "4  Insufficient balance  Sequential fixed size block      PT30M  ...   \n",
       "5        Excess balance  Sequential fixed size block      PT30M  ...   \n",
       "6  Insufficient balance  Sequential fixed size block      PT30M  ...   \n",
       "\n",
       "  activeFlag docStatus               documentID documentRevNum local_time  \\\n",
       "2          Y     Final  ELX-EMFIP-IMBP-22438072              1   00:30:00   \n",
       "3          Y     Final  ELX-EMFIP-IMBP-22438072              1   00:30:00   \n",
       "4          Y     Final  ELX-EMFIP-IMBP-22438191              1   01:00:00   \n",
       "5          Y     Final  ELX-EMFIP-IMBP-22438191              1   01:00:00   \n",
       "6          Y     Final  ELX-EMFIP-IMBP-22438318              1   01:30:00   \n",
       "\n",
       "   Year Month  Day  Hour  Minute  \n",
       "2  2020     1    1     0      30  \n",
       "3  2020     1    1     0      30  \n",
       "4  2020     1    1     1       0  \n",
       "5  2020     1    1     1       0  \n",
       "6  2020     1    1     1      30  \n",
       "\n",
       "[5 rows x 22 columns]"
      ]
     },
     "execution_count": 23,
     "metadata": {},
     "output_type": "execute_result"
    }
   ],
   "source": [
    "#pre/processing a\n",
    "\n",
    "\n",
    "df_B1770_training.head()\n",
    "\n"
   ]
  },
  {
   "cell_type": "code",
   "execution_count": 20,
   "metadata": {},
   "outputs": [
    {
     "name": "stderr",
     "output_type": "stream",
     "text": [
      "C:\\Users\\Admin\\AppData\\Local\\Temp\\ipykernel_20216\\2428237418.py:2: SettingWithCopyWarning:\n",
      "\n",
      "\n",
      "A value is trying to be set on a copy of a slice from a DataFrame.\n",
      "Try using .loc[row_indexer,col_indexer] = value instead\n",
      "\n",
      "See the caveats in the documentation: https://pandas.pydata.org/pandas-docs/stable/user_guide/indexing.html#returning-a-view-versus-a-copy\n",
      "\n",
      "C:\\Users\\Admin\\AppData\\Local\\Temp\\ipykernel_20216\\2428237418.py:3: SettingWithCopyWarning:\n",
      "\n",
      "\n",
      "A value is trying to be set on a copy of a slice from a DataFrame.\n",
      "Try using .loc[row_indexer,col_indexer] = value instead\n",
      "\n",
      "See the caveats in the documentation: https://pandas.pydata.org/pandas-docs/stable/user_guide/indexing.html#returning-a-view-versus-a-copy\n",
      "\n"
     ]
    }
   ],
   "source": [
    "#pre-processing #lag variables for the dependent variable price\n",
    "df_B1770_training['Lag_1'] = df_B1770_training['imbalancePriceAmountGBP'].shift(1)\n",
    "df_B1770_testing['Lag_1'] = df_B1770_testing['imbalancePriceAmountGBP'].shift(1)"
   ]
  },
  {
   "cell_type": "code",
   "execution_count": 36,
   "metadata": {},
   "outputs": [
    {
     "data": {
      "text/html": [
       "<div>\n",
       "<style scoped>\n",
       "    .dataframe tbody tr th:only-of-type {\n",
       "        vertical-align: middle;\n",
       "    }\n",
       "\n",
       "    .dataframe tbody tr th {\n",
       "        vertical-align: top;\n",
       "    }\n",
       "\n",
       "    .dataframe thead th {\n",
       "        text-align: right;\n",
       "    }\n",
       "</style>\n",
       "<table border=\"1\" class=\"dataframe\">\n",
       "  <thead>\n",
       "    <tr style=\"text-align: right;\">\n",
       "      <th></th>\n",
       "      <th>local_datetime</th>\n",
       "      <th>timeSeriesID</th>\n",
       "      <th>businessType</th>\n",
       "      <th>controlArea</th>\n",
       "      <th>settlementDate</th>\n",
       "      <th>settlementPeriod</th>\n",
       "      <th>imbalancePriceAmountGBP</th>\n",
       "      <th>priceCategory</th>\n",
       "      <th>curveType</th>\n",
       "      <th>resolution</th>\n",
       "      <th>...</th>\n",
       "      <th>docStatus</th>\n",
       "      <th>documentID</th>\n",
       "      <th>documentRevNum</th>\n",
       "      <th>local_time</th>\n",
       "      <th>Year</th>\n",
       "      <th>Month</th>\n",
       "      <th>Day</th>\n",
       "      <th>Hour</th>\n",
       "      <th>Minute</th>\n",
       "      <th>Lag_1</th>\n",
       "    </tr>\n",
       "  </thead>\n",
       "  <tbody>\n",
       "    <tr>\n",
       "      <th>2</th>\n",
       "      <td>2020-01-01 00:30:00+00:00</td>\n",
       "      <td>ELX-EMFIP-IMBP-TS-1</td>\n",
       "      <td>Balance energy deviation</td>\n",
       "      <td>10YGB----------A</td>\n",
       "      <td>2020-01-01</td>\n",
       "      <td>2</td>\n",
       "      <td>51.00000</td>\n",
       "      <td>Insufficient balance</td>\n",
       "      <td>Sequential fixed size block</td>\n",
       "      <td>PT30M</td>\n",
       "      <td>...</td>\n",
       "      <td>Final</td>\n",
       "      <td>ELX-EMFIP-IMBP-22438072</td>\n",
       "      <td>1</td>\n",
       "      <td>00:30:00</td>\n",
       "      <td>2020</td>\n",
       "      <td>1</td>\n",
       "      <td>1</td>\n",
       "      <td>0</td>\n",
       "      <td>30</td>\n",
       "      <td>NaN</td>\n",
       "    </tr>\n",
       "    <tr>\n",
       "      <th>3</th>\n",
       "      <td>2020-01-01 00:30:00+00:00</td>\n",
       "      <td>ELX-EMFIP-IMBP-TS-2</td>\n",
       "      <td>Balance energy deviation</td>\n",
       "      <td>10YGB----------A</td>\n",
       "      <td>2020-01-01</td>\n",
       "      <td>2</td>\n",
       "      <td>51.00000</td>\n",
       "      <td>Excess balance</td>\n",
       "      <td>Sequential fixed size block</td>\n",
       "      <td>PT30M</td>\n",
       "      <td>...</td>\n",
       "      <td>Final</td>\n",
       "      <td>ELX-EMFIP-IMBP-22438072</td>\n",
       "      <td>1</td>\n",
       "      <td>00:30:00</td>\n",
       "      <td>2020</td>\n",
       "      <td>1</td>\n",
       "      <td>1</td>\n",
       "      <td>0</td>\n",
       "      <td>30</td>\n",
       "      <td>51.00000</td>\n",
       "    </tr>\n",
       "    <tr>\n",
       "      <th>4</th>\n",
       "      <td>2020-01-01 01:00:00+00:00</td>\n",
       "      <td>ELX-EMFIP-IMBP-TS-1</td>\n",
       "      <td>Balance energy deviation</td>\n",
       "      <td>10YGB----------A</td>\n",
       "      <td>2020-01-01</td>\n",
       "      <td>3</td>\n",
       "      <td>29.37006</td>\n",
       "      <td>Insufficient balance</td>\n",
       "      <td>Sequential fixed size block</td>\n",
       "      <td>PT30M</td>\n",
       "      <td>...</td>\n",
       "      <td>Final</td>\n",
       "      <td>ELX-EMFIP-IMBP-22438191</td>\n",
       "      <td>1</td>\n",
       "      <td>01:00:00</td>\n",
       "      <td>2020</td>\n",
       "      <td>1</td>\n",
       "      <td>1</td>\n",
       "      <td>1</td>\n",
       "      <td>0</td>\n",
       "      <td>51.00000</td>\n",
       "    </tr>\n",
       "    <tr>\n",
       "      <th>5</th>\n",
       "      <td>2020-01-01 01:00:00+00:00</td>\n",
       "      <td>ELX-EMFIP-IMBP-TS-2</td>\n",
       "      <td>Balance energy deviation</td>\n",
       "      <td>10YGB----------A</td>\n",
       "      <td>2020-01-01</td>\n",
       "      <td>3</td>\n",
       "      <td>29.37006</td>\n",
       "      <td>Excess balance</td>\n",
       "      <td>Sequential fixed size block</td>\n",
       "      <td>PT30M</td>\n",
       "      <td>...</td>\n",
       "      <td>Final</td>\n",
       "      <td>ELX-EMFIP-IMBP-22438191</td>\n",
       "      <td>1</td>\n",
       "      <td>01:00:00</td>\n",
       "      <td>2020</td>\n",
       "      <td>1</td>\n",
       "      <td>1</td>\n",
       "      <td>1</td>\n",
       "      <td>0</td>\n",
       "      <td>29.37006</td>\n",
       "    </tr>\n",
       "    <tr>\n",
       "      <th>6</th>\n",
       "      <td>2020-01-01 01:30:00+00:00</td>\n",
       "      <td>ELX-EMFIP-IMBP-TS-1</td>\n",
       "      <td>Balance energy deviation</td>\n",
       "      <td>10YGB----------A</td>\n",
       "      <td>2020-01-01</td>\n",
       "      <td>4</td>\n",
       "      <td>28.52000</td>\n",
       "      <td>Insufficient balance</td>\n",
       "      <td>Sequential fixed size block</td>\n",
       "      <td>PT30M</td>\n",
       "      <td>...</td>\n",
       "      <td>Final</td>\n",
       "      <td>ELX-EMFIP-IMBP-22438318</td>\n",
       "      <td>1</td>\n",
       "      <td>01:30:00</td>\n",
       "      <td>2020</td>\n",
       "      <td>1</td>\n",
       "      <td>1</td>\n",
       "      <td>1</td>\n",
       "      <td>30</td>\n",
       "      <td>29.37006</td>\n",
       "    </tr>\n",
       "  </tbody>\n",
       "</table>\n",
       "<p>5 rows × 23 columns</p>\n",
       "</div>"
      ],
      "text/plain": [
       "             local_datetime         timeSeriesID              businessType  \\\n",
       "2 2020-01-01 00:30:00+00:00  ELX-EMFIP-IMBP-TS-1  Balance energy deviation   \n",
       "3 2020-01-01 00:30:00+00:00  ELX-EMFIP-IMBP-TS-2  Balance energy deviation   \n",
       "4 2020-01-01 01:00:00+00:00  ELX-EMFIP-IMBP-TS-1  Balance energy deviation   \n",
       "5 2020-01-01 01:00:00+00:00  ELX-EMFIP-IMBP-TS-2  Balance energy deviation   \n",
       "6 2020-01-01 01:30:00+00:00  ELX-EMFIP-IMBP-TS-1  Balance energy deviation   \n",
       "\n",
       "        controlArea settlementDate  settlementPeriod  imbalancePriceAmountGBP  \\\n",
       "2  10YGB----------A     2020-01-01                 2                 51.00000   \n",
       "3  10YGB----------A     2020-01-01                 2                 51.00000   \n",
       "4  10YGB----------A     2020-01-01                 3                 29.37006   \n",
       "5  10YGB----------A     2020-01-01                 3                 29.37006   \n",
       "6  10YGB----------A     2020-01-01                 4                 28.52000   \n",
       "\n",
       "          priceCategory                    curveType resolution  ...  \\\n",
       "2  Insufficient balance  Sequential fixed size block      PT30M  ...   \n",
       "3        Excess balance  Sequential fixed size block      PT30M  ...   \n",
       "4  Insufficient balance  Sequential fixed size block      PT30M  ...   \n",
       "5        Excess balance  Sequential fixed size block      PT30M  ...   \n",
       "6  Insufficient balance  Sequential fixed size block      PT30M  ...   \n",
       "\n",
       "  docStatus               documentID documentRevNum local_time  Year  Month  \\\n",
       "2     Final  ELX-EMFIP-IMBP-22438072              1   00:30:00  2020      1   \n",
       "3     Final  ELX-EMFIP-IMBP-22438072              1   00:30:00  2020      1   \n",
       "4     Final  ELX-EMFIP-IMBP-22438191              1   01:00:00  2020      1   \n",
       "5     Final  ELX-EMFIP-IMBP-22438191              1   01:00:00  2020      1   \n",
       "6     Final  ELX-EMFIP-IMBP-22438318              1   01:30:00  2020      1   \n",
       "\n",
       "  Day  Hour  Minute     Lag_1  \n",
       "2   1     0      30       NaN  \n",
       "3   1     0      30  51.00000  \n",
       "4   1     1       0  51.00000  \n",
       "5   1     1       0  29.37006  \n",
       "6   1     1      30  29.37006  \n",
       "\n",
       "[5 rows x 23 columns]"
      ]
     },
     "execution_count": 36,
     "metadata": {},
     "output_type": "execute_result"
    }
   ],
   "source": [
    "#cycical pre-processing for time.\n",
    "df_B1770_training.head()"
   ]
  },
  {
   "cell_type": "code",
   "execution_count": 38,
   "metadata": {},
   "outputs": [
    {
     "name": "stdout",
     "output_type": "stream",
     "text": [
      "<class 'pandas.core.frame.DataFrame'>\n",
      "Int64Index: 44 entries, 50 to 93\n",
      "Data columns (total 23 columns):\n",
      " #   Column                   Non-Null Count  Dtype                        \n",
      "---  ------                   --------------  -----                        \n",
      " 0   local_datetime           44 non-null     datetime64[ns, Europe/London]\n",
      " 1   timeSeriesID             44 non-null     object                       \n",
      " 2   businessType             44 non-null     category                     \n",
      " 3   controlArea              44 non-null     object                       \n",
      " 4   settlementDate           44 non-null     object                       \n",
      " 5   settlementPeriod         44 non-null     int32                        \n",
      " 6   imbalancePriceAmountGBP  44 non-null     float64                      \n",
      " 7   priceCategory            44 non-null     category                     \n",
      " 8   curveType                44 non-null     category                     \n",
      " 9   resolution               44 non-null     object                       \n",
      " 10  documentType             44 non-null     category                     \n",
      " 11  processType              44 non-null     category                     \n",
      " 12  activeFlag               44 non-null     category                     \n",
      " 13  docStatus                44 non-null     category                     \n",
      " 14  documentID               44 non-null     object                       \n",
      " 15  documentRevNum           44 non-null     int32                        \n",
      " 16  local_time               44 non-null     object                       \n",
      " 17  Year                     44 non-null     int64                        \n",
      " 18  Month                    44 non-null     int64                        \n",
      " 19  Day                      44 non-null     int64                        \n",
      " 20  Hour                     44 non-null     int64                        \n",
      " 21  Minute                   44 non-null     int64                        \n",
      " 22  Lag_1                    43 non-null     float64                      \n",
      "dtypes: category(7), datetime64[ns, Europe/London](1), float64(2), int32(2), int64(5), object(6)\n",
      "memory usage: 6.6+ KB\n"
     ]
    }
   ],
   "source": [
    "#remove altenating rows in the dataframe if needed\n",
    "# df_B1770_training = df_B1770_training.iloc[::2]\n",
    "# df_B1770_testing =  df_B1770_testing.iloc[::2]\n",
    "\n",
    "df_B1770_testing.info()"
   ]
  },
  {
   "cell_type": "code",
   "execution_count": 21,
   "metadata": {},
   "outputs": [],
   "source": [
    "#select the variables for testing and training\n",
    "\n",
    "#do note select local_datetime,timeSeriesID, controlAra, #settlement Date, # documentID \n",
    "df_B1770_training = df_B1770_training[[\"businessType\", \"settlementPeriod\",\"imbalancePriceAmountGBP\",\"priceCategory\",\"curveType\",\"resolution\", \"documentType\", \"processType\", \"activeFlag\",\"docStatus\", \n",
    "\"documentRevNum\", \"local_time\", \"Year\", \"Month\", \"Day\",\"Hour\", \"Minute\", \"Lag_1\"]]\n",
    "\n",
    "df_B1770_testing = df_B1770_testing[[\"businessType\", \"settlementPeriod\",\"imbalancePriceAmountGBP\",\"priceCategory\",\"curveType\",\"resolution\", \"documentType\", \"processType\", \"activeFlag\",\"docStatus\", \n",
    "\"documentRevNum\", \"local_time\", \"Year\", \"Month\", \"Day\",\"Hour\", \"Minute\", \"Lag_1\"]]\n",
    "\n"
   ]
  },
  {
   "cell_type": "code",
   "execution_count": 41,
   "metadata": {},
   "outputs": [
    {
     "data": {
      "text/html": [
       "<div>\n",
       "<style scoped>\n",
       "    .dataframe tbody tr th:only-of-type {\n",
       "        vertical-align: middle;\n",
       "    }\n",
       "\n",
       "    .dataframe tbody tr th {\n",
       "        vertical-align: top;\n",
       "    }\n",
       "\n",
       "    .dataframe thead th {\n",
       "        text-align: right;\n",
       "    }\n",
       "</style>\n",
       "<table border=\"1\" class=\"dataframe\">\n",
       "  <thead>\n",
       "    <tr style=\"text-align: right;\">\n",
       "      <th></th>\n",
       "      <th>businessType</th>\n",
       "      <th>settlementPeriod</th>\n",
       "      <th>imbalancePriceAmountGBP</th>\n",
       "      <th>priceCategory</th>\n",
       "      <th>curveType</th>\n",
       "      <th>resolution</th>\n",
       "      <th>documentType</th>\n",
       "      <th>processType</th>\n",
       "      <th>activeFlag</th>\n",
       "      <th>docStatus</th>\n",
       "      <th>documentRevNum</th>\n",
       "      <th>local_time</th>\n",
       "      <th>Year</th>\n",
       "      <th>Month</th>\n",
       "      <th>Day</th>\n",
       "      <th>Hour</th>\n",
       "      <th>Minute</th>\n",
       "      <th>Lag_1</th>\n",
       "    </tr>\n",
       "  </thead>\n",
       "  <tbody>\n",
       "    <tr>\n",
       "      <th>2</th>\n",
       "      <td>Balance energy deviation</td>\n",
       "      <td>2</td>\n",
       "      <td>51.00000</td>\n",
       "      <td>Insufficient balance</td>\n",
       "      <td>Sequential fixed size block</td>\n",
       "      <td>PT30M</td>\n",
       "      <td>Imbalance prices</td>\n",
       "      <td>Realised</td>\n",
       "      <td>Y</td>\n",
       "      <td>Final</td>\n",
       "      <td>1</td>\n",
       "      <td>00:30:00</td>\n",
       "      <td>2020</td>\n",
       "      <td>1</td>\n",
       "      <td>1</td>\n",
       "      <td>0</td>\n",
       "      <td>30</td>\n",
       "      <td>NaN</td>\n",
       "    </tr>\n",
       "    <tr>\n",
       "      <th>3</th>\n",
       "      <td>Balance energy deviation</td>\n",
       "      <td>2</td>\n",
       "      <td>51.00000</td>\n",
       "      <td>Excess balance</td>\n",
       "      <td>Sequential fixed size block</td>\n",
       "      <td>PT30M</td>\n",
       "      <td>Imbalance prices</td>\n",
       "      <td>Realised</td>\n",
       "      <td>Y</td>\n",
       "      <td>Final</td>\n",
       "      <td>1</td>\n",
       "      <td>00:30:00</td>\n",
       "      <td>2020</td>\n",
       "      <td>1</td>\n",
       "      <td>1</td>\n",
       "      <td>0</td>\n",
       "      <td>30</td>\n",
       "      <td>51.00000</td>\n",
       "    </tr>\n",
       "    <tr>\n",
       "      <th>4</th>\n",
       "      <td>Balance energy deviation</td>\n",
       "      <td>3</td>\n",
       "      <td>29.37006</td>\n",
       "      <td>Insufficient balance</td>\n",
       "      <td>Sequential fixed size block</td>\n",
       "      <td>PT30M</td>\n",
       "      <td>Imbalance prices</td>\n",
       "      <td>Realised</td>\n",
       "      <td>Y</td>\n",
       "      <td>Final</td>\n",
       "      <td>1</td>\n",
       "      <td>01:00:00</td>\n",
       "      <td>2020</td>\n",
       "      <td>1</td>\n",
       "      <td>1</td>\n",
       "      <td>1</td>\n",
       "      <td>0</td>\n",
       "      <td>51.00000</td>\n",
       "    </tr>\n",
       "    <tr>\n",
       "      <th>5</th>\n",
       "      <td>Balance energy deviation</td>\n",
       "      <td>3</td>\n",
       "      <td>29.37006</td>\n",
       "      <td>Excess balance</td>\n",
       "      <td>Sequential fixed size block</td>\n",
       "      <td>PT30M</td>\n",
       "      <td>Imbalance prices</td>\n",
       "      <td>Realised</td>\n",
       "      <td>Y</td>\n",
       "      <td>Final</td>\n",
       "      <td>1</td>\n",
       "      <td>01:00:00</td>\n",
       "      <td>2020</td>\n",
       "      <td>1</td>\n",
       "      <td>1</td>\n",
       "      <td>1</td>\n",
       "      <td>0</td>\n",
       "      <td>29.37006</td>\n",
       "    </tr>\n",
       "    <tr>\n",
       "      <th>6</th>\n",
       "      <td>Balance energy deviation</td>\n",
       "      <td>4</td>\n",
       "      <td>28.52000</td>\n",
       "      <td>Insufficient balance</td>\n",
       "      <td>Sequential fixed size block</td>\n",
       "      <td>PT30M</td>\n",
       "      <td>Imbalance prices</td>\n",
       "      <td>Realised</td>\n",
       "      <td>Y</td>\n",
       "      <td>Final</td>\n",
       "      <td>1</td>\n",
       "      <td>01:30:00</td>\n",
       "      <td>2020</td>\n",
       "      <td>1</td>\n",
       "      <td>1</td>\n",
       "      <td>1</td>\n",
       "      <td>30</td>\n",
       "      <td>29.37006</td>\n",
       "    </tr>\n",
       "    <tr>\n",
       "      <th>7</th>\n",
       "      <td>Balance energy deviation</td>\n",
       "      <td>4</td>\n",
       "      <td>28.52000</td>\n",
       "      <td>Excess balance</td>\n",
       "      <td>Sequential fixed size block</td>\n",
       "      <td>PT30M</td>\n",
       "      <td>Imbalance prices</td>\n",
       "      <td>Realised</td>\n",
       "      <td>Y</td>\n",
       "      <td>Final</td>\n",
       "      <td>1</td>\n",
       "      <td>01:30:00</td>\n",
       "      <td>2020</td>\n",
       "      <td>1</td>\n",
       "      <td>1</td>\n",
       "      <td>1</td>\n",
       "      <td>30</td>\n",
       "      <td>28.52000</td>\n",
       "    </tr>\n",
       "    <tr>\n",
       "      <th>8</th>\n",
       "      <td>Balance energy deviation</td>\n",
       "      <td>5</td>\n",
       "      <td>25.78000</td>\n",
       "      <td>Insufficient balance</td>\n",
       "      <td>Sequential fixed size block</td>\n",
       "      <td>PT30M</td>\n",
       "      <td>Imbalance prices</td>\n",
       "      <td>Realised</td>\n",
       "      <td>Y</td>\n",
       "      <td>Final</td>\n",
       "      <td>1</td>\n",
       "      <td>02:00:00</td>\n",
       "      <td>2020</td>\n",
       "      <td>1</td>\n",
       "      <td>1</td>\n",
       "      <td>2</td>\n",
       "      <td>0</td>\n",
       "      <td>28.52000</td>\n",
       "    </tr>\n",
       "    <tr>\n",
       "      <th>9</th>\n",
       "      <td>Balance energy deviation</td>\n",
       "      <td>5</td>\n",
       "      <td>25.78000</td>\n",
       "      <td>Excess balance</td>\n",
       "      <td>Sequential fixed size block</td>\n",
       "      <td>PT30M</td>\n",
       "      <td>Imbalance prices</td>\n",
       "      <td>Realised</td>\n",
       "      <td>Y</td>\n",
       "      <td>Final</td>\n",
       "      <td>1</td>\n",
       "      <td>02:00:00</td>\n",
       "      <td>2020</td>\n",
       "      <td>1</td>\n",
       "      <td>1</td>\n",
       "      <td>2</td>\n",
       "      <td>0</td>\n",
       "      <td>25.78000</td>\n",
       "    </tr>\n",
       "    <tr>\n",
       "      <th>10</th>\n",
       "      <td>Balance energy deviation</td>\n",
       "      <td>6</td>\n",
       "      <td>24.77018</td>\n",
       "      <td>Insufficient balance</td>\n",
       "      <td>Sequential fixed size block</td>\n",
       "      <td>PT30M</td>\n",
       "      <td>Imbalance prices</td>\n",
       "      <td>Realised</td>\n",
       "      <td>Y</td>\n",
       "      <td>Final</td>\n",
       "      <td>1</td>\n",
       "      <td>02:30:00</td>\n",
       "      <td>2020</td>\n",
       "      <td>1</td>\n",
       "      <td>1</td>\n",
       "      <td>2</td>\n",
       "      <td>30</td>\n",
       "      <td>25.78000</td>\n",
       "    </tr>\n",
       "    <tr>\n",
       "      <th>11</th>\n",
       "      <td>Balance energy deviation</td>\n",
       "      <td>6</td>\n",
       "      <td>24.77018</td>\n",
       "      <td>Excess balance</td>\n",
       "      <td>Sequential fixed size block</td>\n",
       "      <td>PT30M</td>\n",
       "      <td>Imbalance prices</td>\n",
       "      <td>Realised</td>\n",
       "      <td>Y</td>\n",
       "      <td>Final</td>\n",
       "      <td>1</td>\n",
       "      <td>02:30:00</td>\n",
       "      <td>2020</td>\n",
       "      <td>1</td>\n",
       "      <td>1</td>\n",
       "      <td>2</td>\n",
       "      <td>30</td>\n",
       "      <td>24.77018</td>\n",
       "    </tr>\n",
       "    <tr>\n",
       "      <th>12</th>\n",
       "      <td>Balance energy deviation</td>\n",
       "      <td>7</td>\n",
       "      <td>50.50000</td>\n",
       "      <td>Insufficient balance</td>\n",
       "      <td>Sequential fixed size block</td>\n",
       "      <td>PT30M</td>\n",
       "      <td>Imbalance prices</td>\n",
       "      <td>Realised</td>\n",
       "      <td>Y</td>\n",
       "      <td>Final</td>\n",
       "      <td>1</td>\n",
       "      <td>03:00:00</td>\n",
       "      <td>2020</td>\n",
       "      <td>1</td>\n",
       "      <td>1</td>\n",
       "      <td>3</td>\n",
       "      <td>0</td>\n",
       "      <td>24.77018</td>\n",
       "    </tr>\n",
       "    <tr>\n",
       "      <th>13</th>\n",
       "      <td>Balance energy deviation</td>\n",
       "      <td>7</td>\n",
       "      <td>50.50000</td>\n",
       "      <td>Excess balance</td>\n",
       "      <td>Sequential fixed size block</td>\n",
       "      <td>PT30M</td>\n",
       "      <td>Imbalance prices</td>\n",
       "      <td>Realised</td>\n",
       "      <td>Y</td>\n",
       "      <td>Final</td>\n",
       "      <td>1</td>\n",
       "      <td>03:00:00</td>\n",
       "      <td>2020</td>\n",
       "      <td>1</td>\n",
       "      <td>1</td>\n",
       "      <td>3</td>\n",
       "      <td>0</td>\n",
       "      <td>50.50000</td>\n",
       "    </tr>\n",
       "    <tr>\n",
       "      <th>14</th>\n",
       "      <td>Balance energy deviation</td>\n",
       "      <td>8</td>\n",
       "      <td>50.00000</td>\n",
       "      <td>Insufficient balance</td>\n",
       "      <td>Sequential fixed size block</td>\n",
       "      <td>PT30M</td>\n",
       "      <td>Imbalance prices</td>\n",
       "      <td>Realised</td>\n",
       "      <td>Y</td>\n",
       "      <td>Final</td>\n",
       "      <td>1</td>\n",
       "      <td>03:30:00</td>\n",
       "      <td>2020</td>\n",
       "      <td>1</td>\n",
       "      <td>1</td>\n",
       "      <td>3</td>\n",
       "      <td>30</td>\n",
       "      <td>50.50000</td>\n",
       "    </tr>\n",
       "    <tr>\n",
       "      <th>15</th>\n",
       "      <td>Balance energy deviation</td>\n",
       "      <td>8</td>\n",
       "      <td>50.00000</td>\n",
       "      <td>Excess balance</td>\n",
       "      <td>Sequential fixed size block</td>\n",
       "      <td>PT30M</td>\n",
       "      <td>Imbalance prices</td>\n",
       "      <td>Realised</td>\n",
       "      <td>Y</td>\n",
       "      <td>Final</td>\n",
       "      <td>1</td>\n",
       "      <td>03:30:00</td>\n",
       "      <td>2020</td>\n",
       "      <td>1</td>\n",
       "      <td>1</td>\n",
       "      <td>3</td>\n",
       "      <td>30</td>\n",
       "      <td>50.00000</td>\n",
       "    </tr>\n",
       "    <tr>\n",
       "      <th>16</th>\n",
       "      <td>Balance energy deviation</td>\n",
       "      <td>9</td>\n",
       "      <td>23.93006</td>\n",
       "      <td>Insufficient balance</td>\n",
       "      <td>Sequential fixed size block</td>\n",
       "      <td>PT30M</td>\n",
       "      <td>Imbalance prices</td>\n",
       "      <td>Realised</td>\n",
       "      <td>Y</td>\n",
       "      <td>Final</td>\n",
       "      <td>1</td>\n",
       "      <td>04:00:00</td>\n",
       "      <td>2020</td>\n",
       "      <td>1</td>\n",
       "      <td>1</td>\n",
       "      <td>4</td>\n",
       "      <td>0</td>\n",
       "      <td>50.00000</td>\n",
       "    </tr>\n",
       "    <tr>\n",
       "      <th>17</th>\n",
       "      <td>Balance energy deviation</td>\n",
       "      <td>9</td>\n",
       "      <td>23.93006</td>\n",
       "      <td>Excess balance</td>\n",
       "      <td>Sequential fixed size block</td>\n",
       "      <td>PT30M</td>\n",
       "      <td>Imbalance prices</td>\n",
       "      <td>Realised</td>\n",
       "      <td>Y</td>\n",
       "      <td>Final</td>\n",
       "      <td>1</td>\n",
       "      <td>04:00:00</td>\n",
       "      <td>2020</td>\n",
       "      <td>1</td>\n",
       "      <td>1</td>\n",
       "      <td>4</td>\n",
       "      <td>0</td>\n",
       "      <td>23.93006</td>\n",
       "    </tr>\n",
       "    <tr>\n",
       "      <th>18</th>\n",
       "      <td>Balance energy deviation</td>\n",
       "      <td>10</td>\n",
       "      <td>23.93006</td>\n",
       "      <td>Insufficient balance</td>\n",
       "      <td>Sequential fixed size block</td>\n",
       "      <td>PT30M</td>\n",
       "      <td>Imbalance prices</td>\n",
       "      <td>Realised</td>\n",
       "      <td>Y</td>\n",
       "      <td>Final</td>\n",
       "      <td>1</td>\n",
       "      <td>04:30:00</td>\n",
       "      <td>2020</td>\n",
       "      <td>1</td>\n",
       "      <td>1</td>\n",
       "      <td>4</td>\n",
       "      <td>30</td>\n",
       "      <td>23.93006</td>\n",
       "    </tr>\n",
       "    <tr>\n",
       "      <th>19</th>\n",
       "      <td>Balance energy deviation</td>\n",
       "      <td>10</td>\n",
       "      <td>23.93006</td>\n",
       "      <td>Excess balance</td>\n",
       "      <td>Sequential fixed size block</td>\n",
       "      <td>PT30M</td>\n",
       "      <td>Imbalance prices</td>\n",
       "      <td>Realised</td>\n",
       "      <td>Y</td>\n",
       "      <td>Final</td>\n",
       "      <td>1</td>\n",
       "      <td>04:30:00</td>\n",
       "      <td>2020</td>\n",
       "      <td>1</td>\n",
       "      <td>1</td>\n",
       "      <td>4</td>\n",
       "      <td>30</td>\n",
       "      <td>23.93006</td>\n",
       "    </tr>\n",
       "    <tr>\n",
       "      <th>20</th>\n",
       "      <td>Balance energy deviation</td>\n",
       "      <td>11</td>\n",
       "      <td>6.00000</td>\n",
       "      <td>Insufficient balance</td>\n",
       "      <td>Sequential fixed size block</td>\n",
       "      <td>PT30M</td>\n",
       "      <td>Imbalance prices</td>\n",
       "      <td>Realised</td>\n",
       "      <td>Y</td>\n",
       "      <td>Final</td>\n",
       "      <td>1</td>\n",
       "      <td>05:00:00</td>\n",
       "      <td>2020</td>\n",
       "      <td>1</td>\n",
       "      <td>1</td>\n",
       "      <td>5</td>\n",
       "      <td>0</td>\n",
       "      <td>23.93006</td>\n",
       "    </tr>\n",
       "    <tr>\n",
       "      <th>21</th>\n",
       "      <td>Balance energy deviation</td>\n",
       "      <td>11</td>\n",
       "      <td>6.00000</td>\n",
       "      <td>Excess balance</td>\n",
       "      <td>Sequential fixed size block</td>\n",
       "      <td>PT30M</td>\n",
       "      <td>Imbalance prices</td>\n",
       "      <td>Realised</td>\n",
       "      <td>Y</td>\n",
       "      <td>Final</td>\n",
       "      <td>1</td>\n",
       "      <td>05:00:00</td>\n",
       "      <td>2020</td>\n",
       "      <td>1</td>\n",
       "      <td>1</td>\n",
       "      <td>5</td>\n",
       "      <td>0</td>\n",
       "      <td>6.00000</td>\n",
       "    </tr>\n",
       "    <tr>\n",
       "      <th>22</th>\n",
       "      <td>Balance energy deviation</td>\n",
       "      <td>12</td>\n",
       "      <td>6.00000</td>\n",
       "      <td>Insufficient balance</td>\n",
       "      <td>Sequential fixed size block</td>\n",
       "      <td>PT30M</td>\n",
       "      <td>Imbalance prices</td>\n",
       "      <td>Realised</td>\n",
       "      <td>Y</td>\n",
       "      <td>Final</td>\n",
       "      <td>1</td>\n",
       "      <td>05:30:00</td>\n",
       "      <td>2020</td>\n",
       "      <td>1</td>\n",
       "      <td>1</td>\n",
       "      <td>5</td>\n",
       "      <td>30</td>\n",
       "      <td>6.00000</td>\n",
       "    </tr>\n",
       "    <tr>\n",
       "      <th>23</th>\n",
       "      <td>Balance energy deviation</td>\n",
       "      <td>12</td>\n",
       "      <td>6.00000</td>\n",
       "      <td>Excess balance</td>\n",
       "      <td>Sequential fixed size block</td>\n",
       "      <td>PT30M</td>\n",
       "      <td>Imbalance prices</td>\n",
       "      <td>Realised</td>\n",
       "      <td>Y</td>\n",
       "      <td>Final</td>\n",
       "      <td>1</td>\n",
       "      <td>05:30:00</td>\n",
       "      <td>2020</td>\n",
       "      <td>1</td>\n",
       "      <td>1</td>\n",
       "      <td>5</td>\n",
       "      <td>30</td>\n",
       "      <td>6.00000</td>\n",
       "    </tr>\n",
       "    <tr>\n",
       "      <th>24</th>\n",
       "      <td>Balance energy deviation</td>\n",
       "      <td>13</td>\n",
       "      <td>23.82000</td>\n",
       "      <td>Insufficient balance</td>\n",
       "      <td>Sequential fixed size block</td>\n",
       "      <td>PT30M</td>\n",
       "      <td>Imbalance prices</td>\n",
       "      <td>Realised</td>\n",
       "      <td>Y</td>\n",
       "      <td>Final</td>\n",
       "      <td>1</td>\n",
       "      <td>06:00:00</td>\n",
       "      <td>2020</td>\n",
       "      <td>1</td>\n",
       "      <td>1</td>\n",
       "      <td>6</td>\n",
       "      <td>0</td>\n",
       "      <td>6.00000</td>\n",
       "    </tr>\n",
       "    <tr>\n",
       "      <th>25</th>\n",
       "      <td>Balance energy deviation</td>\n",
       "      <td>13</td>\n",
       "      <td>23.82000</td>\n",
       "      <td>Excess balance</td>\n",
       "      <td>Sequential fixed size block</td>\n",
       "      <td>PT30M</td>\n",
       "      <td>Imbalance prices</td>\n",
       "      <td>Realised</td>\n",
       "      <td>Y</td>\n",
       "      <td>Final</td>\n",
       "      <td>1</td>\n",
       "      <td>06:00:00</td>\n",
       "      <td>2020</td>\n",
       "      <td>1</td>\n",
       "      <td>1</td>\n",
       "      <td>6</td>\n",
       "      <td>0</td>\n",
       "      <td>23.82000</td>\n",
       "    </tr>\n",
       "    <tr>\n",
       "      <th>26</th>\n",
       "      <td>Balance energy deviation</td>\n",
       "      <td>14</td>\n",
       "      <td>31.69000</td>\n",
       "      <td>Insufficient balance</td>\n",
       "      <td>Sequential fixed size block</td>\n",
       "      <td>PT30M</td>\n",
       "      <td>Imbalance prices</td>\n",
       "      <td>Realised</td>\n",
       "      <td>Y</td>\n",
       "      <td>Final</td>\n",
       "      <td>1</td>\n",
       "      <td>06:30:00</td>\n",
       "      <td>2020</td>\n",
       "      <td>1</td>\n",
       "      <td>1</td>\n",
       "      <td>6</td>\n",
       "      <td>30</td>\n",
       "      <td>23.82000</td>\n",
       "    </tr>\n",
       "    <tr>\n",
       "      <th>27</th>\n",
       "      <td>Balance energy deviation</td>\n",
       "      <td>14</td>\n",
       "      <td>31.69000</td>\n",
       "      <td>Excess balance</td>\n",
       "      <td>Sequential fixed size block</td>\n",
       "      <td>PT30M</td>\n",
       "      <td>Imbalance prices</td>\n",
       "      <td>Realised</td>\n",
       "      <td>Y</td>\n",
       "      <td>Final</td>\n",
       "      <td>1</td>\n",
       "      <td>06:30:00</td>\n",
       "      <td>2020</td>\n",
       "      <td>1</td>\n",
       "      <td>1</td>\n",
       "      <td>6</td>\n",
       "      <td>30</td>\n",
       "      <td>31.69000</td>\n",
       "    </tr>\n",
       "    <tr>\n",
       "      <th>28</th>\n",
       "      <td>Balance energy deviation</td>\n",
       "      <td>15</td>\n",
       "      <td>23.98000</td>\n",
       "      <td>Insufficient balance</td>\n",
       "      <td>Sequential fixed size block</td>\n",
       "      <td>PT30M</td>\n",
       "      <td>Imbalance prices</td>\n",
       "      <td>Realised</td>\n",
       "      <td>Y</td>\n",
       "      <td>Final</td>\n",
       "      <td>1</td>\n",
       "      <td>07:00:00</td>\n",
       "      <td>2020</td>\n",
       "      <td>1</td>\n",
       "      <td>1</td>\n",
       "      <td>7</td>\n",
       "      <td>0</td>\n",
       "      <td>31.69000</td>\n",
       "    </tr>\n",
       "    <tr>\n",
       "      <th>29</th>\n",
       "      <td>Balance energy deviation</td>\n",
       "      <td>15</td>\n",
       "      <td>23.98000</td>\n",
       "      <td>Excess balance</td>\n",
       "      <td>Sequential fixed size block</td>\n",
       "      <td>PT30M</td>\n",
       "      <td>Imbalance prices</td>\n",
       "      <td>Realised</td>\n",
       "      <td>Y</td>\n",
       "      <td>Final</td>\n",
       "      <td>1</td>\n",
       "      <td>07:00:00</td>\n",
       "      <td>2020</td>\n",
       "      <td>1</td>\n",
       "      <td>1</td>\n",
       "      <td>7</td>\n",
       "      <td>0</td>\n",
       "      <td>23.98000</td>\n",
       "    </tr>\n",
       "    <tr>\n",
       "      <th>30</th>\n",
       "      <td>Balance energy deviation</td>\n",
       "      <td>16</td>\n",
       "      <td>52.00000</td>\n",
       "      <td>Insufficient balance</td>\n",
       "      <td>Sequential fixed size block</td>\n",
       "      <td>PT30M</td>\n",
       "      <td>Imbalance prices</td>\n",
       "      <td>Realised</td>\n",
       "      <td>Y</td>\n",
       "      <td>Final</td>\n",
       "      <td>1</td>\n",
       "      <td>07:30:00</td>\n",
       "      <td>2020</td>\n",
       "      <td>1</td>\n",
       "      <td>1</td>\n",
       "      <td>7</td>\n",
       "      <td>30</td>\n",
       "      <td>23.98000</td>\n",
       "    </tr>\n",
       "    <tr>\n",
       "      <th>31</th>\n",
       "      <td>Balance energy deviation</td>\n",
       "      <td>16</td>\n",
       "      <td>52.00000</td>\n",
       "      <td>Excess balance</td>\n",
       "      <td>Sequential fixed size block</td>\n",
       "      <td>PT30M</td>\n",
       "      <td>Imbalance prices</td>\n",
       "      <td>Realised</td>\n",
       "      <td>Y</td>\n",
       "      <td>Final</td>\n",
       "      <td>1</td>\n",
       "      <td>07:30:00</td>\n",
       "      <td>2020</td>\n",
       "      <td>1</td>\n",
       "      <td>1</td>\n",
       "      <td>7</td>\n",
       "      <td>30</td>\n",
       "      <td>52.00000</td>\n",
       "    </tr>\n",
       "    <tr>\n",
       "      <th>32</th>\n",
       "      <td>Balance energy deviation</td>\n",
       "      <td>17</td>\n",
       "      <td>52.00000</td>\n",
       "      <td>Insufficient balance</td>\n",
       "      <td>Sequential fixed size block</td>\n",
       "      <td>PT30M</td>\n",
       "      <td>Imbalance prices</td>\n",
       "      <td>Realised</td>\n",
       "      <td>Y</td>\n",
       "      <td>Final</td>\n",
       "      <td>1</td>\n",
       "      <td>08:00:00</td>\n",
       "      <td>2020</td>\n",
       "      <td>1</td>\n",
       "      <td>1</td>\n",
       "      <td>8</td>\n",
       "      <td>0</td>\n",
       "      <td>52.00000</td>\n",
       "    </tr>\n",
       "    <tr>\n",
       "      <th>33</th>\n",
       "      <td>Balance energy deviation</td>\n",
       "      <td>17</td>\n",
       "      <td>52.00000</td>\n",
       "      <td>Excess balance</td>\n",
       "      <td>Sequential fixed size block</td>\n",
       "      <td>PT30M</td>\n",
       "      <td>Imbalance prices</td>\n",
       "      <td>Realised</td>\n",
       "      <td>Y</td>\n",
       "      <td>Final</td>\n",
       "      <td>1</td>\n",
       "      <td>08:00:00</td>\n",
       "      <td>2020</td>\n",
       "      <td>1</td>\n",
       "      <td>1</td>\n",
       "      <td>8</td>\n",
       "      <td>0</td>\n",
       "      <td>52.00000</td>\n",
       "    </tr>\n",
       "    <tr>\n",
       "      <th>34</th>\n",
       "      <td>Balance energy deviation</td>\n",
       "      <td>18</td>\n",
       "      <td>52.00000</td>\n",
       "      <td>Insufficient balance</td>\n",
       "      <td>Sequential fixed size block</td>\n",
       "      <td>PT30M</td>\n",
       "      <td>Imbalance prices</td>\n",
       "      <td>Realised</td>\n",
       "      <td>Y</td>\n",
       "      <td>Final</td>\n",
       "      <td>1</td>\n",
       "      <td>08:30:00</td>\n",
       "      <td>2020</td>\n",
       "      <td>1</td>\n",
       "      <td>1</td>\n",
       "      <td>8</td>\n",
       "      <td>30</td>\n",
       "      <td>52.00000</td>\n",
       "    </tr>\n",
       "    <tr>\n",
       "      <th>35</th>\n",
       "      <td>Balance energy deviation</td>\n",
       "      <td>18</td>\n",
       "      <td>52.00000</td>\n",
       "      <td>Excess balance</td>\n",
       "      <td>Sequential fixed size block</td>\n",
       "      <td>PT30M</td>\n",
       "      <td>Imbalance prices</td>\n",
       "      <td>Realised</td>\n",
       "      <td>Y</td>\n",
       "      <td>Final</td>\n",
       "      <td>1</td>\n",
       "      <td>08:30:00</td>\n",
       "      <td>2020</td>\n",
       "      <td>1</td>\n",
       "      <td>1</td>\n",
       "      <td>8</td>\n",
       "      <td>30</td>\n",
       "      <td>52.00000</td>\n",
       "    </tr>\n",
       "    <tr>\n",
       "      <th>36</th>\n",
       "      <td>Balance energy deviation</td>\n",
       "      <td>19</td>\n",
       "      <td>52.00000</td>\n",
       "      <td>Insufficient balance</td>\n",
       "      <td>Sequential fixed size block</td>\n",
       "      <td>PT30M</td>\n",
       "      <td>Imbalance prices</td>\n",
       "      <td>Realised</td>\n",
       "      <td>Y</td>\n",
       "      <td>Final</td>\n",
       "      <td>1</td>\n",
       "      <td>09:00:00</td>\n",
       "      <td>2020</td>\n",
       "      <td>1</td>\n",
       "      <td>1</td>\n",
       "      <td>9</td>\n",
       "      <td>0</td>\n",
       "      <td>52.00000</td>\n",
       "    </tr>\n",
       "    <tr>\n",
       "      <th>37</th>\n",
       "      <td>Balance energy deviation</td>\n",
       "      <td>19</td>\n",
       "      <td>52.00000</td>\n",
       "      <td>Excess balance</td>\n",
       "      <td>Sequential fixed size block</td>\n",
       "      <td>PT30M</td>\n",
       "      <td>Imbalance prices</td>\n",
       "      <td>Realised</td>\n",
       "      <td>Y</td>\n",
       "      <td>Final</td>\n",
       "      <td>1</td>\n",
       "      <td>09:00:00</td>\n",
       "      <td>2020</td>\n",
       "      <td>1</td>\n",
       "      <td>1</td>\n",
       "      <td>9</td>\n",
       "      <td>0</td>\n",
       "      <td>52.00000</td>\n",
       "    </tr>\n",
       "    <tr>\n",
       "      <th>38</th>\n",
       "      <td>Balance energy deviation</td>\n",
       "      <td>20</td>\n",
       "      <td>51.00000</td>\n",
       "      <td>Insufficient balance</td>\n",
       "      <td>Sequential fixed size block</td>\n",
       "      <td>PT30M</td>\n",
       "      <td>Imbalance prices</td>\n",
       "      <td>Realised</td>\n",
       "      <td>Y</td>\n",
       "      <td>Final</td>\n",
       "      <td>1</td>\n",
       "      <td>09:30:00</td>\n",
       "      <td>2020</td>\n",
       "      <td>1</td>\n",
       "      <td>1</td>\n",
       "      <td>9</td>\n",
       "      <td>30</td>\n",
       "      <td>52.00000</td>\n",
       "    </tr>\n",
       "    <tr>\n",
       "      <th>39</th>\n",
       "      <td>Balance energy deviation</td>\n",
       "      <td>20</td>\n",
       "      <td>51.00000</td>\n",
       "      <td>Excess balance</td>\n",
       "      <td>Sequential fixed size block</td>\n",
       "      <td>PT30M</td>\n",
       "      <td>Imbalance prices</td>\n",
       "      <td>Realised</td>\n",
       "      <td>Y</td>\n",
       "      <td>Final</td>\n",
       "      <td>1</td>\n",
       "      <td>09:30:00</td>\n",
       "      <td>2020</td>\n",
       "      <td>1</td>\n",
       "      <td>1</td>\n",
       "      <td>9</td>\n",
       "      <td>30</td>\n",
       "      <td>51.00000</td>\n",
       "    </tr>\n",
       "    <tr>\n",
       "      <th>40</th>\n",
       "      <td>Balance energy deviation</td>\n",
       "      <td>21</td>\n",
       "      <td>51.90000</td>\n",
       "      <td>Insufficient balance</td>\n",
       "      <td>Sequential fixed size block</td>\n",
       "      <td>PT30M</td>\n",
       "      <td>Imbalance prices</td>\n",
       "      <td>Realised</td>\n",
       "      <td>Y</td>\n",
       "      <td>Final</td>\n",
       "      <td>1</td>\n",
       "      <td>10:00:00</td>\n",
       "      <td>2020</td>\n",
       "      <td>1</td>\n",
       "      <td>1</td>\n",
       "      <td>10</td>\n",
       "      <td>0</td>\n",
       "      <td>51.00000</td>\n",
       "    </tr>\n",
       "    <tr>\n",
       "      <th>41</th>\n",
       "      <td>Balance energy deviation</td>\n",
       "      <td>21</td>\n",
       "      <td>51.90000</td>\n",
       "      <td>Excess balance</td>\n",
       "      <td>Sequential fixed size block</td>\n",
       "      <td>PT30M</td>\n",
       "      <td>Imbalance prices</td>\n",
       "      <td>Realised</td>\n",
       "      <td>Y</td>\n",
       "      <td>Final</td>\n",
       "      <td>1</td>\n",
       "      <td>10:00:00</td>\n",
       "      <td>2020</td>\n",
       "      <td>1</td>\n",
       "      <td>1</td>\n",
       "      <td>10</td>\n",
       "      <td>0</td>\n",
       "      <td>51.90000</td>\n",
       "    </tr>\n",
       "    <tr>\n",
       "      <th>42</th>\n",
       "      <td>Balance energy deviation</td>\n",
       "      <td>22</td>\n",
       "      <td>51.00000</td>\n",
       "      <td>Insufficient balance</td>\n",
       "      <td>Sequential fixed size block</td>\n",
       "      <td>PT30M</td>\n",
       "      <td>Imbalance prices</td>\n",
       "      <td>Realised</td>\n",
       "      <td>Y</td>\n",
       "      <td>Final</td>\n",
       "      <td>1</td>\n",
       "      <td>10:30:00</td>\n",
       "      <td>2020</td>\n",
       "      <td>1</td>\n",
       "      <td>1</td>\n",
       "      <td>10</td>\n",
       "      <td>30</td>\n",
       "      <td>51.90000</td>\n",
       "    </tr>\n",
       "    <tr>\n",
       "      <th>43</th>\n",
       "      <td>Balance energy deviation</td>\n",
       "      <td>22</td>\n",
       "      <td>51.00000</td>\n",
       "      <td>Excess balance</td>\n",
       "      <td>Sequential fixed size block</td>\n",
       "      <td>PT30M</td>\n",
       "      <td>Imbalance prices</td>\n",
       "      <td>Realised</td>\n",
       "      <td>Y</td>\n",
       "      <td>Final</td>\n",
       "      <td>1</td>\n",
       "      <td>10:30:00</td>\n",
       "      <td>2020</td>\n",
       "      <td>1</td>\n",
       "      <td>1</td>\n",
       "      <td>10</td>\n",
       "      <td>30</td>\n",
       "      <td>51.00000</td>\n",
       "    </tr>\n",
       "    <tr>\n",
       "      <th>44</th>\n",
       "      <td>Balance energy deviation</td>\n",
       "      <td>23</td>\n",
       "      <td>25.59000</td>\n",
       "      <td>Insufficient balance</td>\n",
       "      <td>Sequential fixed size block</td>\n",
       "      <td>PT30M</td>\n",
       "      <td>Imbalance prices</td>\n",
       "      <td>Realised</td>\n",
       "      <td>Y</td>\n",
       "      <td>Final</td>\n",
       "      <td>1</td>\n",
       "      <td>11:00:00</td>\n",
       "      <td>2020</td>\n",
       "      <td>1</td>\n",
       "      <td>1</td>\n",
       "      <td>11</td>\n",
       "      <td>0</td>\n",
       "      <td>51.00000</td>\n",
       "    </tr>\n",
       "    <tr>\n",
       "      <th>45</th>\n",
       "      <td>Balance energy deviation</td>\n",
       "      <td>23</td>\n",
       "      <td>25.59000</td>\n",
       "      <td>Excess balance</td>\n",
       "      <td>Sequential fixed size block</td>\n",
       "      <td>PT30M</td>\n",
       "      <td>Imbalance prices</td>\n",
       "      <td>Realised</td>\n",
       "      <td>Y</td>\n",
       "      <td>Final</td>\n",
       "      <td>1</td>\n",
       "      <td>11:00:00</td>\n",
       "      <td>2020</td>\n",
       "      <td>1</td>\n",
       "      <td>1</td>\n",
       "      <td>11</td>\n",
       "      <td>0</td>\n",
       "      <td>25.59000</td>\n",
       "    </tr>\n",
       "    <tr>\n",
       "      <th>46</th>\n",
       "      <td>Balance energy deviation</td>\n",
       "      <td>24</td>\n",
       "      <td>7.50000</td>\n",
       "      <td>Insufficient balance</td>\n",
       "      <td>Sequential fixed size block</td>\n",
       "      <td>PT30M</td>\n",
       "      <td>Imbalance prices</td>\n",
       "      <td>Realised</td>\n",
       "      <td>Y</td>\n",
       "      <td>Final</td>\n",
       "      <td>1</td>\n",
       "      <td>11:30:00</td>\n",
       "      <td>2020</td>\n",
       "      <td>1</td>\n",
       "      <td>1</td>\n",
       "      <td>11</td>\n",
       "      <td>30</td>\n",
       "      <td>25.59000</td>\n",
       "    </tr>\n",
       "    <tr>\n",
       "      <th>47</th>\n",
       "      <td>Balance energy deviation</td>\n",
       "      <td>24</td>\n",
       "      <td>7.50000</td>\n",
       "      <td>Excess balance</td>\n",
       "      <td>Sequential fixed size block</td>\n",
       "      <td>PT30M</td>\n",
       "      <td>Imbalance prices</td>\n",
       "      <td>Realised</td>\n",
       "      <td>Y</td>\n",
       "      <td>Final</td>\n",
       "      <td>1</td>\n",
       "      <td>11:30:00</td>\n",
       "      <td>2020</td>\n",
       "      <td>1</td>\n",
       "      <td>1</td>\n",
       "      <td>11</td>\n",
       "      <td>30</td>\n",
       "      <td>7.50000</td>\n",
       "    </tr>\n",
       "  </tbody>\n",
       "</table>\n",
       "</div>"
      ],
      "text/plain": [
       "                businessType  settlementPeriod  imbalancePriceAmountGBP  \\\n",
       "2   Balance energy deviation                 2                 51.00000   \n",
       "3   Balance energy deviation                 2                 51.00000   \n",
       "4   Balance energy deviation                 3                 29.37006   \n",
       "5   Balance energy deviation                 3                 29.37006   \n",
       "6   Balance energy deviation                 4                 28.52000   \n",
       "7   Balance energy deviation                 4                 28.52000   \n",
       "8   Balance energy deviation                 5                 25.78000   \n",
       "9   Balance energy deviation                 5                 25.78000   \n",
       "10  Balance energy deviation                 6                 24.77018   \n",
       "11  Balance energy deviation                 6                 24.77018   \n",
       "12  Balance energy deviation                 7                 50.50000   \n",
       "13  Balance energy deviation                 7                 50.50000   \n",
       "14  Balance energy deviation                 8                 50.00000   \n",
       "15  Balance energy deviation                 8                 50.00000   \n",
       "16  Balance energy deviation                 9                 23.93006   \n",
       "17  Balance energy deviation                 9                 23.93006   \n",
       "18  Balance energy deviation                10                 23.93006   \n",
       "19  Balance energy deviation                10                 23.93006   \n",
       "20  Balance energy deviation                11                  6.00000   \n",
       "21  Balance energy deviation                11                  6.00000   \n",
       "22  Balance energy deviation                12                  6.00000   \n",
       "23  Balance energy deviation                12                  6.00000   \n",
       "24  Balance energy deviation                13                 23.82000   \n",
       "25  Balance energy deviation                13                 23.82000   \n",
       "26  Balance energy deviation                14                 31.69000   \n",
       "27  Balance energy deviation                14                 31.69000   \n",
       "28  Balance energy deviation                15                 23.98000   \n",
       "29  Balance energy deviation                15                 23.98000   \n",
       "30  Balance energy deviation                16                 52.00000   \n",
       "31  Balance energy deviation                16                 52.00000   \n",
       "32  Balance energy deviation                17                 52.00000   \n",
       "33  Balance energy deviation                17                 52.00000   \n",
       "34  Balance energy deviation                18                 52.00000   \n",
       "35  Balance energy deviation                18                 52.00000   \n",
       "36  Balance energy deviation                19                 52.00000   \n",
       "37  Balance energy deviation                19                 52.00000   \n",
       "38  Balance energy deviation                20                 51.00000   \n",
       "39  Balance energy deviation                20                 51.00000   \n",
       "40  Balance energy deviation                21                 51.90000   \n",
       "41  Balance energy deviation                21                 51.90000   \n",
       "42  Balance energy deviation                22                 51.00000   \n",
       "43  Balance energy deviation                22                 51.00000   \n",
       "44  Balance energy deviation                23                 25.59000   \n",
       "45  Balance energy deviation                23                 25.59000   \n",
       "46  Balance energy deviation                24                  7.50000   \n",
       "47  Balance energy deviation                24                  7.50000   \n",
       "\n",
       "           priceCategory                    curveType resolution  \\\n",
       "2   Insufficient balance  Sequential fixed size block      PT30M   \n",
       "3         Excess balance  Sequential fixed size block      PT30M   \n",
       "4   Insufficient balance  Sequential fixed size block      PT30M   \n",
       "5         Excess balance  Sequential fixed size block      PT30M   \n",
       "6   Insufficient balance  Sequential fixed size block      PT30M   \n",
       "7         Excess balance  Sequential fixed size block      PT30M   \n",
       "8   Insufficient balance  Sequential fixed size block      PT30M   \n",
       "9         Excess balance  Sequential fixed size block      PT30M   \n",
       "10  Insufficient balance  Sequential fixed size block      PT30M   \n",
       "11        Excess balance  Sequential fixed size block      PT30M   \n",
       "12  Insufficient balance  Sequential fixed size block      PT30M   \n",
       "13        Excess balance  Sequential fixed size block      PT30M   \n",
       "14  Insufficient balance  Sequential fixed size block      PT30M   \n",
       "15        Excess balance  Sequential fixed size block      PT30M   \n",
       "16  Insufficient balance  Sequential fixed size block      PT30M   \n",
       "17        Excess balance  Sequential fixed size block      PT30M   \n",
       "18  Insufficient balance  Sequential fixed size block      PT30M   \n",
       "19        Excess balance  Sequential fixed size block      PT30M   \n",
       "20  Insufficient balance  Sequential fixed size block      PT30M   \n",
       "21        Excess balance  Sequential fixed size block      PT30M   \n",
       "22  Insufficient balance  Sequential fixed size block      PT30M   \n",
       "23        Excess balance  Sequential fixed size block      PT30M   \n",
       "24  Insufficient balance  Sequential fixed size block      PT30M   \n",
       "25        Excess balance  Sequential fixed size block      PT30M   \n",
       "26  Insufficient balance  Sequential fixed size block      PT30M   \n",
       "27        Excess balance  Sequential fixed size block      PT30M   \n",
       "28  Insufficient balance  Sequential fixed size block      PT30M   \n",
       "29        Excess balance  Sequential fixed size block      PT30M   \n",
       "30  Insufficient balance  Sequential fixed size block      PT30M   \n",
       "31        Excess balance  Sequential fixed size block      PT30M   \n",
       "32  Insufficient balance  Sequential fixed size block      PT30M   \n",
       "33        Excess balance  Sequential fixed size block      PT30M   \n",
       "34  Insufficient balance  Sequential fixed size block      PT30M   \n",
       "35        Excess balance  Sequential fixed size block      PT30M   \n",
       "36  Insufficient balance  Sequential fixed size block      PT30M   \n",
       "37        Excess balance  Sequential fixed size block      PT30M   \n",
       "38  Insufficient balance  Sequential fixed size block      PT30M   \n",
       "39        Excess balance  Sequential fixed size block      PT30M   \n",
       "40  Insufficient balance  Sequential fixed size block      PT30M   \n",
       "41        Excess balance  Sequential fixed size block      PT30M   \n",
       "42  Insufficient balance  Sequential fixed size block      PT30M   \n",
       "43        Excess balance  Sequential fixed size block      PT30M   \n",
       "44  Insufficient balance  Sequential fixed size block      PT30M   \n",
       "45        Excess balance  Sequential fixed size block      PT30M   \n",
       "46  Insufficient balance  Sequential fixed size block      PT30M   \n",
       "47        Excess balance  Sequential fixed size block      PT30M   \n",
       "\n",
       "        documentType processType activeFlag docStatus  documentRevNum  \\\n",
       "2   Imbalance prices    Realised          Y     Final               1   \n",
       "3   Imbalance prices    Realised          Y     Final               1   \n",
       "4   Imbalance prices    Realised          Y     Final               1   \n",
       "5   Imbalance prices    Realised          Y     Final               1   \n",
       "6   Imbalance prices    Realised          Y     Final               1   \n",
       "7   Imbalance prices    Realised          Y     Final               1   \n",
       "8   Imbalance prices    Realised          Y     Final               1   \n",
       "9   Imbalance prices    Realised          Y     Final               1   \n",
       "10  Imbalance prices    Realised          Y     Final               1   \n",
       "11  Imbalance prices    Realised          Y     Final               1   \n",
       "12  Imbalance prices    Realised          Y     Final               1   \n",
       "13  Imbalance prices    Realised          Y     Final               1   \n",
       "14  Imbalance prices    Realised          Y     Final               1   \n",
       "15  Imbalance prices    Realised          Y     Final               1   \n",
       "16  Imbalance prices    Realised          Y     Final               1   \n",
       "17  Imbalance prices    Realised          Y     Final               1   \n",
       "18  Imbalance prices    Realised          Y     Final               1   \n",
       "19  Imbalance prices    Realised          Y     Final               1   \n",
       "20  Imbalance prices    Realised          Y     Final               1   \n",
       "21  Imbalance prices    Realised          Y     Final               1   \n",
       "22  Imbalance prices    Realised          Y     Final               1   \n",
       "23  Imbalance prices    Realised          Y     Final               1   \n",
       "24  Imbalance prices    Realised          Y     Final               1   \n",
       "25  Imbalance prices    Realised          Y     Final               1   \n",
       "26  Imbalance prices    Realised          Y     Final               1   \n",
       "27  Imbalance prices    Realised          Y     Final               1   \n",
       "28  Imbalance prices    Realised          Y     Final               1   \n",
       "29  Imbalance prices    Realised          Y     Final               1   \n",
       "30  Imbalance prices    Realised          Y     Final               1   \n",
       "31  Imbalance prices    Realised          Y     Final               1   \n",
       "32  Imbalance prices    Realised          Y     Final               1   \n",
       "33  Imbalance prices    Realised          Y     Final               1   \n",
       "34  Imbalance prices    Realised          Y     Final               1   \n",
       "35  Imbalance prices    Realised          Y     Final               1   \n",
       "36  Imbalance prices    Realised          Y     Final               1   \n",
       "37  Imbalance prices    Realised          Y     Final               1   \n",
       "38  Imbalance prices    Realised          Y     Final               1   \n",
       "39  Imbalance prices    Realised          Y     Final               1   \n",
       "40  Imbalance prices    Realised          Y     Final               1   \n",
       "41  Imbalance prices    Realised          Y     Final               1   \n",
       "42  Imbalance prices    Realised          Y     Final               1   \n",
       "43  Imbalance prices    Realised          Y     Final               1   \n",
       "44  Imbalance prices    Realised          Y     Final               1   \n",
       "45  Imbalance prices    Realised          Y     Final               1   \n",
       "46  Imbalance prices    Realised          Y     Final               1   \n",
       "47  Imbalance prices    Realised          Y     Final               1   \n",
       "\n",
       "   local_time  Year  Month  Day  Hour  Minute     Lag_1  \n",
       "2    00:30:00  2020      1    1     0      30       NaN  \n",
       "3    00:30:00  2020      1    1     0      30  51.00000  \n",
       "4    01:00:00  2020      1    1     1       0  51.00000  \n",
       "5    01:00:00  2020      1    1     1       0  29.37006  \n",
       "6    01:30:00  2020      1    1     1      30  29.37006  \n",
       "7    01:30:00  2020      1    1     1      30  28.52000  \n",
       "8    02:00:00  2020      1    1     2       0  28.52000  \n",
       "9    02:00:00  2020      1    1     2       0  25.78000  \n",
       "10   02:30:00  2020      1    1     2      30  25.78000  \n",
       "11   02:30:00  2020      1    1     2      30  24.77018  \n",
       "12   03:00:00  2020      1    1     3       0  24.77018  \n",
       "13   03:00:00  2020      1    1     3       0  50.50000  \n",
       "14   03:30:00  2020      1    1     3      30  50.50000  \n",
       "15   03:30:00  2020      1    1     3      30  50.00000  \n",
       "16   04:00:00  2020      1    1     4       0  50.00000  \n",
       "17   04:00:00  2020      1    1     4       0  23.93006  \n",
       "18   04:30:00  2020      1    1     4      30  23.93006  \n",
       "19   04:30:00  2020      1    1     4      30  23.93006  \n",
       "20   05:00:00  2020      1    1     5       0  23.93006  \n",
       "21   05:00:00  2020      1    1     5       0   6.00000  \n",
       "22   05:30:00  2020      1    1     5      30   6.00000  \n",
       "23   05:30:00  2020      1    1     5      30   6.00000  \n",
       "24   06:00:00  2020      1    1     6       0   6.00000  \n",
       "25   06:00:00  2020      1    1     6       0  23.82000  \n",
       "26   06:30:00  2020      1    1     6      30  23.82000  \n",
       "27   06:30:00  2020      1    1     6      30  31.69000  \n",
       "28   07:00:00  2020      1    1     7       0  31.69000  \n",
       "29   07:00:00  2020      1    1     7       0  23.98000  \n",
       "30   07:30:00  2020      1    1     7      30  23.98000  \n",
       "31   07:30:00  2020      1    1     7      30  52.00000  \n",
       "32   08:00:00  2020      1    1     8       0  52.00000  \n",
       "33   08:00:00  2020      1    1     8       0  52.00000  \n",
       "34   08:30:00  2020      1    1     8      30  52.00000  \n",
       "35   08:30:00  2020      1    1     8      30  52.00000  \n",
       "36   09:00:00  2020      1    1     9       0  52.00000  \n",
       "37   09:00:00  2020      1    1     9       0  52.00000  \n",
       "38   09:30:00  2020      1    1     9      30  52.00000  \n",
       "39   09:30:00  2020      1    1     9      30  51.00000  \n",
       "40   10:00:00  2020      1    1    10       0  51.00000  \n",
       "41   10:00:00  2020      1    1    10       0  51.90000  \n",
       "42   10:30:00  2020      1    1    10      30  51.90000  \n",
       "43   10:30:00  2020      1    1    10      30  51.00000  \n",
       "44   11:00:00  2020      1    1    11       0  51.00000  \n",
       "45   11:00:00  2020      1    1    11       0  25.59000  \n",
       "46   11:30:00  2020      1    1    11      30  25.59000  \n",
       "47   11:30:00  2020      1    1    11      30   7.50000  "
      ]
     },
     "execution_count": 41,
     "metadata": {},
     "output_type": "execute_result"
    }
   ],
   "source": [
    "df_B1770_training"
   ]
  },
  {
   "cell_type": "code",
   "execution_count": 22,
   "metadata": {},
   "outputs": [],
   "source": [
    "from sklearn.model_selection import train_test_split\n",
    "import statsmodels.api as sm\n",
    "#prep data for basic linear regression forcasting test on all data no train test split\n",
    "#make catvariables dummmy vaiables \n",
    "#statsmodels pacakage in pandas.\n",
    "\n",
    "#might need to change all the categories to just an object or numberical value depending on type of column\n",
    "\n",
    "df_imbalance_price_training = pd.get_dummies(df_B1770_training, columns=[\"businessType\", \"activeFlag\",\"documentType\",\"processType\",\"docStatus\",\"curveType\",\"priceCategory\" ], drop_first=True)\n",
    "df_imbalance_price_testing = pd.get_dummies(df_B1770_testing, columns=[\"businessType\", \"activeFlag\",\"documentType\",\"processType\",\"docStatus\",\"curveType\",\"priceCategory\" ], drop_first=True)"
   ]
  },
  {
   "cell_type": "code",
   "execution_count": 23,
   "metadata": {},
   "outputs": [],
   "source": [
    "X_Train =df_imbalance_price_training.drop(columns=['Lag_1'])\n",
    "y_Train = df_imbalance_price_training[['Lag_1']]\n",
    "X_Test =df_imbalance_price_testing.drop(columns=['Lag_1'])\n",
    "y_test =df_imbalance_price_testing[['Lag_1']]"
   ]
  },
  {
   "cell_type": "code",
   "execution_count": 24,
   "metadata": {},
   "outputs": [
    {
     "name": "stderr",
     "output_type": "stream",
     "text": [
      "C:\\Users\\Admin\\AppData\\Local\\Temp\\ipykernel_20216\\1096143757.py:8: SettingWithCopyWarning:\n",
      "\n",
      "\n",
      "A value is trying to be set on a copy of a slice from a DataFrame\n",
      "\n",
      "See the caveats in the documentation: https://pandas.pydata.org/pandas-docs/stable/user_guide/indexing.html#returning-a-view-versus-a-copy\n",
      "\n",
      "C:\\Users\\Admin\\AppData\\Local\\Temp\\ipykernel_20216\\1096143757.py:11: SettingWithCopyWarning:\n",
      "\n",
      "\n",
      "A value is trying to be set on a copy of a slice from a DataFrame\n",
      "\n",
      "See the caveats in the documentation: https://pandas.pydata.org/pandas-docs/stable/user_guide/indexing.html#returning-a-view-versus-a-copy\n",
      "\n"
     ]
    }
   ],
   "source": [
    "#for lag predictor gets rid of Nan Column.\n",
    "X_Train.drop(index=df.index[2], \n",
    "        axis=0, \n",
    "        inplace=True)\n",
    "X_Test.drop(index=df.index[50], \n",
    "        axis=0, \n",
    "        inplace=True)\n",
    "y_Train.drop(index=df.index[2], \n",
    "        axis=0, \n",
    "        inplace=True)\n",
    "y_test.drop(index=df.index[50], \n",
    "        axis=0, \n",
    "        inplace=True)\n",
    "\n"
   ]
  },
  {
   "cell_type": "code",
   "execution_count": 27,
   "metadata": {},
   "outputs": [
    {
     "data": {
      "text/html": [
       "<div>\n",
       "<style scoped>\n",
       "    .dataframe tbody tr th:only-of-type {\n",
       "        vertical-align: middle;\n",
       "    }\n",
       "\n",
       "    .dataframe tbody tr th {\n",
       "        vertical-align: top;\n",
       "    }\n",
       "\n",
       "    .dataframe thead th {\n",
       "        text-align: right;\n",
       "    }\n",
       "</style>\n",
       "<table border=\"1\" class=\"dataframe\">\n",
       "  <thead>\n",
       "    <tr style=\"text-align: right;\">\n",
       "      <th></th>\n",
       "      <th>settlementPeriod</th>\n",
       "      <th>imbalancePriceAmountGBP</th>\n",
       "      <th>resolution</th>\n",
       "      <th>documentRevNum</th>\n",
       "      <th>local_time</th>\n",
       "      <th>Year</th>\n",
       "      <th>Month</th>\n",
       "      <th>Day</th>\n",
       "      <th>Hour</th>\n",
       "      <th>Minute</th>\n",
       "      <th>priceCategory_Insufficient balance</th>\n",
       "    </tr>\n",
       "  </thead>\n",
       "  <tbody>\n",
       "    <tr>\n",
       "      <th>51</th>\n",
       "      <td>26</td>\n",
       "      <td>51.90</td>\n",
       "      <td>PT30M</td>\n",
       "      <td>1</td>\n",
       "      <td>12:30:00</td>\n",
       "      <td>2020</td>\n",
       "      <td>1</td>\n",
       "      <td>1</td>\n",
       "      <td>12</td>\n",
       "      <td>30</td>\n",
       "      <td>0</td>\n",
       "    </tr>\n",
       "    <tr>\n",
       "      <th>52</th>\n",
       "      <td>27</td>\n",
       "      <td>51.00</td>\n",
       "      <td>PT30M</td>\n",
       "      <td>1</td>\n",
       "      <td>13:00:00</td>\n",
       "      <td>2020</td>\n",
       "      <td>1</td>\n",
       "      <td>1</td>\n",
       "      <td>13</td>\n",
       "      <td>0</td>\n",
       "      <td>1</td>\n",
       "    </tr>\n",
       "    <tr>\n",
       "      <th>53</th>\n",
       "      <td>27</td>\n",
       "      <td>51.00</td>\n",
       "      <td>PT30M</td>\n",
       "      <td>1</td>\n",
       "      <td>13:00:00</td>\n",
       "      <td>2020</td>\n",
       "      <td>1</td>\n",
       "      <td>1</td>\n",
       "      <td>13</td>\n",
       "      <td>0</td>\n",
       "      <td>0</td>\n",
       "    </tr>\n",
       "    <tr>\n",
       "      <th>54</th>\n",
       "      <td>28</td>\n",
       "      <td>51.00</td>\n",
       "      <td>PT30M</td>\n",
       "      <td>1</td>\n",
       "      <td>13:30:00</td>\n",
       "      <td>2020</td>\n",
       "      <td>1</td>\n",
       "      <td>1</td>\n",
       "      <td>13</td>\n",
       "      <td>30</td>\n",
       "      <td>1</td>\n",
       "    </tr>\n",
       "    <tr>\n",
       "      <th>55</th>\n",
       "      <td>28</td>\n",
       "      <td>51.00</td>\n",
       "      <td>PT30M</td>\n",
       "      <td>1</td>\n",
       "      <td>13:30:00</td>\n",
       "      <td>2020</td>\n",
       "      <td>1</td>\n",
       "      <td>1</td>\n",
       "      <td>13</td>\n",
       "      <td>30</td>\n",
       "      <td>0</td>\n",
       "    </tr>\n",
       "    <tr>\n",
       "      <th>56</th>\n",
       "      <td>29</td>\n",
       "      <td>50.75</td>\n",
       "      <td>PT30M</td>\n",
       "      <td>1</td>\n",
       "      <td>14:00:00</td>\n",
       "      <td>2020</td>\n",
       "      <td>1</td>\n",
       "      <td>1</td>\n",
       "      <td>14</td>\n",
       "      <td>0</td>\n",
       "      <td>1</td>\n",
       "    </tr>\n",
       "    <tr>\n",
       "      <th>57</th>\n",
       "      <td>29</td>\n",
       "      <td>50.75</td>\n",
       "      <td>PT30M</td>\n",
       "      <td>1</td>\n",
       "      <td>14:00:00</td>\n",
       "      <td>2020</td>\n",
       "      <td>1</td>\n",
       "      <td>1</td>\n",
       "      <td>14</td>\n",
       "      <td>0</td>\n",
       "      <td>0</td>\n",
       "    </tr>\n",
       "    <tr>\n",
       "      <th>58</th>\n",
       "      <td>30</td>\n",
       "      <td>7.50</td>\n",
       "      <td>PT30M</td>\n",
       "      <td>1</td>\n",
       "      <td>14:30:00</td>\n",
       "      <td>2020</td>\n",
       "      <td>1</td>\n",
       "      <td>1</td>\n",
       "      <td>14</td>\n",
       "      <td>30</td>\n",
       "      <td>1</td>\n",
       "    </tr>\n",
       "    <tr>\n",
       "      <th>59</th>\n",
       "      <td>30</td>\n",
       "      <td>7.50</td>\n",
       "      <td>PT30M</td>\n",
       "      <td>1</td>\n",
       "      <td>14:30:00</td>\n",
       "      <td>2020</td>\n",
       "      <td>1</td>\n",
       "      <td>1</td>\n",
       "      <td>14</td>\n",
       "      <td>30</td>\n",
       "      <td>0</td>\n",
       "    </tr>\n",
       "    <tr>\n",
       "      <th>60</th>\n",
       "      <td>31</td>\n",
       "      <td>7.50</td>\n",
       "      <td>PT30M</td>\n",
       "      <td>1</td>\n",
       "      <td>15:00:00</td>\n",
       "      <td>2020</td>\n",
       "      <td>1</td>\n",
       "      <td>1</td>\n",
       "      <td>15</td>\n",
       "      <td>0</td>\n",
       "      <td>1</td>\n",
       "    </tr>\n",
       "    <tr>\n",
       "      <th>61</th>\n",
       "      <td>31</td>\n",
       "      <td>7.50</td>\n",
       "      <td>PT30M</td>\n",
       "      <td>1</td>\n",
       "      <td>15:00:00</td>\n",
       "      <td>2020</td>\n",
       "      <td>1</td>\n",
       "      <td>1</td>\n",
       "      <td>15</td>\n",
       "      <td>0</td>\n",
       "      <td>0</td>\n",
       "    </tr>\n",
       "    <tr>\n",
       "      <th>62</th>\n",
       "      <td>32</td>\n",
       "      <td>50.80</td>\n",
       "      <td>PT30M</td>\n",
       "      <td>1</td>\n",
       "      <td>15:30:00</td>\n",
       "      <td>2020</td>\n",
       "      <td>1</td>\n",
       "      <td>1</td>\n",
       "      <td>15</td>\n",
       "      <td>30</td>\n",
       "      <td>1</td>\n",
       "    </tr>\n",
       "    <tr>\n",
       "      <th>63</th>\n",
       "      <td>32</td>\n",
       "      <td>50.80</td>\n",
       "      <td>PT30M</td>\n",
       "      <td>1</td>\n",
       "      <td>15:30:00</td>\n",
       "      <td>2020</td>\n",
       "      <td>1</td>\n",
       "      <td>1</td>\n",
       "      <td>15</td>\n",
       "      <td>30</td>\n",
       "      <td>0</td>\n",
       "    </tr>\n",
       "    <tr>\n",
       "      <th>64</th>\n",
       "      <td>33</td>\n",
       "      <td>52.00</td>\n",
       "      <td>PT30M</td>\n",
       "      <td>1</td>\n",
       "      <td>16:00:00</td>\n",
       "      <td>2020</td>\n",
       "      <td>1</td>\n",
       "      <td>1</td>\n",
       "      <td>16</td>\n",
       "      <td>0</td>\n",
       "      <td>1</td>\n",
       "    </tr>\n",
       "    <tr>\n",
       "      <th>65</th>\n",
       "      <td>33</td>\n",
       "      <td>52.00</td>\n",
       "      <td>PT30M</td>\n",
       "      <td>1</td>\n",
       "      <td>16:00:00</td>\n",
       "      <td>2020</td>\n",
       "      <td>1</td>\n",
       "      <td>1</td>\n",
       "      <td>16</td>\n",
       "      <td>0</td>\n",
       "      <td>0</td>\n",
       "    </tr>\n",
       "    <tr>\n",
       "      <th>66</th>\n",
       "      <td>34</td>\n",
       "      <td>50.80</td>\n",
       "      <td>PT30M</td>\n",
       "      <td>1</td>\n",
       "      <td>16:30:00</td>\n",
       "      <td>2020</td>\n",
       "      <td>1</td>\n",
       "      <td>1</td>\n",
       "      <td>16</td>\n",
       "      <td>30</td>\n",
       "      <td>1</td>\n",
       "    </tr>\n",
       "    <tr>\n",
       "      <th>67</th>\n",
       "      <td>34</td>\n",
       "      <td>50.80</td>\n",
       "      <td>PT30M</td>\n",
       "      <td>1</td>\n",
       "      <td>16:30:00</td>\n",
       "      <td>2020</td>\n",
       "      <td>1</td>\n",
       "      <td>1</td>\n",
       "      <td>16</td>\n",
       "      <td>30</td>\n",
       "      <td>0</td>\n",
       "    </tr>\n",
       "    <tr>\n",
       "      <th>68</th>\n",
       "      <td>35</td>\n",
       "      <td>52.00</td>\n",
       "      <td>PT30M</td>\n",
       "      <td>1</td>\n",
       "      <td>17:00:00</td>\n",
       "      <td>2020</td>\n",
       "      <td>1</td>\n",
       "      <td>1</td>\n",
       "      <td>17</td>\n",
       "      <td>0</td>\n",
       "      <td>1</td>\n",
       "    </tr>\n",
       "    <tr>\n",
       "      <th>69</th>\n",
       "      <td>35</td>\n",
       "      <td>52.00</td>\n",
       "      <td>PT30M</td>\n",
       "      <td>1</td>\n",
       "      <td>17:00:00</td>\n",
       "      <td>2020</td>\n",
       "      <td>1</td>\n",
       "      <td>1</td>\n",
       "      <td>17</td>\n",
       "      <td>0</td>\n",
       "      <td>0</td>\n",
       "    </tr>\n",
       "    <tr>\n",
       "      <th>70</th>\n",
       "      <td>36</td>\n",
       "      <td>52.00</td>\n",
       "      <td>PT30M</td>\n",
       "      <td>1</td>\n",
       "      <td>17:30:00</td>\n",
       "      <td>2020</td>\n",
       "      <td>1</td>\n",
       "      <td>1</td>\n",
       "      <td>17</td>\n",
       "      <td>30</td>\n",
       "      <td>1</td>\n",
       "    </tr>\n",
       "    <tr>\n",
       "      <th>71</th>\n",
       "      <td>36</td>\n",
       "      <td>52.00</td>\n",
       "      <td>PT30M</td>\n",
       "      <td>1</td>\n",
       "      <td>17:30:00</td>\n",
       "      <td>2020</td>\n",
       "      <td>1</td>\n",
       "      <td>1</td>\n",
       "      <td>17</td>\n",
       "      <td>30</td>\n",
       "      <td>0</td>\n",
       "    </tr>\n",
       "    <tr>\n",
       "      <th>72</th>\n",
       "      <td>37</td>\n",
       "      <td>51.90</td>\n",
       "      <td>PT30M</td>\n",
       "      <td>1</td>\n",
       "      <td>18:00:00</td>\n",
       "      <td>2020</td>\n",
       "      <td>1</td>\n",
       "      <td>1</td>\n",
       "      <td>18</td>\n",
       "      <td>0</td>\n",
       "      <td>1</td>\n",
       "    </tr>\n",
       "    <tr>\n",
       "      <th>73</th>\n",
       "      <td>37</td>\n",
       "      <td>51.90</td>\n",
       "      <td>PT30M</td>\n",
       "      <td>1</td>\n",
       "      <td>18:00:00</td>\n",
       "      <td>2020</td>\n",
       "      <td>1</td>\n",
       "      <td>1</td>\n",
       "      <td>18</td>\n",
       "      <td>0</td>\n",
       "      <td>0</td>\n",
       "    </tr>\n",
       "    <tr>\n",
       "      <th>74</th>\n",
       "      <td>38</td>\n",
       "      <td>51.50</td>\n",
       "      <td>PT30M</td>\n",
       "      <td>1</td>\n",
       "      <td>18:30:00</td>\n",
       "      <td>2020</td>\n",
       "      <td>1</td>\n",
       "      <td>1</td>\n",
       "      <td>18</td>\n",
       "      <td>30</td>\n",
       "      <td>1</td>\n",
       "    </tr>\n",
       "    <tr>\n",
       "      <th>75</th>\n",
       "      <td>38</td>\n",
       "      <td>51.50</td>\n",
       "      <td>PT30M</td>\n",
       "      <td>1</td>\n",
       "      <td>18:30:00</td>\n",
       "      <td>2020</td>\n",
       "      <td>1</td>\n",
       "      <td>1</td>\n",
       "      <td>18</td>\n",
       "      <td>30</td>\n",
       "      <td>0</td>\n",
       "    </tr>\n",
       "    <tr>\n",
       "      <th>76</th>\n",
       "      <td>39</td>\n",
       "      <td>49.95</td>\n",
       "      <td>PT30M</td>\n",
       "      <td>1</td>\n",
       "      <td>19:00:00</td>\n",
       "      <td>2020</td>\n",
       "      <td>1</td>\n",
       "      <td>1</td>\n",
       "      <td>19</td>\n",
       "      <td>0</td>\n",
       "      <td>1</td>\n",
       "    </tr>\n",
       "    <tr>\n",
       "      <th>77</th>\n",
       "      <td>39</td>\n",
       "      <td>49.95</td>\n",
       "      <td>PT30M</td>\n",
       "      <td>1</td>\n",
       "      <td>19:00:00</td>\n",
       "      <td>2020</td>\n",
       "      <td>1</td>\n",
       "      <td>1</td>\n",
       "      <td>19</td>\n",
       "      <td>0</td>\n",
       "      <td>0</td>\n",
       "    </tr>\n",
       "    <tr>\n",
       "      <th>78</th>\n",
       "      <td>40</td>\n",
       "      <td>49.75</td>\n",
       "      <td>PT30M</td>\n",
       "      <td>1</td>\n",
       "      <td>19:30:00</td>\n",
       "      <td>2020</td>\n",
       "      <td>1</td>\n",
       "      <td>1</td>\n",
       "      <td>19</td>\n",
       "      <td>30</td>\n",
       "      <td>1</td>\n",
       "    </tr>\n",
       "    <tr>\n",
       "      <th>79</th>\n",
       "      <td>40</td>\n",
       "      <td>49.75</td>\n",
       "      <td>PT30M</td>\n",
       "      <td>1</td>\n",
       "      <td>19:30:00</td>\n",
       "      <td>2020</td>\n",
       "      <td>1</td>\n",
       "      <td>1</td>\n",
       "      <td>19</td>\n",
       "      <td>30</td>\n",
       "      <td>0</td>\n",
       "    </tr>\n",
       "    <tr>\n",
       "      <th>80</th>\n",
       "      <td>41</td>\n",
       "      <td>49.75</td>\n",
       "      <td>PT30M</td>\n",
       "      <td>1</td>\n",
       "      <td>20:00:00</td>\n",
       "      <td>2020</td>\n",
       "      <td>1</td>\n",
       "      <td>1</td>\n",
       "      <td>20</td>\n",
       "      <td>0</td>\n",
       "      <td>1</td>\n",
       "    </tr>\n",
       "    <tr>\n",
       "      <th>81</th>\n",
       "      <td>41</td>\n",
       "      <td>49.75</td>\n",
       "      <td>PT30M</td>\n",
       "      <td>1</td>\n",
       "      <td>20:00:00</td>\n",
       "      <td>2020</td>\n",
       "      <td>1</td>\n",
       "      <td>1</td>\n",
       "      <td>20</td>\n",
       "      <td>0</td>\n",
       "      <td>0</td>\n",
       "    </tr>\n",
       "    <tr>\n",
       "      <th>82</th>\n",
       "      <td>42</td>\n",
       "      <td>51.50</td>\n",
       "      <td>PT30M</td>\n",
       "      <td>1</td>\n",
       "      <td>20:30:00</td>\n",
       "      <td>2020</td>\n",
       "      <td>1</td>\n",
       "      <td>1</td>\n",
       "      <td>20</td>\n",
       "      <td>30</td>\n",
       "      <td>1</td>\n",
       "    </tr>\n",
       "    <tr>\n",
       "      <th>83</th>\n",
       "      <td>42</td>\n",
       "      <td>51.50</td>\n",
       "      <td>PT30M</td>\n",
       "      <td>1</td>\n",
       "      <td>20:30:00</td>\n",
       "      <td>2020</td>\n",
       "      <td>1</td>\n",
       "      <td>1</td>\n",
       "      <td>20</td>\n",
       "      <td>30</td>\n",
       "      <td>0</td>\n",
       "    </tr>\n",
       "    <tr>\n",
       "      <th>84</th>\n",
       "      <td>43</td>\n",
       "      <td>49.45</td>\n",
       "      <td>PT30M</td>\n",
       "      <td>1</td>\n",
       "      <td>21:00:00</td>\n",
       "      <td>2020</td>\n",
       "      <td>1</td>\n",
       "      <td>1</td>\n",
       "      <td>21</td>\n",
       "      <td>0</td>\n",
       "      <td>1</td>\n",
       "    </tr>\n",
       "    <tr>\n",
       "      <th>85</th>\n",
       "      <td>43</td>\n",
       "      <td>49.45</td>\n",
       "      <td>PT30M</td>\n",
       "      <td>1</td>\n",
       "      <td>21:00:00</td>\n",
       "      <td>2020</td>\n",
       "      <td>1</td>\n",
       "      <td>1</td>\n",
       "      <td>21</td>\n",
       "      <td>0</td>\n",
       "      <td>0</td>\n",
       "    </tr>\n",
       "    <tr>\n",
       "      <th>86</th>\n",
       "      <td>44</td>\n",
       "      <td>51.50</td>\n",
       "      <td>PT30M</td>\n",
       "      <td>1</td>\n",
       "      <td>21:30:00</td>\n",
       "      <td>2020</td>\n",
       "      <td>1</td>\n",
       "      <td>1</td>\n",
       "      <td>21</td>\n",
       "      <td>30</td>\n",
       "      <td>1</td>\n",
       "    </tr>\n",
       "    <tr>\n",
       "      <th>87</th>\n",
       "      <td>44</td>\n",
       "      <td>51.50</td>\n",
       "      <td>PT30M</td>\n",
       "      <td>1</td>\n",
       "      <td>21:30:00</td>\n",
       "      <td>2020</td>\n",
       "      <td>1</td>\n",
       "      <td>1</td>\n",
       "      <td>21</td>\n",
       "      <td>30</td>\n",
       "      <td>0</td>\n",
       "    </tr>\n",
       "    <tr>\n",
       "      <th>88</th>\n",
       "      <td>45</td>\n",
       "      <td>51.50</td>\n",
       "      <td>PT30M</td>\n",
       "      <td>1</td>\n",
       "      <td>22:00:00</td>\n",
       "      <td>2020</td>\n",
       "      <td>1</td>\n",
       "      <td>1</td>\n",
       "      <td>22</td>\n",
       "      <td>0</td>\n",
       "      <td>1</td>\n",
       "    </tr>\n",
       "    <tr>\n",
       "      <th>89</th>\n",
       "      <td>45</td>\n",
       "      <td>51.50</td>\n",
       "      <td>PT30M</td>\n",
       "      <td>1</td>\n",
       "      <td>22:00:00</td>\n",
       "      <td>2020</td>\n",
       "      <td>1</td>\n",
       "      <td>1</td>\n",
       "      <td>22</td>\n",
       "      <td>0</td>\n",
       "      <td>0</td>\n",
       "    </tr>\n",
       "    <tr>\n",
       "      <th>90</th>\n",
       "      <td>46</td>\n",
       "      <td>49.45</td>\n",
       "      <td>PT30M</td>\n",
       "      <td>1</td>\n",
       "      <td>22:30:00</td>\n",
       "      <td>2020</td>\n",
       "      <td>1</td>\n",
       "      <td>1</td>\n",
       "      <td>22</td>\n",
       "      <td>30</td>\n",
       "      <td>1</td>\n",
       "    </tr>\n",
       "    <tr>\n",
       "      <th>91</th>\n",
       "      <td>46</td>\n",
       "      <td>49.45</td>\n",
       "      <td>PT30M</td>\n",
       "      <td>1</td>\n",
       "      <td>22:30:00</td>\n",
       "      <td>2020</td>\n",
       "      <td>1</td>\n",
       "      <td>1</td>\n",
       "      <td>22</td>\n",
       "      <td>30</td>\n",
       "      <td>0</td>\n",
       "    </tr>\n",
       "    <tr>\n",
       "      <th>92</th>\n",
       "      <td>47</td>\n",
       "      <td>50.05</td>\n",
       "      <td>PT30M</td>\n",
       "      <td>1</td>\n",
       "      <td>23:00:00</td>\n",
       "      <td>2020</td>\n",
       "      <td>1</td>\n",
       "      <td>1</td>\n",
       "      <td>23</td>\n",
       "      <td>0</td>\n",
       "      <td>1</td>\n",
       "    </tr>\n",
       "    <tr>\n",
       "      <th>93</th>\n",
       "      <td>47</td>\n",
       "      <td>50.05</td>\n",
       "      <td>PT30M</td>\n",
       "      <td>1</td>\n",
       "      <td>23:00:00</td>\n",
       "      <td>2020</td>\n",
       "      <td>1</td>\n",
       "      <td>1</td>\n",
       "      <td>23</td>\n",
       "      <td>0</td>\n",
       "      <td>0</td>\n",
       "    </tr>\n",
       "  </tbody>\n",
       "</table>\n",
       "</div>"
      ],
      "text/plain": [
       "    settlementPeriod  imbalancePriceAmountGBP resolution  documentRevNum  \\\n",
       "51                26                    51.90      PT30M               1   \n",
       "52                27                    51.00      PT30M               1   \n",
       "53                27                    51.00      PT30M               1   \n",
       "54                28                    51.00      PT30M               1   \n",
       "55                28                    51.00      PT30M               1   \n",
       "56                29                    50.75      PT30M               1   \n",
       "57                29                    50.75      PT30M               1   \n",
       "58                30                     7.50      PT30M               1   \n",
       "59                30                     7.50      PT30M               1   \n",
       "60                31                     7.50      PT30M               1   \n",
       "61                31                     7.50      PT30M               1   \n",
       "62                32                    50.80      PT30M               1   \n",
       "63                32                    50.80      PT30M               1   \n",
       "64                33                    52.00      PT30M               1   \n",
       "65                33                    52.00      PT30M               1   \n",
       "66                34                    50.80      PT30M               1   \n",
       "67                34                    50.80      PT30M               1   \n",
       "68                35                    52.00      PT30M               1   \n",
       "69                35                    52.00      PT30M               1   \n",
       "70                36                    52.00      PT30M               1   \n",
       "71                36                    52.00      PT30M               1   \n",
       "72                37                    51.90      PT30M               1   \n",
       "73                37                    51.90      PT30M               1   \n",
       "74                38                    51.50      PT30M               1   \n",
       "75                38                    51.50      PT30M               1   \n",
       "76                39                    49.95      PT30M               1   \n",
       "77                39                    49.95      PT30M               1   \n",
       "78                40                    49.75      PT30M               1   \n",
       "79                40                    49.75      PT30M               1   \n",
       "80                41                    49.75      PT30M               1   \n",
       "81                41                    49.75      PT30M               1   \n",
       "82                42                    51.50      PT30M               1   \n",
       "83                42                    51.50      PT30M               1   \n",
       "84                43                    49.45      PT30M               1   \n",
       "85                43                    49.45      PT30M               1   \n",
       "86                44                    51.50      PT30M               1   \n",
       "87                44                    51.50      PT30M               1   \n",
       "88                45                    51.50      PT30M               1   \n",
       "89                45                    51.50      PT30M               1   \n",
       "90                46                    49.45      PT30M               1   \n",
       "91                46                    49.45      PT30M               1   \n",
       "92                47                    50.05      PT30M               1   \n",
       "93                47                    50.05      PT30M               1   \n",
       "\n",
       "   local_time  Year  Month  Day  Hour  Minute  \\\n",
       "51   12:30:00  2020      1    1    12      30   \n",
       "52   13:00:00  2020      1    1    13       0   \n",
       "53   13:00:00  2020      1    1    13       0   \n",
       "54   13:30:00  2020      1    1    13      30   \n",
       "55   13:30:00  2020      1    1    13      30   \n",
       "56   14:00:00  2020      1    1    14       0   \n",
       "57   14:00:00  2020      1    1    14       0   \n",
       "58   14:30:00  2020      1    1    14      30   \n",
       "59   14:30:00  2020      1    1    14      30   \n",
       "60   15:00:00  2020      1    1    15       0   \n",
       "61   15:00:00  2020      1    1    15       0   \n",
       "62   15:30:00  2020      1    1    15      30   \n",
       "63   15:30:00  2020      1    1    15      30   \n",
       "64   16:00:00  2020      1    1    16       0   \n",
       "65   16:00:00  2020      1    1    16       0   \n",
       "66   16:30:00  2020      1    1    16      30   \n",
       "67   16:30:00  2020      1    1    16      30   \n",
       "68   17:00:00  2020      1    1    17       0   \n",
       "69   17:00:00  2020      1    1    17       0   \n",
       "70   17:30:00  2020      1    1    17      30   \n",
       "71   17:30:00  2020      1    1    17      30   \n",
       "72   18:00:00  2020      1    1    18       0   \n",
       "73   18:00:00  2020      1    1    18       0   \n",
       "74   18:30:00  2020      1    1    18      30   \n",
       "75   18:30:00  2020      1    1    18      30   \n",
       "76   19:00:00  2020      1    1    19       0   \n",
       "77   19:00:00  2020      1    1    19       0   \n",
       "78   19:30:00  2020      1    1    19      30   \n",
       "79   19:30:00  2020      1    1    19      30   \n",
       "80   20:00:00  2020      1    1    20       0   \n",
       "81   20:00:00  2020      1    1    20       0   \n",
       "82   20:30:00  2020      1    1    20      30   \n",
       "83   20:30:00  2020      1    1    20      30   \n",
       "84   21:00:00  2020      1    1    21       0   \n",
       "85   21:00:00  2020      1    1    21       0   \n",
       "86   21:30:00  2020      1    1    21      30   \n",
       "87   21:30:00  2020      1    1    21      30   \n",
       "88   22:00:00  2020      1    1    22       0   \n",
       "89   22:00:00  2020      1    1    22       0   \n",
       "90   22:30:00  2020      1    1    22      30   \n",
       "91   22:30:00  2020      1    1    22      30   \n",
       "92   23:00:00  2020      1    1    23       0   \n",
       "93   23:00:00  2020      1    1    23       0   \n",
       "\n",
       "    priceCategory_Insufficient balance  \n",
       "51                                   0  \n",
       "52                                   1  \n",
       "53                                   0  \n",
       "54                                   1  \n",
       "55                                   0  \n",
       "56                                   1  \n",
       "57                                   0  \n",
       "58                                   1  \n",
       "59                                   0  \n",
       "60                                   1  \n",
       "61                                   0  \n",
       "62                                   1  \n",
       "63                                   0  \n",
       "64                                   1  \n",
       "65                                   0  \n",
       "66                                   1  \n",
       "67                                   0  \n",
       "68                                   1  \n",
       "69                                   0  \n",
       "70                                   1  \n",
       "71                                   0  \n",
       "72                                   1  \n",
       "73                                   0  \n",
       "74                                   1  \n",
       "75                                   0  \n",
       "76                                   1  \n",
       "77                                   0  \n",
       "78                                   1  \n",
       "79                                   0  \n",
       "80                                   1  \n",
       "81                                   0  \n",
       "82                                   1  \n",
       "83                                   0  \n",
       "84                                   1  \n",
       "85                                   0  \n",
       "86                                   1  \n",
       "87                                   0  \n",
       "88                                   1  \n",
       "89                                   0  \n",
       "90                                   1  \n",
       "91                                   0  \n",
       "92                                   1  \n",
       "93                                   0  "
      ]
     },
     "execution_count": 27,
     "metadata": {},
     "output_type": "execute_result"
    }
   ],
   "source": [
    "X_Test"
   ]
  },
  {
   "cell_type": "code",
   "execution_count": 28,
   "metadata": {},
   "outputs": [
    {
     "data": {
      "text/html": [
       "<div>\n",
       "<style scoped>\n",
       "    .dataframe tbody tr th:only-of-type {\n",
       "        vertical-align: middle;\n",
       "    }\n",
       "\n",
       "    .dataframe tbody tr th {\n",
       "        vertical-align: top;\n",
       "    }\n",
       "\n",
       "    .dataframe thead th {\n",
       "        text-align: right;\n",
       "    }\n",
       "</style>\n",
       "<table border=\"1\" class=\"dataframe\">\n",
       "  <thead>\n",
       "    <tr style=\"text-align: right;\">\n",
       "      <th></th>\n",
       "      <th>settlementPeriod</th>\n",
       "      <th>imbalancePriceAmountGBP</th>\n",
       "      <th>documentRevNum</th>\n",
       "      <th>Year</th>\n",
       "      <th>Month</th>\n",
       "      <th>Day</th>\n",
       "      <th>Hour</th>\n",
       "      <th>Minute</th>\n",
       "      <th>priceCategory_Insufficient balance</th>\n",
       "    </tr>\n",
       "  </thead>\n",
       "  <tbody>\n",
       "    <tr>\n",
       "      <th>3</th>\n",
       "      <td>2</td>\n",
       "      <td>51.00000</td>\n",
       "      <td>1</td>\n",
       "      <td>2020</td>\n",
       "      <td>1</td>\n",
       "      <td>1</td>\n",
       "      <td>0</td>\n",
       "      <td>30</td>\n",
       "      <td>0</td>\n",
       "    </tr>\n",
       "    <tr>\n",
       "      <th>4</th>\n",
       "      <td>3</td>\n",
       "      <td>29.37006</td>\n",
       "      <td>1</td>\n",
       "      <td>2020</td>\n",
       "      <td>1</td>\n",
       "      <td>1</td>\n",
       "      <td>1</td>\n",
       "      <td>0</td>\n",
       "      <td>1</td>\n",
       "    </tr>\n",
       "    <tr>\n",
       "      <th>5</th>\n",
       "      <td>3</td>\n",
       "      <td>29.37006</td>\n",
       "      <td>1</td>\n",
       "      <td>2020</td>\n",
       "      <td>1</td>\n",
       "      <td>1</td>\n",
       "      <td>1</td>\n",
       "      <td>0</td>\n",
       "      <td>0</td>\n",
       "    </tr>\n",
       "    <tr>\n",
       "      <th>6</th>\n",
       "      <td>4</td>\n",
       "      <td>28.52000</td>\n",
       "      <td>1</td>\n",
       "      <td>2020</td>\n",
       "      <td>1</td>\n",
       "      <td>1</td>\n",
       "      <td>1</td>\n",
       "      <td>30</td>\n",
       "      <td>1</td>\n",
       "    </tr>\n",
       "    <tr>\n",
       "      <th>7</th>\n",
       "      <td>4</td>\n",
       "      <td>28.52000</td>\n",
       "      <td>1</td>\n",
       "      <td>2020</td>\n",
       "      <td>1</td>\n",
       "      <td>1</td>\n",
       "      <td>1</td>\n",
       "      <td>30</td>\n",
       "      <td>0</td>\n",
       "    </tr>\n",
       "  </tbody>\n",
       "</table>\n",
       "</div>"
      ],
      "text/plain": [
       "   settlementPeriod  imbalancePriceAmountGBP  documentRevNum  Year  Month  \\\n",
       "3                 2                 51.00000               1  2020      1   \n",
       "4                 3                 29.37006               1  2020      1   \n",
       "5                 3                 29.37006               1  2020      1   \n",
       "6                 4                 28.52000               1  2020      1   \n",
       "7                 4                 28.52000               1  2020      1   \n",
       "\n",
       "   Day  Hour  Minute  priceCategory_Insufficient balance  \n",
       "3    1     0      30                                   0  \n",
       "4    1     1       0                                   1  \n",
       "5    1     1       0                                   0  \n",
       "6    1     1      30                                   1  \n",
       "7    1     1      30                                   0  "
      ]
     },
     "execution_count": 28,
     "metadata": {},
     "output_type": "execute_result"
    }
   ],
   "source": [
    "#run linear regression and plot prediction vs actual values \n",
    "#training\n",
    "X_Train =X_Train.drop(columns=['local_time', 'resolution',])\n",
    "X_Test =X_Test.drop(columns=['local_time', 'resolution'])\n",
    "#model = sm.OLS(y_Train, X_Train).fit()\n",
    "\n",
    "X_Train.head()"
   ]
  },
  {
   "cell_type": "code",
   "execution_count": 29,
   "metadata": {},
   "outputs": [
    {
     "data": {
      "text/html": [
       "<table class=\"simpletable\">\n",
       "<caption>OLS Regression Results</caption>\n",
       "<tr>\n",
       "  <th>Dep. Variable:</th>          <td>Lag_1</td>      <th>  R-squared:         </th> <td>   0.675</td>\n",
       "</tr>\n",
       "<tr>\n",
       "  <th>Model:</th>                   <td>OLS</td>       <th>  Adj. R-squared:    </th> <td>   0.642</td>\n",
       "</tr>\n",
       "<tr>\n",
       "  <th>Method:</th>             <td>Least Squares</td>  <th>  F-statistic:       </th> <td>   20.77</td>\n",
       "</tr>\n",
       "<tr>\n",
       "  <th>Date:</th>             <td>Fri, 27 May 2022</td> <th>  Prob (F-statistic):</th> <td>2.51e-09</td>\n",
       "</tr>\n",
       "<tr>\n",
       "  <th>Time:</th>                 <td>11:53:48</td>     <th>  Log-Likelihood:    </th> <td> -162.65</td>\n",
       "</tr>\n",
       "<tr>\n",
       "  <th>No. Observations:</th>      <td>    45</td>      <th>  AIC:               </th> <td>   335.3</td>\n",
       "</tr>\n",
       "<tr>\n",
       "  <th>Df Residuals:</th>          <td>    40</td>      <th>  BIC:               </th> <td>   344.3</td>\n",
       "</tr>\n",
       "<tr>\n",
       "  <th>Df Model:</th>              <td>     4</td>      <th>                     </th>     <td> </td>   \n",
       "</tr>\n",
       "<tr>\n",
       "  <th>Covariance Type:</th>      <td>nonrobust</td>    <th>                     </th>     <td> </td>   \n",
       "</tr>\n",
       "</table>\n",
       "<table class=\"simpletable\">\n",
       "<tr>\n",
       "                   <td></td>                     <th>coef</th>     <th>std err</th>      <th>t</th>      <th>P>|t|</th>  <th>[0.025</th>    <th>0.975]</th>  \n",
       "</tr>\n",
       "<tr>\n",
       "  <th>settlementPeriod</th>                   <td>    0.1375</td> <td>    0.178</td> <td>    0.770</td> <td> 0.446</td> <td>   -0.223</td> <td>    0.498</td>\n",
       "</tr>\n",
       "<tr>\n",
       "  <th>imbalancePriceAmountGBP</th>            <td>    0.7886</td> <td>    0.090</td> <td>    8.749</td> <td> 0.000</td> <td>    0.606</td> <td>    0.971</td>\n",
       "</tr>\n",
       "<tr>\n",
       "  <th>documentRevNum</th>                     <td> 1.608e-06</td> <td> 1.09e-06</td> <td>    1.471</td> <td> 0.149</td> <td>-6.01e-07</td> <td> 3.82e-06</td>\n",
       "</tr>\n",
       "<tr>\n",
       "  <th>Year</th>                               <td>    0.0032</td> <td>    0.002</td> <td>    1.471</td> <td> 0.149</td> <td>   -0.001</td> <td>    0.008</td>\n",
       "</tr>\n",
       "<tr>\n",
       "  <th>Month</th>                              <td> 1.608e-06</td> <td> 1.09e-06</td> <td>    1.471</td> <td> 0.149</td> <td>-6.01e-07</td> <td> 3.82e-06</td>\n",
       "</tr>\n",
       "<tr>\n",
       "  <th>Day</th>                                <td> 1.608e-06</td> <td> 1.09e-06</td> <td>    1.471</td> <td> 0.149</td> <td>-6.01e-07</td> <td> 3.82e-06</td>\n",
       "</tr>\n",
       "<tr>\n",
       "  <th>Hour</th>                               <td>    0.0703</td> <td>    0.089</td> <td>    0.788</td> <td> 0.436</td> <td>   -0.110</td> <td>    0.251</td>\n",
       "</tr>\n",
       "<tr>\n",
       "  <th>Minute</th>                             <td>   -0.0927</td> <td>    0.095</td> <td>   -0.976</td> <td> 0.335</td> <td>   -0.284</td> <td>    0.099</td>\n",
       "</tr>\n",
       "<tr>\n",
       "  <th>priceCategory_Insufficient balance</th> <td>    1.6715</td> <td>    2.846</td> <td>    0.587</td> <td> 0.560</td> <td>   -4.081</td> <td>    7.424</td>\n",
       "</tr>\n",
       "</table>\n",
       "<table class=\"simpletable\">\n",
       "<tr>\n",
       "  <th>Omnibus:</th>       <td> 9.284</td> <th>  Durbin-Watson:     </th> <td>   1.862</td>\n",
       "</tr>\n",
       "<tr>\n",
       "  <th>Prob(Omnibus):</th> <td> 0.010</td> <th>  Jarque-Bera (JB):  </th> <td>  12.344</td>\n",
       "</tr>\n",
       "<tr>\n",
       "  <th>Skew:</th>          <td>-0.586</td> <th>  Prob(JB):          </th> <td> 0.00209</td>\n",
       "</tr>\n",
       "<tr>\n",
       "  <th>Kurtosis:</th>      <td> 5.283</td> <th>  Cond. No.          </th> <td>1.25e+21</td>\n",
       "</tr>\n",
       "</table><br/><br/>Notes:<br/>[1] Standard Errors assume that the covariance matrix of the errors is correctly specified.<br/>[2] The smallest eigenvalue is 1.18e-34. This might indicate that there are<br/>strong multicollinearity problems or that the design matrix is singular."
      ],
      "text/plain": [
       "<class 'statsmodels.iolib.summary.Summary'>\n",
       "\"\"\"\n",
       "                            OLS Regression Results                            \n",
       "==============================================================================\n",
       "Dep. Variable:                  Lag_1   R-squared:                       0.675\n",
       "Model:                            OLS   Adj. R-squared:                  0.642\n",
       "Method:                 Least Squares   F-statistic:                     20.77\n",
       "Date:                Fri, 27 May 2022   Prob (F-statistic):           2.51e-09\n",
       "Time:                        11:53:48   Log-Likelihood:                -162.65\n",
       "No. Observations:                  45   AIC:                             335.3\n",
       "Df Residuals:                      40   BIC:                             344.3\n",
       "Df Model:                           4                                         \n",
       "Covariance Type:            nonrobust                                         \n",
       "======================================================================================================\n",
       "                                         coef    std err          t      P>|t|      [0.025      0.975]\n",
       "------------------------------------------------------------------------------------------------------\n",
       "settlementPeriod                       0.1375      0.178      0.770      0.446      -0.223       0.498\n",
       "imbalancePriceAmountGBP                0.7886      0.090      8.749      0.000       0.606       0.971\n",
       "documentRevNum                      1.608e-06   1.09e-06      1.471      0.149   -6.01e-07    3.82e-06\n",
       "Year                                   0.0032      0.002      1.471      0.149      -0.001       0.008\n",
       "Month                               1.608e-06   1.09e-06      1.471      0.149   -6.01e-07    3.82e-06\n",
       "Day                                 1.608e-06   1.09e-06      1.471      0.149   -6.01e-07    3.82e-06\n",
       "Hour                                   0.0703      0.089      0.788      0.436      -0.110       0.251\n",
       "Minute                                -0.0927      0.095     -0.976      0.335      -0.284       0.099\n",
       "priceCategory_Insufficient balance     1.6715      2.846      0.587      0.560      -4.081       7.424\n",
       "==============================================================================\n",
       "Omnibus:                        9.284   Durbin-Watson:                   1.862\n",
       "Prob(Omnibus):                  0.010   Jarque-Bera (JB):               12.344\n",
       "Skew:                          -0.586   Prob(JB):                      0.00209\n",
       "Kurtosis:                       5.283   Cond. No.                     1.25e+21\n",
       "==============================================================================\n",
       "\n",
       "Notes:\n",
       "[1] Standard Errors assume that the covariance matrix of the errors is correctly specified.\n",
       "[2] The smallest eigenvalue is 1.18e-34. This might indicate that there are\n",
       "strong multicollinearity problems or that the design matrix is singular.\n",
       "\"\"\""
      ]
     },
     "execution_count": 29,
     "metadata": {},
     "output_type": "execute_result"
    }
   ],
   "source": [
    "model = sm.OLS(y_Train, X_Train).fit()\n",
    "model.summary()"
   ]
  },
  {
   "cell_type": "code",
   "execution_count": 68,
   "metadata": {},
   "outputs": [
    {
     "data": {
      "text/plain": [
       "<statsmodels.regression.linear_model.RegressionResultsWrapper at 0x1b5a636a7f0>"
      ]
     },
     "execution_count": 68,
     "metadata": {},
     "output_type": "execute_result"
    }
   ],
   "source": [
    "#predictions and plot predicted vs actual\n",
    "predictions = model.predict(X_Test) "
   ]
  },
  {
   "cell_type": "code",
   "execution_count": 78,
   "metadata": {},
   "outputs": [],
   "source": [
    "predictions\n",
    "predictions_df = pd.DataFrame(predictions)\n"
   ]
  },
  {
   "cell_type": "code",
   "execution_count": 97,
   "metadata": {},
   "outputs": [],
   "source": [
    "#plot #predictions against each other \n",
    "plot_forcasts = pd.concat([df_imbalance_price_testing, predictions], axis=1, ignore_index=True)\n",
    "\n",
    "plot_forcasts\n",
    "\n",
    "plot_forecasts = plot_forcasts.rename(columns={4: 'date_Time', 1: 'acutal', 12: 'predited'}, inplace=True)"
   ]
  },
  {
   "cell_type": "code",
   "execution_count": 104,
   "metadata": {},
   "outputs": [
    {
     "data": {
      "application/vnd.plotly.v1+json": {
       "config": {
        "plotlyServerURL": "https://plot.ly"
       },
       "data": [
        {
         "hovertemplate": "date_Time=%{x}<br>predited=%{y}<extra></extra>",
         "legendgroup": "",
         "line": {
          "color": "#636efa",
          "dash": "solid"
         },
         "marker": {
          "symbol": "circle"
         },
         "mode": "lines",
         "name": "",
         "orientation": "v",
         "showlegend": false,
         "type": "scatter",
         "x": [
          "12:30:00",
          "12:30:00",
          "13:00:00",
          "13:00:00",
          "13:30:00",
          "13:30:00",
          "14:00:00",
          "14:00:00",
          "14:30:00",
          "14:30:00",
          "15:00:00",
          "15:00:00",
          "15:30:00",
          "15:30:00",
          "16:00:00",
          "16:00:00",
          "16:30:00",
          "16:30:00",
          "17:00:00",
          "17:00:00",
          "17:30:00",
          "17:30:00",
          "18:00:00",
          "18:00:00",
          "18:30:00",
          "18:30:00",
          "19:00:00",
          "19:00:00",
          "19:30:00",
          "19:30:00",
          "20:00:00",
          "20:00:00",
          "20:30:00",
          "20:30:00",
          "21:00:00",
          "21:00:00",
          "21:30:00",
          "21:30:00",
          "22:00:00",
          "22:00:00",
          "22:30:00",
          "22:30:00",
          "23:00:00",
          "23:00:00"
         ],
         "xaxis": "x",
         "y": [
          40.35381152832678,
          40.35381152832678,
          38.0911453754941,
          38.0911453754941,
          41.056830737812945,
          41.056830737812945,
          38.794164584980265,
          38.794164584980265,
          41.75984994729911,
          41.75984994729911,
          39.49718379446644,
          39.49718379446644,
          42.46286915678528,
          42.46286915678528,
          40.2002030039526,
          40.2002030039526,
          43.165888366271446,
          43.165888366271446,
          40.903222213438774,
          40.903222213438774,
          43.86890757575762,
          43.86890757575762,
          41.60624142292494,
          41.60624142292494,
          44.57192678524378,
          44.57192678524378,
          42.3092606324111,
          42.3092606324111,
          45.274945994729954,
          45.274945994729954,
          43.012279841897275,
          43.012279841897275,
          45.97796520421612,
          45.97796520421612,
          43.71529905138344,
          43.71529905138344,
          46.680984413702284,
          46.680984413702284,
          44.41831826086961,
          44.41831826086961,
          47.384003623188455,
          47.384003623188455,
          45.12133747035577,
          45.12133747035577
         ],
         "yaxis": "y"
        }
       ],
       "layout": {
        "legend": {
         "tracegroupgap": 0
        },
        "margin": {
         "t": 60
        },
        "template": {
         "data": {
          "bar": [
           {
            "error_x": {
             "color": "#2a3f5f"
            },
            "error_y": {
             "color": "#2a3f5f"
            },
            "marker": {
             "line": {
              "color": "#E5ECF6",
              "width": 0.5
             },
             "pattern": {
              "fillmode": "overlay",
              "size": 10,
              "solidity": 0.2
             }
            },
            "type": "bar"
           }
          ],
          "barpolar": [
           {
            "marker": {
             "line": {
              "color": "#E5ECF6",
              "width": 0.5
             },
             "pattern": {
              "fillmode": "overlay",
              "size": 10,
              "solidity": 0.2
             }
            },
            "type": "barpolar"
           }
          ],
          "carpet": [
           {
            "aaxis": {
             "endlinecolor": "#2a3f5f",
             "gridcolor": "white",
             "linecolor": "white",
             "minorgridcolor": "white",
             "startlinecolor": "#2a3f5f"
            },
            "baxis": {
             "endlinecolor": "#2a3f5f",
             "gridcolor": "white",
             "linecolor": "white",
             "minorgridcolor": "white",
             "startlinecolor": "#2a3f5f"
            },
            "type": "carpet"
           }
          ],
          "choropleth": [
           {
            "colorbar": {
             "outlinewidth": 0,
             "ticks": ""
            },
            "type": "choropleth"
           }
          ],
          "contour": [
           {
            "colorbar": {
             "outlinewidth": 0,
             "ticks": ""
            },
            "colorscale": [
             [
              0,
              "#0d0887"
             ],
             [
              0.1111111111111111,
              "#46039f"
             ],
             [
              0.2222222222222222,
              "#7201a8"
             ],
             [
              0.3333333333333333,
              "#9c179e"
             ],
             [
              0.4444444444444444,
              "#bd3786"
             ],
             [
              0.5555555555555556,
              "#d8576b"
             ],
             [
              0.6666666666666666,
              "#ed7953"
             ],
             [
              0.7777777777777778,
              "#fb9f3a"
             ],
             [
              0.8888888888888888,
              "#fdca26"
             ],
             [
              1,
              "#f0f921"
             ]
            ],
            "type": "contour"
           }
          ],
          "contourcarpet": [
           {
            "colorbar": {
             "outlinewidth": 0,
             "ticks": ""
            },
            "type": "contourcarpet"
           }
          ],
          "heatmap": [
           {
            "colorbar": {
             "outlinewidth": 0,
             "ticks": ""
            },
            "colorscale": [
             [
              0,
              "#0d0887"
             ],
             [
              0.1111111111111111,
              "#46039f"
             ],
             [
              0.2222222222222222,
              "#7201a8"
             ],
             [
              0.3333333333333333,
              "#9c179e"
             ],
             [
              0.4444444444444444,
              "#bd3786"
             ],
             [
              0.5555555555555556,
              "#d8576b"
             ],
             [
              0.6666666666666666,
              "#ed7953"
             ],
             [
              0.7777777777777778,
              "#fb9f3a"
             ],
             [
              0.8888888888888888,
              "#fdca26"
             ],
             [
              1,
              "#f0f921"
             ]
            ],
            "type": "heatmap"
           }
          ],
          "heatmapgl": [
           {
            "colorbar": {
             "outlinewidth": 0,
             "ticks": ""
            },
            "colorscale": [
             [
              0,
              "#0d0887"
             ],
             [
              0.1111111111111111,
              "#46039f"
             ],
             [
              0.2222222222222222,
              "#7201a8"
             ],
             [
              0.3333333333333333,
              "#9c179e"
             ],
             [
              0.4444444444444444,
              "#bd3786"
             ],
             [
              0.5555555555555556,
              "#d8576b"
             ],
             [
              0.6666666666666666,
              "#ed7953"
             ],
             [
              0.7777777777777778,
              "#fb9f3a"
             ],
             [
              0.8888888888888888,
              "#fdca26"
             ],
             [
              1,
              "#f0f921"
             ]
            ],
            "type": "heatmapgl"
           }
          ],
          "histogram": [
           {
            "marker": {
             "pattern": {
              "fillmode": "overlay",
              "size": 10,
              "solidity": 0.2
             }
            },
            "type": "histogram"
           }
          ],
          "histogram2d": [
           {
            "colorbar": {
             "outlinewidth": 0,
             "ticks": ""
            },
            "colorscale": [
             [
              0,
              "#0d0887"
             ],
             [
              0.1111111111111111,
              "#46039f"
             ],
             [
              0.2222222222222222,
              "#7201a8"
             ],
             [
              0.3333333333333333,
              "#9c179e"
             ],
             [
              0.4444444444444444,
              "#bd3786"
             ],
             [
              0.5555555555555556,
              "#d8576b"
             ],
             [
              0.6666666666666666,
              "#ed7953"
             ],
             [
              0.7777777777777778,
              "#fb9f3a"
             ],
             [
              0.8888888888888888,
              "#fdca26"
             ],
             [
              1,
              "#f0f921"
             ]
            ],
            "type": "histogram2d"
           }
          ],
          "histogram2dcontour": [
           {
            "colorbar": {
             "outlinewidth": 0,
             "ticks": ""
            },
            "colorscale": [
             [
              0,
              "#0d0887"
             ],
             [
              0.1111111111111111,
              "#46039f"
             ],
             [
              0.2222222222222222,
              "#7201a8"
             ],
             [
              0.3333333333333333,
              "#9c179e"
             ],
             [
              0.4444444444444444,
              "#bd3786"
             ],
             [
              0.5555555555555556,
              "#d8576b"
             ],
             [
              0.6666666666666666,
              "#ed7953"
             ],
             [
              0.7777777777777778,
              "#fb9f3a"
             ],
             [
              0.8888888888888888,
              "#fdca26"
             ],
             [
              1,
              "#f0f921"
             ]
            ],
            "type": "histogram2dcontour"
           }
          ],
          "mesh3d": [
           {
            "colorbar": {
             "outlinewidth": 0,
             "ticks": ""
            },
            "type": "mesh3d"
           }
          ],
          "parcoords": [
           {
            "line": {
             "colorbar": {
              "outlinewidth": 0,
              "ticks": ""
             }
            },
            "type": "parcoords"
           }
          ],
          "pie": [
           {
            "automargin": true,
            "type": "pie"
           }
          ],
          "scatter": [
           {
            "fillpattern": {
             "fillmode": "overlay",
             "size": 10,
             "solidity": 0.2
            },
            "type": "scatter"
           }
          ],
          "scatter3d": [
           {
            "line": {
             "colorbar": {
              "outlinewidth": 0,
              "ticks": ""
             }
            },
            "marker": {
             "colorbar": {
              "outlinewidth": 0,
              "ticks": ""
             }
            },
            "type": "scatter3d"
           }
          ],
          "scattercarpet": [
           {
            "marker": {
             "colorbar": {
              "outlinewidth": 0,
              "ticks": ""
             }
            },
            "type": "scattercarpet"
           }
          ],
          "scattergeo": [
           {
            "marker": {
             "colorbar": {
              "outlinewidth": 0,
              "ticks": ""
             }
            },
            "type": "scattergeo"
           }
          ],
          "scattergl": [
           {
            "marker": {
             "colorbar": {
              "outlinewidth": 0,
              "ticks": ""
             }
            },
            "type": "scattergl"
           }
          ],
          "scattermapbox": [
           {
            "marker": {
             "colorbar": {
              "outlinewidth": 0,
              "ticks": ""
             }
            },
            "type": "scattermapbox"
           }
          ],
          "scatterpolar": [
           {
            "marker": {
             "colorbar": {
              "outlinewidth": 0,
              "ticks": ""
             }
            },
            "type": "scatterpolar"
           }
          ],
          "scatterpolargl": [
           {
            "marker": {
             "colorbar": {
              "outlinewidth": 0,
              "ticks": ""
             }
            },
            "type": "scatterpolargl"
           }
          ],
          "scatterternary": [
           {
            "marker": {
             "colorbar": {
              "outlinewidth": 0,
              "ticks": ""
             }
            },
            "type": "scatterternary"
           }
          ],
          "surface": [
           {
            "colorbar": {
             "outlinewidth": 0,
             "ticks": ""
            },
            "colorscale": [
             [
              0,
              "#0d0887"
             ],
             [
              0.1111111111111111,
              "#46039f"
             ],
             [
              0.2222222222222222,
              "#7201a8"
             ],
             [
              0.3333333333333333,
              "#9c179e"
             ],
             [
              0.4444444444444444,
              "#bd3786"
             ],
             [
              0.5555555555555556,
              "#d8576b"
             ],
             [
              0.6666666666666666,
              "#ed7953"
             ],
             [
              0.7777777777777778,
              "#fb9f3a"
             ],
             [
              0.8888888888888888,
              "#fdca26"
             ],
             [
              1,
              "#f0f921"
             ]
            ],
            "type": "surface"
           }
          ],
          "table": [
           {
            "cells": {
             "fill": {
              "color": "#EBF0F8"
             },
             "line": {
              "color": "white"
             }
            },
            "header": {
             "fill": {
              "color": "#C8D4E3"
             },
             "line": {
              "color": "white"
             }
            },
            "type": "table"
           }
          ]
         },
         "layout": {
          "annotationdefaults": {
           "arrowcolor": "#2a3f5f",
           "arrowhead": 0,
           "arrowwidth": 1
          },
          "autotypenumbers": "strict",
          "coloraxis": {
           "colorbar": {
            "outlinewidth": 0,
            "ticks": ""
           }
          },
          "colorscale": {
           "diverging": [
            [
             0,
             "#8e0152"
            ],
            [
             0.1,
             "#c51b7d"
            ],
            [
             0.2,
             "#de77ae"
            ],
            [
             0.3,
             "#f1b6da"
            ],
            [
             0.4,
             "#fde0ef"
            ],
            [
             0.5,
             "#f7f7f7"
            ],
            [
             0.6,
             "#e6f5d0"
            ],
            [
             0.7,
             "#b8e186"
            ],
            [
             0.8,
             "#7fbc41"
            ],
            [
             0.9,
             "#4d9221"
            ],
            [
             1,
             "#276419"
            ]
           ],
           "sequential": [
            [
             0,
             "#0d0887"
            ],
            [
             0.1111111111111111,
             "#46039f"
            ],
            [
             0.2222222222222222,
             "#7201a8"
            ],
            [
             0.3333333333333333,
             "#9c179e"
            ],
            [
             0.4444444444444444,
             "#bd3786"
            ],
            [
             0.5555555555555556,
             "#d8576b"
            ],
            [
             0.6666666666666666,
             "#ed7953"
            ],
            [
             0.7777777777777778,
             "#fb9f3a"
            ],
            [
             0.8888888888888888,
             "#fdca26"
            ],
            [
             1,
             "#f0f921"
            ]
           ],
           "sequentialminus": [
            [
             0,
             "#0d0887"
            ],
            [
             0.1111111111111111,
             "#46039f"
            ],
            [
             0.2222222222222222,
             "#7201a8"
            ],
            [
             0.3333333333333333,
             "#9c179e"
            ],
            [
             0.4444444444444444,
             "#bd3786"
            ],
            [
             0.5555555555555556,
             "#d8576b"
            ],
            [
             0.6666666666666666,
             "#ed7953"
            ],
            [
             0.7777777777777778,
             "#fb9f3a"
            ],
            [
             0.8888888888888888,
             "#fdca26"
            ],
            [
             1,
             "#f0f921"
            ]
           ]
          },
          "colorway": [
           "#636efa",
           "#EF553B",
           "#00cc96",
           "#ab63fa",
           "#FFA15A",
           "#19d3f3",
           "#FF6692",
           "#B6E880",
           "#FF97FF",
           "#FECB52"
          ],
          "font": {
           "color": "#2a3f5f"
          },
          "geo": {
           "bgcolor": "white",
           "lakecolor": "white",
           "landcolor": "#E5ECF6",
           "showlakes": true,
           "showland": true,
           "subunitcolor": "white"
          },
          "hoverlabel": {
           "align": "left"
          },
          "hovermode": "closest",
          "mapbox": {
           "style": "light"
          },
          "paper_bgcolor": "white",
          "plot_bgcolor": "#E5ECF6",
          "polar": {
           "angularaxis": {
            "gridcolor": "white",
            "linecolor": "white",
            "ticks": ""
           },
           "bgcolor": "#E5ECF6",
           "radialaxis": {
            "gridcolor": "white",
            "linecolor": "white",
            "ticks": ""
           }
          },
          "scene": {
           "xaxis": {
            "backgroundcolor": "#E5ECF6",
            "gridcolor": "white",
            "gridwidth": 2,
            "linecolor": "white",
            "showbackground": true,
            "ticks": "",
            "zerolinecolor": "white"
           },
           "yaxis": {
            "backgroundcolor": "#E5ECF6",
            "gridcolor": "white",
            "gridwidth": 2,
            "linecolor": "white",
            "showbackground": true,
            "ticks": "",
            "zerolinecolor": "white"
           },
           "zaxis": {
            "backgroundcolor": "#E5ECF6",
            "gridcolor": "white",
            "gridwidth": 2,
            "linecolor": "white",
            "showbackground": true,
            "ticks": "",
            "zerolinecolor": "white"
           }
          },
          "shapedefaults": {
           "line": {
            "color": "#2a3f5f"
           }
          },
          "ternary": {
           "aaxis": {
            "gridcolor": "white",
            "linecolor": "white",
            "ticks": ""
           },
           "baxis": {
            "gridcolor": "white",
            "linecolor": "white",
            "ticks": ""
           },
           "bgcolor": "#E5ECF6",
           "caxis": {
            "gridcolor": "white",
            "linecolor": "white",
            "ticks": ""
           }
          },
          "title": {
           "x": 0.05
          },
          "xaxis": {
           "automargin": true,
           "gridcolor": "white",
           "linecolor": "white",
           "ticks": "",
           "title": {
            "standoff": 15
           },
           "zerolinecolor": "white",
           "zerolinewidth": 2
          },
          "yaxis": {
           "automargin": true,
           "gridcolor": "white",
           "linecolor": "white",
           "ticks": "",
           "title": {
            "standoff": 15
           },
           "zerolinecolor": "white",
           "zerolinewidth": 2
          }
         }
        },
        "xaxis": {
         "anchor": "y",
         "domain": [
          0,
          1
         ],
         "title": {
          "text": "date_Time"
         }
        },
        "yaxis": {
         "anchor": "x",
         "domain": [
          0,
          1
         ],
         "title": {
          "text": "predited"
         }
        }
       }
      }
     },
     "metadata": {},
     "output_type": "display_data"
    },
    {
     "data": {
      "application/vnd.plotly.v1+json": {
       "config": {
        "plotlyServerURL": "https://plot.ly"
       },
       "data": [
        {
         "hovertemplate": "date_Time=%{x}<br>acutal=%{y}<extra></extra>",
         "legendgroup": "",
         "line": {
          "color": "#636efa",
          "dash": "solid"
         },
         "marker": {
          "symbol": "circle"
         },
         "mode": "lines",
         "name": "",
         "orientation": "v",
         "showlegend": false,
         "type": "scatter",
         "x": [
          "12:30:00",
          "12:30:00",
          "13:00:00",
          "13:00:00",
          "13:30:00",
          "13:30:00",
          "14:00:00",
          "14:00:00",
          "14:30:00",
          "14:30:00",
          "15:00:00",
          "15:00:00",
          "15:30:00",
          "15:30:00",
          "16:00:00",
          "16:00:00",
          "16:30:00",
          "16:30:00",
          "17:00:00",
          "17:00:00",
          "17:30:00",
          "17:30:00",
          "18:00:00",
          "18:00:00",
          "18:30:00",
          "18:30:00",
          "19:00:00",
          "19:00:00",
          "19:30:00",
          "19:30:00",
          "20:00:00",
          "20:00:00",
          "20:30:00",
          "20:30:00",
          "21:00:00",
          "21:00:00",
          "21:30:00",
          "21:30:00",
          "22:00:00",
          "22:00:00",
          "22:30:00",
          "22:30:00",
          "23:00:00",
          "23:00:00"
         ],
         "xaxis": "x",
         "y": [
          51.9,
          51.9,
          51,
          51,
          51,
          51,
          50.75,
          50.75,
          7.5,
          7.5,
          7.5,
          7.5,
          50.8,
          50.8,
          52,
          52,
          50.8,
          50.8,
          52,
          52,
          52,
          52,
          51.9,
          51.9,
          51.5,
          51.5,
          49.95,
          49.95,
          49.75,
          49.75,
          49.75,
          49.75,
          51.5,
          51.5,
          49.45,
          49.45,
          51.5,
          51.5,
          51.5,
          51.5,
          49.45,
          49.45,
          50.05,
          50.05
         ],
         "yaxis": "y"
        }
       ],
       "layout": {
        "legend": {
         "tracegroupgap": 0
        },
        "margin": {
         "t": 60
        },
        "template": {
         "data": {
          "bar": [
           {
            "error_x": {
             "color": "#2a3f5f"
            },
            "error_y": {
             "color": "#2a3f5f"
            },
            "marker": {
             "line": {
              "color": "#E5ECF6",
              "width": 0.5
             },
             "pattern": {
              "fillmode": "overlay",
              "size": 10,
              "solidity": 0.2
             }
            },
            "type": "bar"
           }
          ],
          "barpolar": [
           {
            "marker": {
             "line": {
              "color": "#E5ECF6",
              "width": 0.5
             },
             "pattern": {
              "fillmode": "overlay",
              "size": 10,
              "solidity": 0.2
             }
            },
            "type": "barpolar"
           }
          ],
          "carpet": [
           {
            "aaxis": {
             "endlinecolor": "#2a3f5f",
             "gridcolor": "white",
             "linecolor": "white",
             "minorgridcolor": "white",
             "startlinecolor": "#2a3f5f"
            },
            "baxis": {
             "endlinecolor": "#2a3f5f",
             "gridcolor": "white",
             "linecolor": "white",
             "minorgridcolor": "white",
             "startlinecolor": "#2a3f5f"
            },
            "type": "carpet"
           }
          ],
          "choropleth": [
           {
            "colorbar": {
             "outlinewidth": 0,
             "ticks": ""
            },
            "type": "choropleth"
           }
          ],
          "contour": [
           {
            "colorbar": {
             "outlinewidth": 0,
             "ticks": ""
            },
            "colorscale": [
             [
              0,
              "#0d0887"
             ],
             [
              0.1111111111111111,
              "#46039f"
             ],
             [
              0.2222222222222222,
              "#7201a8"
             ],
             [
              0.3333333333333333,
              "#9c179e"
             ],
             [
              0.4444444444444444,
              "#bd3786"
             ],
             [
              0.5555555555555556,
              "#d8576b"
             ],
             [
              0.6666666666666666,
              "#ed7953"
             ],
             [
              0.7777777777777778,
              "#fb9f3a"
             ],
             [
              0.8888888888888888,
              "#fdca26"
             ],
             [
              1,
              "#f0f921"
             ]
            ],
            "type": "contour"
           }
          ],
          "contourcarpet": [
           {
            "colorbar": {
             "outlinewidth": 0,
             "ticks": ""
            },
            "type": "contourcarpet"
           }
          ],
          "heatmap": [
           {
            "colorbar": {
             "outlinewidth": 0,
             "ticks": ""
            },
            "colorscale": [
             [
              0,
              "#0d0887"
             ],
             [
              0.1111111111111111,
              "#46039f"
             ],
             [
              0.2222222222222222,
              "#7201a8"
             ],
             [
              0.3333333333333333,
              "#9c179e"
             ],
             [
              0.4444444444444444,
              "#bd3786"
             ],
             [
              0.5555555555555556,
              "#d8576b"
             ],
             [
              0.6666666666666666,
              "#ed7953"
             ],
             [
              0.7777777777777778,
              "#fb9f3a"
             ],
             [
              0.8888888888888888,
              "#fdca26"
             ],
             [
              1,
              "#f0f921"
             ]
            ],
            "type": "heatmap"
           }
          ],
          "heatmapgl": [
           {
            "colorbar": {
             "outlinewidth": 0,
             "ticks": ""
            },
            "colorscale": [
             [
              0,
              "#0d0887"
             ],
             [
              0.1111111111111111,
              "#46039f"
             ],
             [
              0.2222222222222222,
              "#7201a8"
             ],
             [
              0.3333333333333333,
              "#9c179e"
             ],
             [
              0.4444444444444444,
              "#bd3786"
             ],
             [
              0.5555555555555556,
              "#d8576b"
             ],
             [
              0.6666666666666666,
              "#ed7953"
             ],
             [
              0.7777777777777778,
              "#fb9f3a"
             ],
             [
              0.8888888888888888,
              "#fdca26"
             ],
             [
              1,
              "#f0f921"
             ]
            ],
            "type": "heatmapgl"
           }
          ],
          "histogram": [
           {
            "marker": {
             "pattern": {
              "fillmode": "overlay",
              "size": 10,
              "solidity": 0.2
             }
            },
            "type": "histogram"
           }
          ],
          "histogram2d": [
           {
            "colorbar": {
             "outlinewidth": 0,
             "ticks": ""
            },
            "colorscale": [
             [
              0,
              "#0d0887"
             ],
             [
              0.1111111111111111,
              "#46039f"
             ],
             [
              0.2222222222222222,
              "#7201a8"
             ],
             [
              0.3333333333333333,
              "#9c179e"
             ],
             [
              0.4444444444444444,
              "#bd3786"
             ],
             [
              0.5555555555555556,
              "#d8576b"
             ],
             [
              0.6666666666666666,
              "#ed7953"
             ],
             [
              0.7777777777777778,
              "#fb9f3a"
             ],
             [
              0.8888888888888888,
              "#fdca26"
             ],
             [
              1,
              "#f0f921"
             ]
            ],
            "type": "histogram2d"
           }
          ],
          "histogram2dcontour": [
           {
            "colorbar": {
             "outlinewidth": 0,
             "ticks": ""
            },
            "colorscale": [
             [
              0,
              "#0d0887"
             ],
             [
              0.1111111111111111,
              "#46039f"
             ],
             [
              0.2222222222222222,
              "#7201a8"
             ],
             [
              0.3333333333333333,
              "#9c179e"
             ],
             [
              0.4444444444444444,
              "#bd3786"
             ],
             [
              0.5555555555555556,
              "#d8576b"
             ],
             [
              0.6666666666666666,
              "#ed7953"
             ],
             [
              0.7777777777777778,
              "#fb9f3a"
             ],
             [
              0.8888888888888888,
              "#fdca26"
             ],
             [
              1,
              "#f0f921"
             ]
            ],
            "type": "histogram2dcontour"
           }
          ],
          "mesh3d": [
           {
            "colorbar": {
             "outlinewidth": 0,
             "ticks": ""
            },
            "type": "mesh3d"
           }
          ],
          "parcoords": [
           {
            "line": {
             "colorbar": {
              "outlinewidth": 0,
              "ticks": ""
             }
            },
            "type": "parcoords"
           }
          ],
          "pie": [
           {
            "automargin": true,
            "type": "pie"
           }
          ],
          "scatter": [
           {
            "fillpattern": {
             "fillmode": "overlay",
             "size": 10,
             "solidity": 0.2
            },
            "type": "scatter"
           }
          ],
          "scatter3d": [
           {
            "line": {
             "colorbar": {
              "outlinewidth": 0,
              "ticks": ""
             }
            },
            "marker": {
             "colorbar": {
              "outlinewidth": 0,
              "ticks": ""
             }
            },
            "type": "scatter3d"
           }
          ],
          "scattercarpet": [
           {
            "marker": {
             "colorbar": {
              "outlinewidth": 0,
              "ticks": ""
             }
            },
            "type": "scattercarpet"
           }
          ],
          "scattergeo": [
           {
            "marker": {
             "colorbar": {
              "outlinewidth": 0,
              "ticks": ""
             }
            },
            "type": "scattergeo"
           }
          ],
          "scattergl": [
           {
            "marker": {
             "colorbar": {
              "outlinewidth": 0,
              "ticks": ""
             }
            },
            "type": "scattergl"
           }
          ],
          "scattermapbox": [
           {
            "marker": {
             "colorbar": {
              "outlinewidth": 0,
              "ticks": ""
             }
            },
            "type": "scattermapbox"
           }
          ],
          "scatterpolar": [
           {
            "marker": {
             "colorbar": {
              "outlinewidth": 0,
              "ticks": ""
             }
            },
            "type": "scatterpolar"
           }
          ],
          "scatterpolargl": [
           {
            "marker": {
             "colorbar": {
              "outlinewidth": 0,
              "ticks": ""
             }
            },
            "type": "scatterpolargl"
           }
          ],
          "scatterternary": [
           {
            "marker": {
             "colorbar": {
              "outlinewidth": 0,
              "ticks": ""
             }
            },
            "type": "scatterternary"
           }
          ],
          "surface": [
           {
            "colorbar": {
             "outlinewidth": 0,
             "ticks": ""
            },
            "colorscale": [
             [
              0,
              "#0d0887"
             ],
             [
              0.1111111111111111,
              "#46039f"
             ],
             [
              0.2222222222222222,
              "#7201a8"
             ],
             [
              0.3333333333333333,
              "#9c179e"
             ],
             [
              0.4444444444444444,
              "#bd3786"
             ],
             [
              0.5555555555555556,
              "#d8576b"
             ],
             [
              0.6666666666666666,
              "#ed7953"
             ],
             [
              0.7777777777777778,
              "#fb9f3a"
             ],
             [
              0.8888888888888888,
              "#fdca26"
             ],
             [
              1,
              "#f0f921"
             ]
            ],
            "type": "surface"
           }
          ],
          "table": [
           {
            "cells": {
             "fill": {
              "color": "#EBF0F8"
             },
             "line": {
              "color": "white"
             }
            },
            "header": {
             "fill": {
              "color": "#C8D4E3"
             },
             "line": {
              "color": "white"
             }
            },
            "type": "table"
           }
          ]
         },
         "layout": {
          "annotationdefaults": {
           "arrowcolor": "#2a3f5f",
           "arrowhead": 0,
           "arrowwidth": 1
          },
          "autotypenumbers": "strict",
          "coloraxis": {
           "colorbar": {
            "outlinewidth": 0,
            "ticks": ""
           }
          },
          "colorscale": {
           "diverging": [
            [
             0,
             "#8e0152"
            ],
            [
             0.1,
             "#c51b7d"
            ],
            [
             0.2,
             "#de77ae"
            ],
            [
             0.3,
             "#f1b6da"
            ],
            [
             0.4,
             "#fde0ef"
            ],
            [
             0.5,
             "#f7f7f7"
            ],
            [
             0.6,
             "#e6f5d0"
            ],
            [
             0.7,
             "#b8e186"
            ],
            [
             0.8,
             "#7fbc41"
            ],
            [
             0.9,
             "#4d9221"
            ],
            [
             1,
             "#276419"
            ]
           ],
           "sequential": [
            [
             0,
             "#0d0887"
            ],
            [
             0.1111111111111111,
             "#46039f"
            ],
            [
             0.2222222222222222,
             "#7201a8"
            ],
            [
             0.3333333333333333,
             "#9c179e"
            ],
            [
             0.4444444444444444,
             "#bd3786"
            ],
            [
             0.5555555555555556,
             "#d8576b"
            ],
            [
             0.6666666666666666,
             "#ed7953"
            ],
            [
             0.7777777777777778,
             "#fb9f3a"
            ],
            [
             0.8888888888888888,
             "#fdca26"
            ],
            [
             1,
             "#f0f921"
            ]
           ],
           "sequentialminus": [
            [
             0,
             "#0d0887"
            ],
            [
             0.1111111111111111,
             "#46039f"
            ],
            [
             0.2222222222222222,
             "#7201a8"
            ],
            [
             0.3333333333333333,
             "#9c179e"
            ],
            [
             0.4444444444444444,
             "#bd3786"
            ],
            [
             0.5555555555555556,
             "#d8576b"
            ],
            [
             0.6666666666666666,
             "#ed7953"
            ],
            [
             0.7777777777777778,
             "#fb9f3a"
            ],
            [
             0.8888888888888888,
             "#fdca26"
            ],
            [
             1,
             "#f0f921"
            ]
           ]
          },
          "colorway": [
           "#636efa",
           "#EF553B",
           "#00cc96",
           "#ab63fa",
           "#FFA15A",
           "#19d3f3",
           "#FF6692",
           "#B6E880",
           "#FF97FF",
           "#FECB52"
          ],
          "font": {
           "color": "#2a3f5f"
          },
          "geo": {
           "bgcolor": "white",
           "lakecolor": "white",
           "landcolor": "#E5ECF6",
           "showlakes": true,
           "showland": true,
           "subunitcolor": "white"
          },
          "hoverlabel": {
           "align": "left"
          },
          "hovermode": "closest",
          "mapbox": {
           "style": "light"
          },
          "paper_bgcolor": "white",
          "plot_bgcolor": "#E5ECF6",
          "polar": {
           "angularaxis": {
            "gridcolor": "white",
            "linecolor": "white",
            "ticks": ""
           },
           "bgcolor": "#E5ECF6",
           "radialaxis": {
            "gridcolor": "white",
            "linecolor": "white",
            "ticks": ""
           }
          },
          "scene": {
           "xaxis": {
            "backgroundcolor": "#E5ECF6",
            "gridcolor": "white",
            "gridwidth": 2,
            "linecolor": "white",
            "showbackground": true,
            "ticks": "",
            "zerolinecolor": "white"
           },
           "yaxis": {
            "backgroundcolor": "#E5ECF6",
            "gridcolor": "white",
            "gridwidth": 2,
            "linecolor": "white",
            "showbackground": true,
            "ticks": "",
            "zerolinecolor": "white"
           },
           "zaxis": {
            "backgroundcolor": "#E5ECF6",
            "gridcolor": "white",
            "gridwidth": 2,
            "linecolor": "white",
            "showbackground": true,
            "ticks": "",
            "zerolinecolor": "white"
           }
          },
          "shapedefaults": {
           "line": {
            "color": "#2a3f5f"
           }
          },
          "ternary": {
           "aaxis": {
            "gridcolor": "white",
            "linecolor": "white",
            "ticks": ""
           },
           "baxis": {
            "gridcolor": "white",
            "linecolor": "white",
            "ticks": ""
           },
           "bgcolor": "#E5ECF6",
           "caxis": {
            "gridcolor": "white",
            "linecolor": "white",
            "ticks": ""
           }
          },
          "title": {
           "x": 0.05
          },
          "xaxis": {
           "automargin": true,
           "gridcolor": "white",
           "linecolor": "white",
           "ticks": "",
           "title": {
            "standoff": 15
           },
           "zerolinecolor": "white",
           "zerolinewidth": 2
          },
          "yaxis": {
           "automargin": true,
           "gridcolor": "white",
           "linecolor": "white",
           "ticks": "",
           "title": {
            "standoff": 15
           },
           "zerolinecolor": "white",
           "zerolinewidth": 2
          }
         }
        },
        "xaxis": {
         "anchor": "y",
         "domain": [
          0,
          1
         ],
         "title": {
          "text": "date_Time"
         }
        },
        "yaxis": {
         "anchor": "x",
         "domain": [
          0,
          1
         ],
         "title": {
          "text": "acutal"
         }
        }
       }
      }
     },
     "metadata": {},
     "output_type": "display_data"
    }
   ],
   "source": [
    "import plotly.graph_objects as go\n",
    "\n",
    "import plotly.express as px\n",
    "\n",
    "#df = px.data.stocks()\n",
    "\n",
    "fig5 = px.line(plot_forcasts,x='date_Time', y='predited')\n",
    "fig6 = px.line(plot_forcasts, x='date_Time', y='acutal')\n",
    "fig5.show()\n",
    "fig6.show()"
   ]
  },
  {
   "cell_type": "code",
   "execution_count": 102,
   "metadata": {},
   "outputs": [
    {
     "data": {
      "text/html": [
       "<div>\n",
       "<style scoped>\n",
       "    .dataframe tbody tr th:only-of-type {\n",
       "        vertical-align: middle;\n",
       "    }\n",
       "\n",
       "    .dataframe tbody tr th {\n",
       "        vertical-align: top;\n",
       "    }\n",
       "\n",
       "    .dataframe thead th {\n",
       "        text-align: right;\n",
       "    }\n",
       "</style>\n",
       "<table border=\"1\" class=\"dataframe\">\n",
       "  <thead>\n",
       "    <tr style=\"text-align: right;\">\n",
       "      <th></th>\n",
       "      <th>0</th>\n",
       "      <th>acutal</th>\n",
       "      <th>2</th>\n",
       "      <th>3</th>\n",
       "      <th>date_Time</th>\n",
       "      <th>5</th>\n",
       "      <th>6</th>\n",
       "      <th>7</th>\n",
       "      <th>8</th>\n",
       "      <th>9</th>\n",
       "      <th>10</th>\n",
       "      <th>11</th>\n",
       "      <th>predited</th>\n",
       "    </tr>\n",
       "  </thead>\n",
       "  <tbody>\n",
       "    <tr>\n",
       "      <th>50</th>\n",
       "      <td>26</td>\n",
       "      <td>51.9</td>\n",
       "      <td>PT30M</td>\n",
       "      <td>1</td>\n",
       "      <td>12:30:00</td>\n",
       "      <td>2020</td>\n",
       "      <td>1</td>\n",
       "      <td>1</td>\n",
       "      <td>12</td>\n",
       "      <td>30</td>\n",
       "      <td>NaN</td>\n",
       "      <td>1</td>\n",
       "      <td>40.353812</td>\n",
       "    </tr>\n",
       "    <tr>\n",
       "      <th>51</th>\n",
       "      <td>26</td>\n",
       "      <td>51.9</td>\n",
       "      <td>PT30M</td>\n",
       "      <td>1</td>\n",
       "      <td>12:30:00</td>\n",
       "      <td>2020</td>\n",
       "      <td>1</td>\n",
       "      <td>1</td>\n",
       "      <td>12</td>\n",
       "      <td>30</td>\n",
       "      <td>51.9</td>\n",
       "      <td>0</td>\n",
       "      <td>40.353812</td>\n",
       "    </tr>\n",
       "    <tr>\n",
       "      <th>52</th>\n",
       "      <td>27</td>\n",
       "      <td>51.0</td>\n",
       "      <td>PT30M</td>\n",
       "      <td>1</td>\n",
       "      <td>13:00:00</td>\n",
       "      <td>2020</td>\n",
       "      <td>1</td>\n",
       "      <td>1</td>\n",
       "      <td>13</td>\n",
       "      <td>0</td>\n",
       "      <td>51.9</td>\n",
       "      <td>1</td>\n",
       "      <td>38.091145</td>\n",
       "    </tr>\n",
       "    <tr>\n",
       "      <th>53</th>\n",
       "      <td>27</td>\n",
       "      <td>51.0</td>\n",
       "      <td>PT30M</td>\n",
       "      <td>1</td>\n",
       "      <td>13:00:00</td>\n",
       "      <td>2020</td>\n",
       "      <td>1</td>\n",
       "      <td>1</td>\n",
       "      <td>13</td>\n",
       "      <td>0</td>\n",
       "      <td>51.0</td>\n",
       "      <td>0</td>\n",
       "      <td>38.091145</td>\n",
       "    </tr>\n",
       "    <tr>\n",
       "      <th>54</th>\n",
       "      <td>28</td>\n",
       "      <td>51.0</td>\n",
       "      <td>PT30M</td>\n",
       "      <td>1</td>\n",
       "      <td>13:30:00</td>\n",
       "      <td>2020</td>\n",
       "      <td>1</td>\n",
       "      <td>1</td>\n",
       "      <td>13</td>\n",
       "      <td>30</td>\n",
       "      <td>51.0</td>\n",
       "      <td>1</td>\n",
       "      <td>41.056831</td>\n",
       "    </tr>\n",
       "  </tbody>\n",
       "</table>\n",
       "</div>"
      ],
      "text/plain": [
       "     0  acutal      2  3 date_Time     5  6  7   8   9    10  11   predited\n",
       "50  26    51.9  PT30M  1  12:30:00  2020  1  1  12  30   NaN   1  40.353812\n",
       "51  26    51.9  PT30M  1  12:30:00  2020  1  1  12  30  51.9   0  40.353812\n",
       "52  27    51.0  PT30M  1  13:00:00  2020  1  1  13   0  51.9   1  38.091145\n",
       "53  27    51.0  PT30M  1  13:00:00  2020  1  1  13   0  51.0   0  38.091145\n",
       "54  28    51.0  PT30M  1  13:30:00  2020  1  1  13  30  51.0   1  41.056831"
      ]
     },
     "execution_count": 102,
     "metadata": {},
     "output_type": "execute_result"
    }
   ],
   "source": [
    "plot_forcasts.head()"
   ]
  },
  {
   "cell_type": "code",
   "execution_count": 111,
   "metadata": {},
   "outputs": [
    {
     "data": {
      "text/html": [
       "<div>\n",
       "<style scoped>\n",
       "    .dataframe tbody tr th:only-of-type {\n",
       "        vertical-align: middle;\n",
       "    }\n",
       "\n",
       "    .dataframe tbody tr th {\n",
       "        vertical-align: top;\n",
       "    }\n",
       "\n",
       "    .dataframe thead th {\n",
       "        text-align: right;\n",
       "    }\n",
       "</style>\n",
       "<table border=\"1\" class=\"dataframe\">\n",
       "  <thead>\n",
       "    <tr style=\"text-align: right;\">\n",
       "      <th></th>\n",
       "      <th>settlementPeriod</th>\n",
       "      <th>documentRevNum</th>\n",
       "      <th>Year</th>\n",
       "      <th>Month</th>\n",
       "      <th>Day</th>\n",
       "      <th>Hour</th>\n",
       "      <th>Minute</th>\n",
       "      <th>priceCategory_Insufficient balance</th>\n",
       "    </tr>\n",
       "  </thead>\n",
       "  <tbody>\n",
       "    <tr>\n",
       "      <th>2</th>\n",
       "      <td>2</td>\n",
       "      <td>1</td>\n",
       "      <td>2020</td>\n",
       "      <td>1</td>\n",
       "      <td>1</td>\n",
       "      <td>0</td>\n",
       "      <td>30</td>\n",
       "      <td>1</td>\n",
       "    </tr>\n",
       "    <tr>\n",
       "      <th>3</th>\n",
       "      <td>2</td>\n",
       "      <td>1</td>\n",
       "      <td>2020</td>\n",
       "      <td>1</td>\n",
       "      <td>1</td>\n",
       "      <td>0</td>\n",
       "      <td>30</td>\n",
       "      <td>0</td>\n",
       "    </tr>\n",
       "    <tr>\n",
       "      <th>4</th>\n",
       "      <td>3</td>\n",
       "      <td>1</td>\n",
       "      <td>2020</td>\n",
       "      <td>1</td>\n",
       "      <td>1</td>\n",
       "      <td>1</td>\n",
       "      <td>0</td>\n",
       "      <td>1</td>\n",
       "    </tr>\n",
       "    <tr>\n",
       "      <th>5</th>\n",
       "      <td>3</td>\n",
       "      <td>1</td>\n",
       "      <td>2020</td>\n",
       "      <td>1</td>\n",
       "      <td>1</td>\n",
       "      <td>1</td>\n",
       "      <td>0</td>\n",
       "      <td>0</td>\n",
       "    </tr>\n",
       "    <tr>\n",
       "      <th>6</th>\n",
       "      <td>4</td>\n",
       "      <td>1</td>\n",
       "      <td>2020</td>\n",
       "      <td>1</td>\n",
       "      <td>1</td>\n",
       "      <td>1</td>\n",
       "      <td>30</td>\n",
       "      <td>1</td>\n",
       "    </tr>\n",
       "    <tr>\n",
       "      <th>7</th>\n",
       "      <td>4</td>\n",
       "      <td>1</td>\n",
       "      <td>2020</td>\n",
       "      <td>1</td>\n",
       "      <td>1</td>\n",
       "      <td>1</td>\n",
       "      <td>30</td>\n",
       "      <td>0</td>\n",
       "    </tr>\n",
       "    <tr>\n",
       "      <th>8</th>\n",
       "      <td>5</td>\n",
       "      <td>1</td>\n",
       "      <td>2020</td>\n",
       "      <td>1</td>\n",
       "      <td>1</td>\n",
       "      <td>2</td>\n",
       "      <td>0</td>\n",
       "      <td>1</td>\n",
       "    </tr>\n",
       "    <tr>\n",
       "      <th>9</th>\n",
       "      <td>5</td>\n",
       "      <td>1</td>\n",
       "      <td>2020</td>\n",
       "      <td>1</td>\n",
       "      <td>1</td>\n",
       "      <td>2</td>\n",
       "      <td>0</td>\n",
       "      <td>0</td>\n",
       "    </tr>\n",
       "    <tr>\n",
       "      <th>10</th>\n",
       "      <td>6</td>\n",
       "      <td>1</td>\n",
       "      <td>2020</td>\n",
       "      <td>1</td>\n",
       "      <td>1</td>\n",
       "      <td>2</td>\n",
       "      <td>30</td>\n",
       "      <td>1</td>\n",
       "    </tr>\n",
       "    <tr>\n",
       "      <th>11</th>\n",
       "      <td>6</td>\n",
       "      <td>1</td>\n",
       "      <td>2020</td>\n",
       "      <td>1</td>\n",
       "      <td>1</td>\n",
       "      <td>2</td>\n",
       "      <td>30</td>\n",
       "      <td>0</td>\n",
       "    </tr>\n",
       "    <tr>\n",
       "      <th>12</th>\n",
       "      <td>7</td>\n",
       "      <td>1</td>\n",
       "      <td>2020</td>\n",
       "      <td>1</td>\n",
       "      <td>1</td>\n",
       "      <td>3</td>\n",
       "      <td>0</td>\n",
       "      <td>1</td>\n",
       "    </tr>\n",
       "    <tr>\n",
       "      <th>13</th>\n",
       "      <td>7</td>\n",
       "      <td>1</td>\n",
       "      <td>2020</td>\n",
       "      <td>1</td>\n",
       "      <td>1</td>\n",
       "      <td>3</td>\n",
       "      <td>0</td>\n",
       "      <td>0</td>\n",
       "    </tr>\n",
       "    <tr>\n",
       "      <th>14</th>\n",
       "      <td>8</td>\n",
       "      <td>1</td>\n",
       "      <td>2020</td>\n",
       "      <td>1</td>\n",
       "      <td>1</td>\n",
       "      <td>3</td>\n",
       "      <td>30</td>\n",
       "      <td>1</td>\n",
       "    </tr>\n",
       "    <tr>\n",
       "      <th>15</th>\n",
       "      <td>8</td>\n",
       "      <td>1</td>\n",
       "      <td>2020</td>\n",
       "      <td>1</td>\n",
       "      <td>1</td>\n",
       "      <td>3</td>\n",
       "      <td>30</td>\n",
       "      <td>0</td>\n",
       "    </tr>\n",
       "    <tr>\n",
       "      <th>16</th>\n",
       "      <td>9</td>\n",
       "      <td>1</td>\n",
       "      <td>2020</td>\n",
       "      <td>1</td>\n",
       "      <td>1</td>\n",
       "      <td>4</td>\n",
       "      <td>0</td>\n",
       "      <td>1</td>\n",
       "    </tr>\n",
       "    <tr>\n",
       "      <th>17</th>\n",
       "      <td>9</td>\n",
       "      <td>1</td>\n",
       "      <td>2020</td>\n",
       "      <td>1</td>\n",
       "      <td>1</td>\n",
       "      <td>4</td>\n",
       "      <td>0</td>\n",
       "      <td>0</td>\n",
       "    </tr>\n",
       "    <tr>\n",
       "      <th>18</th>\n",
       "      <td>10</td>\n",
       "      <td>1</td>\n",
       "      <td>2020</td>\n",
       "      <td>1</td>\n",
       "      <td>1</td>\n",
       "      <td>4</td>\n",
       "      <td>30</td>\n",
       "      <td>1</td>\n",
       "    </tr>\n",
       "    <tr>\n",
       "      <th>19</th>\n",
       "      <td>10</td>\n",
       "      <td>1</td>\n",
       "      <td>2020</td>\n",
       "      <td>1</td>\n",
       "      <td>1</td>\n",
       "      <td>4</td>\n",
       "      <td>30</td>\n",
       "      <td>0</td>\n",
       "    </tr>\n",
       "    <tr>\n",
       "      <th>20</th>\n",
       "      <td>11</td>\n",
       "      <td>1</td>\n",
       "      <td>2020</td>\n",
       "      <td>1</td>\n",
       "      <td>1</td>\n",
       "      <td>5</td>\n",
       "      <td>0</td>\n",
       "      <td>1</td>\n",
       "    </tr>\n",
       "    <tr>\n",
       "      <th>21</th>\n",
       "      <td>11</td>\n",
       "      <td>1</td>\n",
       "      <td>2020</td>\n",
       "      <td>1</td>\n",
       "      <td>1</td>\n",
       "      <td>5</td>\n",
       "      <td>0</td>\n",
       "      <td>0</td>\n",
       "    </tr>\n",
       "    <tr>\n",
       "      <th>22</th>\n",
       "      <td>12</td>\n",
       "      <td>1</td>\n",
       "      <td>2020</td>\n",
       "      <td>1</td>\n",
       "      <td>1</td>\n",
       "      <td>5</td>\n",
       "      <td>30</td>\n",
       "      <td>1</td>\n",
       "    </tr>\n",
       "    <tr>\n",
       "      <th>23</th>\n",
       "      <td>12</td>\n",
       "      <td>1</td>\n",
       "      <td>2020</td>\n",
       "      <td>1</td>\n",
       "      <td>1</td>\n",
       "      <td>5</td>\n",
       "      <td>30</td>\n",
       "      <td>0</td>\n",
       "    </tr>\n",
       "    <tr>\n",
       "      <th>24</th>\n",
       "      <td>13</td>\n",
       "      <td>1</td>\n",
       "      <td>2020</td>\n",
       "      <td>1</td>\n",
       "      <td>1</td>\n",
       "      <td>6</td>\n",
       "      <td>0</td>\n",
       "      <td>1</td>\n",
       "    </tr>\n",
       "    <tr>\n",
       "      <th>25</th>\n",
       "      <td>13</td>\n",
       "      <td>1</td>\n",
       "      <td>2020</td>\n",
       "      <td>1</td>\n",
       "      <td>1</td>\n",
       "      <td>6</td>\n",
       "      <td>0</td>\n",
       "      <td>0</td>\n",
       "    </tr>\n",
       "    <tr>\n",
       "      <th>26</th>\n",
       "      <td>14</td>\n",
       "      <td>1</td>\n",
       "      <td>2020</td>\n",
       "      <td>1</td>\n",
       "      <td>1</td>\n",
       "      <td>6</td>\n",
       "      <td>30</td>\n",
       "      <td>1</td>\n",
       "    </tr>\n",
       "    <tr>\n",
       "      <th>27</th>\n",
       "      <td>14</td>\n",
       "      <td>1</td>\n",
       "      <td>2020</td>\n",
       "      <td>1</td>\n",
       "      <td>1</td>\n",
       "      <td>6</td>\n",
       "      <td>30</td>\n",
       "      <td>0</td>\n",
       "    </tr>\n",
       "    <tr>\n",
       "      <th>28</th>\n",
       "      <td>15</td>\n",
       "      <td>1</td>\n",
       "      <td>2020</td>\n",
       "      <td>1</td>\n",
       "      <td>1</td>\n",
       "      <td>7</td>\n",
       "      <td>0</td>\n",
       "      <td>1</td>\n",
       "    </tr>\n",
       "    <tr>\n",
       "      <th>29</th>\n",
       "      <td>15</td>\n",
       "      <td>1</td>\n",
       "      <td>2020</td>\n",
       "      <td>1</td>\n",
       "      <td>1</td>\n",
       "      <td>7</td>\n",
       "      <td>0</td>\n",
       "      <td>0</td>\n",
       "    </tr>\n",
       "    <tr>\n",
       "      <th>30</th>\n",
       "      <td>16</td>\n",
       "      <td>1</td>\n",
       "      <td>2020</td>\n",
       "      <td>1</td>\n",
       "      <td>1</td>\n",
       "      <td>7</td>\n",
       "      <td>30</td>\n",
       "      <td>1</td>\n",
       "    </tr>\n",
       "    <tr>\n",
       "      <th>31</th>\n",
       "      <td>16</td>\n",
       "      <td>1</td>\n",
       "      <td>2020</td>\n",
       "      <td>1</td>\n",
       "      <td>1</td>\n",
       "      <td>7</td>\n",
       "      <td>30</td>\n",
       "      <td>0</td>\n",
       "    </tr>\n",
       "    <tr>\n",
       "      <th>32</th>\n",
       "      <td>17</td>\n",
       "      <td>1</td>\n",
       "      <td>2020</td>\n",
       "      <td>1</td>\n",
       "      <td>1</td>\n",
       "      <td>8</td>\n",
       "      <td>0</td>\n",
       "      <td>1</td>\n",
       "    </tr>\n",
       "    <tr>\n",
       "      <th>33</th>\n",
       "      <td>17</td>\n",
       "      <td>1</td>\n",
       "      <td>2020</td>\n",
       "      <td>1</td>\n",
       "      <td>1</td>\n",
       "      <td>8</td>\n",
       "      <td>0</td>\n",
       "      <td>0</td>\n",
       "    </tr>\n",
       "    <tr>\n",
       "      <th>34</th>\n",
       "      <td>18</td>\n",
       "      <td>1</td>\n",
       "      <td>2020</td>\n",
       "      <td>1</td>\n",
       "      <td>1</td>\n",
       "      <td>8</td>\n",
       "      <td>30</td>\n",
       "      <td>1</td>\n",
       "    </tr>\n",
       "    <tr>\n",
       "      <th>35</th>\n",
       "      <td>18</td>\n",
       "      <td>1</td>\n",
       "      <td>2020</td>\n",
       "      <td>1</td>\n",
       "      <td>1</td>\n",
       "      <td>8</td>\n",
       "      <td>30</td>\n",
       "      <td>0</td>\n",
       "    </tr>\n",
       "    <tr>\n",
       "      <th>36</th>\n",
       "      <td>19</td>\n",
       "      <td>1</td>\n",
       "      <td>2020</td>\n",
       "      <td>1</td>\n",
       "      <td>1</td>\n",
       "      <td>9</td>\n",
       "      <td>0</td>\n",
       "      <td>1</td>\n",
       "    </tr>\n",
       "    <tr>\n",
       "      <th>37</th>\n",
       "      <td>19</td>\n",
       "      <td>1</td>\n",
       "      <td>2020</td>\n",
       "      <td>1</td>\n",
       "      <td>1</td>\n",
       "      <td>9</td>\n",
       "      <td>0</td>\n",
       "      <td>0</td>\n",
       "    </tr>\n",
       "    <tr>\n",
       "      <th>38</th>\n",
       "      <td>20</td>\n",
       "      <td>1</td>\n",
       "      <td>2020</td>\n",
       "      <td>1</td>\n",
       "      <td>1</td>\n",
       "      <td>9</td>\n",
       "      <td>30</td>\n",
       "      <td>1</td>\n",
       "    </tr>\n",
       "    <tr>\n",
       "      <th>39</th>\n",
       "      <td>20</td>\n",
       "      <td>1</td>\n",
       "      <td>2020</td>\n",
       "      <td>1</td>\n",
       "      <td>1</td>\n",
       "      <td>9</td>\n",
       "      <td>30</td>\n",
       "      <td>0</td>\n",
       "    </tr>\n",
       "    <tr>\n",
       "      <th>40</th>\n",
       "      <td>21</td>\n",
       "      <td>1</td>\n",
       "      <td>2020</td>\n",
       "      <td>1</td>\n",
       "      <td>1</td>\n",
       "      <td>10</td>\n",
       "      <td>0</td>\n",
       "      <td>1</td>\n",
       "    </tr>\n",
       "    <tr>\n",
       "      <th>41</th>\n",
       "      <td>21</td>\n",
       "      <td>1</td>\n",
       "      <td>2020</td>\n",
       "      <td>1</td>\n",
       "      <td>1</td>\n",
       "      <td>10</td>\n",
       "      <td>0</td>\n",
       "      <td>0</td>\n",
       "    </tr>\n",
       "    <tr>\n",
       "      <th>42</th>\n",
       "      <td>22</td>\n",
       "      <td>1</td>\n",
       "      <td>2020</td>\n",
       "      <td>1</td>\n",
       "      <td>1</td>\n",
       "      <td>10</td>\n",
       "      <td>30</td>\n",
       "      <td>1</td>\n",
       "    </tr>\n",
       "    <tr>\n",
       "      <th>43</th>\n",
       "      <td>22</td>\n",
       "      <td>1</td>\n",
       "      <td>2020</td>\n",
       "      <td>1</td>\n",
       "      <td>1</td>\n",
       "      <td>10</td>\n",
       "      <td>30</td>\n",
       "      <td>0</td>\n",
       "    </tr>\n",
       "    <tr>\n",
       "      <th>44</th>\n",
       "      <td>23</td>\n",
       "      <td>1</td>\n",
       "      <td>2020</td>\n",
       "      <td>1</td>\n",
       "      <td>1</td>\n",
       "      <td>11</td>\n",
       "      <td>0</td>\n",
       "      <td>1</td>\n",
       "    </tr>\n",
       "    <tr>\n",
       "      <th>45</th>\n",
       "      <td>23</td>\n",
       "      <td>1</td>\n",
       "      <td>2020</td>\n",
       "      <td>1</td>\n",
       "      <td>1</td>\n",
       "      <td>11</td>\n",
       "      <td>0</td>\n",
       "      <td>0</td>\n",
       "    </tr>\n",
       "    <tr>\n",
       "      <th>46</th>\n",
       "      <td>24</td>\n",
       "      <td>1</td>\n",
       "      <td>2020</td>\n",
       "      <td>1</td>\n",
       "      <td>1</td>\n",
       "      <td>11</td>\n",
       "      <td>30</td>\n",
       "      <td>1</td>\n",
       "    </tr>\n",
       "    <tr>\n",
       "      <th>47</th>\n",
       "      <td>24</td>\n",
       "      <td>1</td>\n",
       "      <td>2020</td>\n",
       "      <td>1</td>\n",
       "      <td>1</td>\n",
       "      <td>11</td>\n",
       "      <td>30</td>\n",
       "      <td>0</td>\n",
       "    </tr>\n",
       "  </tbody>\n",
       "</table>\n",
       "</div>"
      ],
      "text/plain": [
       "    settlementPeriod  documentRevNum  Year  Month  Day  Hour  Minute  \\\n",
       "2                  2               1  2020      1    1     0      30   \n",
       "3                  2               1  2020      1    1     0      30   \n",
       "4                  3               1  2020      1    1     1       0   \n",
       "5                  3               1  2020      1    1     1       0   \n",
       "6                  4               1  2020      1    1     1      30   \n",
       "7                  4               1  2020      1    1     1      30   \n",
       "8                  5               1  2020      1    1     2       0   \n",
       "9                  5               1  2020      1    1     2       0   \n",
       "10                 6               1  2020      1    1     2      30   \n",
       "11                 6               1  2020      1    1     2      30   \n",
       "12                 7               1  2020      1    1     3       0   \n",
       "13                 7               1  2020      1    1     3       0   \n",
       "14                 8               1  2020      1    1     3      30   \n",
       "15                 8               1  2020      1    1     3      30   \n",
       "16                 9               1  2020      1    1     4       0   \n",
       "17                 9               1  2020      1    1     4       0   \n",
       "18                10               1  2020      1    1     4      30   \n",
       "19                10               1  2020      1    1     4      30   \n",
       "20                11               1  2020      1    1     5       0   \n",
       "21                11               1  2020      1    1     5       0   \n",
       "22                12               1  2020      1    1     5      30   \n",
       "23                12               1  2020      1    1     5      30   \n",
       "24                13               1  2020      1    1     6       0   \n",
       "25                13               1  2020      1    1     6       0   \n",
       "26                14               1  2020      1    1     6      30   \n",
       "27                14               1  2020      1    1     6      30   \n",
       "28                15               1  2020      1    1     7       0   \n",
       "29                15               1  2020      1    1     7       0   \n",
       "30                16               1  2020      1    1     7      30   \n",
       "31                16               1  2020      1    1     7      30   \n",
       "32                17               1  2020      1    1     8       0   \n",
       "33                17               1  2020      1    1     8       0   \n",
       "34                18               1  2020      1    1     8      30   \n",
       "35                18               1  2020      1    1     8      30   \n",
       "36                19               1  2020      1    1     9       0   \n",
       "37                19               1  2020      1    1     9       0   \n",
       "38                20               1  2020      1    1     9      30   \n",
       "39                20               1  2020      1    1     9      30   \n",
       "40                21               1  2020      1    1    10       0   \n",
       "41                21               1  2020      1    1    10       0   \n",
       "42                22               1  2020      1    1    10      30   \n",
       "43                22               1  2020      1    1    10      30   \n",
       "44                23               1  2020      1    1    11       0   \n",
       "45                23               1  2020      1    1    11       0   \n",
       "46                24               1  2020      1    1    11      30   \n",
       "47                24               1  2020      1    1    11      30   \n",
       "\n",
       "    priceCategory_Insufficient balance  \n",
       "2                                    1  \n",
       "3                                    0  \n",
       "4                                    1  \n",
       "5                                    0  \n",
       "6                                    1  \n",
       "7                                    0  \n",
       "8                                    1  \n",
       "9                                    0  \n",
       "10                                   1  \n",
       "11                                   0  \n",
       "12                                   1  \n",
       "13                                   0  \n",
       "14                                   1  \n",
       "15                                   0  \n",
       "16                                   1  \n",
       "17                                   0  \n",
       "18                                   1  \n",
       "19                                   0  \n",
       "20                                   1  \n",
       "21                                   0  \n",
       "22                                   1  \n",
       "23                                   0  \n",
       "24                                   1  \n",
       "25                                   0  \n",
       "26                                   1  \n",
       "27                                   0  \n",
       "28                                   1  \n",
       "29                                   0  \n",
       "30                                   1  \n",
       "31                                   0  \n",
       "32                                   1  \n",
       "33                                   0  \n",
       "34                                   1  \n",
       "35                                   0  \n",
       "36                                   1  \n",
       "37                                   0  \n",
       "38                                   1  \n",
       "39                                   0  \n",
       "40                                   1  \n",
       "41                                   0  \n",
       "42                                   1  \n",
       "43                                   0  \n",
       "44                                   1  \n",
       "45                                   0  \n",
       "46                                   1  \n",
       "47                                   0  "
      ]
     },
     "execution_count": 111,
     "metadata": {},
     "output_type": "execute_result"
    }
   ],
   "source": []
  },
  {
   "cell_type": "code",
   "execution_count": 130,
   "metadata": {},
   "outputs": [],
   "source": [
    "#use lag variables \n",
    "\n",
    "X_Train =X_Train.drop(columns=['local_time', 'resolution','imbalancePriceAmountGBP'])\n",
    "X_Test =X_Test.drop(columns=['local_time', 'resolution','imbalancePriceAmountGBP'])\n",
    "#model = sm.OLS(y_Train, X_Train).fit()\n",
    "\n"
   ]
  },
  {
   "cell_type": "code",
   "execution_count": 119,
   "metadata": {},
   "outputs": [
    {
     "data": {
      "text/html": [
       "<div>\n",
       "<style scoped>\n",
       "    .dataframe tbody tr th:only-of-type {\n",
       "        vertical-align: middle;\n",
       "    }\n",
       "\n",
       "    .dataframe tbody tr th {\n",
       "        vertical-align: top;\n",
       "    }\n",
       "\n",
       "    .dataframe thead th {\n",
       "        text-align: right;\n",
       "    }\n",
       "</style>\n",
       "<table border=\"1\" class=\"dataframe\">\n",
       "  <thead>\n",
       "    <tr style=\"text-align: right;\">\n",
       "      <th></th>\n",
       "      <th>Lag_1</th>\n",
       "    </tr>\n",
       "  </thead>\n",
       "  <tbody>\n",
       "    <tr>\n",
       "      <th>2</th>\n",
       "      <td>NaN</td>\n",
       "    </tr>\n",
       "    <tr>\n",
       "      <th>3</th>\n",
       "      <td>51.00000</td>\n",
       "    </tr>\n",
       "    <tr>\n",
       "      <th>4</th>\n",
       "      <td>51.00000</td>\n",
       "    </tr>\n",
       "    <tr>\n",
       "      <th>5</th>\n",
       "      <td>29.37006</td>\n",
       "    </tr>\n",
       "    <tr>\n",
       "      <th>6</th>\n",
       "      <td>29.37006</td>\n",
       "    </tr>\n",
       "    <tr>\n",
       "      <th>7</th>\n",
       "      <td>28.52000</td>\n",
       "    </tr>\n",
       "    <tr>\n",
       "      <th>8</th>\n",
       "      <td>28.52000</td>\n",
       "    </tr>\n",
       "    <tr>\n",
       "      <th>9</th>\n",
       "      <td>25.78000</td>\n",
       "    </tr>\n",
       "    <tr>\n",
       "      <th>10</th>\n",
       "      <td>25.78000</td>\n",
       "    </tr>\n",
       "    <tr>\n",
       "      <th>11</th>\n",
       "      <td>24.77018</td>\n",
       "    </tr>\n",
       "    <tr>\n",
       "      <th>12</th>\n",
       "      <td>24.77018</td>\n",
       "    </tr>\n",
       "    <tr>\n",
       "      <th>13</th>\n",
       "      <td>50.50000</td>\n",
       "    </tr>\n",
       "    <tr>\n",
       "      <th>14</th>\n",
       "      <td>50.50000</td>\n",
       "    </tr>\n",
       "    <tr>\n",
       "      <th>15</th>\n",
       "      <td>50.00000</td>\n",
       "    </tr>\n",
       "    <tr>\n",
       "      <th>16</th>\n",
       "      <td>50.00000</td>\n",
       "    </tr>\n",
       "    <tr>\n",
       "      <th>17</th>\n",
       "      <td>23.93006</td>\n",
       "    </tr>\n",
       "    <tr>\n",
       "      <th>18</th>\n",
       "      <td>23.93006</td>\n",
       "    </tr>\n",
       "    <tr>\n",
       "      <th>19</th>\n",
       "      <td>23.93006</td>\n",
       "    </tr>\n",
       "    <tr>\n",
       "      <th>20</th>\n",
       "      <td>23.93006</td>\n",
       "    </tr>\n",
       "    <tr>\n",
       "      <th>21</th>\n",
       "      <td>6.00000</td>\n",
       "    </tr>\n",
       "    <tr>\n",
       "      <th>22</th>\n",
       "      <td>6.00000</td>\n",
       "    </tr>\n",
       "    <tr>\n",
       "      <th>23</th>\n",
       "      <td>6.00000</td>\n",
       "    </tr>\n",
       "    <tr>\n",
       "      <th>24</th>\n",
       "      <td>6.00000</td>\n",
       "    </tr>\n",
       "    <tr>\n",
       "      <th>25</th>\n",
       "      <td>23.82000</td>\n",
       "    </tr>\n",
       "    <tr>\n",
       "      <th>26</th>\n",
       "      <td>23.82000</td>\n",
       "    </tr>\n",
       "    <tr>\n",
       "      <th>27</th>\n",
       "      <td>31.69000</td>\n",
       "    </tr>\n",
       "    <tr>\n",
       "      <th>28</th>\n",
       "      <td>31.69000</td>\n",
       "    </tr>\n",
       "    <tr>\n",
       "      <th>29</th>\n",
       "      <td>23.98000</td>\n",
       "    </tr>\n",
       "    <tr>\n",
       "      <th>30</th>\n",
       "      <td>23.98000</td>\n",
       "    </tr>\n",
       "    <tr>\n",
       "      <th>31</th>\n",
       "      <td>52.00000</td>\n",
       "    </tr>\n",
       "    <tr>\n",
       "      <th>32</th>\n",
       "      <td>52.00000</td>\n",
       "    </tr>\n",
       "    <tr>\n",
       "      <th>33</th>\n",
       "      <td>52.00000</td>\n",
       "    </tr>\n",
       "    <tr>\n",
       "      <th>34</th>\n",
       "      <td>52.00000</td>\n",
       "    </tr>\n",
       "    <tr>\n",
       "      <th>35</th>\n",
       "      <td>52.00000</td>\n",
       "    </tr>\n",
       "    <tr>\n",
       "      <th>36</th>\n",
       "      <td>52.00000</td>\n",
       "    </tr>\n",
       "    <tr>\n",
       "      <th>37</th>\n",
       "      <td>52.00000</td>\n",
       "    </tr>\n",
       "    <tr>\n",
       "      <th>38</th>\n",
       "      <td>52.00000</td>\n",
       "    </tr>\n",
       "    <tr>\n",
       "      <th>39</th>\n",
       "      <td>51.00000</td>\n",
       "    </tr>\n",
       "    <tr>\n",
       "      <th>40</th>\n",
       "      <td>51.00000</td>\n",
       "    </tr>\n",
       "    <tr>\n",
       "      <th>41</th>\n",
       "      <td>51.90000</td>\n",
       "    </tr>\n",
       "    <tr>\n",
       "      <th>42</th>\n",
       "      <td>51.90000</td>\n",
       "    </tr>\n",
       "    <tr>\n",
       "      <th>43</th>\n",
       "      <td>51.00000</td>\n",
       "    </tr>\n",
       "    <tr>\n",
       "      <th>44</th>\n",
       "      <td>51.00000</td>\n",
       "    </tr>\n",
       "    <tr>\n",
       "      <th>45</th>\n",
       "      <td>25.59000</td>\n",
       "    </tr>\n",
       "    <tr>\n",
       "      <th>46</th>\n",
       "      <td>25.59000</td>\n",
       "    </tr>\n",
       "    <tr>\n",
       "      <th>47</th>\n",
       "      <td>7.50000</td>\n",
       "    </tr>\n",
       "  </tbody>\n",
       "</table>\n",
       "</div>"
      ],
      "text/plain": [
       "       Lag_1\n",
       "2        NaN\n",
       "3   51.00000\n",
       "4   51.00000\n",
       "5   29.37006\n",
       "6   29.37006\n",
       "7   28.52000\n",
       "8   28.52000\n",
       "9   25.78000\n",
       "10  25.78000\n",
       "11  24.77018\n",
       "12  24.77018\n",
       "13  50.50000\n",
       "14  50.50000\n",
       "15  50.00000\n",
       "16  50.00000\n",
       "17  23.93006\n",
       "18  23.93006\n",
       "19  23.93006\n",
       "20  23.93006\n",
       "21   6.00000\n",
       "22   6.00000\n",
       "23   6.00000\n",
       "24   6.00000\n",
       "25  23.82000\n",
       "26  23.82000\n",
       "27  31.69000\n",
       "28  31.69000\n",
       "29  23.98000\n",
       "30  23.98000\n",
       "31  52.00000\n",
       "32  52.00000\n",
       "33  52.00000\n",
       "34  52.00000\n",
       "35  52.00000\n",
       "36  52.00000\n",
       "37  52.00000\n",
       "38  52.00000\n",
       "39  51.00000\n",
       "40  51.00000\n",
       "41  51.90000\n",
       "42  51.90000\n",
       "43  51.00000\n",
       "44  51.00000\n",
       "45  25.59000\n",
       "46  25.59000\n",
       "47   7.50000"
      ]
     },
     "execution_count": 119,
     "metadata": {},
     "output_type": "execute_result"
    }
   ],
   "source": [
    "#y_Train.dropna()\n",
    "#X_Train\n",
    "#X_Test\n",
    "y_tra"
   ]
  },
  {
   "cell_type": "code",
   "execution_count": 131,
   "metadata": {},
   "outputs": [
    {
     "data": {
      "text/html": [
       "<table class=\"simpletable\">\n",
       "<caption>OLS Regression Results</caption>\n",
       "<tr>\n",
       "  <th>Dep. Variable:</th>          <td>Lag_1</td>      <th>  R-squared:         </th> <td>   0.053</td>\n",
       "</tr>\n",
       "<tr>\n",
       "  <th>Model:</th>                   <td>OLS</td>       <th>  Adj. R-squared:    </th> <td>  -0.016</td>\n",
       "</tr>\n",
       "<tr>\n",
       "  <th>Method:</th>             <td>Least Squares</td>  <th>  F-statistic:       </th> <td>  0.7643</td>\n",
       "</tr>\n",
       "<tr>\n",
       "  <th>Date:</th>             <td>Mon, 16 May 2022</td> <th>  Prob (F-statistic):</th>  <td> 0.521</td> \n",
       "</tr>\n",
       "<tr>\n",
       "  <th>Time:</th>                 <td>18:23:47</td>     <th>  Log-Likelihood:    </th> <td> -186.72</td>\n",
       "</tr>\n",
       "<tr>\n",
       "  <th>No. Observations:</th>      <td>    45</td>      <th>  AIC:               </th> <td>   381.4</td>\n",
       "</tr>\n",
       "<tr>\n",
       "  <th>Df Residuals:</th>          <td>    41</td>      <th>  BIC:               </th> <td>   388.7</td>\n",
       "</tr>\n",
       "<tr>\n",
       "  <th>Df Model:</th>              <td>     3</td>      <th>                     </th>     <td> </td>   \n",
       "</tr>\n",
       "<tr>\n",
       "  <th>Covariance Type:</th>      <td>nonrobust</td>    <th>                     </th>     <td> </td>   \n",
       "</tr>\n",
       "</table>\n",
       "<table class=\"simpletable\">\n",
       "<tr>\n",
       "                   <td></td>                     <th>coef</th>     <th>std err</th>      <th>t</th>      <th>P>|t|</th>  <th>[0.025</th>    <th>0.975]</th>  \n",
       "</tr>\n",
       "<tr>\n",
       "  <th>settlementPeriod</th>                   <td>    0.4341</td> <td>    0.295</td> <td>    1.470</td> <td> 0.149</td> <td>   -0.162</td> <td>    1.030</td>\n",
       "</tr>\n",
       "<tr>\n",
       "  <th>documentRevNum</th>                     <td> 6.948e-06</td> <td> 1.53e-06</td> <td>    4.544</td> <td> 0.000</td> <td> 3.86e-06</td> <td>    1e-05</td>\n",
       "</tr>\n",
       "<tr>\n",
       "  <th>Year</th>                               <td>    0.0140</td> <td>    0.003</td> <td>    4.544</td> <td> 0.000</td> <td>    0.008</td> <td>    0.020</td>\n",
       "</tr>\n",
       "<tr>\n",
       "  <th>Month</th>                              <td> 6.948e-06</td> <td> 1.53e-06</td> <td>    4.544</td> <td> 0.000</td> <td> 3.86e-06</td> <td>    1e-05</td>\n",
       "</tr>\n",
       "<tr>\n",
       "  <th>Day</th>                                <td> 6.948e-06</td> <td> 1.53e-06</td> <td>    4.544</td> <td> 0.000</td> <td> 3.86e-06</td> <td>    1e-05</td>\n",
       "</tr>\n",
       "<tr>\n",
       "  <th>Hour</th>                               <td>    0.2178</td> <td>    0.148</td> <td>    1.475</td> <td> 0.148</td> <td>   -0.081</td> <td>    0.516</td>\n",
       "</tr>\n",
       "<tr>\n",
       "  <th>Minute</th>                             <td>   -0.0453</td> <td>    0.160</td> <td>   -0.284</td> <td> 0.778</td> <td>   -0.368</td> <td>    0.277</td>\n",
       "</tr>\n",
       "<tr>\n",
       "  <th>priceCategory_Insufficient balance</th> <td>    0.9254</td> <td>    4.797</td> <td>    0.193</td> <td> 0.848</td> <td>   -8.762</td> <td>   10.612</td>\n",
       "</tr>\n",
       "</table>\n",
       "<table class=\"simpletable\">\n",
       "<tr>\n",
       "  <th>Omnibus:</th>       <td> 4.108</td> <th>  Durbin-Watson:     </th> <td>   0.413</td>\n",
       "</tr>\n",
       "<tr>\n",
       "  <th>Prob(Omnibus):</th> <td> 0.128</td> <th>  Jarque-Bera (JB):  </th> <td>   2.700</td>\n",
       "</tr>\n",
       "<tr>\n",
       "  <th>Skew:</th>          <td>-0.416</td> <th>  Prob(JB):          </th> <td>   0.259</td>\n",
       "</tr>\n",
       "<tr>\n",
       "  <th>Kurtosis:</th>      <td> 2.135</td> <th>  Cond. No.          </th> <td>1.87e+22</td>\n",
       "</tr>\n",
       "</table><br/><br/>Notes:<br/>[1] Standard Errors assume that the covariance matrix of the errors is correctly specified.<br/>[2] The smallest eigenvalue is 5.22e-37. This might indicate that there are<br/>strong multicollinearity problems or that the design matrix is singular."
      ],
      "text/plain": [
       "<class 'statsmodels.iolib.summary.Summary'>\n",
       "\"\"\"\n",
       "                            OLS Regression Results                            \n",
       "==============================================================================\n",
       "Dep. Variable:                  Lag_1   R-squared:                       0.053\n",
       "Model:                            OLS   Adj. R-squared:                 -0.016\n",
       "Method:                 Least Squares   F-statistic:                    0.7643\n",
       "Date:                Mon, 16 May 2022   Prob (F-statistic):              0.521\n",
       "Time:                        18:23:47   Log-Likelihood:                -186.72\n",
       "No. Observations:                  45   AIC:                             381.4\n",
       "Df Residuals:                      41   BIC:                             388.7\n",
       "Df Model:                           3                                         \n",
       "Covariance Type:            nonrobust                                         \n",
       "======================================================================================================\n",
       "                                         coef    std err          t      P>|t|      [0.025      0.975]\n",
       "------------------------------------------------------------------------------------------------------\n",
       "settlementPeriod                       0.4341      0.295      1.470      0.149      -0.162       1.030\n",
       "documentRevNum                      6.948e-06   1.53e-06      4.544      0.000    3.86e-06       1e-05\n",
       "Year                                   0.0140      0.003      4.544      0.000       0.008       0.020\n",
       "Month                               6.948e-06   1.53e-06      4.544      0.000    3.86e-06       1e-05\n",
       "Day                                 6.948e-06   1.53e-06      4.544      0.000    3.86e-06       1e-05\n",
       "Hour                                   0.2178      0.148      1.475      0.148      -0.081       0.516\n",
       "Minute                                -0.0453      0.160     -0.284      0.778      -0.368       0.277\n",
       "priceCategory_Insufficient balance     0.9254      4.797      0.193      0.848      -8.762      10.612\n",
       "==============================================================================\n",
       "Omnibus:                        4.108   Durbin-Watson:                   0.413\n",
       "Prob(Omnibus):                  0.128   Jarque-Bera (JB):                2.700\n",
       "Skew:                          -0.416   Prob(JB):                        0.259\n",
       "Kurtosis:                       2.135   Cond. No.                     1.87e+22\n",
       "==============================================================================\n",
       "\n",
       "Notes:\n",
       "[1] Standard Errors assume that the covariance matrix of the errors is correctly specified.\n",
       "[2] The smallest eigenvalue is 5.22e-37. This might indicate that there are\n",
       "strong multicollinearity problems or that the design matrix is singular.\n",
       "\"\"\""
      ]
     },
     "execution_count": 131,
     "metadata": {},
     "output_type": "execute_result"
    }
   ],
   "source": [
    "model_lag = sm.OLS(y_Train, X_Train).fit()\n",
    "model_lag.summary()"
   ]
  },
  {
   "cell_type": "code",
   "execution_count": 20,
   "metadata": {},
   "outputs": [
    {
     "name": "stderr",
     "output_type": "stream",
     "text": [
      "B1810:   0%|          | 0/3 [00:00<?, ?it/s]C:\\Users\\Admin\\AppData\\Roaming\\Python\\Python38\\site-packages\\ElexonDataPortal\\dev\\utils.py:29: UserWarning: Data request was succesful but no content was returned\n",
      "  warn(f'Data request was succesful but no content was returned')\n",
      "C:\\Users\\Admin\\AppData\\Roaming\\Python\\Python38\\site-packages\\ElexonDataPortal\\dev\\orchestrator.py:80: FutureWarning: The frame.append method is deprecated and will be removed from pandas in a future version. Use pandas.concat instead.\n",
      "  df = df.append(df_SP)\n",
      "B1810:  33%|███▎      | 1/3 [00:00<00:01,  1.58it/s]C:\\Users\\Admin\\AppData\\Roaming\\Python\\Python38\\site-packages\\ElexonDataPortal\\dev\\utils.py:29: UserWarning: Data request was succesful but no content was returned\n",
      "  warn(f'Data request was succesful but no content was returned')\n",
      "C:\\Users\\Admin\\AppData\\Roaming\\Python\\Python38\\site-packages\\ElexonDataPortal\\dev\\orchestrator.py:80: FutureWarning: The frame.append method is deprecated and will be removed from pandas in a future version. Use pandas.concat instead.\n",
      "  df = df.append(df_SP)\n",
      "B1810:  67%|██████▋   | 2/3 [00:01<00:00,  1.90it/s]C:\\Users\\Admin\\AppData\\Roaming\\Python\\Python38\\site-packages\\ElexonDataPortal\\dev\\utils.py:29: UserWarning: Data request was succesful but no content was returned\n",
      "  warn(f'Data request was succesful but no content was returned')\n",
      "C:\\Users\\Admin\\AppData\\Roaming\\Python\\Python38\\site-packages\\ElexonDataPortal\\dev\\orchestrator.py:80: FutureWarning: The frame.append method is deprecated and will be removed from pandas in a future version. Use pandas.concat instead.\n",
      "  df = df.append(df_SP)\n",
      "B1810: 100%|██████████| 3/3 [00:01<00:00,  1.68it/s]\n"
     ]
    },
    {
     "data": {
      "text/html": [
       "<div>\n",
       "<style scoped>\n",
       "    .dataframe tbody tr th:only-of-type {\n",
       "        vertical-align: middle;\n",
       "    }\n",
       "\n",
       "    .dataframe tbody tr th {\n",
       "        vertical-align: top;\n",
       "    }\n",
       "\n",
       "    .dataframe thead th {\n",
       "        text-align: right;\n",
       "    }\n",
       "</style>\n",
       "<table border=\"1\" class=\"dataframe\">\n",
       "  <thead>\n",
       "    <tr style=\"text-align: right;\">\n",
       "      <th></th>\n",
       "    </tr>\n",
       "  </thead>\n",
       "  <tbody>\n",
       "  </tbody>\n",
       "</table>\n",
       "</div>"
      ],
      "text/plain": [
       "Empty DataFrame\n",
       "Columns: []\n",
       "Index: []"
      ]
     },
     "execution_count": 20,
     "metadata": {},
     "output_type": "execute_result"
    }
   ],
   "source": [
    "#CrossBorder Balancing Volumes of Exchanged Bids and Offers\n",
    "df_B1810 = client.get_B1810(start_date, end_date)\n",
    "df_B1810.head(3)"
   ]
  },
  {
   "cell_type": "code",
   "execution_count": null,
   "metadata": {},
   "outputs": [],
   "source": [
    "#to improve model output:\n",
    "\n",
    "#look into Lasso Regularisation\n",
    "#k fold cross validation\n",
    "#working on seasonality of the data\n",
    "#since adn cosine transformationof the time tdata\n",
    "#Long-term short term=-seosnalit"
   ]
  },
  {
   "cell_type": "code",
   "execution_count": null,
   "metadata": {},
   "outputs": [],
   "source": [
    "#set time to read on time series literature(go back to data and feature engineering then)"
   ]
  },
  {
   "cell_type": "code",
   "execution_count": 19,
   "metadata": {},
   "outputs": [
    {
     "ename": "NameError",
     "evalue": "name 'df_B1810' is not defined",
     "output_type": "error",
     "traceback": [
      "\u001b[1;31m---------------------------------------------------------------------------\u001b[0m",
      "\u001b[1;31mNameError\u001b[0m                                 Traceback (most recent call last)",
      "\u001b[1;32mc:\\Users\\Admin\\OneDrive\\Desktop\\esda_work\\dissertation\\bm_forcasting\\data_processing.ipynb Cell 12'\u001b[0m in \u001b[0;36m<module>\u001b[1;34m\u001b[0m\n\u001b[0;32m      <a href='vscode-notebook-cell:/c%3A/Users/Admin/OneDrive/Desktop/esda_work/dissertation/bm_forcasting/data_processing.ipynb#ch0000018?line=0'>1</a>\u001b[0m \u001b[39m#numerical varaibles \u001b[39;00m\n\u001b[0;32m      <a href='vscode-notebook-cell:/c%3A/Users/Admin/OneDrive/Desktop/esda_work/dissertation/bm_forcasting/data_processing.ipynb#ch0000018?line=1'>2</a>\u001b[0m \u001b[39m#stettlementPeriod\u001b[39;00m\n\u001b[0;32m      <a href='vscode-notebook-cell:/c%3A/Users/Admin/OneDrive/Desktop/esda_work/dissertation/bm_forcasting/data_processing.ipynb#ch0000018?line=2'>3</a>\u001b[0m \u001b[39m#imbalancePriceAmountGBP\u001b[39;00m\n\u001b[1;32m   (...)\u001b[0m\n\u001b[0;32m     <a href='vscode-notebook-cell:/c%3A/Users/Admin/OneDrive/Desktop/esda_work/dissertation/bm_forcasting/data_processing.ipynb#ch0000018?line=11'>12</a>\u001b[0m \u001b[39m#processType\u001b[39;00m\n\u001b[0;32m     <a href='vscode-notebook-cell:/c%3A/Users/Admin/OneDrive/Desktop/esda_work/dissertation/bm_forcasting/data_processing.ipynb#ch0000018?line=12'>13</a>\u001b[0m \u001b[39m#activeFlag\u001b[39;00m\n\u001b[1;32m---> <a href='vscode-notebook-cell:/c%3A/Users/Admin/OneDrive/Desktop/esda_work/dissertation/bm_forcasting/data_processing.ipynb#ch0000018?line=14'>15</a>\u001b[0m df_B1810\u001b[39m.\u001b[39mhead(\u001b[39m3\u001b[39m)\n",
      "\u001b[1;31mNameError\u001b[0m: name 'df_B1810' is not defined"
     ]
    }
   ],
   "source": [
    "#numerical varaibles \n",
    "#stettlementPeriod\n",
    "#imbalancePriceAmountGBP\n",
    "#documentRevNum\n",
    "\n",
    "#categorical\n",
    "#priceCategory\n",
    "#curveType\n",
    "#processType\n",
    "#activeFlag\n",
    "#documentType\n",
    "#processType\n",
    "#activeFlag\n",
    "\n",
    "df_B1810.head(3)"
   ]
  },
  {
   "cell_type": "code",
   "execution_count": 31,
   "metadata": {},
   "outputs": [
    {
     "name": "stderr",
     "output_type": "stream",
     "text": [
      "B1430:   0%|          | 0/3 [00:00<?, ?it/s]\n"
     ]
    },
    {
     "ename": "ValueError",
     "evalue": "The returned `data_content` must be one of: `list` or `OrderedDict`",
     "output_type": "error",
     "traceback": [
      "\u001b[1;31m---------------------------------------------------------------------------\u001b[0m",
      "\u001b[1;31mValueError\u001b[0m                                Traceback (most recent call last)",
      "\u001b[1;32mc:\\Users\\Admin\\OneDrive\\Desktop\\esda_work\\dissertation\\bm_forcasting\\data_processing.ipynb Cell 11'\u001b[0m in \u001b[0;36m<module>\u001b[1;34m\u001b[0m\n\u001b[0;32m      <a href='vscode-notebook-cell:/c%3A/Users/Admin/OneDrive/Desktop/esda_work/dissertation/bm_forcasting/data_processing.ipynb#ch0000015?line=0'>1</a>\u001b[0m \u001b[39m#Day-ahead Aggregated Generation\u001b[39;00m\n\u001b[1;32m----> <a href='vscode-notebook-cell:/c%3A/Users/Admin/OneDrive/Desktop/esda_work/dissertation/bm_forcasting/data_processing.ipynb#ch0000015?line=1'>2</a>\u001b[0m df_B1430 \u001b[39m=\u001b[39m client\u001b[39m.\u001b[39;49mget_B1430(start_date, end_date)\n\u001b[0;32m      <a href='vscode-notebook-cell:/c%3A/Users/Admin/OneDrive/Desktop/esda_work/dissertation/bm_forcasting/data_processing.ipynb#ch0000015?line=2'>3</a>\u001b[0m df_B1430\u001b[39m.\u001b[39mhead(\u001b[39m3\u001b[39m)\n",
      "File \u001b[1;32m~\\AppData\\Roaming\\Python\\Python38\\site-packages\\ElexonDataPortal\\api.py:469\u001b[0m, in \u001b[0;36mClient.get_B1430\u001b[1;34m(self, start_date, end_date)\u001b[0m\n\u001b[0;32m    <a href='file:///c%3A/Users/Admin/AppData/Roaming/Python/Python38/site-packages/ElexonDataPortal/api.py?line=455'>456</a>\u001b[0m \u001b[39mdef\u001b[39;00m \u001b[39mget_B1430\u001b[39m(\n\u001b[0;32m    <a href='file:///c%3A/Users/Admin/AppData/Roaming/Python/Python38/site-packages/ElexonDataPortal/api.py?line=456'>457</a>\u001b[0m     \u001b[39mself\u001b[39m,\n\u001b[0;32m    <a href='file:///c%3A/Users/Admin/AppData/Roaming/Python/Python38/site-packages/ElexonDataPortal/api.py?line=457'>458</a>\u001b[0m     start_date: \u001b[39mstr\u001b[39m\u001b[39m=\u001b[39m\u001b[39m'\u001b[39m\u001b[39m2020-01-01\u001b[39m\u001b[39m'\u001b[39m, \n\u001b[0;32m    <a href='file:///c%3A/Users/Admin/AppData/Roaming/Python/Python38/site-packages/ElexonDataPortal/api.py?line=458'>459</a>\u001b[0m     end_date: \u001b[39mstr\u001b[39m\u001b[39m=\u001b[39m\u001b[39m'\u001b[39m\u001b[39m2020-01-01 1:30\u001b[39m\u001b[39m'\u001b[39m,\n\u001b[0;32m    <a href='file:///c%3A/Users/Admin/AppData/Roaming/Python/Python38/site-packages/ElexonDataPortal/api.py?line=459'>460</a>\u001b[0m ):\n\u001b[0;32m    <a href='file:///c%3A/Users/Admin/AppData/Roaming/Python/Python38/site-packages/ElexonDataPortal/api.py?line=460'>461</a>\u001b[0m     \u001b[39m\"\"\"\u001b[39;00m\n\u001b[0;32m    <a href='file:///c%3A/Users/Admin/AppData/Roaming/Python/Python38/site-packages/ElexonDataPortal/api.py?line=461'>462</a>\u001b[0m \u001b[39m    Day-Ahead Aggregated Generation\u001b[39;00m\n\u001b[0;32m    <a href='file:///c%3A/Users/Admin/AppData/Roaming/Python/Python38/site-packages/ElexonDataPortal/api.py?line=462'>463</a>\u001b[0m \u001b[39m    \u001b[39;00m\n\u001b[1;32m   (...)\u001b[0m\n\u001b[0;32m    <a href='file:///c%3A/Users/Admin/AppData/Roaming/Python/Python38/site-packages/ElexonDataPortal/api.py?line=465'>466</a>\u001b[0m \u001b[39m        end_date (str)\u001b[39;00m\n\u001b[0;32m    <a href='file:///c%3A/Users/Admin/AppData/Roaming/Python/Python38/site-packages/ElexonDataPortal/api.py?line=466'>467</a>\u001b[0m \u001b[39m    \"\"\"\u001b[39;00m\n\u001b[1;32m--> <a href='file:///c%3A/Users/Admin/AppData/Roaming/Python/Python38/site-packages/ElexonDataPortal/api.py?line=468'>469</a>\u001b[0m     df \u001b[39m=\u001b[39m orchestrator\u001b[39m.\u001b[39;49mquery_orchestrator(\n\u001b[0;32m    <a href='file:///c%3A/Users/Admin/AppData/Roaming/Python/Python38/site-packages/ElexonDataPortal/api.py?line=469'>470</a>\u001b[0m         method\u001b[39m=\u001b[39;49m\u001b[39m'\u001b[39;49m\u001b[39mget_B1430\u001b[39;49m\u001b[39m'\u001b[39;49m,\n\u001b[0;32m    <a href='file:///c%3A/Users/Admin/AppData/Roaming/Python/Python38/site-packages/ElexonDataPortal/api.py?line=470'>471</a>\u001b[0m         api_key\u001b[39m=\u001b[39;49m\u001b[39mself\u001b[39;49m\u001b[39m.\u001b[39;49mapi_key,\n\u001b[0;32m    <a href='file:///c%3A/Users/Admin/AppData/Roaming/Python/Python38/site-packages/ElexonDataPortal/api.py?line=471'>472</a>\u001b[0m         n_attempts\u001b[39m=\u001b[39;49m\u001b[39mself\u001b[39;49m\u001b[39m.\u001b[39;49mn_retry_attempts,\n\u001b[0;32m    <a href='file:///c%3A/Users/Admin/AppData/Roaming/Python/Python38/site-packages/ElexonDataPortal/api.py?line=472'>473</a>\u001b[0m         request_type\u001b[39m=\u001b[39;49m\u001b[39m'\u001b[39;49m\u001b[39mSP_and_date\u001b[39;49m\u001b[39m'\u001b[39;49m,\n\u001b[0;32m    <a href='file:///c%3A/Users/Admin/AppData/Roaming/Python/Python38/site-packages/ElexonDataPortal/api.py?line=473'>474</a>\u001b[0m         kwargs_map\u001b[39m=\u001b[39;49m{\u001b[39m'\u001b[39;49m\u001b[39mdate\u001b[39;49m\u001b[39m'\u001b[39;49m: \u001b[39m'\u001b[39;49m\u001b[39mSettlementDate\u001b[39;49m\u001b[39m'\u001b[39;49m, \u001b[39m'\u001b[39;49m\u001b[39mSP\u001b[39;49m\u001b[39m'\u001b[39;49m: \u001b[39m'\u001b[39;49m\u001b[39mPeriod\u001b[39;49m\u001b[39m'\u001b[39;49m},\n\u001b[0;32m    <a href='file:///c%3A/Users/Admin/AppData/Roaming/Python/Python38/site-packages/ElexonDataPortal/api.py?line=474'>475</a>\u001b[0m         func_params\u001b[39m=\u001b[39;49m[\u001b[39m'\u001b[39;49m\u001b[39mAPIKey\u001b[39;49m\u001b[39m'\u001b[39;49m, \u001b[39m'\u001b[39;49m\u001b[39mdate\u001b[39;49m\u001b[39m'\u001b[39;49m, \u001b[39m'\u001b[39;49m\u001b[39mSP\u001b[39;49m\u001b[39m'\u001b[39;49m, \u001b[39m'\u001b[39;49m\u001b[39mServiceType\u001b[39;49m\u001b[39m'\u001b[39;49m],\n\u001b[0;32m    <a href='file:///c%3A/Users/Admin/AppData/Roaming/Python/Python38/site-packages/ElexonDataPortal/api.py?line=475'>476</a>\u001b[0m         start_date\u001b[39m=\u001b[39;49mstart_date,\n\u001b[0;32m    <a href='file:///c%3A/Users/Admin/AppData/Roaming/Python/Python38/site-packages/ElexonDataPortal/api.py?line=476'>477</a>\u001b[0m         end_date\u001b[39m=\u001b[39;49mend_date,\n\u001b[0;32m    <a href='file:///c%3A/Users/Admin/AppData/Roaming/Python/Python38/site-packages/ElexonDataPortal/api.py?line=477'>478</a>\u001b[0m     )\n\u001b[0;32m    <a href='file:///c%3A/Users/Admin/AppData/Roaming/Python/Python38/site-packages/ElexonDataPortal/api.py?line=479'>480</a>\u001b[0m     \u001b[39mreturn\u001b[39;00m df\n",
      "File \u001b[1;32m~\\AppData\\Roaming\\Python\\Python38\\site-packages\\ElexonDataPortal\\dev\\orchestrator.py:411\u001b[0m, in \u001b[0;36mquery_orchestrator\u001b[1;34m(method, api_key, request_type, kwargs_map, func_params, start_date, end_date, n_attempts, **kwargs)\u001b[0m\n\u001b[0;32m    <a href='file:///c%3A/Users/Admin/AppData/Roaming/Python/Python38/site-packages/ElexonDataPortal/dev/orchestrator.py?line=407'>408</a>\u001b[0m \u001b[39massert\u001b[39;00m request_type \u001b[39min\u001b[39;00m request_type_to_func\u001b[39m.\u001b[39mkeys(), \u001b[39mf\u001b[39m\u001b[39m\"\u001b[39m\u001b[39m{\u001b[39;00mrequest_type\u001b[39m}\u001b[39;00m\u001b[39m must be one of: \u001b[39m\u001b[39m{\u001b[39;00m\u001b[39m'\u001b[39m\u001b[39m, \u001b[39m\u001b[39m'\u001b[39m\u001b[39m.\u001b[39mjoin(request_type_to_func\u001b[39m.\u001b[39mkeys())\u001b[39m}\u001b[39;00m\u001b[39m\"\u001b[39m\n\u001b[0;32m    <a href='file:///c%3A/Users/Admin/AppData/Roaming/Python/Python38/site-packages/ElexonDataPortal/dev/orchestrator.py?line=408'>409</a>\u001b[0m request_func \u001b[39m=\u001b[39m request_type_to_func[request_type]\n\u001b[1;32m--> <a href='file:///c%3A/Users/Admin/AppData/Roaming/Python/Python38/site-packages/ElexonDataPortal/dev/orchestrator.py?line=410'>411</a>\u001b[0m df \u001b[39m=\u001b[39m request_func(\n\u001b[0;32m    <a href='file:///c%3A/Users/Admin/AppData/Roaming/Python/Python38/site-packages/ElexonDataPortal/dev/orchestrator.py?line=411'>412</a>\u001b[0m     method\u001b[39m=\u001b[39;49mmethod,\n\u001b[0;32m    <a href='file:///c%3A/Users/Admin/AppData/Roaming/Python/Python38/site-packages/ElexonDataPortal/dev/orchestrator.py?line=412'>413</a>\u001b[0m     api_key\u001b[39m=\u001b[39;49mapi_key,\n\u001b[0;32m    <a href='file:///c%3A/Users/Admin/AppData/Roaming/Python/Python38/site-packages/ElexonDataPortal/dev/orchestrator.py?line=413'>414</a>\u001b[0m     n_attempts\u001b[39m=\u001b[39;49mn_attempts,\n\u001b[0;32m    <a href='file:///c%3A/Users/Admin/AppData/Roaming/Python/Python38/site-packages/ElexonDataPortal/dev/orchestrator.py?line=414'>415</a>\u001b[0m     \u001b[39m*\u001b[39;49m\u001b[39m*\u001b[39;49mkwargs\n\u001b[0;32m    <a href='file:///c%3A/Users/Admin/AppData/Roaming/Python/Python38/site-packages/ElexonDataPortal/dev/orchestrator.py?line=415'>416</a>\u001b[0m )\n\u001b[0;32m    <a href='file:///c%3A/Users/Admin/AppData/Roaming/Python/Python38/site-packages/ElexonDataPortal/dev/orchestrator.py?line=417'>418</a>\u001b[0m df \u001b[39m=\u001b[39m df\u001b[39m.\u001b[39mreset_index(drop\u001b[39m=\u001b[39m\u001b[39mTrue\u001b[39;00m)\n\u001b[0;32m    <a href='file:///c%3A/Users/Admin/AppData/Roaming/Python/Python38/site-packages/ElexonDataPortal/dev/orchestrator.py?line=419'>420</a>\u001b[0m \u001b[39mreturn\u001b[39;00m df\n",
      "File \u001b[1;32m~\\AppData\\Roaming\\Python\\Python38\\site-packages\\ElexonDataPortal\\dev\\orchestrator.py:79\u001b[0m, in \u001b[0;36mSP_and_date_request\u001b[1;34m(method, kwargs_map, func_params, api_key, start_date, end_date, n_attempts, **kwargs)\u001b[0m\n\u001b[0;32m     <a href='file:///c%3A/Users/Admin/AppData/Roaming/Python/Python38/site-packages/ElexonDataPortal/dev/orchestrator.py?line=74'>75</a>\u001b[0m     \u001b[39massert\u001b[39;00m \u001b[39mlen\u001b[39m(missing_kwargs) \u001b[39m==\u001b[39m \u001b[39m0\u001b[39m, \u001b[39mf\u001b[39m\u001b[39m\"\u001b[39m\u001b[39mThe following kwargs are missing: \u001b[39m\u001b[39m{\u001b[39;00m\u001b[39m'\u001b[39m\u001b[39m, \u001b[39m\u001b[39m'\u001b[39m\u001b[39m.\u001b[39mjoin(missing_kwargs)\u001b[39m}\u001b[39;00m\u001b[39m\"\u001b[39m\n\u001b[0;32m     <a href='file:///c%3A/Users/Admin/AppData/Roaming/Python/Python38/site-packages/ElexonDataPortal/dev/orchestrator.py?line=76'>77</a>\u001b[0m     r \u001b[39m=\u001b[39m retry_request(raw, method, kwargs, n_attempts\u001b[39m=\u001b[39mn_attempts)\n\u001b[1;32m---> <a href='file:///c%3A/Users/Admin/AppData/Roaming/Python/Python38/site-packages/ElexonDataPortal/dev/orchestrator.py?line=78'>79</a>\u001b[0m     df_SP \u001b[39m=\u001b[39m utils\u001b[39m.\u001b[39;49mparse_xml_response(r)\n\u001b[0;32m     <a href='file:///c%3A/Users/Admin/AppData/Roaming/Python/Python38/site-packages/ElexonDataPortal/dev/orchestrator.py?line=79'>80</a>\u001b[0m     df \u001b[39m=\u001b[39m df\u001b[39m.\u001b[39mappend(df_SP)\n\u001b[0;32m     <a href='file:///c%3A/Users/Admin/AppData/Roaming/Python/Python38/site-packages/ElexonDataPortal/dev/orchestrator.py?line=81'>82</a>\u001b[0m df \u001b[39m=\u001b[39m utils\u001b[39m.\u001b[39mexpand_cols(df)\n",
      "File \u001b[1;32m~\\AppData\\Roaming\\Python\\Python38\\site-packages\\ElexonDataPortal\\dev\\utils.py:85\u001b[0m, in \u001b[0;36mparse_xml_response\u001b[1;34m(r)\u001b[0m\n\u001b[0;32m     <a href='file:///c%3A/Users/Admin/AppData/Roaming/Python/Python38/site-packages/ElexonDataPortal/dev/utils.py?line=82'>83</a>\u001b[0m     df \u001b[39m=\u001b[39m pd\u001b[39m.\u001b[39mDataFrame(pd\u001b[39m.\u001b[39mSeries(data_content))\u001b[39m.\u001b[39mT\n\u001b[0;32m     <a href='file:///c%3A/Users/Admin/AppData/Roaming/Python/Python38/site-packages/ElexonDataPortal/dev/utils.py?line=83'>84</a>\u001b[0m \u001b[39melse\u001b[39;00m:\n\u001b[1;32m---> <a href='file:///c%3A/Users/Admin/AppData/Roaming/Python/Python38/site-packages/ElexonDataPortal/dev/utils.py?line=84'>85</a>\u001b[0m     \u001b[39mraise\u001b[39;00m \u001b[39mValueError\u001b[39;00m(\u001b[39m'\u001b[39m\u001b[39mThe returned `data_content` must be one of: `list` or `OrderedDict`\u001b[39m\u001b[39m'\u001b[39m)\n\u001b[0;32m     <a href='file:///c%3A/Users/Admin/AppData/Roaming/Python/Python38/site-packages/ElexonDataPortal/dev/utils.py?line=86'>87</a>\u001b[0m \u001b[39mreturn\u001b[39;00m df\n",
      "\u001b[1;31mValueError\u001b[0m: The returned `data_content` must be one of: `list` or `OrderedDict`"
     ]
    }
   ],
   "source": [
    "#Day-ahead Aggregated Generation\n",
    "df_B1430 = client.get_B1430(start_date, end_date)\n",
    "df_B1430.head(3)"
   ]
  },
  {
   "cell_type": "code",
   "execution_count": 20,
   "metadata": {},
   "outputs": [
    {
     "name": "stdout",
     "output_type": "stream",
     "text": [
      "<Response [200]>\n"
     ]
    }
   ],
   "source": [
    "# Imbalance Prices\n",
    "response_imbalance_prices = requests.get(\"\"\"https://api.bmreports.com/BMRS/B1770/v1?APIKey=52g2ac5kwwh5chc&SettlementDate=<SettlementDate>&\n",
    "Period=<Period>&ServiceType=<xml/csv>\"\"\")\n",
    "\n",
    "print(response_imbalance_prices)"
   ]
  },
  {
   "cell_type": "code",
   "execution_count": 14,
   "metadata": {},
   "outputs": [
    {
     "name": "stdout",
     "output_type": "stream",
     "text": [
      "<Response [200]>\n"
     ]
    }
   ],
   "source": [
    "#CrossBorder Balancing Volumes of Exchanged Bids and Offers\n",
    "response_crossborder_balancing_volumes = requests.get(\"\"\"https://api.bmreports.com/BMRS/B1810/<VersionNo>?APIKey=52g2ac5kwwh5chc&SettlementDate=<2014-12-31\n",
    ">&Period=<1>&ServiceType=<xml/csv>\"\"\")\n",
    "\n",
    "\n",
    "print(response_crossborder_balancing_volumes)\n",
    "\n"
   ]
  },
  {
   "cell_type": "code",
   "execution_count": null,
   "metadata": {},
   "outputs": [],
   "source": [
    "#plot the graph as it is\n",
    "#run simple linear regression with price and day (before develing into the data)\n",
    "#check for correltion and autocorrelation\n",
    "#checkforpercentage change.\n",
    "#https://github.com/matteobonanomi/dsnd-capstone/blob/master/notebook/LSTM.ipynb\n",
    "#https://towardsdatascience.com/pytorch-lstms-for-time-series-data-cd16190929d7"
   ]
  }
 ],
 "metadata": {
  "interpreter": {
   "hash": "570feb405e2e27c949193ac68f46852414290d515b0ba6e5d90d076ed2284471"
  },
  "kernelspec": {
   "display_name": "Python 3.8.2 64-bit",
   "language": "python",
   "name": "python3"
  },
  "language_info": {
   "codemirror_mode": {
    "name": "ipython",
    "version": 3
   },
   "file_extension": ".py",
   "mimetype": "text/x-python",
   "name": "python",
   "nbconvert_exporter": "python",
   "pygments_lexer": "ipython3",
   "version": "3.8.2"
  },
  "orig_nbformat": 4
 },
 "nbformat": 4,
 "nbformat_minor": 2
}
